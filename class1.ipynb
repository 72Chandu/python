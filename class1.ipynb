{
 "cells": [
  {
   "cell_type": "code",
   "execution_count": 1,
   "id": "e138ff3d-cd91-40cf-bc96-c15ce1ffe7bd",
   "metadata": {},
   "outputs": [
    {
     "name": "stdout",
     "output_type": "stream",
     "text": [
      "hello world\n"
     ]
    }
   ],
   "source": [
    "print(\"hello world\")"
   ]
  },
  {
   "cell_type": "code",
   "execution_count": 2,
   "id": "4f683738-b3cd-431e-9afd-9a3140819228",
   "metadata": {},
   "outputs": [
    {
     "name": "stdout",
     "output_type": "stream",
     "text": [
      "7\n"
     ]
    }
   ],
   "source": [
    "a=3;\n",
    "b=4;\n",
    "c=a+b;\n",
    "print(c);"
   ]
  },
  {
   "cell_type": "markdown",
   "id": "0c48e4e5-5811-4a5b-9340-6c8a4ecd6afb",
   "metadata": {},
   "source": [
    "# majak hai kya ? "
   ]
  },
  {
   "cell_type": "code",
   "execution_count": 4,
   "id": "a844eb49-98f6-4072-80cc-c965103edc52",
   "metadata": {},
   "outputs": [],
   "source": [
    "# 3 # se in markdown section it become smaller"
   ]
  },
  {
   "cell_type": "markdown",
   "id": "375bec7f-f263-4831-85dd-3eda780477c9",
   "metadata": {},
   "source": [
    "<h1>majak karney ke liye markdown me jana hai</h1>"
   ]
  },
  {
   "cell_type": "markdown",
   "id": "609a8b6f-47c3-4830-9e75-15f5534e139b",
   "metadata": {},
   "source": [
    "<h2>h2 tag</h2>\n",
    "<h3>h3 tag</h3>\n",
    "<h4>h4 tag</h4>\n",
    "<h5>h5 tag</h5>\n",
    "<h6>h6 tag</h6>"
   ]
  },
  {
   "cell_type": "markdown",
   "id": "b3f73432-26f3-483e-87d0-8949df11130e",
   "metadata": {},
   "source": [
    "<b>this is bold tag</b>"
   ]
  },
  {
   "cell_type": "code",
   "execution_count": 8,
   "id": "1b5b1a17-9f96-42d4-b8da-a7f4f045c3f5",
   "metadata": {},
   "outputs": [
    {
     "data": {
      "text/plain": [
       "'this is multiline comment'"
      ]
     },
     "execution_count": 8,
     "metadata": {},
     "output_type": "execute_result"
    }
   ],
   "source": [
    "'''this is multiline comment'''"
   ]
  },
  {
   "cell_type": "markdown",
   "id": "b488dc10-0e85-43a5-8a3c-972d7176dcd3",
   "metadata": {},
   "source": [
    "# input output"
   ]
  },
  {
   "cell_type": "code",
   "execution_count": 10,
   "id": "0281d573-db74-49bf-820c-fc0961f9493b",
   "metadata": {},
   "outputs": [
    {
     "name": "stdout",
     "output_type": "stream",
     "text": [
      "enter the first number 12\n",
      "enter the second number 13\n"
     ]
    },
    {
     "name": "stdout",
     "output_type": "stream",
     "text": [
      "1213\n"
     ]
    }
   ],
   "source": [
    "num1=input(\"enter the first number\");\n",
    "num2=input(\"enter the second number\");\n",
    "print(num1+num2);"
   ]
  },
  {
   "cell_type": "code",
   "execution_count": 11,
   "id": "dff0792f-c885-423f-8666-255c59ed49bc",
   "metadata": {},
   "outputs": [
    {
     "name": "stdout",
     "output_type": "stream",
     "text": [
      "enter the first number 12\n",
      "enter the second number 13\n"
     ]
    },
    {
     "name": "stdout",
     "output_type": "stream",
     "text": [
      "25\n"
     ]
    }
   ],
   "source": [
    "num1=int(input(\"enter the first number\"));\n",
    "num2=int(input(\"enter the second number\"));\n",
    "print(num1+num2);"
   ]
  },
  {
   "cell_type": "code",
   "execution_count": 12,
   "id": "f1ff48fe-3352-4780-8e51-84c510d27f20",
   "metadata": {},
   "outputs": [
    {
     "name": "stdout",
     "output_type": "stream",
     "text": [
      "enter the first number 32\n",
      "enter the second number 34\n"
     ]
    },
    {
     "name": "stdout",
     "output_type": "stream",
     "text": [
      "<class 'int'> 66\n"
     ]
    }
   ],
   "source": [
    "num1=int(input(\"enter the first number\"));\n",
    "num2=int(input(\"enter the second number\"));\n",
    "num3= num1+num2;\n",
    "print(type(num3), num3);"
   ]
  },
  {
   "cell_type": "code",
   "execution_count": 13,
   "id": "fd161724-b2b5-47dd-8717-d9f82729c5b0",
   "metadata": {},
   "outputs": [
    {
     "name": "stdout",
     "output_type": "stream",
     "text": [
      "enter the expression 12+45+(4*5)\n"
     ]
    },
    {
     "name": "stdout",
     "output_type": "stream",
     "text": [
      "77\n"
     ]
    }
   ],
   "source": [
    "res=eval(input(\"enter the expression\"));\n",
    "print(res);"
   ]
  },
  {
   "cell_type": "markdown",
   "id": "8d3f5260-9064-4c36-8467-e703aa78e46d",
   "metadata": {},
   "source": [
    "## operator"
   ]
  },
  {
   "cell_type": "code",
   "execution_count": 15,
   "id": "a03271a0-6c11-420d-b1e1-4ec14e3beaa2",
   "metadata": {},
   "outputs": [
    {
     "name": "stdout",
     "output_type": "stream",
     "text": [
      "140\n",
      "60\n",
      "4000\n",
      "2.5\n",
      "2\n",
      "100000000\n",
      "20\n"
     ]
    }
   ],
   "source": [
    "#Arithmetic\n",
    "print(100 + 40)  #addition\n",
    "print(100 - 40)   #subtraction\n",
    "print(100 * 40)   #multiplication\n",
    "print(100 / 40)  #float division\n",
    "print(100 // 40)  #integer division\n",
    "print(100 ** 4)   #exponentiation , a^b\n",
    "print(100 % 40)  #modulus, remainder of the division"
   ]
  },
  {
   "cell_type": "code",
   "execution_count": 16,
   "id": "d7dbde42-d8cf-4d05-84dc-23f7534c2c3c",
   "metadata": {},
   "outputs": [
    {
     "name": "stdout",
     "output_type": "stream",
     "text": [
      "True False False False\n",
      "True True True False\n",
      "False True\n"
     ]
    }
   ],
   "source": [
    "print(True and True, True and False, False and True, False and False)    # True, False, None keywords start  with capital letters\n",
    "print(True or True, True or False, False or True, False or False)\n",
    "print(not True, not False)"
   ]
  },
  {
   "cell_type": "code",
   "execution_count": 17,
   "id": "9ffefcad-9719-462f-b455-91470f7b8a02",
   "metadata": {},
   "outputs": [
    {
     "name": "stdout",
     "output_type": "stream",
     "text": [
      "False True True\n"
     ]
    }
   ],
   "source": [
    "# relational operator \n",
    "print(100<20, 100!=30, 100<=400, )"
   ]
  },
  {
   "cell_type": "markdown",
   "id": "4bb90c91-21d6-463f-a9a9-c3e5391cf972",
   "metadata": {},
   "source": [
    "## conditional statements"
   ]
  },
  {
   "cell_type": "code",
   "execution_count": 19,
   "id": "58071891-83a7-4497-a851-6528f6a83f29",
   "metadata": {},
   "outputs": [
    {
     "name": "stdout",
     "output_type": "stream",
     "text": [
      "even number\n"
     ]
    }
   ],
   "source": [
    "num=100\n",
    "res=\"even number\" if (num%2==0) else \"odd number\"\n",
    "print(res);"
   ]
  },
  {
   "cell_type": "code",
   "execution_count": 20,
   "id": "1dccdcdd-84cd-449a-8784-bb27a90de09d",
   "metadata": {},
   "outputs": [
    {
     "name": "stdout",
     "output_type": "stream",
     "text": [
      "110\n",
      "100\n",
      "1000\n",
      "1000000\n"
     ]
    }
   ],
   "source": [
    "# spacial operator\n",
    "num=100;\n",
    "num+=10;\n",
    "print(num)\n",
    "num-=10;\n",
    "print(num)\n",
    "num*=10;\n",
    "print(num)\n",
    "num**=2;\n",
    "print(num)"
   ]
  },
  {
   "cell_type": "code",
   "execution_count": 21,
   "id": "8be47658-ad14-48c4-b8ac-6715541db135",
   "metadata": {},
   "outputs": [
    {
     "name": "stdout",
     "output_type": "stream",
     "text": [
      "65\n",
      "a\n",
      "97\n",
      "A\n"
     ]
    }
   ],
   "source": [
    "# bitwise operator  : & | ^ ~\n",
    "# A -> 65 ->64+1 => 0100 0001\n",
    "#                or 0010 0000 -> 32\n",
    "# a-> 97 => 64+32+1 => 0110 0001\n",
    "\n",
    "c='A'\n",
    "print(ord(c));\n",
    "c=chr(ord(c)|32); # conversion of A to a\n",
    "print(c);\n",
    "\n",
    "# a-> 97 => 64+32+1 => 0110 0001\n",
    "#                  xor 0010 0000 -> 32\n",
    "#                      0100 0001 -> 65 -> A\n",
    "#--------------\n",
    "# a-> 97 => 64+32+1 => 0110 0001\n",
    "#                  xor 1101 1111-> 255-32\n",
    "#                      0100 0001 -> 65 -> A\n",
    "c='a'\n",
    "print(ord(c));\n",
    "c=chr(ord(c) & 223); # conversion of A to a\n",
    "print(c);"
   ]
  },
  {
   "cell_type": "code",
   "execution_count": 22,
   "id": "7ffe19bf-0b9a-48e3-a2ed-0a6789acc42c",
   "metadata": {},
   "outputs": [
    {
     "name": "stdout",
     "output_type": "stream",
     "text": [
      "A\n",
      "65\n"
     ]
    }
   ],
   "source": [
    "print(chr(65));\n",
    "print(ord(\"A\"));"
   ]
  },
  {
   "cell_type": "code",
   "execution_count": 23,
   "id": "2ea8b7b6-f83e-4708-9be8-fb9fc086d676",
   "metadata": {},
   "outputs": [
    {
     "name": "stdout",
     "output_type": "stream",
     "text": [
      "enter the first number 12\n",
      "enter the second number 78\n"
     ]
    },
    {
     "name": "stdout",
     "output_type": "stream",
     "text": [
      "num2 is greater\n"
     ]
    }
   ],
   "source": [
    "num1=int(input(\"enter the first number\"));\n",
    "num2=int(input(\"enter the second number\"));\n",
    "if(num1>=num2):\n",
    "    print(\"num1 is grater\");\n",
    "elif (num2>num1):\n",
    "    print(\"num2 is greater\");\n",
    "else:\n",
    "    print(\"aacha hai\");"
   ]
  },
  {
   "cell_type": "markdown",
   "id": "dde7b452-fee2-4662-a965-92483f9994dc",
   "metadata": {},
   "source": [
    "## MISC CONCEPTS\n",
    "variable initialize with any one of the values ranginig from -5 to 256 (inclusive) will generate same id for same values"
   ]
  },
  {
   "cell_type": "code",
   "execution_count": 25,
   "id": "c88c20b6-c157-446c-bce4-7dbdcc10ecff",
   "metadata": {},
   "outputs": [
    {
     "name": "stdout",
     "output_type": "stream",
     "text": [
      "256 <class 'int'> 140712580827544\n",
      "256 <class 'int'> 140712580827544\n",
      "256 <class 'int'> 140712580827544\n"
     ]
    }
   ],
   "source": [
    "num1=256;\n",
    "print(num1, type(num1),id(num1));\n",
    "num2=256;\n",
    "print(num2, type(num2),id(num2));\n",
    "num3=num1;\n",
    "print(num3, type(num3),id(num3));"
   ]
  },
  {
   "cell_type": "code",
   "execution_count": 26,
   "id": "922ddb2f-f60a-41ff-bc7b-d733f203a1e8",
   "metadata": {},
   "outputs": [
    {
     "name": "stdout",
     "output_type": "stream",
     "text": [
      "257 <class 'int'> 2581447538672\n",
      "257 <class 'int'> 2581447538416\n",
      "257 <class 'int'> 2581447538672\n"
     ]
    }
   ],
   "source": [
    "num1=257;\n",
    "print(num1, type(num1),id(num1));\n",
    "num2=257;\n",
    "print(num2, type(num2),id(num2));\n",
    "num3=num1;\n",
    "print(num3, type(num3),id(num3));"
   ]
  },
  {
   "cell_type": "code",
   "execution_count": 27,
   "id": "3f249710-bcb4-4647-953b-a1d9c9a36bdc",
   "metadata": {},
   "outputs": [
    {
     "name": "stdout",
     "output_type": "stream",
     "text": [
      "hello to all of you\n",
      "welcom\n"
     ]
    }
   ],
   "source": [
    "print(\"hello\",\"to\",\"all\",\"of\",\"you\");\n",
    "print(\"welcom\");"
   ]
  },
  {
   "cell_type": "code",
   "execution_count": 28,
   "id": "3e517a28-c641-4403-b8b5-64ddd7a66ae1",
   "metadata": {},
   "outputs": [
    {
     "name": "stdout",
     "output_type": "stream",
     "text": [
      "Help on built-in function print in module builtins:\n",
      "\n",
      "print(*args, sep=' ', end='\\n', file=None, flush=False)\n",
      "    Prints the values to a stream, or to sys.stdout by default.\n",
      "\n",
      "    sep\n",
      "      string inserted between values, default a space.\n",
      "    end\n",
      "      string appended after the last value, default a newline.\n",
      "    file\n",
      "      a file-like object (stream); defaults to the current sys.stdout.\n",
      "    flush\n",
      "      whether to forcibly flush the stream.\n",
      "\n"
     ]
    }
   ],
   "source": [
    "help(print)"
   ]
  },
  {
   "cell_type": "code",
   "execution_count": 29,
   "id": "beb1f619-344d-4b28-bb5c-6b469c72c426",
   "metadata": {},
   "outputs": [
    {
     "name": "stdout",
     "output_type": "stream",
     "text": [
      "hello,to,all,of,you -welcom\n"
     ]
    }
   ],
   "source": [
    "print(\"hello\",\"to\",\"all\",\"of\",\"you\",sep=\",\", end=\" -\");\n",
    "print(\"welcom\");"
   ]
  },
  {
   "cell_type": "code",
   "execution_count": 30,
   "id": "8892a0fd-a3c8-4e35-9e32-f9c3b822feab",
   "metadata": {},
   "outputs": [
    {
     "name": "stdout",
     "output_type": "stream",
     "text": [
      "chandu chandu chandu chandu chandu \n",
      "chandu\n",
      "chandu\n",
      "chandu\n",
      "chandu\n",
      "chandu\n",
      "\n"
     ]
    }
   ],
   "source": [
    "print(\"chandu \"*5);\n",
    "print(\"chandu\\n\"*5);"
   ]
  },
  {
   "cell_type": "code",
   "execution_count": 31,
   "id": "c2d56ae5-a23d-4517-aa37-aa364a1f1e31",
   "metadata": {},
   "outputs": [
    {
     "name": "stdout",
     "output_type": "stream",
     "text": [
      "100 <class 'int'> 140712580822552\n",
      "chandu <class 'str'> 2581449249904\n",
      "123.5 <class 'float'> 2581404164720\n",
      "True <class 'bool'> 140712579693440\n"
     ]
    }
   ],
   "source": [
    "var=100;\n",
    "print(var, type(var),id(var));\n",
    "str1=\"chandu\"\n",
    "print(str1, type(str1),id(str1));\n",
    "f=123.5;\n",
    "print(f, type(f),id(f));\n",
    "b=True;\n",
    "print(b, type(b),id(b));"
   ]
  },
  {
   "cell_type": "code",
   "execution_count": 32,
   "id": "d638adcb-650d-437c-8645-7f382d243cc5",
   "metadata": {},
   "outputs": [
    {
     "name": "stdout",
     "output_type": "stream",
     "text": [
      "[100, 'chandu', True, 12.5] 4 <class 'list'> 2581449279680\n",
      "[100, 'chandu', True, 12.5] 4 <class 'list'> 2581449088448\n",
      "{'id': 12, 'name': 'chandu', 'married': True} 3 <class 'dict'> 2581449210048\n",
      "{True, 'id', 'name', 12, 'chandu'} 5 <class 'set'> 2581448538624\n",
      "frozenset({True, 100, 12.5, 'chandu'}) 4 <class 'frozenset'> 2581448537952\n"
     ]
    }
   ],
   "source": [
    "#inbuilt collection classes and implicite object \n",
    "a=[100,\"chandu\",True,12.5]; #list, mutiable, ordered printing \n",
    "print(a, len(a),type(a),id(a));\n",
    "t=[100,\"chandu\",True,12.5];#tupal, inmutable -> not changeable ex: for adharnumber, irtc no, \n",
    "print(t, len(t),type(t),id(t));\n",
    "d={\"id\":12, \"name\":\"chandu\",\"married\":True};#dictonary, mutable \"key\":value, key is inmutable, value->mutable \n",
    "print(d, len(d),type(d),id(d));\n",
    "s={\"id\",12, \"name\",\"chandu\",\"chandu\",True} #set-> for unique, unordered\n",
    "print(s, len(s),type(s),id(s));\n",
    "f=frozenset([100,\"chandu\",True,12.5]);#similar to set,but you can not change the data in it (inmutable)\n",
    "print(f, len(f),type(f),id(f));"
   ]
  },
  {
   "cell_type": "markdown",
   "id": "f2e83010-d68a-47db-bcaf-6be627281629",
   "metadata": {},
   "source": [
    "## Loop constructs"
   ]
  },
  {
   "cell_type": "code",
   "execution_count": 34,
   "id": "0c37dbe7-eb89-455f-ae76-37e4fb5f9a38",
   "metadata": {},
   "outputs": [
    {
     "name": "stdout",
     "output_type": "stream",
     "text": [
      "0,1,2,3,4,5,6,7,8,9,10,\n",
      "run when loop break\n"
     ]
    }
   ],
   "source": [
    "for i in range(11):              #range(initalize,end,step) end is mendentaroy end is excluded\n",
    "    print(i,end=\",\")\n",
    "else:\n",
    "    print(\"\\nrun when loop break\");  #ensuring the loop run completely or not"
   ]
  },
  {
   "cell_type": "code",
   "execution_count": 35,
   "id": "fa0f3f0c-1c3a-4304-b84b-ee0faf3e63b3",
   "metadata": {},
   "outputs": [
    {
     "name": "stdout",
     "output_type": "stream",
     "text": [
      "0,1,2,3,4,5,6,7,8,9,10,"
     ]
    }
   ],
   "source": [
    "for i in range(0,11):             \n",
    "    print(i,end=\",\")"
   ]
  },
  {
   "cell_type": "code",
   "execution_count": 36,
   "id": "fb452ab9-c36f-49f6-8804-d8b57276b16f",
   "metadata": {},
   "outputs": [
    {
     "name": "stdout",
     "output_type": "stream",
     "text": [
      "0,2,4,6,8,10,"
     ]
    }
   ],
   "source": [
    "for i in range(0,11,2):             \n",
    "    print(i,end=\",\")"
   ]
  },
  {
   "cell_type": "code",
   "execution_count": 37,
   "id": "11af2747-d3ac-4c78-93c1-03f0f43e865e",
   "metadata": {},
   "outputs": [
    {
     "ename": "TypeError",
     "evalue": "'float' object cannot be interpreted as an integer",
     "output_type": "error",
     "traceback": [
      "\u001b[1;31m---------------------------------------------------------------------------\u001b[0m",
      "\u001b[1;31mTypeError\u001b[0m                                 Traceback (most recent call last)",
      "Cell \u001b[1;32mIn[37], line 1\u001b[0m\n\u001b[1;32m----> 1\u001b[0m \u001b[38;5;28;01mfor\u001b[39;00m i \u001b[38;5;129;01min\u001b[39;00m \u001b[38;5;28mrange\u001b[39m(\u001b[38;5;241m0.5\u001b[39m,\u001b[38;5;241m11.5\u001b[39m,\u001b[38;5;241m2\u001b[39m):             \n\u001b[0;32m      2\u001b[0m     \u001b[38;5;28mprint\u001b[39m(i,end\u001b[38;5;241m=\u001b[39m\u001b[38;5;124m\"\u001b[39m\u001b[38;5;124m,\u001b[39m\u001b[38;5;124m\"\u001b[39m)\n",
      "\u001b[1;31mTypeError\u001b[0m: 'float' object cannot be interpreted as an integer"
     ]
    }
   ],
   "source": [
    "for i in range(0.5,11.5,2):             \n",
    "    print(i,end=\",\")"
   ]
  },
  {
   "cell_type": "code",
   "execution_count": 48,
   "id": "373fbe27-2ffd-4f3f-a76d-a58a3be4b0fe",
   "metadata": {},
   "outputs": [
    {
     "name": "stdout",
     "output_type": "stream",
     "text": [
      "0.00,0.10,0.20,0.30,0.40,0.50,0.60,0.70,0.80,0.90,1.00,"
     ]
    }
   ],
   "source": [
    "i=0.0\n",
    "while i<1:\n",
    "    print(f\"{i:.2f}\",end=\",\")\n",
    "    i+=0.1"
   ]
  },
  {
   "cell_type": "code",
   "execution_count": 50,
   "id": "73446673-60ff-4cfb-bad4-66ac2bd3a42f",
   "metadata": {},
   "outputs": [
    {
     "name": "stdout",
     "output_type": "stream",
     "text": [
      "0.00,0.10,0.20,0.30,0.40,0.50,0.60,0.70,0.80,0.90,"
     ]
    }
   ],
   "source": [
    "import numpy as np\n",
    "for i in np.arange(0.0,1.0,0.1):\n",
    "    print(f\"{i:.2f}\",end=\",\")"
   ]
  },
  {
   "cell_type": "code",
   "execution_count": 52,
   "id": "2df0b101-2ca4-41a6-aa35-6e3353bbb5b8",
   "metadata": {},
   "outputs": [
    {
     "name": "stdout",
     "output_type": "stream",
     "text": [
      "0.00,0.10,0.20,0.30,0.40,0.50,0.60,0.70,0.80,0.90,loop executed successfully..\n"
     ]
    }
   ],
   "source": [
    "for i in range(int(0.0*10),int(1.0*10),int(0.1*10)):\n",
    "    f=i/10.0\n",
    "    print(f\"{f:.2f}\",end=\",\")\n",
    "else:\n",
    "    print(\"loop executed successfully..\")"
   ]
  },
  {
   "cell_type": "code",
   "execution_count": 54,
   "id": "555876bd-f36f-450c-934e-49172b583ac8",
   "metadata": {},
   "outputs": [
    {
     "name": "stdout",
     "output_type": "stream",
     "text": [
      "-10,-9,-8,-7,-6,-5,-4,-3,-2,-1,"
     ]
    }
   ],
   "source": [
    "for i in range(-10,0,1):             \n",
    "    print(i,end=\",\")"
   ]
  },
  {
   "cell_type": "code",
   "execution_count": 56,
   "id": "c2ae3b6b-3d3e-4216-98db-bd8108cb0aeb",
   "metadata": {},
   "outputs": [
    {
     "name": "stdout",
     "output_type": "stream",
     "text": [
      "['False', 'None', 'True', 'and', 'as', 'assert', 'async', 'await', 'break', 'class', 'continue', 'def', 'del', 'elif', 'else', 'except', 'finally', 'for', 'from', 'global', 'if', 'import', 'in', 'is', 'lambda', 'nonlocal', 'not', 'or', 'pass', 'raise', 'return', 'try', 'while', 'with', 'yield']\n"
     ]
    }
   ],
   "source": [
    "import keyword\n",
    "print(keyword.kwlist)    #all the keyword in python"
   ]
  },
  {
   "cell_type": "markdown",
   "id": "da72cfff-6bfc-46f8-af15-9abaea313924",
   "metadata": {},
   "source": [
    "# break , continue, and pass statement "
   ]
  },
  {
   "cell_type": "code",
   "execution_count": 59,
   "id": "cd61061a-57f0-4e30-8dca-911b2e942715",
   "metadata": {},
   "outputs": [
    {
     "name": "stdout",
     "output_type": "stream",
     "text": [
      "0,1,2,3,4,5,\n",
      " end of the program\n"
     ]
    }
   ],
   "source": [
    "for i in range(10):\n",
    "    print(i,end=\",\")\n",
    "    if(i==5):\n",
    "        break\n",
    "else:\n",
    "    print(\"execute sucessfully..\")   # loop 10 tak nahi chala so this line not printed\n",
    "print(\"\\n end of the program\")"
   ]
  },
  {
   "cell_type": "code",
   "execution_count": 61,
   "id": "76a8d98b-7ec8-44ee-ac6e-46fc49a40716",
   "metadata": {},
   "outputs": [
    {
     "name": "stdout",
     "output_type": "stream",
     "text": [
      "Non-veg seat No: 0\n",
      "Non-veg seat No: 1\n",
      "Non-veg seat No: 2\n",
      "Non-veg seat No: 3\n",
      "Non-veg seat No: 4\n",
      "Non-veg Skipped.. 5\n",
      "Non-veg seat No: 6\n",
      "Non-veg Skipped.. 7\n",
      "Non-veg Skipped.. 8\n",
      "Non-veg seat No: 9\n",
      "\n",
      "nexecute sucessfully..\n",
      "\n",
      "end of the program\n"
     ]
    }
   ],
   "source": [
    "for i in range(10):\n",
    "    #print(i,end=\",\")\n",
    "    if(i==5 or i==7 or i==8):\n",
    "        print(\"Non-veg Skipped..\",i)\n",
    "        continue;\n",
    "    print(\"Non-veg seat No:\",i)\n",
    "else:\n",
    "    print(\"\\nnexecute sucessfully..\")   # loop 10 tak nahi chala so this line not printed\n",
    "print(\"\\nend of the program\")"
   ]
  },
  {
   "cell_type": "code",
   "execution_count": 63,
   "id": "3eaaf379-73bc-4282-b583-3f289aa896a8",
   "metadata": {},
   "outputs": [
    {
     "name": "stdout",
     "output_type": "stream",
     "text": [
      "customer no: 1,customer no: 2,customer no: 3,customer no: 4,customer no: 5,\n",
      "out of stock\n"
     ]
    }
   ],
   "source": [
    "i=1\n",
    "while(i<=10):\n",
    "    print(\"customer no:\",i,end=\",\")\n",
    "    if(i==5):break;\n",
    "    i=i+1\n",
    "else:\n",
    "    print(\"\\nloop got executed successfully..\")\n",
    "print(\"\\nout of stock\")\n",
    "        "
   ]
  },
  {
   "cell_type": "code",
   "execution_count": 65,
   "id": "66952eb6-a034-4470-9535-16deba876cc7",
   "metadata": {},
   "outputs": [
    {
     "name": "stdout",
     "output_type": "stream",
     "text": [
      "non-veg seat no= 1\n",
      "non-veg seat no= 2\n",
      "non-veg seat no= 3\n",
      "non-veg seat no= 4\n",
      "non-veg skipped..\n",
      "non-veg seat no= 6\n",
      "non-veg skipped..\n",
      "non-veg skipped..\n",
      "non-veg seat no= 9\n",
      "non-veg seat no= 10\n",
      "\n",
      "loop got executed successfully..\n",
      "door is closed\n"
     ]
    }
   ],
   "source": [
    "i=1\n",
    "while(i<=10):\n",
    "    if(i==5 or i==7 or i==8):\n",
    "        print(\"non-veg skipped..\")\n",
    "        i+=1\n",
    "        continue\n",
    "    print(\"non-veg seat no=\",i)\n",
    "    i+=1\n",
    "else:\n",
    "    print(\"\\nloop got executed successfully..\")\n",
    "print(\"door is closed\")"
   ]
  },
  {
   "cell_type": "code",
   "execution_count": 67,
   "id": "4b5bb4c5-ef0e-4209-8cd3-57e1000a2f1c",
   "metadata": {},
   "outputs": [],
   "source": [
    "#example of nested loop"
   ]
  },
  {
   "cell_type": "code",
   "execution_count": 69,
   "id": "23b41161-fd4c-42f5-93cd-12c964f49f9b",
   "metadata": {},
   "outputs": [
    {
     "name": "stdout",
     "output_type": "stream",
     "text": [
      "visit Doctor..\n",
      "good morning to all..\n",
      "Day No.=1 and medicine no,=1..\n",
      "Day No.=1 and medicine no,=2..\n",
      "Day No.=1 and medicine no,=3..\n",
      "good night to all\n",
      "...............\n",
      "good morning to all..\n",
      "Day No.=2 and medicine no,=1..\n",
      "Day No.=2 and medicine no,=2..\n",
      "Day No.=2 and medicine no,=3..\n",
      "good night to all\n",
      "...............\n",
      "good morning to all..\n",
      "Day No.=3 and medicine no,=1..\n",
      "Day No.=3 and medicine no,=2..\n",
      "Day No.=3 and medicine no,=3..\n",
      "good night to all\n",
      "...............\n",
      "good morning to all..\n",
      "Day No.=4 and medicine no,=1..\n",
      "Day No.=4 and medicine no,=2..\n",
      "Day No.=4 and medicine no,=3..\n",
      "good night to all\n",
      "...............\n",
      "good morning to all..\n",
      "Day No.=5 and medicine no,=1..\n",
      "Day No.=5 and medicine no,=2..\n",
      "Day No.=5 and medicine no,=3..\n",
      "good night to all\n",
      "...............\n",
      "thanks doctor\n",
      "total number of medicine consume is 15..\n"
     ]
    }
   ],
   "source": [
    "print(\"visit Doctor..\") # 1 time\n",
    "day=1\n",
    "medicount=0\n",
    "while(day<=5):\n",
    "    print(\"good morning to all..\") # 5 times\n",
    "    for medi in range(1,4):\n",
    "        print(f\"Day No.={day} and medicine no,={medi}..\") # 15 times\n",
    "        medicount +=1\n",
    "    print(\"good night to all\") # 5 times\n",
    "    print(\"...............\") # 5 times\n",
    "    day+=1\n",
    "print(\"thanks doctor\")\n",
    "print(f\"total number of medicine consume is {medicount}..\")"
   ]
  },
  {
   "cell_type": "code",
   "execution_count": 71,
   "id": "28a65db2-cdfd-4158-837c-05d286df6fef",
   "metadata": {},
   "outputs": [],
   "source": [
    "# total=1+2+3+4+10+5+6+7+8+26+9+10+..+ntimes"
   ]
  },
  {
   "cell_type": "code",
   "execution_count": 73,
   "id": "674f67a7-04f0-4ecc-914c-92947bd11ca8",
   "metadata": {},
   "outputs": [
    {
     "name": "stdout",
     "output_type": "stream",
     "text": [
      "Enter n:  12\n"
     ]
    },
    {
     "name": "stdout",
     "output_type": "stream",
     "text": [
      "Adding the term 1 to fsum and tsum\n",
      "Adding the term 2 to fsum and tsum\n",
      "Adding the term 3 to fsum and tsum\n",
      "Adding the term 4 to fsum and tsum\n",
      "Temporary sum at i=5: 10\n",
      "Adding the term 6 to fsum and tsum\n",
      "Adding the term 7 to fsum and tsum\n",
      "Adding the term 8 to fsum and tsum\n",
      "Adding the term 9 to fsum and tsum\n",
      "Temporary sum at i=10: 30\n",
      "Adding the term 11 to fsum and tsum\n",
      "Adding the term 12 to fsum and tsum\n",
      "Sum of the series = 103\n"
     ]
    }
   ],
   "source": [
    "n = int(input(\"Enter n: \")) \n",
    "fsum = 0  # Final sum of the series\n",
    "tsum = 0  # Temporary sum\n",
    "term = 1  # Current term to be added\n",
    "\n",
    "for i in range(1, n + 1):  \n",
    "    if i % 5 == 0:  # Check if the current term is a multiple of 5\n",
    "        fsum += tsum  # Add the temporary sum to the final sum\n",
    "        print(f\"Temporary sum at i={i}: {tsum}\")\n",
    "        tsum = 0  # Reset the temporary sum\n",
    "    else:\n",
    "        fsum += term  # Add the current term to the final sum\n",
    "        tsum += term  # Add the current term to the temporary sum\n",
    "        print(f\"Adding the term {term} to fsum and tsum\")\n",
    "    term += 1  # Increment the term\n",
    "\n",
    "print(\"Sum of the series =\", fsum)\n"
   ]
  },
  {
   "cell_type": "markdown",
   "id": "dfde8e48-84b5-4f6d-abe0-f05787e53743",
   "metadata": {},
   "source": [
    "#pattern printing 1"
   ]
  },
  {
   "cell_type": "code",
   "execution_count": 77,
   "id": "b6aa1591-0249-4f7a-b9e3-8de0dc425c89",
   "metadata": {},
   "outputs": [
    {
     "name": "stdout",
     "output_type": "stream",
     "text": [
      "Enter n: 5\n"
     ]
    },
    {
     "name": "stdout",
     "output_type": "stream",
     "text": [
      "....*\n",
      "...***\n",
      "..*****\n",
      ".*******\n",
      "*********\n"
     ]
    }
   ],
   "source": [
    "n = int(input(\"Enter n:\"))\n",
    "for i in range(1,n+1):\n",
    "    print(\".\"*(n-i) + \"*\"*(2*i-1))"
   ]
  },
  {
   "cell_type": "markdown",
   "id": "13507f38-2fd6-4306-94f6-26d099f65814",
   "metadata": {},
   "source": [
    "## FUNCTION"
   ]
  },
  {
   "cell_type": "markdown",
   "id": "89a5b61f-673c-459a-91d6-100fc4847529",
   "metadata": {},
   "source": [
    "### A function is a block of code that performs a specific task whenever it is called .two types of function\n",
    "### 1.built-in function:These function are defined and pre-coded in python, example:min(),max(),len(),sum(),type(),range(),dict(),list()\n",
    "### 2.user-defined function:we can create functions to perform specific tasks as per our needs."
   ]
  },
  {
   "cell_type": "code",
   "execution_count": 79,
   "id": "16e1d9fe-dae6-453f-8644-ddf6a40821eb",
   "metadata": {},
   "outputs": [
    {
     "name": "stdout",
     "output_type": "stream",
     "text": [
      "welcome chandu\n",
      "welcome chandu\n",
      "<class 'function'> 2581463615584\n"
     ]
    }
   ],
   "source": [
    "#function takse no input arguments and returns no output arguments\n",
    "def fun1():\n",
    "    print(\"welcome\",end=\" \")\n",
    "    print(\"chandu\")\n",
    "fun1()\n",
    "fun1()\n",
    "print(type(fun1),id(fun1))"
   ]
  },
  {
   "cell_type": "code",
   "execution_count": 81,
   "id": "11aeb302-12c8-4217-acd8-3c86a87fb5c8",
   "metadata": {},
   "outputs": [
    {
     "name": "stdout",
     "output_type": "stream",
     "text": [
      "TIU\n",
      "TIU\n",
      "TIU\n",
      "TIU\n",
      "TIU\n",
      "\n",
      "10\n",
      "chandu chandu chandu chandu chandu \n",
      "<class 'function'> 2581463617664\n"
     ]
    }
   ],
   "source": [
    "#function takse input arguments and returns no output arguments\n",
    "def fun2(meg,times):\n",
    "    print(meg*times)\n",
    "fun2(\"TIU\\n\",5)\n",
    "fun2(2,5)\n",
    "fun2(\"chandu \",5)\n",
    "print(type(fun2),id(fun2))"
   ]
  },
  {
   "cell_type": "code",
   "execution_count": 83,
   "id": "b1e4f210-c3d1-4723-be83-f2a9be3d1e4d",
   "metadata": {},
   "outputs": [
    {
     "name": "stdout",
     "output_type": "stream",
     "text": [
      "TIU\n",
      "TIU\n",
      "TIU\n",
      "TIU\n",
      "TIU\n",
      "\n",
      "Welcome Welcome Welcome Welcome Welcome Welcome Welcome \n",
      "Welcome Welcome Welcome Welcome Welcome Welcome Welcome \n",
      "<class 'function'> 2581463617984 <class 'str'> 2581463827488\n"
     ]
    }
   ],
   "source": [
    "#function takse input arguments and also returns output arguments\n",
    "def fun3(meg,times):\n",
    "    return (meg*times)\n",
    "res=fun3(\"TIU\\n\",5)\n",
    "print(res)\n",
    "\n",
    "res=fun3(meg= \"Welcome \",times=7)\n",
    "print(res)\n",
    "\n",
    "res=fun3(times=7,meg=\"Welcome \")\n",
    "print(res)\n",
    "\n",
    "print(type(fun3),id(fun3),type(res),id(res))"
   ]
  },
  {
   "cell_type": "code",
   "execution_count": 85,
   "id": "bf0798ed-d16b-45ca-b5f5-2bdaf7fabf9f",
   "metadata": {},
   "outputs": [
    {
     "name": "stdout",
     "output_type": "stream",
     "text": [
      "Total=140,Difference=60,Product=4000,Quotient=2.5,Remainder=20\n",
      "Total=140,Difference=60,Product=4000,Quotient=2.5,Remainder=20\n",
      "(140, 60, 4000, 2.5, 20) <class 'tuple'> 5 2581449238352\n"
     ]
    }
   ],
   "source": [
    "#function takes input arguments and return multiple values in collection class object as output arguments\n",
    "def fun4(n1,n2):\n",
    "    total=n1+n2\n",
    "    diff=n1-n2\n",
    "    prod=n1*n2\n",
    "    quotient=n1/n2\n",
    "    remainder=n1%n2\n",
    "    return total,diff,prod,quotient,remainder\n",
    "tt,dd,pp,qq,rr=fun4(100,40)\n",
    "print(f\"Total={tt},Difference={dd},Product={pp},Quotient={qq},Remainder={rr}\")\n",
    "res=fun4(100,40)\n",
    "print(f\"Total={res[0]},Difference={res[1]},Product={res[2]},Quotient={res[3]},Remainder={res[4]}\")\n",
    "print(res,type(res),len(res),id(res))"
   ]
  },
  {
   "cell_type": "code",
   "execution_count": 87,
   "id": "876714f7-8d1c-4def-a618-7aed1c718aea",
   "metadata": {},
   "outputs": [
    {
     "name": "stdout",
     "output_type": "stream",
     "text": [
      "par1=100,par2=200 and par3=333...\n",
      "par1=100,par2=222 and par3=333...\n",
      "par1=111,par2=222 and par3=333...\n",
      "par1=100,par2=222 and par3=300...\n",
      "par1=100,par2=222 and par3=300...\n"
     ]
    }
   ],
   "source": [
    "#function with default arguments\n",
    "def fun5(p1=111,p2=222,p3=333):      #positional parameters\n",
    "    print(f\"par1={p1},par2={p2} and par3={p3}...\")\n",
    "fun5(100,200)\n",
    "fun5(100)\n",
    "fun5()\n",
    "fun5(p1=100,p3=300)\n",
    "fun5(p3=300,p1=100)"
   ]
  },
  {
   "cell_type": "code",
   "execution_count": 89,
   "id": "eb124042-7e5f-4706-8966-2ff14afe6d35",
   "metadata": {},
   "outputs": [
    {
     "name": "stdout",
     "output_type": "stream",
     "text": [
      "500\n",
      "200\n",
      "500\n",
      "200\n"
     ]
    }
   ],
   "source": [
    "def fun6(p1=100,p2=None):\n",
    "    if(p2==None):\n",
    "        return p1+p1\n",
    "    else:\n",
    "        return p1+p2\n",
    "print(fun6(100,400))\n",
    "print(fun6(100))\n",
    "print(fun6(p2=400,p1=100))\n",
    "print(fun6(p1=100))"
   ]
  },
  {
   "cell_type": "code",
   "execution_count": 91,
   "id": "dea450f1-3c4a-4417-ad95-f39e5814f057",
   "metadata": {},
   "outputs": [
    {
     "name": "stdout",
     "output_type": "stream",
     "text": [
      "('Techno India', 'University') 2 <class 'tuple'> 2581454760640\n",
      "('Joydeep', 'Tester', 'Pune', 55000, 'Male', True) 6 <class 'tuple'> 2581461040864\n"
     ]
    }
   ],
   "source": [
    "#function with variable number of input arguments\n",
    "def fun7(*arg):   # *arg defines forefully that arg is a tuple object\n",
    "    print(arg,len(arg),type(arg),id(arg))\n",
    "fun7(\"Techno India\",\"University\")\n",
    "fun7(\"Joydeep\",\"Tester\",\"Pune\",55000,\"Male\",True)"
   ]
  },
  {
   "cell_type": "code",
   "execution_count": 93,
   "id": "6a6cc737-0483-4650-8c3c-9e552d610d81",
   "metadata": {},
   "outputs": [
    {
     "name": "stdout",
     "output_type": "stream",
     "text": [
      "{'collegeName': 'TIU', 'place': 'Kolkata'} 2 <class 'dict'> 2581454761344\n",
      "{'empname': 'chandu', 'empjob': 'CEO', 'emploc': 'Bihar'} 3 <class 'dict'> 2581463823552\n"
     ]
    }
   ],
   "source": [
    "#function with variable number of input arguments\n",
    "def fun8(**arg):   # **arg defines forefully that arg is a dictionary object\n",
    "    print(arg,len(arg),type(arg),id(arg))\n",
    "fun8(collegeName=\"TIU\",place=\"Kolkata\")\n",
    "fun8(empname=\"chandu\",empjob=\"CEO\",emploc=\"Bihar\")"
   ]
  },
  {
   "cell_type": "code",
   "execution_count": 95,
   "id": "b40cdc31-e9c4-49fb-913a-5211c4d42018",
   "metadata": {},
   "outputs": [
    {
     "name": "stdout",
     "output_type": "stream",
     "text": [
      "() 0 <class 'tuple'> 140712580891680\n",
      "{'collegeName': 'TIU', 'place': 'Kolkata'} 2 <class 'dict'> 2581463812480\n",
      "() 0 <class 'tuple'> 140712580891680\n",
      "{'empname': 'chandu', 'empjob': 'CEO', 'emploc': 'Bihar'} 3 <class 'dict'> 2581463815104\n",
      "('Joydeep', 'Tester', 'Pune', 55000, 'Male', True) 6 <class 'tuple'> 2581461040864\n",
      "{} 0 <class 'dict'> 2581463812480\n"
     ]
    }
   ],
   "source": [
    "def fun9(*arg,**karg):  \n",
    "    print(arg,len(arg),type(arg),id(arg))\n",
    "    print(karg,len(karg),type(karg),id(karg))\n",
    "fun9(collegeName=\"TIU\",place=\"Kolkata\")\n",
    "fun9(empname=\"chandu\",empjob=\"CEO\",emploc=\"Bihar\")\n",
    "fun9(\"Joydeep\",\"Tester\",\"Pune\",55000,\"Male\",True)"
   ]
  },
  {
   "cell_type": "code",
   "execution_count": 97,
   "id": "ee4ff229-839c-46cd-ba38-7762230e70f0",
   "metadata": {},
   "outputs": [
    {
     "name": "stdout",
     "output_type": "stream",
     "text": [
      "before calling funtion 10 140712580819672\n",
      "in funtion: 100 140712580822552\n",
      "after calling funtion 10 140712580819672\n"
     ]
    }
   ],
   "source": [
    "i=10\n",
    "def fun10():\n",
    "    i=100\n",
    "    print(\"in funtion:\",i,id(i))\n",
    "print(\"before calling funtion\",i,id(i))\n",
    "fun10()\n",
    "print(\"after calling funtion\",i,id(i))"
   ]
  },
  {
   "cell_type": "code",
   "execution_count": 99,
   "id": "8e966e19-0b81-400a-9ee3-d8269de5099c",
   "metadata": {},
   "outputs": [],
   "source": [
    "# non-recursive factorial funtion"
   ]
  },
  {
   "cell_type": "code",
   "execution_count": 101,
   "id": "ea0d8a92-3f99-4d7f-b343-5f2962a6c5d5",
   "metadata": {},
   "outputs": [
    {
     "name": "stdout",
     "output_type": "stream",
     "text": [
      "current value in i=2 and fact=10..\n",
      "current value in i=3 and fact=30..\n",
      "current value in i=4 and fact=120..\n",
      "Non-recursive: Factorial of 5 is 120..\n"
     ]
    }
   ],
   "source": [
    "def factorial_nr(num):\n",
    "    if(num==0 or num==1): return 1\n",
    "    fact=num\n",
    "    for i in range(2,num):\n",
    "        fact=fact*i\n",
    "        print(f\"current value in i={i} and fact={fact}..\")\n",
    "    return fact\n",
    "n=5\n",
    "result=factorial_nr(n)\n",
    "print(f\"Non-recursive: Factorial of {n} is {result}..\")"
   ]
  },
  {
   "cell_type": "code",
   "execution_count": 103,
   "id": "59f08cce-8dc0-4457-bfd4-693509ce8398",
   "metadata": {},
   "outputs": [
    {
     "name": "stdout",
     "output_type": "stream",
     "text": [
      "current value in i=2 and fact=10..\n",
      "current value in i=3 and fact=30..\n",
      "current value in i=4 and fact=120..\n",
      "Non-recursive: Factorial of 5 is 120..\n"
     ]
    }
   ],
   "source": [
    "def factorial_r(num):\n",
    "    if(num==0 or num==1): return 1\n",
    "    return num*factorial_r(num-1)\n",
    "n=5\n",
    "result=factorial_nr(n)\n",
    "print(f\"Non-recursive: Factorial of {n} is {result}..\")"
   ]
  },
  {
   "cell_type": "markdown",
   "id": "8640a295-e8be-4c8f-8117-79b450adf67e",
   "metadata": {},
   "source": [
    " <!-- \n",
    " 5!=5*4! \n",
    "      4*3!\n",
    "        3*2!\n",
    "          2*1!\n",
    "            1(base case)\n",
    "          2\n",
    "        6\n",
    "    24\n",
    "-->"
   ]
  },
  {
   "cell_type": "code",
   "execution_count": 106,
   "id": "bba131ff-6818-41b2-8444-755c4637c598",
   "metadata": {},
   "outputs": [
    {
     "name": "stdout",
     "output_type": "stream",
     "text": [
      "7\n",
      "19\n",
      "26\n"
     ]
    }
   ],
   "source": [
    "def outer_fun(x):\n",
    "    print(x)\n",
    "    def inner_fun(y):\n",
    "        print(y)\n",
    "        return x+y\n",
    "    return inner_fun\n",
    "result=outer_fun(7)(19)\n",
    "print(result)"
   ]
  },
  {
   "cell_type": "markdown",
   "id": "b1fee9bd-add5-4f1e-9b37-699ab916225f",
   "metadata": {},
   "source": [
    "## Python Lambda or Anonymous Funtion"
   ]
  },
  {
   "cell_type": "code",
   "execution_count": 109,
   "id": "aa69c540-6242-44ef-ae97-0e6e080e114e",
   "metadata": {},
   "outputs": [
    {
     "name": "stdout",
     "output_type": "stream",
     "text": [
      "<class 'function'> 2581463620384 100\n"
     ]
    }
   ],
   "source": [
    "mysquare=lambda num:num*num\n",
    "print(type(mysquare),id(mysquare),mysquare(10))"
   ]
  },
  {
   "cell_type": "code",
   "execution_count": 111,
   "id": "2f03c77e-4c8d-4ab6-b3fd-d62c0491e855",
   "metadata": {},
   "outputs": [
    {
     "name": "stdout",
     "output_type": "stream",
     "text": [
      "40\n"
     ]
    }
   ],
   "source": [
    "myaddition=lambda num1,num2:num1+num2\n",
    "print(myaddition(10,30))"
   ]
  },
  {
   "cell_type": "code",
   "execution_count": 113,
   "id": "17141181-f746-4011-9dcc-5c0e360c40ed",
   "metadata": {},
   "outputs": [
    {
     "name": "stdout",
     "output_type": "stream",
     "text": [
      "30\n",
      "<function fun11.<locals>.<lambda> at 0x000002590B38E8E0>\n"
     ]
    }
   ],
   "source": [
    "def fun11(num):\n",
    "    myprod=lambda n:n*num\n",
    "    return myprod\n",
    "var10=fun11(10)\n",
    "var20=fun11(20)\n",
    "print(var10(3))\n",
    "print(var10)"
   ]
  },
  {
   "cell_type": "code",
   "execution_count": 115,
   "id": "cbbc32d6-44d1-411e-ae5c-071d447300c6",
   "metadata": {},
   "outputs": [],
   "source": [
    "# lambda funtion with recursion"
   ]
  },
  {
   "cell_type": "code",
   "execution_count": 117,
   "id": "260badfa-4596-4561-b28d-5e72504f0e26",
   "metadata": {},
   "outputs": [
    {
     "name": "stdout",
     "output_type": "stream",
     "text": [
      "120\n"
     ]
    }
   ],
   "source": [
    "myfact=lambda num:1 if(num==0 or num==1) else num*myfact(num-1)\n",
    "print(myfact(5))"
   ]
  },
  {
   "cell_type": "markdown",
   "id": "1c1267d3-873c-4f4c-9236-0f5e8dda35b0",
   "metadata": {},
   "source": [
    "## Dealing with Module: Math Module"
   ]
  },
  {
   "cell_type": "code",
   "execution_count": 120,
   "id": "e4f474e9-4be4-4d79-832d-4cf54b0ecc73",
   "metadata": {},
   "outputs": [],
   "source": [
    "# importing required modules\n",
    "import math"
   ]
  },
  {
   "cell_type": "code",
   "execution_count": 122,
   "id": "72c97709-32f4-439b-8792-81c585e201d6",
   "metadata": {},
   "outputs": [
    {
     "name": "stdout",
     "output_type": "stream",
     "text": [
      "0.0 1.0 0.0\n",
      "0.0 1.0 0.0\n",
      "0.0\n",
      "0.5493061443340549\n"
     ]
    }
   ],
   "source": [
    "print(math.sin(0),math.cos(0),math.tan(0))\n",
    "print(math.sinh(0),math.cosh(0),math.tanh(0)) #hyperbolic cosine\n",
    "print(math.acosh(1))\n",
    "print(math.atanh(0.5))"
   ]
  },
  {
   "cell_type": "code",
   "execution_count": 124,
   "id": "a8021b4a-1f44-421b-86e0-95ec1d479236",
   "metadata": {},
   "outputs": [
    {
     "name": "stdout",
     "output_type": "stream",
     "text": [
      "3.141592653589793\n",
      "2.718281828459045\n",
      "6.283185307179586\n"
     ]
    }
   ],
   "source": [
    "# some constants in the math module\n",
    "print(math.pi)\n",
    "print(math.e)  # euler's number 2.71\n",
    "print(math.tau) # 6.28"
   ]
  },
  {
   "cell_type": "code",
   "execution_count": 126,
   "id": "46b6bbcc-69a0-42f6-8ad5-f2991be628a3",
   "metadata": {},
   "outputs": [
    {
     "name": "stdout",
     "output_type": "stream",
     "text": [
      "120 5040\n",
      "50 50\n",
      "1000.0 1000 1000.0 1000.0\n"
     ]
    }
   ],
   "source": [
    "print(math.factorial(5),math.factorial(7))\n",
    "print(math.gcd(100,750),math.gcd(350,850))\n",
    "print(math.pow(10,3),10**3,10.0**3,10**3.0)"
   ]
  },
  {
   "cell_type": "code",
   "execution_count": 128,
   "id": "f6909057-82b0-442d-a32f-230164e4fcdb",
   "metadata": {},
   "outputs": [
    {
     "name": "stdout",
     "output_type": "stream",
     "text": [
      "11 11 10 10\n"
     ]
    }
   ],
   "source": [
    "print(math.ceil(10.1),math.ceil(10.9),math.floor(10.1),math.floor(10.9))"
   ]
  },
  {
   "cell_type": "code",
   "execution_count": 130,
   "id": "cfdf58bd-7f7e-47ad-bb33-72dcc1e13901",
   "metadata": {},
   "outputs": [
    {
     "name": "stdout",
     "output_type": "stream",
     "text": [
      "Help on built-in function pow in module math:\n",
      "\n",
      "pow(x, y, /)\n",
      "    Return x**y (x to the power of y).\n",
      "\n"
     ]
    }
   ],
   "source": [
    "help(math.pow)"
   ]
  },
  {
   "cell_type": "markdown",
   "id": "a6e5ca66-d2e1-495d-a1f7-906f004d5d6a",
   "metadata": {},
   "source": [
    "# dealing with string processing"
   ]
  },
  {
   "cell_type": "raw",
   "id": "7917a985-b31a-4023-96eb-16bbc0c26be8",
   "metadata": {},
   "source": [
    "string is a collection of alpha numeric and spacial characters. string is immutable as insert , delete and update operations can not be carried out on a given string"
   ]
  },
  {
   "cell_type": "raw",
   "id": "0e1ba401-ee5c-4552-84da-4d73f85d31ae",
   "metadata": {},
   "source": [
    "string indexing and slicing\n",
    "index from left to right ->  0  1  2  3  4  5  6  7  8  9 \n",
    "                   mystr ->  u  n  i  v  e  r  s  i  t  y\n",
    "index from right to left  ->-10 -9 -8 -7 -6 -5 -4 -3 -2 -1"
   ]
  },
  {
   "cell_type": "code",
   "execution_count": 133,
   "id": "9d6bf24f-74f5-4e7c-8529-c2a5e9377126",
   "metadata": {},
   "outputs": [
    {
     "name": "stdout",
     "output_type": "stream",
     "text": [
      "s s\n",
      "niver niver niver niver\n",
      "univer univer\n",
      "uiest nvriy ytisrevinu\n"
     ]
    }
   ],
   "source": [
    "mystr =\"university\"\n",
    "print(mystr[6],mystr[-4]) #indexing\n",
    "print(mystr[1:6],mystr[-9:-4],mystr[1:-4],mystr[-9:6]) #slicing\n",
    "print(mystr[:6],mystr[:-4])\n",
    "print(mystr[0::2],mystr[1::2],mystr[::-1])"
   ]
  },
  {
   "cell_type": "code",
   "execution_count": 135,
   "id": "2a7fff04-877f-4d99-8ab7-00c2597586b5",
   "metadata": {},
   "outputs": [
    {
     "name": "stdout",
     "output_type": "stream",
     "text": [
      "TECHNO INDIA UNIVERSITY\n",
      "techno india university\n",
      "techno india university\n",
      "TecHNO IndIA UniVErsItY\n",
      "Techno india university\n",
      "Techno India University\n"
     ]
    }
   ],
   "source": [
    "mystr=\"tEChno iNDia uNIveRSiTy\"\n",
    "print(mystr.upper())\n",
    "print(mystr.lower())\n",
    "print(mystr.casefold())\n",
    "print(mystr.swapcase()) # small-> big, big->small\n",
    "print(mystr.capitalize())\n",
    "print(mystr.title())"
   ]
  },
  {
   "cell_type": "code",
   "execution_count": 137,
   "id": "0d0771bd-9645-456d-9acb-db994aecdaf1",
   "metadata": {},
   "outputs": [
    {
     "name": "stdout",
     "output_type": "stream",
     "text": [
      "abcd True True False False\n",
      "1234 False True True True\n",
      "1234abcd False True False False\n",
      "abcd@1234 False False False False\n"
     ]
    }
   ],
   "source": [
    "mystr=\"abcd\"\n",
    "print(mystr,mystr.isalpha(),mystr.isalnum(),mystr.isdigit(),mystr.isnumeric())\n",
    "\n",
    "mystr=\"1234\"\n",
    "print(mystr,mystr.isalpha(),mystr.isalnum(),mystr.isdigit(),mystr.isnumeric())\n",
    "\n",
    "mystr=\"1234abcd\"\n",
    "print(mystr,mystr.isalpha(),mystr.isalnum(),mystr.isdigit(),mystr.isnumeric())\n",
    "\n",
    "mystr=\"abcd@1234\"\n",
    "print(mystr,mystr.isalpha(),mystr.isalnum(),mystr.isdigit(),mystr.isnumeric())\n"
   ]
  },
  {
   "cell_type": "code",
   "execution_count": 139,
   "id": "0b15d87f-0aac-4aa2-b7e7-61fc3b590611",
   "metadata": {},
   "outputs": [
    {
     "name": "stdout",
     "output_type": "stream",
     "text": [
      "True\n",
      "False True True\n",
      "True True False\n"
     ]
    }
   ],
   "source": [
    "mystr = \"charity begins at home\"\n",
    "print(mystr.startswith(\"charity\"))\n",
    "print(mystr.startswith(\"begi\"),mystr.startswith(\"begi\",8),mystr.startswith(\"begi\",8,20))\n",
    "print(mystr.endswith(\"home\"),mystr.endswith(\"at\",0,17),mystr.endswith(\"begi\",15,17))"
   ]
  },
  {
   "cell_type": "code",
   "execution_count": 141,
   "id": "d9678ca6-3a31-4409-8424-650e05e1c71d",
   "metadata": {},
   "outputs": [
    {
     "name": "stdout",
     "output_type": "stream",
     "text": [
      "8\n",
      "-1\n"
     ]
    }
   ],
   "source": [
    "mystr = \"charity begins at home\"\n",
    "print(mystr.find(\"begins\"))\n",
    "print(mystr.find(\"school\"))"
   ]
  },
  {
   "cell_type": "code",
   "execution_count": 143,
   "id": "5aac5b0b-c83a-42fb-bbd5-84cf5fb8f5bc",
   "metadata": {},
   "outputs": [
    {
     "name": "stdout",
     "output_type": "stream",
     "text": [
      "8\n"
     ]
    },
    {
     "ename": "ValueError",
     "evalue": "substring not found",
     "output_type": "error",
     "traceback": [
      "\u001b[1;31m---------------------------------------------------------------------------\u001b[0m",
      "\u001b[1;31mValueError\u001b[0m                                Traceback (most recent call last)",
      "Cell \u001b[1;32mIn[143], line 3\u001b[0m\n\u001b[0;32m      1\u001b[0m mystr \u001b[38;5;241m=\u001b[39m \u001b[38;5;124m\"\u001b[39m\u001b[38;5;124mcharity begins at home\u001b[39m\u001b[38;5;124m\"\u001b[39m\n\u001b[0;32m      2\u001b[0m \u001b[38;5;28mprint\u001b[39m(mystr\u001b[38;5;241m.\u001b[39mindex(\u001b[38;5;124m\"\u001b[39m\u001b[38;5;124mbegins\u001b[39m\u001b[38;5;124m\"\u001b[39m))\n\u001b[1;32m----> 3\u001b[0m \u001b[38;5;28mprint\u001b[39m(mystr\u001b[38;5;241m.\u001b[39mindex(\u001b[38;5;124m\"\u001b[39m\u001b[38;5;124mschool\u001b[39m\u001b[38;5;124m\"\u001b[39m))\n\u001b[0;32m      4\u001b[0m \u001b[38;5;28mprint\u001b[39m(mystr\u001b[38;5;241m.\u001b[39mindex(\u001b[38;5;124m\"\u001b[39m\u001b[38;5;124mhome\u001b[39m\u001b[38;5;124m\"\u001b[39m))\n",
      "\u001b[1;31mValueError\u001b[0m: substring not found"
     ]
    }
   ],
   "source": [
    "mystr = \"charity begins at home\"\n",
    "print(mystr.index(\"begins\"))\n",
    "print(mystr.index(\"school\"))\n",
    "print(mystr.index(\"home\"))"
   ]
  },
  {
   "cell_type": "code",
   "execution_count": 145,
   "id": "48bdb6d0-8244-40c7-a556-f43e48aaf354",
   "metadata": {},
   "outputs": [
    {
     "name": "stdout",
     "output_type": "stream",
     "text": [
      "8\n",
      "unsuccessful searching..\n",
      "Error message: substring not found\n",
      "18\n"
     ]
    }
   ],
   "source": [
    "mystr = \"charity begins at home\"\n",
    "try:\n",
    "    print(mystr.index(\"begins\"))\n",
    "    print(mystr.index(\"school\"))\n",
    "except ValueError as ve:\n",
    "    print(\"unsuccessful searching..\")\n",
    "    print(\"Error message:\", ve)\n",
    "print(mystr.index(\"home\"))"
   ]
  },
  {
   "cell_type": "code",
   "execution_count": 147,
   "id": "aff23a23-d40a-4f4d-900a-f33c9ce3f907",
   "metadata": {},
   "outputs": [
    {
     "name": "stdout",
     "output_type": "stream",
     "text": [
      "4 2\n"
     ]
    }
   ],
   "source": [
    "mystr= \"mississippi\"\n",
    "print(mystr.count(\"i\"),mystr.count(\"p\"))"
   ]
  },
  {
   "cell_type": "code",
   "execution_count": 149,
   "id": "f303fee5-2d14-42a8-9200-52e7f5c2592b",
   "metadata": {},
   "outputs": [
    {
     "name": "stdout",
     "output_type": "stream",
     "text": [
      "good morning 2581463341488\n",
      "good night 2581449175088\n"
     ]
    }
   ],
   "source": [
    "mystr = \"good morning\"\n",
    "print(mystr, id(mystr))\n",
    "mystr=mystr.replace(\"morning\",\"night\")\n",
    "print(mystr, id(mystr))"
   ]
  },
  {
   "cell_type": "code",
   "execution_count": 151,
   "id": "60315430-3e28-482c-92ed-6e31b8ed21d7",
   "metadata": {},
   "outputs": [
    {
     "name": "stdout",
     "output_type": "stream",
     "text": [
      "  good  morning    18\n",
      "good  morning 13\n",
      "good  morning    16\n",
      "  good  morning 15\n"
     ]
    }
   ],
   "source": [
    "mystr = \"  good  morning   \"\n",
    "print(mystr,len(mystr))\n",
    "\n",
    "res=mystr.strip()\n",
    "print(res,len(res))\n",
    "\n",
    "res=mystr.lstrip()\n",
    "print(res,len(res))\n",
    "\n",
    "res=mystr.rstrip()\n",
    "print(res,len(res))"
   ]
  },
  {
   "cell_type": "code",
   "execution_count": 153,
   "id": "4b88d439-32b7-4831-80cf-ca045c20773c",
   "metadata": {},
   "outputs": [
    {
     "name": "stdout",
     "output_type": "stream",
     "text": [
      "#@@#good#@##morning@#@ 22\n",
      "good#@##morning 15\n",
      "good#@##morning@#@ 18\n",
      "#@@#good#@##morning 19\n"
     ]
    }
   ],
   "source": [
    "mystr = \"#@@#good#@##morning@#@\"\n",
    "print(mystr,len(mystr))\n",
    "\n",
    "res=mystr.strip(\"#@\")\n",
    "print(res,len(res))\n",
    "\n",
    "res=mystr.lstrip(\"@#\")\n",
    "print(res,len(res))\n",
    "\n",
    "res=mystr.rstrip(\"#@\")\n",
    "print(res,len(res))"
   ]
  },
  {
   "cell_type": "code",
   "execution_count": 155,
   "id": "fdc2a6f4-64ad-41b8-a71c-65aac935a0d9",
   "metadata": {},
   "outputs": [
    {
     "name": "stdout",
     "output_type": "stream",
     "text": [
      "['charity', 'begins', 'at', 'home'] 4\n",
      "['char', 'ty beg', 'ns at home'] 3\n",
      "['charity begins at home'] 1\n"
     ]
    }
   ],
   "source": [
    "# str -->list\n",
    "mystr = \"charity begins at home\"\n",
    "res=mystr.split()\n",
    "print(res,len(res))\n",
    "\n",
    "res=mystr.split(\"i\")\n",
    "print(res,len(res))\n",
    "\n",
    "res=mystr.split(\"x\")\n",
    "print(res,len(res))"
   ]
  },
  {
   "cell_type": "code",
   "execution_count": 157,
   "id": "99acf50f-304b-49c9-9a58-dfbe11e642c0",
   "metadata": {},
   "outputs": [
    {
     "name": "stdout",
     "output_type": "stream",
     "text": [
      "['charity', 'begins', 'at', 'home'] 4 <class 'list'> 2581463339776\n",
      "charity begins at home 22 <class 'str'> 2581463386352\n",
      "c,h,a,r,i,t,y, ,b,e,g,i,n,s, ,a,t, ,h,o,m,e 43 <class 'str'> 2581463292432\n",
      "charity-begins-at-home 22 <class 'str'> 2581463391728\n"
     ]
    }
   ],
   "source": [
    "# list -->str\n",
    "list1 = ['charity','begins','at','home']\n",
    "print(list1,len(list1),type(list1),id(list1))\n",
    "\n",
    "mystr = \" \".join(list1)\n",
    "print(mystr,len(mystr),type(mystr),id(mystr))\n",
    "\n",
    "mystr = \",\".join(mystr)\n",
    "print(mystr,len(mystr),type(mystr),id(mystr))\n",
    "\n",
    "mystr = \"-\".join(list1)\n",
    "print(mystr,len(mystr),type(mystr),id(mystr))"
   ]
  },
  {
   "cell_type": "code",
   "execution_count": 159,
   "id": "2c0f221c-3a39-47db-a471-76948c4011b0",
   "metadata": {},
   "outputs": [
    {
     "name": "stdout",
     "output_type": "stream",
     "text": [
      "u,n,i,v,e,r,s,i,t,y,\n",
      "u,n,i,v,e,r,s,i,t,y,"
     ]
    }
   ],
   "source": [
    "mystr = \"university\"\n",
    "for i in range(len(mystr)):\n",
    "    print(mystr[i],end=\",\")\n",
    "print()\n",
    "for i in mystr:\n",
    "    print(i,end=\",\")"
   ]
  },
  {
   "cell_type": "raw",
   "id": "67107414-b1e2-45e9-8bde-bf605b2a3faa",
   "metadata": {},
   "source": [
    "Take a sentence with upper and lower case letters and other characters from the user and find the number of vowels\n",
    "and consonants in the given string "
   ]
  },
  {
   "cell_type": "code",
   "execution_count": 161,
   "id": "5d7d92c2-aabb-4500-a2d9-58f8cd9e67df",
   "metadata": {},
   "outputs": [
    {
     "name": "stdout",
     "output_type": "stream",
     "text": [
      "please enter a sentence:  chandu azad\n"
     ]
    },
    {
     "name": "stdout",
     "output_type": "stream",
     "text": [
      "no of vowels is 4 and consonant is 6\n"
     ]
    }
   ],
   "source": [
    "mystr = input(\"please enter a sentence: \").lower()\n",
    "vcount = ccount = 0\n",
    "for ch in mystr:\n",
    "    if(ch.isalpha()):\n",
    "        if(ch in \"aeiou\"): vcount+=1\n",
    "        else: ccount+=1\n",
    "print(f\"no of vowels is {vcount} and consonant is {ccount}\")"
   ]
  },
  {
   "cell_type": "markdown",
   "id": "bfe315f2-4c76-435c-91a7-0e11c8cd66ba",
   "metadata": {},
   "source": [
    "# Minor Project"
   ]
  },
  {
   "cell_type": "code",
   "execution_count": 163,
   "id": "31a0485f-6691-4427-bed1-eba6969f7f7b",
   "metadata": {},
   "outputs": [
    {
     "name": "stdout",
     "output_type": "stream",
     "text": [
      "Enter a time in second 10\n"
     ]
    },
    {
     "name": "stdout",
     "output_type": "stream",
     "text": [
      "countdown off!!!\n"
     ]
    }
   ],
   "source": [
    "import time\n",
    "def countdown(user_time):\n",
    "    while user_time >0:\n",
    "        mins,secs = divmod(user_time,60)\n",
    "        timer = '{:02d}:{:02d}'.format(mins,secs)\n",
    "        print(timer,end='\\r')\n",
    "        time.sleep(1)\n",
    "        user_time-=1\n",
    "    print(\"countdown off!!!\")\n",
    "if __name__ == '__main__':\n",
    "    user_time=int(input(\"Enter a time in second\"))\n",
    "    countdown(user_time)\n"
   ]
  },
  {
   "cell_type": "markdown",
   "id": "48152a4a-e18b-4020-baa6-14a7b909170e",
   "metadata": {},
   "source": [
    "## dealing with list processing"
   ]
  },
  {
   "cell_type": "code",
   "execution_count": 166,
   "id": "bd7a9a05-8de1-494d-9dcf-a86959ff0e2b",
   "metadata": {},
   "outputs": [
    {
     "name": "stdout",
     "output_type": "stream",
     "text": [
      "[100, 200, 3004, 400] 4 2581449373312 <class 'list'>\n",
      "3004 100\n",
      "3704\n",
      "926.0\n",
      "tuesday friday\n"
     ]
    },
    {
     "ename": "TypeError",
     "evalue": "unsupported operand type(s) for +: 'int' and 'str'",
     "output_type": "error",
     "traceback": [
      "\u001b[1;31m---------------------------------------------------------------------------\u001b[0m",
      "\u001b[1;31mTypeError\u001b[0m                                 Traceback (most recent call last)",
      "Cell \u001b[1;32mIn[166], line 9\u001b[0m\n\u001b[0;32m      7\u001b[0m list2\u001b[38;5;241m=\u001b[39m[\u001b[38;5;124m\"\u001b[39m\u001b[38;5;124mmonday\u001b[39m\u001b[38;5;124m\"\u001b[39m,\u001b[38;5;124m\"\u001b[39m\u001b[38;5;124mtuesday\u001b[39m\u001b[38;5;124m\"\u001b[39m,\u001b[38;5;124m\"\u001b[39m\u001b[38;5;124mthursday\u001b[39m\u001b[38;5;124m\"\u001b[39m,\u001b[38;5;124m\"\u001b[39m\u001b[38;5;124mfriday\u001b[39m\u001b[38;5;124m\"\u001b[39m,\u001b[38;5;124m\"\u001b[39m\u001b[38;5;124msunday\u001b[39m\u001b[38;5;124m\"\u001b[39m]\n\u001b[0;32m      8\u001b[0m \u001b[38;5;28mprint\u001b[39m(\u001b[38;5;28mmax\u001b[39m(list2),\u001b[38;5;28mmin\u001b[39m(list2))\n\u001b[1;32m----> 9\u001b[0m \u001b[38;5;28mprint\u001b[39m(\u001b[38;5;28msum\u001b[39m(list2))\n",
      "\u001b[1;31mTypeError\u001b[0m: unsupported operand type(s) for +: 'int' and 'str'"
     ]
    }
   ],
   "source": [
    "list1=[100,200,3004,400]\n",
    "print(list1, len(list1),id(list1),type(list1))\n",
    "print(max(list1),min(list1))\n",
    "print(sum(list1))\n",
    "print(sum(list1)/len(list1))\n",
    "\n",
    "list2=[\"monday\",\"tuesday\",\"thursday\",\"friday\",\"sunday\"]\n",
    "print(max(list2),min(list2))\n",
    "print(sum(list2)) "
   ]
  },
  {
   "cell_type": "code",
   "execution_count": 168,
   "id": "fdccd840-121f-4088-aedb-44fedae622f2",
   "metadata": {},
   "outputs": [
    {
     "name": "stdout",
     "output_type": "stream",
     "text": [
      "3004 False\n",
      "600.7142857142857\n"
     ]
    }
   ],
   "source": [
    "list1=[100,200,3004,400,False,500.0,True]\n",
    "print(max(list1),min(list1))\n",
    "print(sum(list1)/len(list1))"
   ]
  },
  {
   "cell_type": "raw",
   "id": "20d86e13-58a6-4747-a716-04a248ce8a69",
   "metadata": {},
   "source": [
    "list indexing and slicing\n",
    "index from left to right ->   0         1         2          3        4 \n",
    "                   list2 ->[\"monday\",\"tuesday\",\"thursday\",\"friday\",\"sunday\"]\n",
    "index from right to left->     -5      -4         -3         -2      -1"
   ]
  },
  {
   "cell_type": "code",
   "execution_count": 170,
   "id": "86b05ab9-295b-43ac-9c3f-c3051f14b86c",
   "metadata": {},
   "outputs": [
    {
     "name": "stdout",
     "output_type": "stream",
     "text": [
      "thursday thursday sunday sunday\n",
      "['monday', 'thursday', 'sunday'] ['tuesday', 'friday'] ['sunday', 'friday', 'thursday', 'tuesday', 'monday']\n",
      "ida fri\n"
     ]
    }
   ],
   "source": [
    "list1 = [\"monday\",\"tuesday\",\"thursday\",\"friday\",\"sunday\"]\n",
    "print(list1[2],list1[-3],list1[4],list1[-1])\n",
    "print(list1[0::2],list1[1::2],list1[::-1])\n",
    "print(list1[3][2:5],list1[-2][-6:-3])"
   ]
  },
  {
   "cell_type": "code",
   "execution_count": 172,
   "id": "df9d28d1-39b9-453f-93f0-849bff4f59ae",
   "metadata": {},
   "outputs": [
    {
     "name": "stdout",
     "output_type": "stream",
     "text": [
      "[] 0 <class 'list'> 2581463958272\n",
      "() 0 <class 'tuple'> 140712580891680\n",
      "{} 0 <class 'dict'> 2581463501760\n",
      "set() 0 <class 'set'> 2581450660704\n",
      "frozenset() 0 <class 'frozenset'> 2581450666752\n",
      "(9,) 1 <class 'tuple'> 2581451748400\n"
     ]
    }
   ],
   "source": [
    "# defining empty list ,empty tuple,empty dictionary,empty set and empty frozen-set\n",
    "var1 = [] # empty list\n",
    "print(var1,len(var1),type(var1),id(var1))\n",
    "\n",
    "var1 = () # empty tuple\n",
    "print(var1,len(var1),type(var1),id(var1))\n",
    "\n",
    "var1 = {} # empty dictionary\n",
    "print(var1,len(var1),type(var1),id(var1))\n",
    "\n",
    "var1 = set() # empty set\n",
    "print(var1,len(var1),type(var1),id(var1))\n",
    "\n",
    "var1 =frozenset([])  # empty frozen-set\n",
    "print(var1,len(var1),type(var1),id(var1))\n",
    "\n",
    "var1 =(9,)  # singleton representation of a tuple\n",
    "print(var1,len(var1),type(var1),id(var1))"
   ]
  },
  {
   "cell_type": "code",
   "execution_count": 174,
   "id": "0270c283-720c-4b50-bb9d-5b92ef5ddd82",
   "metadata": {},
   "outputs": [
    {
     "name": "stdout",
     "output_type": "stream",
     "text": [
      "my word mississippi 19\n",
      "['m', 'y', ' ', 'w', 'o', 'r', 'd', ' ', 'm', 'i', 's', 's', 'i', 's', 's', 'i', 'p', 'p', 'i'] 19 <class 'list'> 2581449202816\n",
      "('m', 'y', ' ', 'w', 'o', 'r', 'd', ' ', 'm', 'i', 's', 's', 'i', 's', 's', 'i', 'p', 'p', 'i') 19 <class 'tuple'> 2581450650576\n",
      "{'r', 'i', 'w', 'm', 'd', ' ', 'p', 's', 'y', 'o'} 10 <class 'set'> 2581450668096\n",
      "frozenset({'r', 'i', 'w', 'm', 'd', ' ', 'p', 's', 'y', 'o'}) 10 <class 'frozenset'> 2581450660704\n"
     ]
    }
   ],
   "source": [
    "# converting string to list , tuple , set and forzen set\n",
    "mystr=\"my word mississippi\"\n",
    "print(mystr,len(mystr))\n",
    "\n",
    "res=list(mystr)\n",
    "print(res,len(res),type(res),id(res))\n",
    "\n",
    "res=tuple(mystr)\n",
    "print(res,len(res),type(res),id(res))\n",
    "\n",
    "res=set(mystr)\n",
    "print(res,len(res),type(res),id(res))\n",
    "\n",
    "res=frozenset(mystr)\n",
    "print(res,len(res),type(res),id(res))"
   ]
  },
  {
   "cell_type": "code",
   "execution_count": 176,
   "id": "fe9efa6d-bcd7-4cbf-a79d-42dd548e56e9",
   "metadata": {},
   "outputs": [
    {
     "name": "stdout",
     "output_type": "stream",
     "text": [
      "['monday', 'thursday', 'tuesday', 'sunday'] 4 <class 'list'> 2581449197696\n",
      "['monday', 'thursday', 'tuesday', 'sunday', 'saturday'] 5 <class 'list'> 2581449197696\n"
     ]
    }
   ],
   "source": [
    "# insert operation on list \n",
    "\n",
    "list1=[\"monday\",\"thursday\",\"tuesday\",\"sunday\"]\n",
    "print(list1,len(list1),type(list1),id(list1))\n",
    "\n",
    "list1.append(\"saturday\")\n",
    "print(list1,len(list1),type(list1),id(list1))"
   ]
  },
  {
   "cell_type": "code",
   "execution_count": 178,
   "id": "f07165ac-8ff8-41c6-a174-b16cc8827578",
   "metadata": {},
   "outputs": [
    {
     "name": "stdout",
     "output_type": "stream",
     "text": [
      "['monday', 'thursday', 'tuesday', 'saturday', 'sunday'] 5 <class 'list'> 2581463500288\n",
      "['monday', 'thursday', 'tuesday', 'saturday', 'sunday', 'weekday'] 6 <class 'list'> 2581463500288\n",
      "weekday\n"
     ]
    }
   ],
   "source": [
    "list1=[\"monday\",\"thursday\",\"tuesday\",\"sunday\"]\n",
    "\n",
    "list1.insert(3,\"saturday\")\n",
    "print(list1,len(list1),type(list1),id(list1))\n",
    "\n",
    "list1.insert(100,\"weekday\")\n",
    "print(list1,len(list1),type(list1),id(list1))\n",
    "print(list1[5])"
   ]
  },
  {
   "cell_type": "code",
   "execution_count": 180,
   "id": "1a93dad1-77fd-4629-972a-216a9e243837",
   "metadata": {},
   "outputs": [
    {
     "name": "stdout",
     "output_type": "stream",
     "text": [
      "['monday', 'thursday', 'tuesday', 'sunday'] 4 2581463956288\n",
      "[] 0 2581463956288\n"
     ]
    }
   ],
   "source": [
    "# delete operation on list\n",
    "list1=[\"monday\",\"thursday\",\"tuesday\",\"sunday\"]\n",
    "print(list1,len(list1),id(list1))\n",
    "\n",
    "list1.clear()\n",
    "print(list1,len(list1),id(list1))"
   ]
  },
  {
   "cell_type": "code",
   "execution_count": 182,
   "id": "2d627c9d-c30d-4e28-b497-36fb14b63500",
   "metadata": {},
   "outputs": [
    {
     "name": "stdout",
     "output_type": "stream",
     "text": [
      "['monday', 'thursday', 'tuesday', 'sunday'] 4 2581463513408\n"
     ]
    },
    {
     "ename": "NameError",
     "evalue": "name 'list1' is not defined",
     "output_type": "error",
     "traceback": [
      "\u001b[1;31m---------------------------------------------------------------------------\u001b[0m",
      "\u001b[1;31mNameError\u001b[0m                                 Traceback (most recent call last)",
      "Cell \u001b[1;32mIn[182], line 5\u001b[0m\n\u001b[0;32m      2\u001b[0m \u001b[38;5;28mprint\u001b[39m(list1,\u001b[38;5;28mlen\u001b[39m(list1),\u001b[38;5;28mid\u001b[39m(list1))\n\u001b[0;32m      4\u001b[0m \u001b[38;5;28;01mdel\u001b[39;00m list1\n\u001b[1;32m----> 5\u001b[0m \u001b[38;5;28mprint\u001b[39m(list1,\u001b[38;5;28mlen\u001b[39m(list1),\u001b[38;5;28mid\u001b[39m(list1))\n",
      "\u001b[1;31mNameError\u001b[0m: name 'list1' is not defined"
     ]
    }
   ],
   "source": [
    "list1=[\"monday\",\"thursday\",\"tuesday\",\"sunday\"]\n",
    "print(list1,len(list1),id(list1))\n",
    "\n",
    "del list1\n",
    "print(list1,len(list1),id(list1))"
   ]
  },
  {
   "cell_type": "code",
   "execution_count": 184,
   "id": "de2865b1-ecce-42de-a18d-fc0ee86e2364",
   "metadata": {},
   "outputs": [
    {
     "name": "stdout",
     "output_type": "stream",
     "text": [
      "['monday', 'thursday', 'tuesday', 'sunday'] 4 2581463400000\n",
      "['monday', 'thursday', 'sunday'] 3 2581463400000\n"
     ]
    }
   ],
   "source": [
    "list1=[\"monday\",\"thursday\",\"tuesday\",\"sunday\"]\n",
    "print(list1,len(list1),id(list1))\n",
    "\n",
    "list1.remove(\"tuesday\")\n",
    "print(list1,len(list1),id(list1))"
   ]
  },
  {
   "cell_type": "code",
   "execution_count": 186,
   "id": "eed1ce0c-cfb6-4a6b-a445-7f90b138c43e",
   "metadata": {},
   "outputs": [
    {
     "name": "stdout",
     "output_type": "stream",
     "text": [
      "['monday', 'thursday', 'tuesday', 'sunday'] 4 2581449178880\n",
      "['monday', 'thursday', 'tuesday'] 3 2581449178880\n",
      "['monday', 'thursday'] 2 2581449178880\n"
     ]
    }
   ],
   "source": [
    "list1=[\"monday\",\"thursday\",\"tuesday\",\"sunday\"]\n",
    "print(list1,len(list1),id(list1))\n",
    "\n",
    "list1.pop()\n",
    "print(list1,len(list1),id(list1))\n",
    "\n",
    "list1.pop(2)\n",
    "print(list1,len(list1),id(list1))"
   ]
  },
  {
   "cell_type": "code",
   "execution_count": 188,
   "id": "342bfb9d-6267-469c-b7fe-4a4d30eb0f6d",
   "metadata": {},
   "outputs": [
    {
     "name": "stdout",
     "output_type": "stream",
     "text": [
      "['monday', 'thursday', 'tuesday', 'sunday'] 4 2581463573888\n",
      "['monday', 'thursday', 'tuesday', 'wednesday'] 4 2581463573888\n"
     ]
    }
   ],
   "source": [
    "# update opearation on list\n",
    "list1=[\"monday\",\"thursday\",\"tuesday\",\"sunday\"]\n",
    "print(list1,len(list1),id(list1))\n",
    "\n",
    "list1[3]=\"wednesday\"\n",
    "print(list1,len(list1),id(list1))"
   ]
  },
  {
   "cell_type": "code",
   "execution_count": 190,
   "id": "adc54c4a-800f-40bf-9e9f-67534e6058d2",
   "metadata": {},
   "outputs": [
    {
     "name": "stdout",
     "output_type": "stream",
     "text": [
      "['monday', 'thursday', 'tuesday', 'sunday'] 4 2581449288640\n",
      "['monday', 'thursday', 'tuesday', 'sunday', 'friday', 'weekday'] 6 2581449374016\n"
     ]
    }
   ],
   "source": [
    "list1=[\"monday\",\"thursday\",\"tuesday\",\"sunday\"]\n",
    "print(list1,len(list1),id(list1))\n",
    "\n",
    "list2=['friday','weekday']\n",
    "res=list1+list2    # list cocatenation\n",
    "print(res,len(res),id(res))"
   ]
  },
  {
   "cell_type": "code",
   "execution_count": 192,
   "id": "6f15dd80-80b4-4e0c-b027-9c736699fb8a",
   "metadata": {},
   "outputs": [
    {
     "name": "stdout",
     "output_type": "stream",
     "text": [
      "['monday', 'thursday', 'tuesday', 'sunday'] 4 2581463489600\n",
      "['monday', 'thursday', 'tuesday', 'sunday', 'friday', 'weekday'] 6 2581463489600\n",
      "['monday', 'thursday', 'tuesday', 'sunday', 'friday', 'weekday', 'friday', 'weekday'] 8 2581463489600\n"
     ]
    }
   ],
   "source": [
    "list1=[\"monday\",\"thursday\",\"tuesday\",\"sunday\"]\n",
    "print(list1,len(list1),id(list1))\n",
    "list2=['friday','weekday']\n",
    "\n",
    "list1.extend(list2)    # extending the list \n",
    "print(list1,len(list1),id(list1))\n",
    "\n",
    "list1+=list2\n",
    "print(list1,len(list1),id(list1))"
   ]
  },
  {
   "cell_type": "code",
   "execution_count": 194,
   "id": "d3cdc8ba-4b47-4e01-8e61-4fc0ec10e484",
   "metadata": {},
   "outputs": [
    {
     "name": "stdout",
     "output_type": "stream",
     "text": [
      "['monday', 'thursday', 'tuesday', 'sunday'] 4 2581463897984\n",
      "[['monday', 'thursday', 'tuesday', 'sunday'], ['friday', 'weekday']] 2 2581463387008\n"
     ]
    }
   ],
   "source": [
    "list1=[\"monday\",\"thursday\",\"tuesday\",\"sunday\"]\n",
    "print(list1,len(list1),id(list1))\n",
    "list2=['friday','weekday']\n",
    "\n",
    "res=[list1,list2] # list of lists\n",
    "print(res,len(res),id(res))"
   ]
  },
  {
   "cell_type": "code",
   "execution_count": 196,
   "id": "92a3b9fd-1279-4a1d-94ed-879c2979d8aa",
   "metadata": {},
   "outputs": [
    {
     "name": "stdout",
     "output_type": "stream",
     "text": [
      "thursday thursday sunday sunday\n",
      "esd ues\n"
     ]
    }
   ],
   "source": [
    "list1=[[\"monday\",\"thursday\",\"tuesday\",\"sunday\"],['firday','sunday']]\n",
    "print(list1[0][1],list1[-2][-3],list1[1][1],list1[-1][-1])\n",
    "print(list1[0][2][2:5],list1[-2][-2][-6:-3])"
   ]
  },
  {
   "cell_type": "code",
   "execution_count": 198,
   "id": "e5e0a3ad-a945-4ca4-991c-e3320a06715d",
   "metadata": {},
   "outputs": [
    {
     "name": "stdout",
     "output_type": "stream",
     "text": [
      "[2, 16, 22, 27, 31]\n",
      "[31, 27, 22, 16, 2]\n",
      "[2, 16, 22, 27, 31]\n",
      "[31, 27, 22, 16, 2]\n"
     ]
    }
   ],
   "source": [
    "list1=[27,16,2,31,22]\n",
    "list1.sort()\n",
    "print(list1)\n",
    "list1.sort(reverse=True) # reverse shorting \n",
    "print(list1)\n",
    "res=sorted(list1) # stroring the sorted list in another variable\n",
    "print(res)\n",
    "res1=sorted(list1,reverse=True)\n",
    "print(res1)"
   ]
  },
  {
   "cell_type": "code",
   "execution_count": 200,
   "id": "450b4147-a212-44e0-a48a-4ed4702480af",
   "metadata": {},
   "outputs": [
    {
     "name": "stdout",
     "output_type": "stream",
     "text": [
      "2\n",
      "sunday\n",
      "['monday', 'thursday', 'tuesday', 'firday', 'sunday']\n"
     ]
    }
   ],
   "source": [
    "list1=[\"monday\",\"thursday\",\"tuesday\",\"sunday\",'firday','sunday']\n",
    "print(list1.count('sunday'))\n",
    "x=list1.pop(3) # storing the poped value\n",
    "print(x)\n",
    "print(list1)"
   ]
  },
  {
   "cell_type": "code",
   "execution_count": 204,
   "id": "387cda28-033b-4f9a-b3ad-2380d4537534",
   "metadata": {},
   "outputs": [
    {
     "name": "stdout",
     "output_type": "stream",
     "text": [
      "['monday', 'thursday', 'tuesday', 'sunday', 'firday', 'sunday'] 2581463284864\n",
      "['monday', 'thursday', 'tuesday', 'sunday', 'firday', 'sunday'] 2581463284864\n",
      "['wednesday', 'thursday', 'tuesday', 'sunday', 'firday', 'sunday'] 2581463284864\n",
      "['wednesday', 'thursday', 'tuesday', 'sunday', 'firday', 'sunday'] 2581463284864\n"
     ]
    }
   ],
   "source": [
    "list1=[\"monday\",\"thursday\",\"tuesday\",\"sunday\",'firday','sunday']\n",
    "list2=list1  # now list1, list2 point to same id \n",
    "print(list2,id(list2))\n",
    "print(list1,id(list1))\n",
    "list1[0]='wednesday'\n",
    "print(list2,id(list2))\n",
    "print(list1,id(list1))"
   ]
  },
  {
   "cell_type": "code",
   "execution_count": 220,
   "id": "50fbbd55-6364-4972-b539-589d9730049c",
   "metadata": {},
   "outputs": [
    {
     "name": "stdout",
     "output_type": "stream",
     "text": [
      "['monday', 'thursday', 'tuesday', 'sunday', 'firday', 'sunday'] 2581463284864\n",
      "['monday', 'friday', 'tuesday', 'sunday', 'firday', 'sunday'] 2581463284864\n"
     ]
    }
   ],
   "source": [
    "list1=[\"monday\",\"thursday\",\"tuesday\",\"sunday\",'firday','sunday']\n",
    "list2[:]=list1 # copy through slicing\n",
    "print(list2,id(list2))\n",
    "list2[1]='friday'\n",
    "print(list2,id(list2))\n"
   ]
  },
  {
   "cell_type": "code",
   "execution_count": 224,
   "id": "9f928db3-c9ef-4183-a6dc-ef1991426832",
   "metadata": {},
   "outputs": [
    {
     "name": "stdout",
     "output_type": "stream",
     "text": [
      "['monday', 'thursday', 'tuesday', 'sunday', 'firday', 'sunday'] 2581464306816\n",
      "['monday', 'thursday', 'tuesday', 'sunday', 'firday', 'sunday'] 2581464306688\n",
      "['monday', 'thursday', 'tuesday', 'sunday', 'firday', 'sunday'] 2581464306816\n",
      "['monday', 'friday', 'tuesday', 'sunday', 'firday', 'sunday'] 2581464306688\n"
     ]
    }
   ],
   "source": [
    "list1=[\"monday\",\"thursday\",\"tuesday\",\"sunday\",'firday','sunday']\n",
    "list2=list1.copy() # id of list1 and list2 is diff\n",
    "print(list1,id(list1))\n",
    "print(list2,id(list2))\n",
    "list2[1]='friday'\n",
    "print(list1,id(list1))\n",
    "print(list2,id(list2))"
   ]
  },
  {
   "cell_type": "code",
   "execution_count": 234,
   "id": "0853630e-dc85-458a-879f-de837cb72867",
   "metadata": {},
   "outputs": [
    {
     "name": "stdout",
     "output_type": "stream",
     "text": [
      "True\n",
      "True\n",
      "False\n",
      "True\n"
     ]
    }
   ],
   "source": [
    "list1=[\"monday\",\"thursday\",\"tuesday\",\"sunday\",'firday','sunday']\n",
    "print(all(list1)) # like and operation \n",
    "print(any(list1)) # like or operation\n",
    "list2=[\"monday\",False,\"tuesday\",\"sunday\",'firday','sunday']\n",
    "print(all(list2))\n",
    "print(any(list2))"
   ]
  },
  {
   "cell_type": "code",
   "execution_count": 236,
   "id": "0d0ca5b9-4901-44ef-bbbc-b037cbca2c9b",
   "metadata": {},
   "outputs": [
    {
     "name": "stdout",
     "output_type": "stream",
     "text": [
      "['monday', 'thursday', 'tuesday', 'sunday', 'firday', 'sunday']\n",
      "['monday', 'thursday', 'tuesday', 'wednesday', 'firday', 'sunday']\n"
     ]
    }
   ],
   "source": [
    "def myfun(mylist):\n",
    "    mylist[3]='wednesday'\n",
    "list1=[\"monday\",\"thursday\",\"tuesday\",\"sunday\",'firday','sunday']\n",
    "print(list1)\n",
    "myfun(list1)\n",
    "print(list1)"
   ]
  },
  {
   "cell_type": "markdown",
   "id": "1b819321-bae3-493b-b32e-557462f5255d",
   "metadata": {},
   "source": [
    "# Dealing with the Tuple Processing "
   ]
  },
  {
   "cell_type": "markdown",
   "id": "dc992e2d-37ef-4c0e-813a-2cad9dcc41ce",
   "metadata": {},
   "source": [
    "Tuple is a collection of data items of same or diffrent datatype enclosed with first bracket . Tuples items are immutable as INSERT,DELETE and UPDATE operations can not be carried out on them "
   ]
  },
  {
   "cell_type": "code",
   "execution_count": 243,
   "id": "9862ab01-0c29-4512-be35-2c41075d7038",
   "metadata": {},
   "outputs": [
    {
     "name": "stdout",
     "output_type": "stream",
     "text": [
      "(100, 500, 400, 300) 500 100 1300 325.0\n"
     ]
    }
   ],
   "source": [
    "tuple1=(100,500,400,300)\n",
    "print(tuple1,max(tuple1),min(tuple1),sum(tuple1),sum(tuple1)/len(tuple1))"
   ]
  },
  {
   "cell_type": "code",
   "execution_count": 245,
   "id": "fd3aa130-0274-4e04-9e84-4836bba9c4c2",
   "metadata": {},
   "outputs": [
    {
     "name": "stdout",
     "output_type": "stream",
     "text": [
      "('monday', 'thursday', 'tuesday', 'sunday', 'firday', 'sunday') tuesday firday\n"
     ]
    }
   ],
   "source": [
    "tuple1=(\"monday\",\"thursday\",\"tuesday\",\"sunday\",'firday','sunday')\n",
    "print(tuple1,max(tuple1),min(tuple1))"
   ]
  },
  {
   "cell_type": "code",
   "execution_count": 247,
   "id": "c298b6ed-d3b0-43e3-97ee-15da43f2e2b9",
   "metadata": {},
   "outputs": [],
   "source": [
    "# tuple indexing and slicing -> same as list"
   ]
  },
  {
   "cell_type": "code",
   "execution_count": 249,
   "id": "ddb362c1-fee2-47e5-a8fd-ae40ade74b2b",
   "metadata": {},
   "outputs": [
    {
     "name": "stdout",
     "output_type": "stream",
     "text": [
      "thursday firday\n",
      "esd fir\n"
     ]
    }
   ],
   "source": [
    "tuple1=(\"monday\",\"thursday\",\"tuesday\",\"sunday\",'firday','sunday')\n",
    "print(tuple1[1],tuple1[-2])\n",
    "print(tuple1[2][2:5],tuple1[-2][-6:-3])"
   ]
  },
  {
   "cell_type": "code",
   "execution_count": 251,
   "id": "354658dc-0fc5-444f-9a54-55cfc96a29de",
   "metadata": {},
   "outputs": [
    {
     "ename": "NameError",
     "evalue": "name 'tuple1' is not defined",
     "output_type": "error",
     "traceback": [
      "\u001b[1;31m---------------------------------------------------------------------------\u001b[0m",
      "\u001b[1;31mNameError\u001b[0m                                 Traceback (most recent call last)",
      "Cell \u001b[1;32mIn[251], line 3\u001b[0m\n\u001b[0;32m      1\u001b[0m tuple1\u001b[38;5;241m=\u001b[39m(\u001b[38;5;124m\"\u001b[39m\u001b[38;5;124mmonday\u001b[39m\u001b[38;5;124m\"\u001b[39m,\u001b[38;5;124m\"\u001b[39m\u001b[38;5;124mthursday\u001b[39m\u001b[38;5;124m\"\u001b[39m,\u001b[38;5;124m\"\u001b[39m\u001b[38;5;124mtuesday\u001b[39m\u001b[38;5;124m\"\u001b[39m,\u001b[38;5;124m\"\u001b[39m\u001b[38;5;124msunday\u001b[39m\u001b[38;5;124m\"\u001b[39m,\u001b[38;5;124m'\u001b[39m\u001b[38;5;124mfirday\u001b[39m\u001b[38;5;124m'\u001b[39m,\u001b[38;5;124m'\u001b[39m\u001b[38;5;124msunday\u001b[39m\u001b[38;5;124m'\u001b[39m)\n\u001b[0;32m      2\u001b[0m \u001b[38;5;28;01mdel\u001b[39;00m tuple1\n\u001b[1;32m----> 3\u001b[0m \u001b[38;5;28mprint\u001b[39m(tuple1)\n",
      "\u001b[1;31mNameError\u001b[0m: name 'tuple1' is not defined"
     ]
    }
   ],
   "source": [
    "tuple1=(\"monday\",\"thursday\",\"tuesday\",\"sunday\",'firday','sunday')\n",
    "del tuple1\n",
    "print(tuple1)"
   ]
  },
  {
   "cell_type": "code",
   "execution_count": 261,
   "id": "7117e8b5-4d0f-400d-abe6-6cd7a3680bbb",
   "metadata": {},
   "outputs": [
    {
     "name": "stdout",
     "output_type": "stream",
     "text": [
      "('monday', 'thursday', 'tuesday', 'sunday', 'firday', 'sunday', 'wednesday', 'saturday')\n",
      "(('monday', 'thursday', 'tuesday', 'sunday', 'firday', 'sunday'), ('wednesday', 'saturday'))\n",
      "2\n",
      "3\n"
     ]
    }
   ],
   "source": [
    "tuple1=(\"monday\",\"thursday\",\"tuesday\",\"sunday\",'firday','sunday')\n",
    "tuple2=(\"wednesday\",'saturday')\n",
    "res=tuple1+tuple2 # concatenation\n",
    "print(res)\n",
    "res2=(tuple1,tuple2) # tuple of tuple\n",
    "print(res2)\n",
    "print(tuple1.count('sunday'))\n",
    "print(tuple1.index('sunday'))"
   ]
  },
  {
   "cell_type": "code",
   "execution_count": 273,
   "id": "5f333086-723d-4f67-8dbf-22758da2c1cc",
   "metadata": {},
   "outputs": [
    {
     "name": "stdout",
     "output_type": "stream",
     "text": [
      "['monday', 'thursday', 'tuesday', 'sunday', 'firday', 'sunday']\n",
      "['monday', 'thursday', 'saturday', 'sunday', 'firday', 'sunday']\n",
      "('monday', 'thursday', 'saturday', 'sunday', 'firday', 'sunday')\n"
     ]
    }
   ],
   "source": [
    "tuple1=(\"monday\",\"thursday\",\"tuesday\",\"sunday\",'firday','sunday')\n",
    "# tupel1[2]='saturday' # errore cant modefied\n",
    "# how to modefied\n",
    "list1=list(tuple1)\n",
    "print(list1)\n",
    "list1[2]='saturday'\n",
    "print(list1)\n",
    "tuple1=tuple(list1)\n",
    "print(tuple1)"
   ]
  },
  {
   "cell_type": "markdown",
   "id": "7da19732-622f-45db-b731-4a602f747cdb",
   "metadata": {},
   "source": [
    "# Dealing with the Dictionary Processing"
   ]
  },
  {
   "cell_type": "markdown",
   "id": "364dfb10-73b4-4d3f-89b5-0acb0fa8882a",
   "metadata": {},
   "source": [
    "it is a collection of key-value pairs where key should be always immutable type value may be immutable or mutable types . dictionary items are enclosed with in second brackets ({}) . dictionary items are mutable as INSERT,DELETE and UPDATE operation can be caried out on them"
   ]
  },
  {
   "cell_type": "code",
   "execution_count": 280,
   "id": "e8b7a9f3-ffa1-4bcc-a254-4ed79b800986",
   "metadata": {},
   "outputs": [
    {
     "name": "stdout",
     "output_type": "stream",
     "text": [
      "dict_keys(['mango', 'lichi', 'guava', 'watermalone'])\n",
      "dict_values(['20', '10', '100', '30'])\n",
      "dict_items([('mango', '20'), ('lichi', '10'), ('guava', '100'), ('watermalone', '30')])\n"
     ]
    }
   ],
   "source": [
    "dict1={\"mango\":\"20\",\"lichi\":\"10\",\"guava\":\"100\",\"watermalone\":\"30\"}\n",
    "print(dict1.keys())\n",
    "print(dict1.values())\n",
    "print(dict1.items()) # outcome is in the list of tuples"
   ]
  },
  {
   "cell_type": "code",
   "execution_count": null,
   "id": "e9b5c640-2da1-4ac7-bb05-01cf6e210a59",
   "metadata": {},
   "outputs": [],
   "source": [
    "# get"
   ]
  },
  {
   "cell_type": "code",
   "execution_count": 282,
   "id": "f78b4419-0e30-4265-8b8d-535f69e8ac05",
   "metadata": {},
   "outputs": [
    {
     "name": "stdout",
     "output_type": "stream",
     "text": [
      "{'mango': '20', 'lichi': '10', 'guava': '100', 'watermalone': '30'} 4\n",
      "20\n",
      "None\n",
      "coconut not found\n",
      "20\n"
     ]
    },
    {
     "ename": "KeyError",
     "evalue": "'orange'",
     "output_type": "error",
     "traceback": [
      "\u001b[1;31m---------------------------------------------------------------------------\u001b[0m",
      "\u001b[1;31mKeyError\u001b[0m                                  Traceback (most recent call last)",
      "Cell \u001b[1;32mIn[282], line 7\u001b[0m\n\u001b[0;32m      5\u001b[0m \u001b[38;5;28mprint\u001b[39m(dict1\u001b[38;5;241m.\u001b[39mget(\u001b[38;5;124m\"\u001b[39m\u001b[38;5;124mcoconut\u001b[39m\u001b[38;5;124m\"\u001b[39m,\u001b[38;5;124m\"\u001b[39m\u001b[38;5;124mcoconut not found\u001b[39m\u001b[38;5;124m\"\u001b[39m))\n\u001b[0;32m      6\u001b[0m \u001b[38;5;28mprint\u001b[39m(dict1[\u001b[38;5;124m\"\u001b[39m\u001b[38;5;124mmango\u001b[39m\u001b[38;5;124m\"\u001b[39m])\n\u001b[1;32m----> 7\u001b[0m \u001b[38;5;28mprint\u001b[39m(dict1[\u001b[38;5;124m\"\u001b[39m\u001b[38;5;124morange\u001b[39m\u001b[38;5;124m\"\u001b[39m])\n",
      "\u001b[1;31mKeyError\u001b[0m: 'orange'"
     ]
    }
   ],
   "source": [
    "dict1={\"mango\":\"20\",\"lichi\":\"10\",\"guava\":\"100\",\"watermalone\":\"30\"}\n",
    "print(dict1,len(dict1))\n",
    "print(dict1.get(\"mango\"))\n",
    "print(dict1.get(\"coco\"))\n",
    "print(dict1.get(\"coconut\",\"coconut not found\"))\n",
    "print(dict1[\"mango\"])\n",
    "print(dict1[\"orange\"])\n"
   ]
  },
  {
   "cell_type": "code",
   "execution_count": 284,
   "id": "f5ea5f76-db1e-41fd-91e3-87dc949f22bb",
   "metadata": {},
   "outputs": [
    {
     "name": "stdout",
     "output_type": "stream",
     "text": [
      "{'mango': '20', 'lichi': '60', 'guava': '100', 'watermalone': '30'} 4\n",
      "{'mango': '20', 'lichi': '60', 'guava': '100', 'watermalone': '30', 'apple': '60'} 5\n"
     ]
    }
   ],
   "source": [
    "dict1={\"mango\":\"20\",\"lichi\":\"10\",\"guava\":\"100\",\"watermalone\":\"30\"}\n",
    "dict1[\"lichi\"]=\"60\" # update\n",
    "print(dict1,len(dict1))\n",
    "dict1[\"apple\"]=\"60\" # insert\n",
    "print(dict1,len(dict1))"
   ]
  },
  {
   "cell_type": "code",
   "execution_count": 286,
   "id": "34fa6380-1824-4cd9-aed0-27693c16e992",
   "metadata": {},
   "outputs": [
    {
     "name": "stdout",
     "output_type": "stream",
     "text": [
      "{} 0\n"
     ]
    }
   ],
   "source": [
    "dict1={\"mango\":\"20\",\"lichi\":\"10\",\"guava\":\"100\",\"watermalone\":\"30\"}\n",
    "dict1.clear()\n",
    "print(dict1,len(dict1))"
   ]
  },
  {
   "cell_type": "code",
   "execution_count": 288,
   "id": "b2143b0e-d67a-4f35-a271-42d340034801",
   "metadata": {},
   "outputs": [
    {
     "ename": "NameError",
     "evalue": "name 'dict1' is not defined",
     "output_type": "error",
     "traceback": [
      "\u001b[1;31m---------------------------------------------------------------------------\u001b[0m",
      "\u001b[1;31mNameError\u001b[0m                                 Traceback (most recent call last)",
      "Cell \u001b[1;32mIn[288], line 3\u001b[0m\n\u001b[0;32m      1\u001b[0m dict1\u001b[38;5;241m=\u001b[39m{\u001b[38;5;124m\"\u001b[39m\u001b[38;5;124mmango\u001b[39m\u001b[38;5;124m\"\u001b[39m:\u001b[38;5;124m\"\u001b[39m\u001b[38;5;124m20\u001b[39m\u001b[38;5;124m\"\u001b[39m,\u001b[38;5;124m\"\u001b[39m\u001b[38;5;124mlichi\u001b[39m\u001b[38;5;124m\"\u001b[39m:\u001b[38;5;124m\"\u001b[39m\u001b[38;5;124m10\u001b[39m\u001b[38;5;124m\"\u001b[39m,\u001b[38;5;124m\"\u001b[39m\u001b[38;5;124mguava\u001b[39m\u001b[38;5;124m\"\u001b[39m:\u001b[38;5;124m\"\u001b[39m\u001b[38;5;124m100\u001b[39m\u001b[38;5;124m\"\u001b[39m,\u001b[38;5;124m\"\u001b[39m\u001b[38;5;124mwatermalone\u001b[39m\u001b[38;5;124m\"\u001b[39m:\u001b[38;5;124m\"\u001b[39m\u001b[38;5;124m30\u001b[39m\u001b[38;5;124m\"\u001b[39m}\n\u001b[0;32m      2\u001b[0m \u001b[38;5;28;01mdel\u001b[39;00m dict1\n\u001b[1;32m----> 3\u001b[0m \u001b[38;5;28mprint\u001b[39m(dict1,\u001b[38;5;28mlen\u001b[39m(dict1))\n",
      "\u001b[1;31mNameError\u001b[0m: name 'dict1' is not defined"
     ]
    }
   ],
   "source": [
    "dict1={\"mango\":\"20\",\"lichi\":\"10\",\"guava\":\"100\",\"watermalone\":\"30\"}\n",
    "del dict1\n",
    "print(dict1,len(dict1))"
   ]
  },
  {
   "cell_type": "code",
   "execution_count": 290,
   "id": "fa6c7d93-ad2d-4c98-93e7-ef9ec4f13fd5",
   "metadata": {},
   "outputs": [
    {
     "name": "stdout",
     "output_type": "stream",
     "text": [
      "{'mango': '20', 'guava': '100', 'watermalone': '30'} 3\n"
     ]
    },
    {
     "ename": "KeyError",
     "evalue": "'santra'",
     "output_type": "error",
     "traceback": [
      "\u001b[1;31m---------------------------------------------------------------------------\u001b[0m",
      "\u001b[1;31mKeyError\u001b[0m                                  Traceback (most recent call last)",
      "Cell \u001b[1;32mIn[290], line 4\u001b[0m\n\u001b[0;32m      2\u001b[0m dict1\u001b[38;5;241m.\u001b[39mpop(\u001b[38;5;124m\"\u001b[39m\u001b[38;5;124mlichi\u001b[39m\u001b[38;5;124m\"\u001b[39m)\n\u001b[0;32m      3\u001b[0m \u001b[38;5;28mprint\u001b[39m(dict1,\u001b[38;5;28mlen\u001b[39m(dict1))\n\u001b[1;32m----> 4\u001b[0m dict1\u001b[38;5;241m.\u001b[39mpop(\u001b[38;5;124m\"\u001b[39m\u001b[38;5;124msantra\u001b[39m\u001b[38;5;124m\"\u001b[39m)\n\u001b[0;32m      5\u001b[0m \u001b[38;5;28mprint\u001b[39m(dict1,\u001b[38;5;28mlen\u001b[39m(dict1))\n",
      "\u001b[1;31mKeyError\u001b[0m: 'santra'"
     ]
    }
   ],
   "source": [
    "dict1={\"mango\":\"20\",\"lichi\":\"10\",\"guava\":\"100\",\"watermalone\":\"30\"}\n",
    "dict1.pop(\"lichi\")\n",
    "print(dict1,len(dict1))\n",
    "dict1.pop(\"santra\")\n",
    "print(dict1,len(dict1))"
   ]
  },
  {
   "cell_type": "code",
   "execution_count": 292,
   "id": "0952950c-706f-4a02-9855-d7b093516608",
   "metadata": {},
   "outputs": [
    {
     "name": "stdout",
     "output_type": "stream",
     "text": [
      "{'mango': '20', 'lichi': '10', 'guava': '100', 'watermalone': '40', 'ffec': '20', 'defrr': '10', 'sanrtr': '100'} 7 2581465061888\n",
      "{'ffec': '20', 'defrr': '10', 'sanrtr': '100', 'watermalone': '40'} 4 2581465061888\n"
     ]
    }
   ],
   "source": [
    "dict1={\"mango\":\"20\",\"lichi\":\"10\",\"guava\":\"100\",\"watermalone\":\"30\"}\n",
    "dict2={\"ffec\":\"20\",\"defrr\":\"10\",\"sanrtr\":\"100\",\"watermalone\":\"40\"}\n",
    "dict1.update(dict2)\n",
    "print(dict1,len(dict1), id(dict1))\n",
    "print(dict2,len(dict2), id(dict1))"
   ]
  },
  {
   "cell_type": "code",
   "execution_count": 294,
   "id": "d0416cf2-fc56-4d23-b465-fcf6b484603e",
   "metadata": {},
   "outputs": [
    {
     "name": "stdout",
     "output_type": "stream",
     "text": [
      "{'mango': '20', 'lichi': '10', 'guava': '100', 'watermalone': '30'} 4 2581465059392\n",
      "{'mango': '20', 'lichi': '10', 'guava': '100'} 3 2581465059392\n"
     ]
    }
   ],
   "source": [
    "dict1={\"mango\":\"20\",\"lichi\":\"10\",\"guava\":\"100\",\"watermalone\":\"30\"}\n",
    "print(dict1,len(dict1), id(dict1))\n",
    "dict1.popitem()\n",
    "print(dict1,len(dict1), id(dict1))"
   ]
  },
  {
   "cell_type": "code",
   "execution_count": 303,
   "id": "4f8af607-b5f4-4e4e-9ff0-860df763a956",
   "metadata": {},
   "outputs": [
    {
     "name": "stdout",
     "output_type": "stream",
     "text": [
      "<zip object at 0x000002590B4E5140> <class 'zip'>\n",
      "{'lichi': '20', 'guava': '100', 'mango': '10', 'watermalone': '40'} <class 'dict'>\n",
      "[('lichi', '20'), ('guava', '100'), ('mango', '10'), ('watermalone', '40')] <class 'dict'>\n"
     ]
    }
   ],
   "source": [
    "dict1={\"mango\",\"lichi\",\"guava\",\"watermalone\"}\n",
    "dict2={\"20\",\"10\",\"100\",\"40\"}\n",
    "\n",
    "res=zip(dict1,dict2)\n",
    "print(res,type(res))\n",
    "\n",
    "res1=dict(zip(dict1,dict2))\n",
    "print(res1,type(res1))\n",
    "\n",
    "res2=list(zip(dict1,dict2))\n",
    "print(res2,type(res1))"
   ]
  },
  {
   "cell_type": "code",
   "execution_count": 307,
   "id": "13e5ba91-6248-4259-8779-ce7f05d40dac",
   "metadata": {},
   "outputs": [
    {
     "name": "stdout",
     "output_type": "stream",
     "text": [
      "{'passenger-1': 'indigo', 'passenger-2': 'indigo', 'passenger-3': 'indigo', 'passenger-4': 'indigo'}\n"
     ]
    }
   ],
   "source": [
    "mykey=['passenger-1','passenger-2','passenger-3','passenger-4']\n",
    "flight='indigo'\n",
    "dict1=dict.fromkeys(mykey,flight)\n",
    "print(dict1)"
   ]
  },
  {
   "cell_type": "code",
   "execution_count": 315,
   "id": "35b9c2dc-922e-4ba9-ba87-9bdd3903d4bd",
   "metadata": {},
   "outputs": [
    {
     "name": "stdout",
     "output_type": "stream",
     "text": [
      "{'mango': 'red', 'orange': 'orange', 'guava': 'green', 'pineapple': 'yellow'}\n",
      "{'mango': 'red', 'orange': 'orange', 'guava': 'green', 'pineapple': 'yellow'}\n",
      "{'mango': 'red', 'orange': 'orange', 'guava': 'green', 'pineapple': 'yellow', 'apple': 'red'}\n",
      "{'mango': 'red', 'orange': 'orange', 'guava': 'green', 'pineapple': 'yellow', 'apple': 'red'}\n"
     ]
    }
   ],
   "source": [
    "dict1={'mango':'red','orange':'orange','guava':'green','pineapple':'yellow'}\n",
    "print(dict1)\n",
    "\n",
    "dict1.setdefault('mango','green')\n",
    "print(dict1)\n",
    "\n",
    "dict1.setdefault('apple','red')\n",
    "print(dict1)\n",
    "\n",
    "dict1.setdefault('pineapple','light yellow')\n",
    "print(dict1)"
   ]
  },
  {
   "cell_type": "markdown",
   "id": "fe6448bf-db75-49c7-b65b-7fffbe21700d",
   "metadata": {},
   "source": [
    "# Dealing with the set Processing"
   ]
  },
  {
   "cell_type": "markdown",
   "id": "0f6ac1b3-6653-4cf7-8929-7530e80d18db",
   "metadata": {},
   "source": [
    "enclosed with 2nd bracket({}), mutable as insert,delete,update"
   ]
  },
  {
   "cell_type": "code",
   "execution_count": 324,
   "id": "31bc2232-3795-447c-b56f-e96b64a52ca0",
   "metadata": {},
   "outputs": [
    {
     "name": "stdout",
     "output_type": "stream",
     "text": [
      "{'python', 'java', 'kotlin', 'c++', 'perl', 'c', 'js'} 7 <class 'set'>\n",
      "{'python', 'java', 'kotlin', 'c++', 'perl', 'c', 'js'} 7 <class 'set'>\n",
      "{'python', 'c++', 'perl', 'c', 'java', 'js', 'kotlin'} 7 <class 'set'>\n"
     ]
    }
   ],
   "source": [
    "language=set(['c++','java','kotlin','c','perl','js','python']) # froming set from list\n",
    "print(language,len(language),type(language))\n",
    "\n",
    "language1=set(('c++','java','kotlin','c','perl','js','python')) # froming set from tuple\n",
    "print(language1,len(language1),type(language1))\n",
    "\n",
    "language2={'c++','java','kotlin','c','perl','js','python'} # froming set\n",
    "print(language2,len(language2),type(language2))"
   ]
  },
  {
   "cell_type": "markdown",
   "id": "2cd048b3-edb8-44f3-be66-32abaa73f116",
   "metadata": {},
   "source": [
    "set operation"
   ]
  },
  {
   "cell_type": "markdown",
   "id": "1a39e417-54ef-4263-a8c3-36916b48465d",
   "metadata": {},
   "source": []
  },
  {
   "cell_type": "code",
   "execution_count": 358,
   "id": "63c9369c-d0e1-46eb-ad69-4cbf9cabd82e",
   "metadata": {},
   "outputs": [
    {
     "name": "stdout",
     "output_type": "stream",
     "text": [
      "{'c++', 'python', 'perl', 'cobra', 'viper', 'kotlin'}\n",
      "{'c++', 'python', 'perl', 'cobra', 'viper', 'kotlin'}\n",
      "{'python'}\n",
      "{'python'}\n",
      "{'python'}\n",
      "{'python', 'cobra', 'viper'}\n"
     ]
    }
   ],
   "source": [
    "lang={'c++','kotlin','perl','python'}\n",
    "snakes={'cobra','viper','python'}\n",
    "\n",
    "res=lang.union(snakes)   # union\n",
    "print(res)\n",
    "\n",
    "res2=lang | snakes  # union using pi\n",
    "print(res2)\n",
    "\n",
    "res3=lang.intersection(snakes) # intersection\n",
    "print(res3)\n",
    "\n",
    "res4=lang & snakes # intersection using and\n",
    "print(res4)\n",
    "\n",
    "lang.intersection_update(snakes)\n",
    "print(lang) # intersection\n",
    "print(snakes)"
   ]
  },
  {
   "cell_type": "code",
   "execution_count": 370,
   "id": "fec259bc-bf53-4555-aa3e-4a36ed3f6e6f",
   "metadata": {},
   "outputs": [
    {
     "name": "stdout",
     "output_type": "stream",
     "text": [
      "{'c++', 'perl', 'kotlin'}\n",
      "{'c++', 'perl', 'kotlin'}\n",
      "{'c++', 'perl', 'kotlin'}\n"
     ]
    }
   ],
   "source": [
    "lang={'c++','kotlin','perl','python'}\n",
    "snakes={'cobra','viper','python'}\n",
    "\n",
    "res=lang.difference(snakes)  \n",
    "print(res)\n",
    "\n",
    "res2=lang-snakes\n",
    "print(res2)\n",
    "\n",
    "lang.difference_update(snakes)  \n",
    "print(lang)"
   ]
  },
  {
   "cell_type": "code",
   "execution_count": 368,
   "id": "51027a84-0092-496e-9af9-7c1c2ceae129",
   "metadata": {},
   "outputs": [
    {
     "name": "stdout",
     "output_type": "stream",
     "text": [
      "{'kotlin', 'perl', 'c++', 'cobra', 'viper'}\n",
      "{'kotlin', 'perl', 'c++', 'cobra', 'viper'}\n",
      "{'kotlin', 'c++', 'perl', 'cobra', 'viper'}\n"
     ]
    }
   ],
   "source": [
    "lang={'c++','kotlin','perl','python'}\n",
    "snakes={'cobra','viper','python'}\n",
    "\n",
    "res=lang.symmetric_difference(snakes)  # symatric difference\n",
    "print(res)\n",
    "\n",
    "res2=lang ^ snakes  # symatric difference\n",
    "print(res2)\n",
    "\n",
    "lang.symmetric_difference_update(snakes)  # symatric difference\n",
    "print(lang)"
   ]
  },
  {
   "cell_type": "code",
   "execution_count": 378,
   "id": "0e32237c-351a-4c48-9058-af910620439c",
   "metadata": {},
   "outputs": [
    {
     "name": "stdout",
     "output_type": "stream",
     "text": [
      "False True True False\n",
      "False True\n"
     ]
    }
   ],
   "source": [
    "set1={100,200,300,400,500}\n",
    "set2={100,300,400}\n",
    "set3={600,700,800,900}\n",
    "print(set1.issubset(set2),set2.issubset(set1),set1.issuperset(set2),set2.issuperset(set1))\n",
    "print(set1.isdisjoint(set2),set1.isdisjoint(set3))"
   ]
  },
  {
   "cell_type": "code",
   "execution_count": 17,
   "id": "1d4e6386-bd60-4f17-9ca9-9fc10802e721",
   "metadata": {},
   "outputs": [
    {
     "name": "stdout",
     "output_type": "stream",
     "text": [
      "{'kotlin', 'python', 'perl', 'c++'} <class 'set'> 2843203343456\n",
      "{'perl', 'c', 'c++', 'kotlin', 'python'} 2843203343456\n",
      "{'perl', 'c', 'c++', 'kotlin', 'python'} 2843203343456\n"
     ]
    }
   ],
   "source": [
    "lang={'c++','kotlin','perl','python'}\n",
    "print(lang,type(lang),id(lang))\n",
    "lang.add(\"c\")\n",
    "print(lang,id(lang))\n",
    "lang.add(\"c\") # c comes only one times because it is set\n",
    "print(lang,id(lang))"
   ]
  },
  {
   "cell_type": "code",
   "execution_count": 21,
   "id": "7cf527b1-663d-42ca-acec-d865509a0c92",
   "metadata": {},
   "outputs": [
    {
     "name": "stdout",
     "output_type": "stream",
     "text": [
      "{'c+', 'perl', 'ko', 'python', 'c++', 'kot', 'hon'}\n",
      "{'python', 'perl', 'ko', 'c++'}\n"
     ]
    }
   ],
   "source": [
    "lang2={'c+','kot','perl','hon'}\n",
    "lang3={'c++','ko','perl','python'}\n",
    "lang2.update(lang3)\n",
    "print(lang2)\n",
    "print(lang3)"
   ]
  },
  {
   "cell_type": "code",
   "execution_count": 31,
   "id": "41a605c9-4a12-474a-94ae-ac5ac7f054d6",
   "metadata": {},
   "outputs": [
    {
     "name": "stdout",
     "output_type": "stream",
     "text": [
      "{'kotlin', 'python', 'perl', 'c++'}\n",
      "{'python', 'perl', 'c++'}\n"
     ]
    }
   ],
   "source": [
    "lang={'kotlin','perl','python','c++'} # ***\n",
    "print(lang)\n",
    "lang.pop()\n",
    "print(lang)"
   ]
  },
  {
   "cell_type": "code",
   "execution_count": 37,
   "id": "f91f96fc-fec3-40cf-b1ba-83fae67e5c23",
   "metadata": {},
   "outputs": [
    {
     "name": "stdout",
     "output_type": "stream",
     "text": [
      "{'c', 'c++', 'kotlin', 'python', 'perl'}\n",
      "{'c++', 'kotlin', 'python', 'perl'}\n"
     ]
    },
    {
     "ename": "KeyError",
     "evalue": "'c'",
     "output_type": "error",
     "traceback": [
      "\u001b[1;31m---------------------------------------------------------------------------\u001b[0m",
      "\u001b[1;31mKeyError\u001b[0m                                  Traceback (most recent call last)",
      "Cell \u001b[1;32mIn[37], line 5\u001b[0m\n\u001b[0;32m      3\u001b[0m lang\u001b[38;5;241m.\u001b[39mremove(\u001b[38;5;124m'\u001b[39m\u001b[38;5;124mc\u001b[39m\u001b[38;5;124m'\u001b[39m)\n\u001b[0;32m      4\u001b[0m \u001b[38;5;28mprint\u001b[39m(lang)\n\u001b[1;32m----> 5\u001b[0m lang\u001b[38;5;241m.\u001b[39mremove(\u001b[38;5;124m'\u001b[39m\u001b[38;5;124mc\u001b[39m\u001b[38;5;124m'\u001b[39m)\n\u001b[0;32m      6\u001b[0m \u001b[38;5;28mprint\u001b[39m(lang)\n",
      "\u001b[1;31mKeyError\u001b[0m: 'c'"
     ]
    }
   ],
   "source": [
    "lang={'kotlin','perl','python','c++','c'}\n",
    "print(lang)\n",
    "lang.remove('c')\n",
    "print(lang)\n",
    "lang.remove('c')\n",
    "print(lang)"
   ]
  },
  {
   "cell_type": "code",
   "execution_count": 43,
   "id": "de9c5f9e-3b76-4eb1-9379-0478b7a59e0c",
   "metadata": {},
   "outputs": [
    {
     "name": "stdout",
     "output_type": "stream",
     "text": [
      "{'c', 'c++', 'kotlin', 'python', 'perl'}\n",
      "{'c++', 'kotlin', 'python', 'perl'}\n",
      "{'c++', 'kotlin', 'python', 'perl'}\n"
     ]
    }
   ],
   "source": [
    "lang={'kotlin','perl','python','c++','c'}\n",
    "print(lang)\n",
    "lang.discard('c')\n",
    "print(lang)\n",
    "lang.discard('c')  # same ele ko delete karne se error nahi ayega. print same element. \n",
    "print(lang)"
   ]
  },
  {
   "cell_type": "code",
   "execution_count": 45,
   "id": "d60dd5df-7190-4220-92e4-01aede3c84cc",
   "metadata": {},
   "outputs": [
    {
     "name": "stdout",
     "output_type": "stream",
     "text": [
      "{'c', 'c++', 'kotlin', 'python', 'perl'}\n",
      "set()\n"
     ]
    }
   ],
   "source": [
    "lang={'kotlin','perl','python','c++','c'}\n",
    "print(lang)\n",
    "lang.clear()  # for truncting the set\n",
    "print(lang)"
   ]
  },
  {
   "cell_type": "code",
   "execution_count": 55,
   "id": "cb5ab5c4-bb6f-4674-a385-666b79b45598",
   "metadata": {},
   "outputs": [
    {
     "name": "stdout",
     "output_type": "stream",
     "text": [
      "{'c', 'c++', 'kotlin', 'python', 'perl'}\n"
     ]
    },
    {
     "ename": "NameError",
     "evalue": "name 'lang' is not defined",
     "output_type": "error",
     "traceback": [
      "\u001b[1;31m---------------------------------------------------------------------------\u001b[0m",
      "\u001b[1;31mNameError\u001b[0m                                 Traceback (most recent call last)",
      "Cell \u001b[1;32mIn[55], line 4\u001b[0m\n\u001b[0;32m      2\u001b[0m \u001b[38;5;28mprint\u001b[39m(lang)\n\u001b[0;32m      3\u001b[0m \u001b[38;5;28;01mdel\u001b[39;00m lang\n\u001b[1;32m----> 4\u001b[0m \u001b[38;5;28mprint\u001b[39m(lang)\n",
      "\u001b[1;31mNameError\u001b[0m: name 'lang' is not defined"
     ]
    }
   ],
   "source": [
    "lang={'kotlin','perl','python','c++','c'}\n",
    "print(lang)\n",
    "del lang\n",
    "print(lang)"
   ]
  },
  {
   "cell_type": "markdown",
   "id": "ad69b307-d742-46e1-b90f-d44790fdaba4",
   "metadata": {},
   "source": [
    "# Dealeing with frozenset"
   ]
  },
  {
   "cell_type": "markdown",
   "id": "222b6c6a-76ca-4d36-9cb0-fe82079489e1",
   "metadata": {},
   "source": [
    "it is set in a collection of unique and unordered value of same of diffrent data type enclosed with secondbracket.it is immutable as \n",
    "insert,delete,update operation can not be caried out on them"
   ]
  },
  {
   "cell_type": "code",
   "execution_count": null,
   "id": "960140de-48bb-45b9-9805-e6feb83a49d4",
   "metadata": {},
   "outputs": [],
   "source": [
    "# union"
   ]
  },
  {
   "cell_type": "code",
   "execution_count": 88,
   "id": "0b6c07b5-5d07-492b-9656-b63d2373c3ba",
   "metadata": {},
   "outputs": [
    {
     "name": "stdout",
     "output_type": "stream",
     "text": [
      "frozenset({'pyt', 'pe', 'perl', 'c', 'c++', 'kotlin', 'python', 'kot'})\n",
      "frozenset({'pyt', 'pe', 'perl', 'c', 'c++', 'kotlin', 'python', 'kot'})\n"
     ]
    }
   ],
   "source": [
    "lang=frozenset(['kotlin','perl','python','c++','c'])\n",
    "lang2=frozenset(['kot','pe','pyt','c++','c'])\n",
    "\n",
    "res=lang.union(lang2)\n",
    "print(res)\n",
    "\n",
    "res1=lang | lang2\n",
    "print(res1)\n"
   ]
  },
  {
   "cell_type": "code",
   "execution_count": 90,
   "id": "bf15aaba-d1dd-4965-8cca-7d1e6b419195",
   "metadata": {},
   "outputs": [],
   "source": [
    "# intersection"
   ]
  },
  {
   "cell_type": "code",
   "execution_count": 92,
   "id": "2fb43c4d-45f2-47a7-be90-bd637c8b9ea2",
   "metadata": {},
   "outputs": [
    {
     "name": "stdout",
     "output_type": "stream",
     "text": [
      "frozenset({'c', 'c++'})\n",
      "frozenset({'c', 'c++'})\n"
     ]
    }
   ],
   "source": [
    "lang=frozenset(['kotlin','perl','python','c++','c'])\n",
    "lang2=frozenset(['kot','pe','pyt','c++','c'])\n",
    "\n",
    "res=lang.intersection(lang2)\n",
    "print(res)\n",
    "\n",
    "res1=lang & lang2\n",
    "print(res1)"
   ]
  },
  {
   "cell_type": "code",
   "execution_count": 94,
   "id": "8b0cf5e5-f4d7-4154-a754-3553d8c54bcb",
   "metadata": {},
   "outputs": [
    {
     "name": "stdout",
     "output_type": "stream",
     "text": [
      "frozenset({'kotlin', 'python', 'perl'})\n",
      "frozenset({'kotlin', 'python', 'perl'})\n"
     ]
    }
   ],
   "source": [
    "# set diffrence \n",
    "lang=frozenset(['kotlin','perl','python','c++','c'])\n",
    "lang2=frozenset(['kot','pe','pyt','c++','c'])\n",
    "\n",
    "res=lang.difference(lang2)\n",
    "print(res)\n",
    "\n",
    "res2=lang-lang2\n",
    "print(res2)\n"
   ]
  },
  {
   "cell_type": "code",
   "execution_count": 96,
   "id": "50449ab6-c404-44cf-a141-d377ad52b5fa",
   "metadata": {},
   "outputs": [
    {
     "name": "stdout",
     "output_type": "stream",
     "text": [
      "frozenset({'pyt', 'python', 'kotlin', 'pe', 'perl', 'kot'})\n",
      "frozenset({'pyt', 'python', 'kotlin', 'pe', 'perl', 'kot'})\n"
     ]
    }
   ],
   "source": [
    "# set symmetric diffrence \n",
    "lang=frozenset(['kotlin','perl','python','c++','c'])\n",
    "lang2=frozenset(['kot','pe','pyt','c++','c'])\n",
    "\n",
    "res=lang.symmetric_difference(lang2)\n",
    "print(res)\n",
    "\n",
    "res2=lang ^ lang2\n",
    "print(res2)\n"
   ]
  },
  {
   "cell_type": "code",
   "execution_count": 109,
   "id": "43d2f2f4-684c-418c-ab1c-ca53dbdad73d",
   "metadata": {},
   "outputs": [
    {
     "name": "stdout",
     "output_type": "stream",
     "text": [
      "False True True\n",
      "False True\n"
     ]
    }
   ],
   "source": [
    "frozenset1=frozenset([100,200,300,400,500])\n",
    "frozenset2=frozenset([100,300,400])\n",
    "frozenset3=frozenset([600,700,800,900])\n",
    "print(frozenset1.issubset(frozenset2),frozenset2.issubset(frozenset1),frozenset1.issuperset(frozenset2))\n",
    "print(frozenset1.isdisjoint(frozenset2),frozenset1.isdisjoint(frozenset3))"
   ]
  },
  {
   "cell_type": "code",
   "execution_count": 128,
   "id": "1d0e43c4-1b7c-41f8-818a-108b31dbc988",
   "metadata": {},
   "outputs": [
    {
     "name": "stdout",
     "output_type": "stream",
     "text": [
      "   November 2025\n",
      "Mo Tu We Th Fr Sa Su\n",
      "                1  2\n",
      " 3  4  5  6  7  8  9\n",
      "10 11 12 13 14 15 16\n",
      "17 18 19 20 21 22 23\n",
      "24 25 26 27 28 29 30\n",
      "\n"
     ]
    }
   ],
   "source": [
    "import calendar\n",
    "month=calendar.month(2025,11)\n",
    "print(month)"
   ]
  },
  {
   "cell_type": "code",
   "execution_count": 130,
   "id": "5813c0a3-fd99-4fae-9ce8-9024bf6539ef",
   "metadata": {},
   "outputs": [],
   "source": [
    "# DateTime"
   ]
  },
  {
   "cell_type": "code",
   "execution_count": 3,
   "id": "3a3c746f-91b8-4d6d-adcb-2ee2cb40c2a3",
   "metadata": {},
   "outputs": [
    {
     "name": "stdout",
     "output_type": "stream",
     "text": [
      "2025-03-29 11:20:27.901599\n",
      "2025\n",
      "3\n",
      "29\n",
      "11\n",
      "20\n",
      "27\n"
     ]
    }
   ],
   "source": [
    "import datetime\n",
    "date=datetime.datetime.now()\n",
    "print(date)\n",
    "print(date.year)\n",
    "print(date.month)\n",
    "print(date.day)\n",
    "print(date.hour)\n",
    "print(date.minute)\n",
    "print(date.second)"
   ]
  },
  {
   "cell_type": "code",
   "execution_count": 20,
   "id": "10b67b42-032c-452a-963a-5c9c964cdbb7",
   "metadata": {},
   "outputs": [
    {
     "name": "stdout",
     "output_type": "stream",
     "text": [
      "2025-02-02 00:00:00\n",
      "0\n",
      "Sunday\n"
     ]
    }
   ],
   "source": [
    "date=datetime.datetime(2025,2,2)\n",
    "print(date)\n",
    "print(date.strftime(\"%w\"))\n",
    "print(date.strftime(\"%A\"))"
   ]
  },
  {
   "cell_type": "markdown",
   "id": "dc3fbb71-a652-401c-9655-0467d086fec1",
   "metadata": {},
   "source": [
    "# List compreshension"
   ]
  },
  {
   "cell_type": "code",
   "execution_count": null,
   "id": "43c95b4f-066c-4fae-a9d7-8e75494ed58d",
   "metadata": {},
   "outputs": [],
   "source": []
  },
  {
   "cell_type": "code",
   "execution_count": 92,
   "id": "65e43d47-9f7f-48d0-a16d-3381dfce2370",
   "metadata": {},
   "outputs": [
    {
     "name": "stdout",
     "output_type": "stream",
     "text": [
      "[40, 42, 44]\n",
      "[40, 42, 44]\n",
      "[400, 441, 484]\n"
     ]
    }
   ],
   "source": [
    "n=[20,21,22]\n",
    "n2=[]\n",
    "for i in n:\n",
    "    #print(i*2)       # above is not in list format\n",
    "    n2.append(i*2)\n",
    "print(n2)\n",
    "\n",
    "double=[i*2 for i in n]\n",
    "print(double)\n",
    "\n",
    "square=[i**2 for i in n]\n",
    "print(square)"
   ]
  },
  {
   "cell_type": "code",
   "execution_count": 94,
   "id": "5da3e7ee-ed97-4ebc-a982-1f0f65723428",
   "metadata": {},
   "outputs": [
    {
     "name": "stdout",
     "output_type": "stream",
     "text": [
      "[2, 4, 6, 8, 10]\n"
     ]
    }
   ],
   "source": [
    "even=[i for i in range(1,11) if i%2==0]\n",
    "print(even)"
   ]
  },
  {
   "cell_type": "code",
   "execution_count": 96,
   "id": "7f2006ea-c926-4f51-b25d-93d90cb8963a",
   "metadata": {},
   "outputs": [
    {
     "name": "stdout",
     "output_type": "stream",
     "text": [
      "[[0, 1, 2], [0, 1, 2], [0, 1, 2]]\n"
     ]
    }
   ],
   "source": [
    "matrix=[[j for j in range(3)] for i in range(3)]\n",
    "print(matrix)"
   ]
  },
  {
   "cell_type": "code",
   "execution_count": 98,
   "id": "f9478d2e-094f-4b6b-802a-08d55d362776",
   "metadata": {},
   "outputs": [
    {
     "name": "stdout",
     "output_type": "stream",
     "text": [
      "[[0, 1, 2],\n",
      " [0, 1, 2],\n",
      " [0, 1, 2]]\n"
     ]
    }
   ],
   "source": [
    "import pprint\n",
    "pp=pprint.PrettyPrinter(width=20,compact=True)\n",
    "pp.pprint(matrix)"
   ]
  },
  {
   "cell_type": "markdown",
   "id": "382899db-dcf1-4bf1-bdd9-ccd912375b56",
   "metadata": {},
   "source": [
    "# list compreshension VS for loop"
   ]
  },
  {
   "cell_type": "code",
   "execution_count": 107,
   "id": "eb5793c9-8862-4035-a9ed-03eb55a2c438",
   "metadata": {},
   "outputs": [
    {
     "name": "stdout",
     "output_type": "stream",
     "text": [
      "['T', 'I', 'U', ' ', 'i', 's', ' ', 't', 'h', 'e', ' ', 'b', 'e', 's', 't', ' ', 'U', 'n', 'i', 'v', 'e', 'r', 's', 'i', 't', 'y']\n",
      "['T', 'I', 'U', ' ', 'i', 's', ' ', 't', 'h', 'e', ' ', 'b', 'e', 's', 't', ' ', 'U', 'n', 'i', 'v', 'e', 'r', 's', 'i', 't', 'y']\n"
     ]
    }
   ],
   "source": [
    "lst=[]\n",
    "for char in 'TIU is the best University':\n",
    "    lst.append(char)\n",
    "print(lst)\n",
    "\n",
    "lst1=[char for char in 'TIU is the best University']\n",
    "print(lst1)"
   ]
  },
  {
   "cell_type": "raw",
   "id": "4e336f68-0d8f-4496-abbb-5ee52ec1a24f",
   "metadata": {},
   "source": [
    "using lamda fn \n",
    "[1,2,3,4,5]->[10,20,30,40,50]"
   ]
  },
  {
   "cell_type": "code",
   "execution_count": 111,
   "id": "a65751c1-eb23-4c6c-96cb-48b9a8a9e86b",
   "metadata": {},
   "outputs": [
    {
     "name": "stdout",
     "output_type": "stream",
     "text": [
      "[10, 20, 30, 40, 50]\n"
     ]
    }
   ],
   "source": [
    "ans=list(map(lambda x:x*10, [x for x in range(1,6)]))\n",
    "print(ans)"
   ]
  },
  {
   "cell_type": "code",
   "execution_count": null,
   "id": "2cfc4049-2d25-4f12-a8dd-f087a1685616",
   "metadata": {},
   "outputs": [],
   "source": []
  },
  {
   "cell_type": "code",
   "execution_count": null,
   "id": "34111166-8ffd-43ab-a6d9-07ffe0df05b1",
   "metadata": {},
   "outputs": [],
   "source": []
  }
 ],
 "metadata": {
  "kernelspec": {
   "display_name": "Python [conda env:base] *",
   "language": "python",
   "name": "conda-base-py"
  },
  "language_info": {
   "codemirror_mode": {
    "name": "ipython",
    "version": 3
   },
   "file_extension": ".py",
   "mimetype": "text/x-python",
   "name": "python",
   "nbconvert_exporter": "python",
   "pygments_lexer": "ipython3",
   "version": "3.12.7"
  }
 },
 "nbformat": 4,
 "nbformat_minor": 5
}
