{
 "cells": [
  {
   "cell_type": "markdown",
   "id": "2f1c0dd4-59b1-4da4-a367-23b9ce3fef95",
   "metadata": {},
   "source": [
    "### PANDAS introduction"
   ]
  },
  {
   "cell_type": "raw",
   "id": "58aaeea1-244a-412a-ad3e-7dc3f11c8335",
   "metadata": {},
   "source": [
    "it is defined as an open-source library that provide data manipulation in python \n",
    "use in data cleaning and preparing data \n",
    "panda is built on top of the numpy package menas numpy is required for operating the pandas"
   ]
  },
  {
   "cell_type": "markdown",
   "id": "09f9a839-a48f-430f-8dc4-52f01861269c",
   "metadata": {},
   "source": [
    "#### Data structures"
   ]
  },
  {
   "cell_type": "raw",
   "id": "09c8c930-4e82-4863-bdad-7004ef6d060c",
   "metadata": {},
   "source": [
    "2 diffrent type of data structure\n",
    "\n",
    "1. series:it is 1-D labeled array capable of holding any data typee (integer,string floating,python object.etc)the axis are collectively refered to as the index\n",
    "\n",
    "2. Data Farame: it is 2-D labeled data structure withe columns of potentially diffrent types. you can thinkof it like a spreadsheet or SQL"
   ]
  },
  {
   "cell_type": "markdown",
   "id": "ffa277b0-26c7-4a51-9225-39a982dbd783",
   "metadata": {},
   "source": [
    "##### Series data Structure"
   ]
  },
  {
   "cell_type": "raw",
   "id": "0dacdc39-5d5c-4993-b724-4782c993a1cb",
   "metadata": {},
   "source": [
    "pandas.Series(data,index,dtype,copy)\n",
    "data-> like ndarray,list,constant,dict..etc\n",
    "index->unique and hashable for easy identification\n",
    "copy->copy data default is False\n",
    "stype->it is for data type\n",
    "A series"
   ]
  },
  {
   "cell_type": "code",
   "execution_count": 11,
   "id": "b0747aec-ea20-4ddd-ab87-0c911858d7e2",
   "metadata": {},
   "outputs": [],
   "source": [
    "import numpy as np\n",
    "import pandas as pd\n"
   ]
  },
  {
   "cell_type": "code",
   "execution_count": 13,
   "id": "5ef27210-7576-472a-985f-cd11618895c0",
   "metadata": {},
   "outputs": [
    {
     "name": "stdout",
     "output_type": "stream",
     "text": [
      "Series([], dtype: string) <class 'pandas.core.series.Series'>\n"
     ]
    }
   ],
   "source": [
    "# create empty series\n",
    "s=pd.Series(dtype=pd.StringDtype())\n",
    "print(s,type(s))"
   ]
  },
  {
   "cell_type": "code",
   "execution_count": 19,
   "id": "059d7396-84e6-4498-acf2-2a917a4d1644",
   "metadata": {},
   "outputs": [
    {
     "name": "stdout",
     "output_type": "stream",
     "text": [
      "['chandu' 'ritu' 'pyush' 'rajkumar' 'shanyan' 'delcruses']\n",
      "0       chandu\n",
      "1         ritu\n",
      "2        pyush\n",
      "3     rajkumar\n",
      "4      shanyan\n",
      "5    delcruses\n",
      "dtype: object <class 'pandas.core.series.Series'>\n"
     ]
    }
   ],
   "source": [
    "# create a series from ndarray\n",
    "data1=np.array(['chandu','ritu','pyush','rajkumar','shanyan','delcruses'])\n",
    "print(data1)\n",
    "s=pd.Series(data=data1)\n",
    "print(s,type(s))"
   ]
  },
  {
   "cell_type": "code",
   "execution_count": 33,
   "id": "179296d0-0ad3-45c5-9d69-3b230571b3da",
   "metadata": {},
   "outputs": [
    {
     "name": "stdout",
     "output_type": "stream",
     "text": [
      "['chandu' 'ritu' 'pyush' 'rajkumar' 'shanyan' 'delcruses']\n",
      "133       chandu\n",
      "123         ritu\n",
      "324        pyush\n",
      "345     rajkumar\n",
      "35       shanyan\n",
      "789    delcruses\n",
      "dtype: object <class 'pandas.core.series.Series'>\n",
      "pyush\n"
     ]
    }
   ],
   "source": [
    "data1=np.array(['chandu','ritu','pyush','rajkumar','shanyan','delcruses'])\n",
    "print(data1)\n",
    "s=pd.Series(data=data1,index=[133,123,324,345,35,789])\n",
    "print(s,type(s))\n",
    "print(s[324])"
   ]
  },
  {
   "cell_type": "code",
   "execution_count": 37,
   "id": "69feaa74-58b7-486f-9d3e-5b537a2eee16",
   "metadata": {},
   "outputs": [
    {
     "name": "stdout",
     "output_type": "stream",
     "text": [
      "apple       320\n",
      "mango       240\n",
      "nimbu       245\n",
      "banana       60\n",
      "kharbuza    120\n",
      "dtype: int64 <class 'pandas.core.series.Series'>\n"
     ]
    }
   ],
   "source": [
    "data={'apple':320,'mango':240,'nimbu':245,'banana':60,'kharbuza':120}\n",
    "s=pd.Series(data=data)\n",
    "print(s,type(s))"
   ]
  },
  {
   "cell_type": "code",
   "execution_count": 41,
   "id": "b809771a-8927-4b50-b0ad-b057d49aa5a9",
   "metadata": {},
   "outputs": [
    {
     "name": "stdout",
     "output_type": "stream",
     "text": [
      "apple     320.0\n",
      "nimbu     245.0\n",
      "mango     240.0\n",
      "banana     60.0\n",
      "guava       NaN\n",
      "mango     240.0\n",
      "dtype: float64 <class 'pandas.core.series.Series'>\n"
     ]
    }
   ],
   "source": [
    "data={'apple':320,'mango':240,'nimbu':245,'banana':60,'kharbuza':120}\n",
    "s=pd.Series(data=data,index=['apple','nimbu','mango','banana','guava','mango'])\n",
    "print(s,type(s))"
   ]
  },
  {
   "cell_type": "code",
   "execution_count": 55,
   "id": "51d89292-346c-458d-940b-b4bc919b34ed",
   "metadata": {},
   "outputs": [
    {
     "name": "stdout",
     "output_type": "stream",
     "text": [
      "0    water\n",
      "1    water\n",
      "3    water\n",
      "4    water\n",
      "6    water\n",
      "dtype: object <class 'pandas.core.series.Series'>\n",
      "0    4\n",
      "1    4\n",
      "3    4\n",
      "4    4\n",
      "6    4\n",
      "dtype: int64 <class 'pandas.core.series.Series'>\n"
     ]
    }
   ],
   "source": [
    "# create a series from scalar\n",
    "s=pd.Series('water',index=[0,1,3,4,6]) # water feed to seat no\n",
    "print(s,type(s))\n",
    "\n",
    "s1=pd.Series(4,index=[0,1,3,4,6])\n",
    "print(s1,type(s))"
   ]
  },
  {
   "cell_type": "code",
   "execution_count": 69,
   "id": "f62fd2f1-2057-4727-98ba-9f661a2827db",
   "metadata": {},
   "outputs": [
    {
     "name": "stdout",
     "output_type": "stream",
     "text": [
      "0    111\n",
      "1    222\n",
      "2    333\n",
      "3    444\n",
      "4    555\n",
      "dtype: int64 <class 'pandas.core.series.Series'>\n",
      "arjit        111\n",
      "rahul        222\n",
      "priyank      333\n",
      "devopriya    444\n",
      "khusbo       555\n",
      "dtype: int64 <class 'pandas.core.series.Series'>\n"
     ]
    }
   ],
   "source": [
    "# crate a series from list\n",
    "s=pd.Series([111,222,333,444,555])\n",
    "print(s,type(s))\n",
    "\n",
    "s=pd.Series([111,222,333,444,555],index=['arjit','rahul','priyank','devopriya','khusbo']) #ticket no to passanger \n",
    "print(s,type(s))"
   ]
  },
  {
   "cell_type": "code",
   "execution_count": 75,
   "id": "00e44303-991f-42e4-a7f3-2a25b5a19972",
   "metadata": {},
   "outputs": [
    {
     "name": "stdout",
     "output_type": "stream",
     "text": [
      "arjit      111\n",
      "rahul      222\n",
      "priyank    333\n",
      "dtype: int64\n",
      "priyank      333\n",
      "devopriya    444\n",
      "khusbo       555\n",
      "dtype: int64\n",
      "arjit    111\n",
      "rahul    222\n",
      "dtype: int64\n"
     ]
    }
   ],
   "source": [
    "print(s[:3])\n",
    "print(s[-3:])\n",
    "print(s[:-3])"
   ]
  },
  {
   "cell_type": "code",
   "execution_count": 81,
   "id": "c3213789-5189-43ec-9f60-e5ded2cd29d7",
   "metadata": {},
   "outputs": [
    {
     "name": "stdout",
     "output_type": "stream",
     "text": [
      "True\n",
      "False\n"
     ]
    }
   ],
   "source": [
    "s_unique=pd.Series([1,2,3,4,5])\n",
    "print(s_unique.is_unique)\n",
    "\n",
    "s_unique=pd.Series([1,2,2,4,5])\n",
    "print(s_unique.is_unique)"
   ]
  },
  {
   "cell_type": "code",
   "execution_count": 91,
   "id": "91d1fc55-da51-4bd8-a6cd-1fd6cdca2e3c",
   "metadata": {},
   "outputs": [
    {
     "name": "stdout",
     "output_type": "stream",
     "text": [
      "0    1\n",
      "1    2\n",
      "2    3\n",
      "0    4\n",
      "1    5\n",
      "2    6\n",
      "dtype: int64\n",
      "0    1\n",
      "1    2\n",
      "2    3\n",
      "3    4\n",
      "4    5\n",
      "5    6\n",
      "dtype: int64\n",
      "   0  1\n",
      "0  1  4\n",
      "1  2  5\n",
      "2  3  6\n"
     ]
    }
   ],
   "source": [
    "# concatenation\n",
    "s1=pd.Series([1,2,3])\n",
    "s2=pd.Series([4,5,6])\n",
    "\n",
    "# concatenating alog row (stacking vertically)\n",
    "res=pd.concat([s1,s2]) # index is not changing it is fixed\n",
    "print(res)\n",
    "\n",
    "res=pd.concat([s1,s2]).reset_index(drop=True) # index is changinig\n",
    "print(res)\n",
    "\n",
    "# concatenating alog rcolumns (stacking horizentally)\n",
    "res=pd.concat([s1,s2],axis=1) # index is not changing it is fixed\n",
    "print(res)"
   ]
  },
  {
   "cell_type": "code",
   "execution_count": null,
   "id": "339067e2-8bc3-4599-bb93-0067453d9d3e",
   "metadata": {},
   "outputs": [],
   "source": []
  }
 ],
 "metadata": {
  "kernelspec": {
   "display_name": "Python [conda env:base] *",
   "language": "python",
   "name": "conda-base-py"
  },
  "language_info": {
   "codemirror_mode": {
    "name": "ipython",
    "version": 3
   },
   "file_extension": ".py",
   "mimetype": "text/x-python",
   "name": "python",
   "nbconvert_exporter": "python",
   "pygments_lexer": "ipython3",
   "version": "3.12.7"
  }
 },
 "nbformat": 4,
 "nbformat_minor": 5
}
