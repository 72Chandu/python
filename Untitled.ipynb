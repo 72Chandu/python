{
 "cells": [
  {
   "cell_type": "code",
   "execution_count": 3,
   "id": "527c4efb-d5f6-4ecb-97bc-d8bc5c659560",
   "metadata": {},
   "outputs": [
    {
     "name": "stdout",
     "output_type": "stream",
     "text": [
      "Collecting phonenumbers\n",
      "  Downloading phonenumbers-9.0.10-py2.py3-none-any.whl.metadata (11 kB)\n",
      "Downloading phonenumbers-9.0.10-py2.py3-none-any.whl (2.6 MB)\n",
      "   ---------------------------------------- 0.0/2.6 MB ? eta -:--:--\n",
      "   ---------------- ----------------------- 1.0/2.6 MB 7.2 MB/s eta 0:00:01\n",
      "   ------------------------------------ --- 2.4/2.6 MB 7.1 MB/s eta 0:00:01\n",
      "   ---------------------------------------- 2.6/2.6 MB 6.2 MB/s eta 0:00:00\n",
      "Installing collected packages: phonenumbers\n",
      "Successfully installed phonenumbers-9.0.10\n"
     ]
    }
   ],
   "source": [
    "!pip install phonenumbers"
   ]
  },
  {
   "cell_type": "code",
   "execution_count": 15,
   "id": "b3a4c765-b88f-4af6-8abd-f553138035b6",
   "metadata": {},
   "outputs": [],
   "source": [
    "import phonenumbers\n",
    "from phonenumbers import geocoder\n",
    "from phonenumbers import timezone"
   ]
  },
  {
   "cell_type": "code",
   "execution_count": 47,
   "id": "59f5a3e6-c257-448e-9cad-9297bcc28adf",
   "metadata": {},
   "outputs": [],
   "source": [
    "ph1=phonenumbers.parse(\"+917376499759\")\n",
    "ph2=phonenumbers.parse(\"+919864946993\")"
   ]
  },
  {
   "cell_type": "code",
   "execution_count": 49,
   "id": "200924c5-cc58-4791-b863-2c111c8318e3",
   "metadata": {},
   "outputs": [
    {
     "name": "stdout",
     "output_type": "stream",
     "text": [
      "India\n"
     ]
    }
   ],
   "source": [
    "# location\n",
    "print(geocoder.description_for_number(ph1,\"en\"));"
   ]
  },
  {
   "cell_type": "code",
   "execution_count": 51,
   "id": "eef95251-41f8-423b-9683-faaff4944454",
   "metadata": {},
   "outputs": [
    {
     "name": "stdout",
     "output_type": "stream",
     "text": [
      "('Asia/Calcutta',)\n"
     ]
    }
   ],
   "source": [
    "tz = timezone.time_zones_for_number(ph3)\n",
    "print(tz)"
   ]
  },
  {
   "cell_type": "code",
   "execution_count": 53,
   "id": "09836fe5-3f4c-4039-9c10-3b18ad24aa56",
   "metadata": {},
   "outputs": [
    {
     "name": "stdout",
     "output_type": "stream",
     "text": [
      "Reliance Jio\n"
     ]
    }
   ],
   "source": [
    "from phonenumbers import carrier\n",
    "\n",
    "service_provider = carrier.name_for_number(ph2, \"en\")\n",
    "print(service_provider)"
   ]
  },
  {
   "cell_type": "code",
   "execution_count": 61,
   "id": "bac00dc5-8b85-4540-afae-044ad82498b0",
   "metadata": {},
   "outputs": [
    {
     "name": "stdout",
     "output_type": "stream",
     "text": [
      "City: Kolkata\n",
      "Region: West Bengal\n",
      "Country: IN\n",
      "Location: 22.5626,88.3630\n",
      "Organization: AS55836 Reliance Jio Infocomm Limited\n",
      "Timezone: Asia/Kolkata\n",
      "Postal Code: 700001\n"
     ]
    }
   ],
   "source": [
    "import requests\n",
    "\n",
    "ip = \"2409:40e0:8:f3ab:8000::192.0.0.4\"\n",
    "response = requests.get(f\"https://ipinfo.io/{ip}/json\")\n",
    "data = response.json()\n",
    "\n",
    "print(\"City:\", data.get(\"city\"))\n",
    "print(\"Region:\", data.get(\"region\"))\n",
    "print(\"Country:\", data.get(\"country\"))\n",
    "print(\"Location:\", data.get(\"loc\"))           # latitude,longitude\n",
    "print(\"Organization:\", data.get(\"org\"))       # ISP or company\n",
    "print(\"Timezone:\", data.get(\"timezone\"))\n",
    "print(\"Postal Code:\", data.get(\"postal\"))"
   ]
  },
  {
   "cell_type": "code",
   "execution_count": 63,
   "id": "203673a0-3ca9-428e-b300-93525a72377d",
   "metadata": {},
   "outputs": [
    {
     "name": "stdout",
     "output_type": "stream",
     "text": [
      "ISP: Reliance Jio Infocomm Limited\n",
      "Org: Reliance Jio Infocomm Limited\n",
      "AS: AS55836 Reliance Jio Infocomm Limited\n",
      "Mobile: None\n",
      "Proxy: None\n"
     ]
    }
   ],
   "source": [
    "response = requests.get(\"http://ip-api.com/json/\" + ip)\n",
    "data = response.json()\n",
    "\n",
    "print(\"ISP:\", data.get(\"isp\"))\n",
    "print(\"Org:\", data.get(\"org\"))\n",
    "print(\"AS:\", data.get(\"as\"))                  # Autonomous system\n",
    "print(\"Mobile:\", data.get(\"mobile\"))          # Is it a mobile connection?\n",
    "print(\"Proxy:\", data.get(\"proxy\"))            # Using a proxy?\n"
   ]
  },
  {
   "cell_type": "code",
   "execution_count": null,
   "id": "cef58002-9302-4e4d-9dc2-2c69719b5de9",
   "metadata": {},
   "outputs": [],
   "source": []
  }
 ],
 "metadata": {
  "kernelspec": {
   "display_name": "Python [conda env:base] *",
   "language": "python",
   "name": "conda-base-py"
  },
  "language_info": {
   "codemirror_mode": {
    "name": "ipython",
    "version": 3
   },
   "file_extension": ".py",
   "mimetype": "text/x-python",
   "name": "python",
   "nbconvert_exporter": "python",
   "pygments_lexer": "ipython3",
   "version": "3.12.7"
  }
 },
 "nbformat": 4,
 "nbformat_minor": 5
}
