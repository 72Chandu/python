{
 "cells": [
  {
   "cell_type": "raw",
   "id": "4a752790-744c-4c01-91a0-462d0bbfd267",
   "metadata": {},
   "source": [
    "NumPy is one of the foundational Python libraries for numerical computing, especially when working with large datasets or performing mathematical operations efficiently.\n",
    "\n",
    "Creates arrays: More powerful than Python lists—supports multi-dimensional structures\n",
    "\n",
    "Performs fast math: Linear algebra, statistics, and complex calculations at lightning speed\n",
    "\n",
    "Supports broadcasting: Easily perform operations across arrays without explicit loops\n",
    "\n",
    "Interoperates with other libraries: Pandas, Matplotlib, Scikit-learn, TensorFlow, etc."
   ]
  },
  {
   "cell_type": "code",
   "execution_count": 5,
   "id": "9613e50e-f5c8-4eb6-9e9e-b1ede48a98d7",
   "metadata": {},
   "outputs": [],
   "source": [
    "import numpy as np"
   ]
  },
  {
   "cell_type": "markdown",
   "id": "d49cb5d1-b8a1-4447-9e27-db5d7dbeaf20",
   "metadata": {},
   "source": [
    "# Arrays"
   ]
  },
  {
   "cell_type": "code",
   "execution_count": 38,
   "id": "a2bacd93-3635-4702-b294-f37c9e734ef1",
   "metadata": {},
   "outputs": [
    {
     "name": "stdout",
     "output_type": "stream",
     "text": [
      "[1, 2, 3, 4, 5] <class 'list'>\n",
      "[1 2 3 4 5] <class 'numpy.ndarray'>\n"
     ]
    }
   ],
   "source": [
    "# creating ndarray from list\n",
    "# every element must have same data type (will be converted is possible)\n",
    "data1=[1,2,3,4,5] # list \n",
    "arr1=np.array(data1)\n",
    "print(data1, type(data1))\n",
    "print(arr1, type(arr1))"
   ]
  },
  {
   "cell_type": "code",
   "execution_count": 40,
   "id": "5ced4ad4-4d7d-4365-bd24-2772e5b979aa",
   "metadata": {},
   "outputs": [
    {
     "name": "stdout",
     "output_type": "stream",
     "text": [
      "[1, 2.2, 3, 4, 5] <class 'list'>\n",
      "[1.  2.2 3.  4.  5. ] <class 'numpy.ndarray'>\n"
     ]
    }
   ],
   "source": [
    "data1=[1,2.2,3,4,5]\n",
    "arr1=np.array(data1)\n",
    "print(data1, type(data1))\n",
    "print(arr1, type(arr1))"
   ]
  },
  {
   "cell_type": "code",
   "execution_count": 42,
   "id": "3e28a487-d7db-4dc7-81b2-7d2fbbe90b10",
   "metadata": {},
   "outputs": [
    {
     "name": "stdout",
     "output_type": "stream",
     "text": [
      "[range(1, 5), range(5, 9)] <class 'list'>\n",
      "[[1 2 3 4]\n",
      " [5 6 7 8]] <class 'numpy.ndarray'>\n"
     ]
    }
   ],
   "source": [
    "data2=[range(1,5),range(5,9)]\n",
    "print(data2 ,type(data2))\n",
    "arr2=np.array(data2)\n",
    "print(arr2, type(arr2))"
   ]
  },
  {
   "cell_type": "code",
   "execution_count": 44,
   "id": "315eb4c2-d67f-441b-ba39-c4a4bedc83c1",
   "metadata": {},
   "outputs": [
    {
     "name": "stdout",
     "output_type": "stream",
     "text": [
      "[[1, 2, 3, 4], [5, 6, 7, 8]] <class 'list'>\n"
     ]
    }
   ],
   "source": [
    "# converting ndarray to list\n",
    "list2=arr2.tolist()\n",
    "print(list2 ,type(list2))"
   ]
  },
  {
   "cell_type": "code",
   "execution_count": 46,
   "id": "5cd48807-96dc-40fc-9f03-325e3311046c",
   "metadata": {},
   "outputs": [
    {
     "name": "stdout",
     "output_type": "stream",
     "text": [
      "[1, 2, 3, 4]\n"
     ]
    }
   ],
   "source": [
    "print(list(range(1,5)))"
   ]
  },
  {
   "cell_type": "code",
   "execution_count": 48,
   "id": "bca0d90f-79f0-448e-bb65-369adb289caa",
   "metadata": {},
   "outputs": [
    {
     "name": "stdout",
     "output_type": "stream",
     "text": [
      "[1.  2.2 3.  4.  5. ] <class 'numpy.ndarray'> 1767532216368 float64 1 (5,) <class 'tuple'> 5 5\n",
      "[[1 2 3 4]\n",
      " [5 6 7 8]] <class 'numpy.ndarray'> 1767532216752 int32 2 (2, 4) <class 'tuple'> 8 2\n"
     ]
    }
   ],
   "source": [
    "# Examing arrays  ndim-> no of dimendion, size->total no of element, len->size of first dimension\n",
    "print(arr1,type(arr1),id(arr1),arr1.dtype,arr1.ndim,arr1.shape,type(arr1.shape),arr1.size,len(arr1))\n",
    "print(arr2,type(arr2),id(arr2),arr2.dtype,arr2.ndim,arr2.shape,type(arr2.shape),arr2.size,len(arr2))\n"
   ]
  },
  {
   "cell_type": "code",
   "execution_count": 50,
   "id": "726bda62-6119-4b48-b085-9928da5d93e5",
   "metadata": {},
   "outputs": [
    {
     "data": {
      "text/plain": [
       "array([7. +9.j, 3.-25.j, 5. +0.j, 7. +0.j])"
      ]
     },
     "execution_count": 50,
     "metadata": {},
     "output_type": "execute_result"
    }
   ],
   "source": [
    "a=np.array([7+9j,3-25j,5,7],dtype=complex)\n",
    "a"
   ]
  },
  {
   "cell_type": "code",
   "execution_count": 54,
   "id": "b2ecb873-9a75-4690-8a66-2dd8b14f24ed",
   "metadata": {},
   "outputs": [
    {
     "name": "stdout",
     "output_type": "stream",
     "text": [
      "(7+9j) (5+0j)\n"
     ]
    }
   ],
   "source": [
    "print(a[0],a[2])"
   ]
  },
  {
   "cell_type": "code",
   "execution_count": 64,
   "id": "e69b88e5-0d2e-4ffa-a1e3-8f62c3f5450e",
   "metadata": {},
   "outputs": [
    {
     "name": "stdout",
     "output_type": "stream",
     "text": [
      "array= [ 1  2  3 10 15  4]\n",
      "max=15 , min=1 , sum=35\n"
     ]
    }
   ],
   "source": [
    "# find min, max and sum of array\n",
    "a=np.array([1,2,3,10,15,4])  \n",
    "print(\"array=\",a)\n",
    "print(f\"max={a.max()} , min={a.min()} , sum={a.sum()}\")"
   ]
  },
  {
   "cell_type": "code",
   "execution_count": 74,
   "id": "2c5fe7cd-c6a0-455b-8909-4998b97346fb",
   "metadata": {},
   "outputs": [
    {
     "name": "stdout",
     "output_type": "stream",
     "text": [
      "array= [[ 1  2 30]\n",
      " [10 15  4]]\n",
      "[[1.         1.41421356 5.47722558]\n",
      " [3.16227766 3.87298335 2.        ]]\n",
      "10.044346115546242\n"
     ]
    }
   ],
   "source": [
    "# find the square-root and standard deviation of the array\n",
    "a=np.array([[1,2,30],[10,15,4]])\n",
    "print(\"array=\",a)\n",
    "print(f'{np.sqrt(a)}')\n",
    "print(f'{np.std(a)}')"
   ]
  },
  {
   "cell_type": "code",
   "execution_count": 78,
   "id": "1de730db-e087-4977-8fed-e196b288eb21",
   "metadata": {},
   "outputs": [
    {
     "name": "stdout",
     "output_type": "stream",
     "text": [
      "[ 2  8 18 32 50 72 98]\n"
     ]
    }
   ],
   "source": [
    "# multiply 2 array each element with specific index\n",
    "a=np.array([1,2,3,4,5,6,7])\n",
    "b=np.array([2,4,6,8,10,12,14]) # it should be same order\n",
    "c=a*b\n",
    "print(c)"
   ]
  },
  {
   "cell_type": "code",
   "execution_count": 94,
   "id": "c7a81aca-2d9b-4474-8bca-66002e93699d",
   "metadata": {},
   "outputs": [
    {
     "name": "stdout",
     "output_type": "stream",
     "text": [
      "printing array a...\n",
      " [[ 1  2  3  4]\n",
      " [ 2  4  5  6]\n",
      " [10 20 30 40]]\n",
      "printing array b...\n",
      " [1 2 6 8]\n",
      "printing array c...\n",
      " [[ 2  4  9 12]\n",
      " [ 3  6 11 14]\n",
      " [11 22 36 48]]\n"
     ]
    }
   ],
   "source": [
    "a=np.array([[1,2,3,4],[2,4,5,6],[10,20,30,40]])\n",
    "b=np.array([1,2,6,8])\n",
    "print(\"printing array a...\\n\",a)\n",
    "print(\"printing array b...\\n\",b)\n",
    "c=a+b\n",
    "print(\"printing array c...\\n\",c)"
   ]
  },
  {
   "cell_type": "code",
   "execution_count": 96,
   "id": "295318c7-c3c0-48ec-9001-1613cbce2d1b",
   "metadata": {},
   "outputs": [
    {
     "name": "stdout",
     "output_type": "stream",
     "text": [
      "1,2,3,4,2,4,5,6,6,10,30,40,"
     ]
    }
   ],
   "source": [
    "# numpy array iteration\n",
    "a=np.array([[1,2,3,4],[2,4,5,6],[6,10,30,40]])\n",
    "for x in np.nditer(a):\n",
    "    print(x,end=\",\")"
   ]
  },
  {
   "cell_type": "markdown",
   "id": "2334cfff-9d07-4e87-b3e1-56c5b6da2aad",
   "metadata": {},
   "source": [
    "### 3-D Array"
   ]
  },
  {
   "cell_type": "code",
   "execution_count": 107,
   "id": "b2aae12b-2e82-4e58-b24b-6435875e09b7",
   "metadata": {},
   "outputs": [
    {
     "name": "stdout",
     "output_type": "stream",
     "text": [
      "[[[1 2]\n",
      "  [3 4]]\n",
      "\n",
      " [[5 6]\n",
      "  [7 8]]] 3\n"
     ]
    }
   ],
   "source": [
    "arr=np.array([[[1,2],[3,4]],[[5,6],[7,8]]])\n",
    "print(arr,arr.ndim)"
   ]
  },
  {
   "cell_type": "code",
   "execution_count": 115,
   "id": "a5ed6c86-e9c5-4dc6-90de-eb84e232e8e9",
   "metadata": {},
   "outputs": [
    {
     "name": "stdout",
     "output_type": "stream",
     "text": [
      "binary representation of a=0b1010\n",
      "binary representation of b=0b1100\n",
      "Bitwise-and of a and b=8\n",
      "Bitwise-and of a or b=14\n"
     ]
    }
   ],
   "source": [
    "# bitwise And and Or operation\n",
    "a=10\n",
    "b=12\n",
    "print(f\"binary representation of a={bin(a)}\")\n",
    "print(f\"binary representation of b={bin(b)}\")\n",
    "print(f\"Bitwise-and of a and b={np.bitwise_and(a,b)}\")\n",
    "print(f\"Bitwise-and of a or b={np.bitwise_or(a,b)}\")"
   ]
  },
  {
   "cell_type": "markdown",
   "id": "0c008519-85b0-41e1-a27a-bdf89bbf1793",
   "metadata": {},
   "source": [
    "#### Higher Dimensional Arrays(using the ndmin argument)"
   ]
  },
  {
   "cell_type": "code",
   "execution_count": 7,
   "id": "ef86edce-3554-4865-90e7-17486a54d769",
   "metadata": {},
   "outputs": [
    {
     "name": "stdout",
     "output_type": "stream",
     "text": [
      "[[[[[1 2 3 4 5]]]]] 5\n"
     ]
    }
   ],
   "source": [
    "a=np.array([1,2,3,4,5],ndmin=5)\n",
    "print(a,a.ndim)"
   ]
  },
  {
   "cell_type": "markdown",
   "id": "5e34c9c4-fac1-4786-944c-ed602a5dc754",
   "metadata": {},
   "source": [
    "#### Indexing"
   ]
  },
  {
   "cell_type": "code",
   "execution_count": 14,
   "id": "3b5a02ff-aa03-43f7-96e6-3e69c961d023",
   "metadata": {},
   "outputs": [
    {
     "name": "stdout",
     "output_type": "stream",
     "text": [
      "1\n",
      "7\n"
     ]
    }
   ],
   "source": [
    "a=np.array([1,2,3,4])\n",
    "print(a[0])\n",
    "print(a[2]+a[3])"
   ]
  },
  {
   "cell_type": "code",
   "execution_count": 12,
   "id": "9c560c57-bd40-4d3b-8e4a-7690829a9560",
   "metadata": {},
   "outputs": [
    {
     "name": "stdout",
     "output_type": "stream",
     "text": [
      "[[1 2 3]\n",
      " [4 5 6]]\n",
      "2\n",
      "6\n"
     ]
    }
   ],
   "source": [
    "a=np.array([[1,2,3],[4,5,6]])\n",
    "print(a)\n",
    "print(a[0,1])\n",
    "print(a[1,2])"
   ]
  },
  {
   "cell_type": "markdown",
   "id": "4d5e9e94-6994-4c30-a844-c2376d1e9a0e",
   "metadata": {},
   "source": [
    "### Slicing in Numpy"
   ]
  },
  {
   "cell_type": "code",
   "execution_count": 21,
   "id": "0eb77280-d153-4aec-90ad-dbacea72bc94",
   "metadata": {},
   "outputs": [
    {
     "name": "stdout",
     "output_type": "stream",
     "text": [
      "[2 3 4]\n",
      "[3 4 5]\n",
      "[2 3 4]\n",
      "[5 4 3 2 1]\n",
      "[1 3 5]\n"
     ]
    }
   ],
   "source": [
    "# [start:end],[start:end:step]\n",
    "a=np.array([1,2,3,4,5])\n",
    "print(a[1:4])\n",
    "print(a[2:])\n",
    "\n",
    "# negative slicing\n",
    "print(a[-4:-1])\n",
    "print(a[::-1])\n",
    "print(a[::2])"
   ]
  },
  {
   "cell_type": "code",
   "execution_count": 27,
   "id": "f37130da-8746-4081-8381-9fc73b0cab8f",
   "metadata": {},
   "outputs": [
    {
     "name": "stdout",
     "output_type": "stream",
     "text": [
      "[7 8 9]\n",
      "[3 8]\n",
      "[[2 3 4]\n",
      " [7 8 9]]\n"
     ]
    }
   ],
   "source": [
    "# Slicing 2-D Arrays\n",
    "a=np.array([[1,2,3,4,5],[6,7,8,9,10]])\n",
    "print(a[1,1:4])\n",
    "print(a[0:2,2])\n",
    "print(a[0:2,1:4])"
   ]
  },
  {
   "cell_type": "code",
   "execution_count": 43,
   "id": "5226bfa2-8505-46fc-b8ba-bd1739ae9072",
   "metadata": {},
   "outputs": [
    {
     "name": "stdout",
     "output_type": "stream",
     "text": [
      "array: [[ 1  2  3  4  5]\n",
      " [ 6  7  8  9 10]\n",
      " [11 12 13 14 15]\n",
      " [16 17 18 19 20]\n",
      " [21 22 23 24 25]]\n",
      "max ele in cols: [21 22 23 24 25]\n",
      "max ele in rows: [ 5 10 15 20 25]\n",
      "min ele in cols: [1 2 3 4 5]\n",
      "min ele in rows: [1 2 3 4 5]\n",
      "diagonal ele of matrix: [ 1  7 13 19 25]\n"
     ]
    }
   ],
   "source": [
    "# Finding maximum columnise and rowise\n",
    "a=np.array([[1,2,3,4,5],[6,7,8,9,10],[11,12,13,14,15],[16,17,18,19,20],[21,22,23,24,25]])\n",
    "print(\"array:\",a)\n",
    "print(\"max ele in cols:\",a.max(axis=0)) # axis=0 means column wise\n",
    "print(\"max ele in rows:\",a.max(axis=1)) # axis=1 means row wise\n",
    "print(\"min ele in cols:\",a.min(axis=0))\n",
    "print(\"min ele in rows:\",a.min(axis=0))\n",
    "print(\"diagonal ele of matrix:\",a.diagonal())"
   ]
  },
  {
   "cell_type": "code",
   "execution_count": 45,
   "id": "1cac0ae4-45ae-4649-9b62-835ee3ffed93",
   "metadata": {},
   "outputs": [
    {
     "name": "stdout",
     "output_type": "stream",
     "text": [
      "[ 5  9 13 17 21]\n"
     ]
    }
   ],
   "source": [
    "# Right Diagonal Elements\n",
    "flip=np.fliplr(a)\n",
    "print(flip.diagonal())"
   ]
  },
  {
   "cell_type": "markdown",
   "id": "e27c7cec-553c-4ba1-b1f9-97b0738f19f3",
   "metadata": {},
   "source": [
    "### Transpose of Matrix"
   ]
  },
  {
   "cell_type": "code",
   "execution_count": 54,
   "id": "5938d8e3-b312-4b24-b2d4-4f545cd9b0c6",
   "metadata": {},
   "outputs": [
    {
     "name": "stdout",
     "output_type": "stream",
     "text": [
      "[[ 1  2  3  4  5]\n",
      " [ 6  7  8  9 10]\n",
      " [11 12 13 14 15]\n",
      " [16 17 18 19 20]\n",
      " [21 22 23 24 25]]\n",
      "\n",
      "[[ 1  6 11 16 21]\n",
      " [ 2  7 12 17 22]\n",
      " [ 3  8 13 18 23]\n",
      " [ 4  9 14 19 24]\n",
      " [ 5 10 15 20 25]]\n"
     ]
    }
   ],
   "source": [
    "# Original Matrix\n",
    "print(a)\n",
    "print()\n",
    "# Transpose Matrix\n",
    "# arr1=a.T\n",
    "# arr1=a.transpose()\n",
    "arr1=np.transpose(a)\n",
    "print(arr1)"
   ]
  },
  {
   "cell_type": "code",
   "execution_count": 83,
   "id": "089d5a56-be2e-4a34-8ef4-b7f2815cc33d",
   "metadata": {},
   "outputs": [
    {
     "name": "stdout",
     "output_type": "stream",
     "text": [
      "[0. 0. 0. 0. 0. 0. 0. 0. 0. 0. 0. 0. 0. 0. 0.]\n",
      "[[0 0 0 0 0 0]\n",
      " [0 0 0 0 0 0]\n",
      " [0 0 0 0 0 0]]\n",
      "\n",
      "[[0 0 0 0 0 0]\n",
      " [0 0 0 0 0 0]\n",
      " [0 0 0 0 0 0]]\n",
      "[  1.  12.  23.  34.  45.  56.  67.  78.  89. 100.]\n",
      "\n",
      "[   1   10  100 1000]\n"
     ]
    }
   ],
   "source": [
    "# create special arrays\n",
    "print(np.zeros(15))\n",
    "print(np.zeros((3,6),dtype=int))\n",
    "print()\n",
    "print(np.zeros((3,6)).astype(int))\n",
    "print(np.linspace(1,100,10)) # 0 to 1 (inclusive) with 5 point\n",
    "print()\n",
    "print(np.logspace(0,3,4).astype(int)) # 10^0 to 10^3 (inclusive)"
   ]
  },
  {
   "cell_type": "code",
   "execution_count": 96,
   "id": "4748d615-4067-494c-b468-2e8d23e8a8d4",
   "metadata": {},
   "outputs": [
    {
     "name": "stdout",
     "output_type": "stream",
     "text": [
      "[1. 1. 1. 1. 1.]\n",
      "[[1 1 1 1 1 1]\n",
      " [1 1 1 1 1 1]\n",
      " [1 1 1 1 1 1]]\n",
      "[[ True  True  True  True  True  True]\n",
      " [ True  True  True  True  True  True]\n",
      " [ True  True  True  True  True  True]]\n",
      "[[False False False False False False]\n",
      " [False False False False False False]\n",
      " [False False False False False False]]\n"
     ]
    }
   ],
   "source": [
    "print(np.ones(5))\n",
    "print(np.ones((3,6),dtype=int))\n",
    "print(np.ones((3,6),dtype=bool))\n",
    "print(np.zeros((3,6),dtype=bool))"
   ]
  },
  {
   "cell_type": "code",
   "execution_count": 102,
   "id": "17161e12-a10d-482a-be83-c437747a5a15",
   "metadata": {},
   "outputs": [
    {
     "name": "stdout",
     "output_type": "stream",
     "text": [
      "original array: [1 2 3]\n",
      "\n",
      "Tiled array: [[1 2 3 1 2 3 1 2 3]\n",
      " [1 2 3 1 2 3 1 2 3]\n",
      " [1 2 3 1 2 3 1 2 3]\n",
      " [1 2 3 1 2 3 1 2 3]]\n"
     ]
    }
   ],
   "source": [
    "# Tile for repeating numbers\n",
    "original_array=np.array([1,2,3])\n",
    "print(\"original array:\",original_array)\n",
    "tiled_array=np.tile(original_array,(4,3))\n",
    "print(\"\\nTiled array:\",tiled_array)"
   ]
  },
  {
   "cell_type": "code",
   "execution_count": 104,
   "id": "765ea670-f829-42aa-8ef2-bcea243cf324",
   "metadata": {},
   "outputs": [
    {
     "name": "stdout",
     "output_type": "stream",
     "text": [
      "[[2 2 2 2]\n",
      " [2 2 2 2]\n",
      " [2 2 2 2]\n",
      " [2 2 2 2]]\n"
     ]
    }
   ],
   "source": [
    "# Array for specified Numbers\n",
    "a=np.full([4,4],2)\n",
    "print(a)"
   ]
  },
  {
   "cell_type": "markdown",
   "id": "d323e988-f91e-4f59-946a-ed6d2933a48a",
   "metadata": {},
   "source": [
    "### Flower Graphics"
   ]
  },
  {
   "cell_type": "code",
   "execution_count": null,
   "id": "f1b93bd0-ee61-48c3-a77c-63ba3e9854e5",
   "metadata": {},
   "outputs": [],
   "source": [
    "import turtle as tur\n",
    "import colorsys as cs\n",
    "tur.setup(800,800)\n",
    "tur.speed(0)\n",
    "tur.tracer(10)\n",
    "tur.width(2)\n",
    "tur.bgcolor(\"black\")\n",
    "\n",
    "for i in range(25):\n",
    "    for j in range(15):\n",
    "        tur.color(cs.hsv_to_rgb(i/15,j/25,1))\n",
    "        tur.right(90)\n",
    "        tur.circle(200-j*4,90)\n",
    "        tur.left(90)\n",
    "        tur.circle(200-j*4,90)\n",
    "        tur.right(180)\n",
    "        tur.circle(50,24)\n",
    "tur.hideturtle()\n",
    "tur.done()"
   ]
  },
  {
   "cell_type": "code",
   "execution_count": null,
   "id": "ce8f3c26-9c3a-456c-b07b-6dbbdc809866",
   "metadata": {},
   "outputs": [],
   "source": []
  }
 ],
 "metadata": {
  "kernelspec": {
   "display_name": "Python [conda env:base] *",
   "language": "python",
   "name": "conda-base-py"
  },
  "language_info": {
   "codemirror_mode": {
    "name": "ipython",
    "version": 3
   },
   "file_extension": ".py",
   "mimetype": "text/x-python",
   "name": "python",
   "nbconvert_exporter": "python",
   "pygments_lexer": "ipython3",
   "version": "3.12.7"
  }
 },
 "nbformat": 4,
 "nbformat_minor": 5
}
