{
 "cells": [
  {
   "cell_type": "code",
   "execution_count": 3,
   "id": "e22fcb41-d49b-4843-860d-2bf5f164935c",
   "metadata": {},
   "outputs": [
    {
     "name": "stdout",
     "output_type": "stream",
     "text": [
      "Collecting qrcode\n",
      "  Downloading qrcode-8.2-py3-none-any.whl.metadata (17 kB)\n",
      "Requirement already satisfied: colorama in d:\\anaconda\\lib\\site-packages (from qrcode) (0.4.6)\n",
      "Downloading qrcode-8.2-py3-none-any.whl (45 kB)\n",
      "Installing collected packages: qrcode\n",
      "Successfully installed qrcode-8.2\n"
     ]
    }
   ],
   "source": [
    "!pip install qrcode"
   ]
  },
  {
   "cell_type": "code",
   "execution_count": 13,
   "id": "784ae8cb-07ce-4701-b552-9d9b66cf8ddb",
   "metadata": {},
   "outputs": [],
   "source": [
    "import qrcode "
   ]
  },
  {
   "cell_type": "code",
   "execution_count": 19,
   "id": "f3e6f873-b944-4cd8-89cd-ebd6ecc5ba70",
   "metadata": {},
   "outputs": [],
   "source": [
    "link=\"https://www.youtube.com/watch?v=c4JD7rEtIj8\"\n",
    "img=qrcode.make(link)\n",
    "# print(img)\n",
    "# saving image\n",
    "img.save('chalkat.jpg')"
   ]
  },
  {
   "cell_type": "markdown",
   "id": "4c67ad5b-e33b-44b3-b693-af9120ed8ed0",
   "metadata": {},
   "source": [
    "### currency converter"
   ]
  },
  {
   "cell_type": "code",
   "execution_count": null,
   "id": "7e513658-a36e-4de0-bfcd-a66e6b1147a8",
   "metadata": {},
   "outputs": [],
   "source": []
  }
 ],
 "metadata": {
  "kernelspec": {
   "display_name": "Python [conda env:base] *",
   "language": "python",
   "name": "conda-base-py"
  },
  "language_info": {
   "codemirror_mode": {
    "name": "ipython",
    "version": 3
   },
   "file_extension": ".py",
   "mimetype": "text/x-python",
   "name": "python",
   "nbconvert_exporter": "python",
   "pygments_lexer": "ipython3",
   "version": "3.12.7"
  }
 },
 "nbformat": 4,
 "nbformat_minor": 5
}
