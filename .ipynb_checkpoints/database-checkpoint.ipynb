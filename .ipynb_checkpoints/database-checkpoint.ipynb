{
 "cells": [
  {
   "cell_type": "code",
   "execution_count": null,
   "id": "c146c6f2-a6be-4891-b808-cc573a88a7b9",
   "metadata": {},
   "outputs": [],
   "source": [
    "python needs a mysql driver to access the mysql database \n",
    "PIP to install \"MySql\n",
    "\n",
    "\n",
    "mydb=mysql."
   ]
  },
  {
   "cell_type": "code",
   "execution_count": 6,
   "id": "fe435608-ae0e-46fe-b79f-ad81752cefd4",
   "metadata": {},
   "outputs": [],
   "source": [
    "# creation of database importing the required module\n",
    "import sqlite3"
   ]
  },
  {
   "cell_type": "code",
   "execution_count": 8,
   "id": "6864cc2c-1f55-4733-a915-6dba545edb10",
   "metadata": {},
   "outputs": [
    {
     "name": "stdout",
     "output_type": "stream",
     "text": [
      "connected with the database successfully..\n"
     ]
    }
   ],
   "source": [
    "connection = sqlite3.connect(\"myemp.db\")\n",
    "print(\"connected with the database successfully..\")"
   ]
  },
  {
   "cell_type": "code",
   "execution_count": 10,
   "id": "4e0ba4d8-6fcb-47ce-a26a-0c8f6a2a7c76",
   "metadata": {},
   "outputs": [
    {
     "name": "stdout",
     "output_type": "stream",
     "text": [
      "<class 'sqlite3.Connection'>\n"
     ]
    }
   ],
   "source": [
    "print(type(connection))"
   ]
  },
  {
   "cell_type": "code",
   "execution_count": 12,
   "id": "827da8dd-71d6-4188-852b-febe5b1cecf6",
   "metadata": {},
   "outputs": [
    {
     "name": "stdout",
     "output_type": "stream",
     "text": [
      "table created successfully..\n"
     ]
    }
   ],
   "source": [
    "sqlStr='''\n",
    "        CREATE TABLE employee(\n",
    "         emp_id TEXT PRIMARY KEY,\n",
    "         emp_name TEXT,\n",
    "         emp_city TEXT,\n",
    "         emp_salary TEXT\n",
    "        );\n",
    "       '''\n",
    "try:\n",
    "    connection.execute(sqlStr)\n",
    "    print(\"table created successfully..\")\n",
    "except:\n",
    "    print(\"table not created\")"
   ]
  },
  {
   "cell_type": "code",
   "execution_count": null,
   "id": "28d45f2c-aa1a-4ccc-9f89-37552f10fd5c",
   "metadata": {},
   "outputs": [],
   "source": []
  },
  {
   "cell_type": "code",
   "execution_count": null,
   "id": "f5a91731-b855-406f-aa67-166f391965a7",
   "metadata": {},
   "outputs": [],
   "source": []
  },
  {
   "cell_type": "code",
   "execution_count": null,
   "id": "64112e75-6841-4928-a64e-f6fb7af19aa9",
   "metadata": {},
   "outputs": [],
   "source": []
  },
  {
   "cell_type": "code",
   "execution_count": null,
   "id": "221e13ab-9652-49cf-b409-c3646092f668",
   "metadata": {},
   "outputs": [],
   "source": []
  },
  {
   "cell_type": "code",
   "execution_count": null,
   "id": "2fa33f7c-472c-4db7-aab5-e70baf7a88e3",
   "metadata": {},
   "outputs": [],
   "source": []
  },
  {
   "cell_type": "code",
   "execution_count": null,
   "id": "bff2278e-0711-494f-9700-6b9f51057916",
   "metadata": {},
   "outputs": [],
   "source": []
  },
  {
   "cell_type": "code",
   "execution_count": null,
   "id": "bffaf2b2-5826-4597-8605-d3618c6196b6",
   "metadata": {},
   "outputs": [],
   "source": []
  },
  {
   "cell_type": "code",
   "execution_count": null,
   "id": "77655ae9-772b-434a-bad7-462e5143a8f3",
   "metadata": {},
   "outputs": [],
   "source": []
  },
  {
   "cell_type": "code",
   "execution_count": null,
   "id": "018330b7-0308-48fc-8313-56883bb727f6",
   "metadata": {},
   "outputs": [],
   "source": []
  },
  {
   "cell_type": "code",
   "execution_count": null,
   "id": "c17ac33d-d14b-49f0-ba01-bf76aeae1fb6",
   "metadata": {},
   "outputs": [],
   "source": []
  },
  {
   "cell_type": "code",
   "execution_count": null,
   "id": "0d2446c4-9acd-431c-a258-662c7bf96f44",
   "metadata": {},
   "outputs": [],
   "source": []
  }
 ],
 "metadata": {
  "kernelspec": {
   "display_name": "Python [conda env:base] *",
   "language": "python",
   "name": "conda-base-py"
  },
  "language_info": {
   "codemirror_mode": {
    "name": "ipython",
    "version": 3
   },
   "file_extension": ".py",
   "mimetype": "text/x-python",
   "name": "python",
   "nbconvert_exporter": "python",
   "pygments_lexer": "ipython3",
   "version": "3.12.7"
  }
 },
 "nbformat": 4,
 "nbformat_minor": 5
}
