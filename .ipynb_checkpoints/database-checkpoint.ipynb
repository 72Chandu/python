{
 "cells": [
  {
   "cell_type": "markdown",
   "id": "08b20e84-1aa6-488f-8b4b-2d8f11b2e4d9",
   "metadata": {},
   "source": [
    "python needs a mysql driver to access the mySQL database \n",
    "PIP to install \"MySQL connector\".\n",
    "import mysql. Connector\n",
    "mydb=mysql.connector.connect(host=\"localhost\",user=\"yourusername\",password=\"yourpassword\")\n",
    "print(mydb)"
   ]
  },
  {
   "cell_type": "code",
   "execution_count": 4,
   "id": "1f2b10b1-ed71-4cfa-8e6a-dab743d7e25f",
   "metadata": {},
   "outputs": [
    {
     "name": "stdout",
     "output_type": "stream",
     "text": [
      "Requirement already satisfied: mysql-connector-python in d:\\anaconda\\lib\\site-packages (9.3.0)\n",
      "Note: you may need to restart the kernel to use updated packages.\n"
     ]
    }
   ],
   "source": [
    "pip install mysql-connector-python"
   ]
  },
  {
   "cell_type": "code",
   "execution_count": 5,
   "id": "7a5d683f-544a-4ecd-ae33-aa82b49cf39b",
   "metadata": {},
   "outputs": [],
   "source": [
    "import mysql.connector"
   ]
  },
  {
   "cell_type": "code",
   "execution_count": 7,
   "id": "6f8294c0-5317-40ef-8c9d-173ab83d9658",
   "metadata": {},
   "outputs": [],
   "source": [
    "mydb = mysql.connector.connect(\n",
    "    host=\"localhost\",\n",
    "    user=\"root\",\n",
    "    password=\"Pushpa@22\"\n",
    ")"
   ]
  },
  {
   "cell_type": "code",
   "execution_count": 9,
   "id": "09066ace-f5f0-456a-aa5e-b88d3245a9d3",
   "metadata": {},
   "outputs": [
    {
     "name": "stdout",
     "output_type": "stream",
     "text": [
      "<mysql.connector.connection_cext.CMySQLConnection object at 0x0000025CF7FCD640>\n",
      "Databases available:\n",
      "chandu\n",
      "flight_db\n",
      "flightservice\n",
      "information_schema\n",
      "mysql\n",
      "name\n",
      "notification_db\n",
      "performance_schema\n",
      "sakila\n",
      "sequelize_db\n",
      "sys\n",
      "university\n",
      "world\n"
     ]
    }
   ],
   "source": [
    "print(mydb)\n",
    "mycursor = mydb.cursor()# Create cursor object\n",
    "mycursor.execute(\"SHOW DATABASES\") # Execute the query to show all databases\n",
    "print(\"Databases available:\") # Print each database\n",
    "for db in mycursor:\n",
    "    print(db[0])"
   ]
  },
  {
   "cell_type": "code",
   "execution_count": 17,
   "id": "08837c45-5152-41b3-9df1-239d775ce6fd",
   "metadata": {},
   "outputs": [
    {
     "name": "stdout",
     "output_type": "stream",
     "text": [
      "first\n",
      "second\n"
     ]
    }
   ],
   "source": [
    "# Step 2: Make sure no pending results before switching DB (this is especially important in Jupyter or Anaconda)\n",
    "mycursor.fetchall()  # clear previous result if any\n",
    "mycursor.execute(\"USE chandu\")  # Step 2: Select the database using SQL\n",
    "mycursor.execute(\"SHOW TABLES\") # Step 3: Now you can run queries on testdb\n",
    "for table in mycursor:\n",
    "    print(table[0])"
   ]
  },
  {
   "cell_type": "code",
   "execution_count": 27,
   "id": "fe435608-ae0e-46fe-b79f-ad81752cefd4",
   "metadata": {},
   "outputs": [],
   "source": [
    "# creation of database importing the required module\n",
    "import sqlite3"
   ]
  },
  {
   "cell_type": "code",
   "execution_count": 31,
   "id": "6864cc2c-1f55-4733-a915-6dba545edb10",
   "metadata": {},
   "outputs": [
    {
     "name": "stdout",
     "output_type": "stream",
     "text": [
      "connected with the database successfully..\n"
     ]
    }
   ],
   "source": [
    "connection = sqlite3.connect(\"myemp.db\")\n",
    "print(\"connected with the database successfully..\")"
   ]
  },
  {
   "cell_type": "code",
   "execution_count": 8,
   "id": "4e0ba4d8-6fcb-47ce-a26a-0c8f6a2a7c76",
   "metadata": {},
   "outputs": [
    {
     "name": "stdout",
     "output_type": "stream",
     "text": [
      "<class 'sqlite3.Connection'>\n"
     ]
    }
   ],
   "source": [
    "print(type(connection))"
   ]
  },
  {
   "cell_type": "code",
   "execution_count": 12,
   "id": "827da8dd-71d6-4188-852b-febe5b1cecf6",
   "metadata": {},
   "outputs": [
    {
     "name": "stdout",
     "output_type": "stream",
     "text": [
      "table created successfully..\n"
     ]
    }
   ],
   "source": [
    "sqlStr='''\n",
    "        CREATE TABLE employee(\n",
    "         emp_id TEXT PRIMARY KEY,\n",
    "         emp_name TEXT,\n",
    "         emp_city TEXT,\n",
    "         emp_salary TEXT\n",
    "        );\n",
    "       '''\n",
    "try:\n",
    "    connection.execute(sqlStr)\n",
    "    print(\"table created successfully..\")\n",
    "except:\n",
    "    print(\"table not created\")"
   ]
  },
  {
   "cell_type": "code",
   "execution_count": 1,
   "id": "28d45f2c-aa1a-4ccc-9f89-37552f10fd5c",
   "metadata": {},
   "outputs": [],
   "source": [
    "import csv"
   ]
  },
  {
   "cell_type": "code",
   "execution_count": 25,
   "id": "f5a91731-b855-406f-aa67-166f391965a7",
   "metadata": {},
   "outputs": [
    {
     "name": "stdout",
     "output_type": "stream",
     "text": [
      "<_csv.reader object at 0x00000231C64B7580>\n",
      "[['Emp_Id', 'Emp_Name', 'Emp_City', 'Emp_Salary', 'Emp_Age', 'Emp_Gender'], ['1001.00', 'Dhiman', 'Kolkata', '39000.00', '39.00', 'Male'], ['1002.00', 'Anupam', 'Kolkata', '25000.00', '25.00', 'Male'], ['1003.00', 'Subham', 'Mumbai', '36000.00', '36.00', 'Male'], ['1004.00', 'Dinesh', 'Chennai', '28000.00', '28.00', 'Male'], ['1005.00', 'Kakali', 'Mumbai', '25000.00', '34.00', 'Female'], ['1006.00', 'Bimal', 'Hyderabad', '30000.00', '30.00', 'Male'], ['1007.00', 'Tarun', 'Chennai', '17000.00', '22.00', 'Male'], ['1008.00', 'Rittika', 'Durgapur', '45000.00', '45.00', 'Female'], ['1009.00', 'Barun', 'Hyderabad', '39000.00', '39.00', 'Male'], ['1010.00', 'Anjali', 'Lucknow', '20000.00', '26.00', 'Female']]\n"
     ]
    }
   ],
   "source": [
    "sqlStr=\"INSERT INTO employee VALUES('{emp_id_ph}','{emp_name_ph}','{emp_city_ph}','{emp_salary_ph}')\"\n",
    "# ph = place holder\n",
    "# read lines from the csv file and store them into table \n",
    "with open (\"emp_data.csv\") as datafile:\n",
    "    csv_reader=csv.reader(datafile)\n",
    "    print(csv_reader)\n",
    "    print(list(csv_reader))"
   ]
  },
  {
   "cell_type": "code",
   "execution_count": 27,
   "id": "64112e75-6841-4928-a64e-f6fb7af19aa9",
   "metadata": {},
   "outputs": [
    {
     "name": "stdout",
     "output_type": "stream",
     "text": [
      "all records got inserted\n"
     ]
    }
   ],
   "source": [
    "# inserting records from the csv file and writing it to databse employee  table \n",
    "sqlStr=\"INSERT INTO employee VALUES('{emp_id_ph}','{emp_name_ph}','{emp_city_ph}','{emp_salary_ph}')\"\n",
    "with open (\"emp_data.csv\") as datafile:\n",
    "    csv_reader=csv.reader(datafile)\n",
    "    next(csv_reader)\n",
    "    for row in csv_reader:\n",
    "        connection.execute(sqlStr.format(emp_id_ph=row[0],emp_name_ph=row[1],emp_city_ph=row[2],emp_salary_ph=row[3],))\n",
    "connection.commit()\n",
    "print(\"all records got inserted\")"
   ]
  },
  {
   "cell_type": "code",
   "execution_count": 29,
   "id": "221e13ab-9652-49cf-b409-c3646092f668",
   "metadata": {},
   "outputs": [
    {
     "name": "stdout",
     "output_type": "stream",
     "text": [
      "Emp-Id:1001.00,Emp-Name:Dhiman,Emp-city:Kolkata,Emp-salary:39000.00\n",
      "Emp-Id:1002.00,Emp-Name:Anupam,Emp-city:Kolkata,Emp-salary:25000.00\n",
      "Emp-Id:1003.00,Emp-Name:Subham,Emp-city:Mumbai,Emp-salary:36000.00\n",
      "Emp-Id:1004.00,Emp-Name:Dinesh,Emp-city:Chennai,Emp-salary:28000.00\n",
      "Emp-Id:1005.00,Emp-Name:Kakali,Emp-city:Mumbai,Emp-salary:25000.00\n",
      "Emp-Id:1006.00,Emp-Name:Bimal,Emp-city:Hyderabad,Emp-salary:30000.00\n",
      "Emp-Id:1007.00,Emp-Name:Tarun,Emp-city:Chennai,Emp-salary:17000.00\n",
      "Emp-Id:1008.00,Emp-Name:Rittika,Emp-city:Durgapur,Emp-salary:45000.00\n",
      "Emp-Id:1009.00,Emp-Name:Barun,Emp-city:Hyderabad,Emp-salary:39000.00\n",
      "Emp-Id:1010.00,Emp-Name:Anjali,Emp-city:Lucknow,Emp-salary:20000.00\n"
     ]
    }
   ],
   "source": [
    "# retreving records from the databse table \n",
    "sqlStr=\"select * from employee;\"\n",
    "cur_table=connection.execute(sqlStr)\n",
    "for row in cur_table:\n",
    "    print(f\"Emp-Id:{row[0]},Emp-Name:{row[1]},Emp-city:{row[2]},Emp-salary:{row[3]}\")"
   ]
  },
  {
   "cell_type": "code",
   "execution_count": 31,
   "id": "2fa33f7c-472c-4db7-aab5-e70baf7a88e3",
   "metadata": {},
   "outputs": [
    {
     "name": "stdout",
     "output_type": "stream",
     "text": [
      "Emp-Id:Dhiman,Emp-Name:39000.00\n",
      "Emp-Id:Subham,Emp-Name:36000.00\n",
      "Emp-Id:Bimal,Emp-Name:30000.00\n",
      "Emp-Id:Rittika,Emp-Name:45000.00\n",
      "Emp-Id:Barun,Emp-Name:39000.00\n"
     ]
    }
   ],
   "source": [
    "# sql for fetching name salary of those employees whose salary is greater than 30,000\n",
    "sqlStr=\"select emp_name,emp_salary from employee where emp_salary > 30000;\"\n",
    "cur_table=connection.execute(sqlStr)\n",
    "for row in cur_table:\n",
    "    print(f\"Emp-Id:{row[0]},Emp-Name:{row[1]}\")"
   ]
  },
  {
   "cell_type": "code",
   "execution_count": 35,
   "id": "bff2278e-0711-494f-9700-6b9f51057916",
   "metadata": {},
   "outputs": [
    {
     "name": "stdout",
     "output_type": "stream",
     "text": [
      "Emp-Id:Dhiman,Emp-salary:39000.00,TDS:2730.0000000000005\n",
      "Emp-Id:Anupam,Emp-salary:25000.00,TDS:1750.0000000000002\n",
      "Emp-Id:Subham,Emp-salary:36000.00,TDS:2520.0000000000005\n",
      "Emp-Id:Dinesh,Emp-salary:28000.00,TDS:1960.0000000000002\n",
      "Emp-Id:Kakali,Emp-salary:25000.00,TDS:1750.0000000000002\n",
      "Emp-Id:Bimal,Emp-salary:30000.00,TDS:2100.0\n",
      "Emp-Id:Tarun,Emp-salary:17000.00,TDS:1190.0\n",
      "Emp-Id:Rittika,Emp-salary:45000.00,TDS:3150.0000000000005\n",
      "Emp-Id:Barun,Emp-salary:39000.00,TDS:2730.0000000000005\n",
      "Emp-Id:Anjali,Emp-salary:20000.00,TDS:1400.0000000000002\n"
     ]
    }
   ],
   "source": [
    "# fetch employee name salary and 7.5% TDS against salaraies of all employees\n",
    "sqlStr=\"select emp_name,emp_salary ,emp_salary*0.07 as TDS from employee ;\"\n",
    "cur_table=connection.execute(sqlStr)\n",
    "for row in cur_table:\n",
    "    print(f\"Emp-Id:{row[0]},Emp-salary:{row[1]},TDS:{row[2]}\")"
   ]
  },
  {
   "cell_type": "code",
   "execution_count": 39,
   "id": "bffaf2b2-5826-4597-8605-d3618c6196b6",
   "metadata": {},
   "outputs": [
    {
     "name": "stdout",
     "output_type": "stream",
     "text": [
      "Emp-city:Chennai,avg-salary:22500.0\n",
      "Emp-city:Durgapur,avg-salary:45000.0\n",
      "Emp-city:Hyderabad,avg-salary:34500.0\n",
      "Emp-city:Kolkata,avg-salary:32000.0\n",
      "Emp-city:Lucknow,avg-salary:20000.0\n",
      "Emp-city:Mumbai,avg-salary:30500.0\n"
     ]
    }
   ],
   "source": [
    "# disolay city wise average salaries of all employees from the employee table \n",
    "sqlStr=\"select emp_city,AVG(emp_salary) as Average_salary from employee group by emp_city;\"\n",
    "cur_table=connection.execute(sqlStr)\n",
    "for row in cur_table:\n",
    "    print(f\"Emp-city:{row[0]},avg-salary:{row[1]}\")"
   ]
  },
  {
   "cell_type": "code",
   "execution_count": 43,
   "id": "77655ae9-772b-434a-bad7-462e5143a8f3",
   "metadata": {},
   "outputs": [
    {
     "name": "stdin",
     "output_type": "stream",
     "text": [
      "enter the n of records you want to insert 2\n",
      "entert the employee id:  30\n",
      "entert the employee name:  chandu\n",
      "entert the employee city:  kolkata\n",
      "entert the employee salary:  233443\n",
      "entert the employee id:  31\n",
      "entert the employee name:  raj\n",
      "entert the employee city:  delhi\n",
      "entert the employee salary:  3245\n"
     ]
    },
    {
     "name": "stdout",
     "output_type": "stream",
     "text": [
      "all records got inserted\n"
     ]
    }
   ],
   "source": [
    "# insert n number of records into the employee table after taking required inputs from the user \n",
    "n=int(input(\"enter the n of records you want to insert\"))\n",
    "cursor = connection.cursor()\n",
    "sqlStr=\"INSERT INTO employee VALUES(?,?,?,?);\"\n",
    "for i in range(n):\n",
    "    emp_id=int(input(\"entert the employee id: \"))\n",
    "    emp_name=input(\"entert the employee name: \")\n",
    "    emp_city=input(\"entert the employee city: \")\n",
    "    emp_salary=float(input(\"entert the employee salary: \"))\n",
    "    cursor.execute(sqlStr,(emp_id,emp_name,emp_city,emp_salary))\n",
    "connection.commit()\n",
    "print(\"all records got inserted\")"
   ]
  },
  {
   "cell_type": "code",
   "execution_count": 45,
   "id": "018330b7-0308-48fc-8313-56883bb727f6",
   "metadata": {},
   "outputs": [
    {
     "name": "stdout",
     "output_type": "stream",
     "text": [
      "Emp-Id:1001.00,Emp-Name:Dhiman,Emp-city:Kolkata,Emp-salary:39000.00\n",
      "Emp-Id:1002.00,Emp-Name:Anupam,Emp-city:Kolkata,Emp-salary:25000.00\n",
      "Emp-Id:1003.00,Emp-Name:Subham,Emp-city:Mumbai,Emp-salary:36000.00\n",
      "Emp-Id:1004.00,Emp-Name:Dinesh,Emp-city:Chennai,Emp-salary:28000.00\n",
      "Emp-Id:1005.00,Emp-Name:Kakali,Emp-city:Mumbai,Emp-salary:25000.00\n",
      "Emp-Id:1006.00,Emp-Name:Bimal,Emp-city:Hyderabad,Emp-salary:30000.00\n",
      "Emp-Id:1007.00,Emp-Name:Tarun,Emp-city:Chennai,Emp-salary:17000.00\n",
      "Emp-Id:1008.00,Emp-Name:Rittika,Emp-city:Durgapur,Emp-salary:45000.00\n",
      "Emp-Id:1009.00,Emp-Name:Barun,Emp-city:Hyderabad,Emp-salary:39000.00\n",
      "Emp-Id:1010.00,Emp-Name:Anjali,Emp-city:Lucknow,Emp-salary:20000.00\n",
      "Emp-Id:30,Emp-Name:chandu,Emp-city:kolkata,Emp-salary:233443.0\n",
      "Emp-Id:31,Emp-Name:raj,Emp-city:delhi,Emp-salary:3245.0\n"
     ]
    }
   ],
   "source": [
    "sqlStr=\"select * from employee;\"\n",
    "cur_table=connection.execute(sqlStr)\n",
    "for row in cur_table:\n",
    "    print(f\"Emp-Id:{row[0]},Emp-Name:{row[1]},Emp-city:{row[2]},Emp-salary:{row[3]}\")"
   ]
  },
  {
   "cell_type": "code",
   "execution_count": 47,
   "id": "c17ac33d-d14b-49f0-ba01-bf76aeae1fb6",
   "metadata": {},
   "outputs": [
    {
     "name": "stdout",
     "output_type": "stream",
     "text": [
      "no of records delete is  1\n"
     ]
    }
   ],
   "source": [
    "# delete those records where city =\"Bagalore\"\n",
    "sqlStr=\"delete from employee where emp_city='Lucknow';\"\n",
    "table = connection.execute(sqlStr)\n",
    "connection.commit()\n",
    "print(\"no of records delete is \",table.rowcount)"
   ]
  },
  {
   "cell_type": "markdown",
   "id": "fe43d5a3-acdd-47ee-8850-9d8372d46af0",
   "metadata": {},
   "source": [
    "## pandas"
   ]
  },
  {
   "cell_type": "code",
   "execution_count": 9,
   "id": "75a23fa2-00ae-4d59-85d7-d718ce421f1a",
   "metadata": {},
   "outputs": [],
   "source": [
    "import pandas as pd"
   ]
  },
  {
   "cell_type": "code",
   "execution_count": 33,
   "id": "c9cfbb2b-5377-4f16-bf2a-048a096ceffe",
   "metadata": {},
   "outputs": [
    {
     "data": {
      "text/html": [
       "<div>\n",
       "<style scoped>\n",
       "    .dataframe tbody tr th:only-of-type {\n",
       "        vertical-align: middle;\n",
       "    }\n",
       "\n",
       "    .dataframe tbody tr th {\n",
       "        vertical-align: top;\n",
       "    }\n",
       "\n",
       "    .dataframe thead th {\n",
       "        text-align: right;\n",
       "    }\n",
       "</style>\n",
       "<table border=\"1\" class=\"dataframe\">\n",
       "  <thead>\n",
       "    <tr style=\"text-align: right;\">\n",
       "      <th></th>\n",
       "      <th>0</th>\n",
       "      <th>1</th>\n",
       "      <th>2</th>\n",
       "      <th>3</th>\n",
       "    </tr>\n",
       "  </thead>\n",
       "  <tbody>\n",
       "    <tr>\n",
       "      <th>0</th>\n",
       "      <td>1001.00</td>\n",
       "      <td>Dhiman</td>\n",
       "      <td>Kolkata</td>\n",
       "      <td>39000.00</td>\n",
       "    </tr>\n",
       "    <tr>\n",
       "      <th>1</th>\n",
       "      <td>1002.00</td>\n",
       "      <td>Anupam</td>\n",
       "      <td>Kolkata</td>\n",
       "      <td>25000.00</td>\n",
       "    </tr>\n",
       "    <tr>\n",
       "      <th>2</th>\n",
       "      <td>1003.00</td>\n",
       "      <td>Subham</td>\n",
       "      <td>Mumbai</td>\n",
       "      <td>36000.00</td>\n",
       "    </tr>\n",
       "    <tr>\n",
       "      <th>3</th>\n",
       "      <td>1004.00</td>\n",
       "      <td>Dinesh</td>\n",
       "      <td>Chennai</td>\n",
       "      <td>28000.00</td>\n",
       "    </tr>\n",
       "    <tr>\n",
       "      <th>4</th>\n",
       "      <td>1005.00</td>\n",
       "      <td>Kakali</td>\n",
       "      <td>Mumbai</td>\n",
       "      <td>25000.00</td>\n",
       "    </tr>\n",
       "    <tr>\n",
       "      <th>5</th>\n",
       "      <td>1006.00</td>\n",
       "      <td>Bimal</td>\n",
       "      <td>Hyderabad</td>\n",
       "      <td>30000.00</td>\n",
       "    </tr>\n",
       "    <tr>\n",
       "      <th>6</th>\n",
       "      <td>1007.00</td>\n",
       "      <td>Tarun</td>\n",
       "      <td>Chennai</td>\n",
       "      <td>17000.00</td>\n",
       "    </tr>\n",
       "    <tr>\n",
       "      <th>7</th>\n",
       "      <td>1008.00</td>\n",
       "      <td>Rittika</td>\n",
       "      <td>Durgapur</td>\n",
       "      <td>45000.00</td>\n",
       "    </tr>\n",
       "    <tr>\n",
       "      <th>8</th>\n",
       "      <td>1009.00</td>\n",
       "      <td>Barun</td>\n",
       "      <td>Hyderabad</td>\n",
       "      <td>39000.00</td>\n",
       "    </tr>\n",
       "    <tr>\n",
       "      <th>9</th>\n",
       "      <td>30</td>\n",
       "      <td>chandu</td>\n",
       "      <td>kolkata</td>\n",
       "      <td>233443.0</td>\n",
       "    </tr>\n",
       "    <tr>\n",
       "      <th>10</th>\n",
       "      <td>31</td>\n",
       "      <td>raj</td>\n",
       "      <td>delhi</td>\n",
       "      <td>3245.0</td>\n",
       "    </tr>\n",
       "  </tbody>\n",
       "</table>\n",
       "</div>"
      ],
      "text/plain": [
       "          0        1          2         3\n",
       "0   1001.00   Dhiman    Kolkata  39000.00\n",
       "1   1002.00   Anupam    Kolkata  25000.00\n",
       "2   1003.00   Subham     Mumbai  36000.00\n",
       "3   1004.00   Dinesh    Chennai  28000.00\n",
       "4   1005.00   Kakali     Mumbai  25000.00\n",
       "5   1006.00    Bimal  Hyderabad  30000.00\n",
       "6   1007.00    Tarun    Chennai  17000.00\n",
       "7   1008.00  Rittika   Durgapur  45000.00\n",
       "8   1009.00    Barun  Hyderabad  39000.00\n",
       "9        30   chandu    kolkata  233443.0\n",
       "10       31      raj      delhi    3245.0"
      ]
     },
     "execution_count": 33,
     "metadata": {},
     "output_type": "execute_result"
    }
   ],
   "source": [
    "sqlStr=\"select * from employee;\"\n",
    "table=connection.execute(sqlStr)\n",
    "# print(list(table))\n",
    "record=pd.DataFrame(data=table)\n",
    "record"
   ]
  },
  {
   "cell_type": "code",
   "execution_count": 35,
   "id": "18053815-a018-483a-89cb-9eaa3334e5e3",
   "metadata": {},
   "outputs": [
    {
     "name": "stdout",
     "output_type": "stream",
     "text": [
      "     Emp-Id Emp-Name   Emp-City Emp-Salary\n",
      "0   1001.00   Dhiman    Kolkata   39000.00\n",
      "1   1002.00   Anupam    Kolkata   25000.00\n",
      "2   1003.00   Subham     Mumbai   36000.00\n",
      "3   1004.00   Dinesh    Chennai   28000.00\n",
      "4   1005.00   Kakali     Mumbai   25000.00\n",
      "5   1006.00    Bimal  Hyderabad   30000.00\n",
      "6   1007.00    Tarun    Chennai   17000.00\n",
      "7   1008.00  Rittika   Durgapur   45000.00\n",
      "8   1009.00    Barun  Hyderabad   39000.00\n",
      "9        30   chandu    kolkata   233443.0\n",
      "10       31      raj      delhi     3245.0\n"
     ]
    }
   ],
   "source": [
    "sqlStr = \"SELECT * FROM employee;\"\n",
    "table = connection.execute(sqlStr)\n",
    "\n",
    "# Define column names\n",
    "columns = [\"Emp-Id\", \"Emp-Name\", \"Emp-City\", \"Emp-Salary\"]\n",
    "\n",
    "# Create DataFrame with column names\n",
    "record = pd.DataFrame(data=table.fetchall(), columns=columns)\n",
    "\n",
    "# Display the DataFrame\n",
    "print(record)\n"
   ]
  },
  {
   "cell_type": "code",
   "execution_count": 37,
   "id": "21391c77-4b9c-464c-b420-1555280f04c1",
   "metadata": {},
   "outputs": [],
   "source": [
    "## Matplotlib library"
   ]
  },
  {
   "cell_type": "code",
   "execution_count": 39,
   "id": "dbc9d144-491f-425e-b9d3-863dc9fb56d6",
   "metadata": {},
   "outputs": [],
   "source": [
    "import matplotlib.pyplot as plt"
   ]
  },
  {
   "cell_type": "code",
   "execution_count": 41,
   "id": "1830c452-397e-49db-9ebb-7e81a1bc5937",
   "metadata": {},
   "outputs": [
    {
     "name": "stderr",
     "output_type": "stream",
     "text": [
      "C:\\Users\\HP\\AppData\\Local\\Temp\\ipykernel_13112\\3420487645.py:13: UserWarning: Glyph 128202 (\\N{BAR CHART}) missing from font(s) DejaVu Sans.\n",
      "  plt.tight_layout()\n",
      "D:\\Anaconda\\Lib\\site-packages\\IPython\\core\\pylabtools.py:170: UserWarning: Glyph 128202 (\\N{BAR CHART}) missing from font(s) DejaVu Sans.\n",
      "  fig.canvas.print_figure(bytes_io, **kw)\n"
     ]
    },
    {
     "data": {
      "image/png": "[encoded data removed]",
      "text/plain": [
       "<Figure size 1000x600 with 1 Axes>"
      ]
     },
     "metadata": {},
     "output_type": "display_data"
    }
   ],
   "source": [
    "df = pd.DataFrame(record , columns=[\"Emp-Id\", \"Emp-Name\", \"Emp-City\", \"Emp-Salary\"])\n",
    "\n",
    "# Plotting\n",
    "plt.figure(figsize=(10, 6))\n",
    "plt.plot(df[\"Emp-Id\"], df[\"Emp-Salary\"], marker='o', linestyle='-', color='teal')\n",
    "# OR: use plt.scatter(df[\"Emp-Id\"], df[\"Emp-Salary\"], color='purple') for a scatter version\n",
    "\n",
    "# Formatting\n",
    "plt.title(\"📊 Employee Salary vs Emp-ID\")\n",
    "plt.xlabel(\"Employee ID\")\n",
    "plt.ylabel(\"Salary\")\n",
    "plt.grid(True)\n",
    "plt.tight_layout()\n",
    "plt.show()"
   ]
  },
  {
   "cell_type": "code",
   "execution_count": 45,
   "id": "315e7e20-3639-46fe-b9f8-6396603aacc7",
   "metadata": {},
   "outputs": [
    {
     "data": {
      "image/png": "[encoded data removed]",
      "text/plain": [
       "<Figure size 640x480 with 1 Axes>"
      ]
     },
     "metadata": {},
     "output_type": "display_data"
    }
   ],
   "source": [
    "plt.scatter(record['Emp-Id'],record['Emp-Salary'])\n",
    "plt.show()"
   ]
  }
 ],
 "metadata": {
  "kernelspec": {
   "display_name": "Python [conda env:base] *",
   "language": "python",
   "name": "conda-base-py"
  },
  "language_info": {
   "codemirror_mode": {
    "name": "ipython",
    "version": 3
   },
   "file_extension": ".py",
   "mimetype": "text/x-python",
   "name": "python",
   "nbconvert_exporter": "python",
   "pygments_lexer": "ipython3",
   "version": "3.12.7"
  }
 },
 "nbformat": 4,
 "nbformat_minor": 5
}
