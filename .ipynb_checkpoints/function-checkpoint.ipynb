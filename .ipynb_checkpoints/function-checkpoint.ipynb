{
 "cells": [
  {
   "cell_type": "code",
   "execution_count": 1,
   "id": "eae00ef6-e04d-4139-8f73-b95b17ed70e4",
   "metadata": {},
   "outputs": [
    {
     "ename": "TypeError",
     "evalue": "'int' object is not iterable",
     "output_type": "error",
     "traceback": [
      "\u001b[1;31m---------------------------------------------------------------------------\u001b[0m",
      "\u001b[1;31mTypeError\u001b[0m                                 Traceback (most recent call last)",
      "Cell \u001b[1;32mIn[1], line 1\u001b[0m\n\u001b[1;32m----> 1\u001b[0m \u001b[38;5;28miter\u001b[39m(\u001b[38;5;241m20\u001b[39m)\n",
      "\u001b[1;31mTypeError\u001b[0m: 'int' object is not iterable"
     ]
    }
   ],
   "source": [
    "iter(20)   # check whether the data set is iterable or not"
   ]
  },
  {
   "cell_type": "code",
   "execution_count": 3,
   "id": "927ba927-0d2b-4736-8de8-d39cbc74aae5",
   "metadata": {},
   "outputs": [
    {
     "data": {
      "text/plain": [
       "<list_iterator at 0x178b9edae60>"
      ]
     },
     "execution_count": 3,
     "metadata": {},
     "output_type": "execute_result"
    }
   ],
   "source": [
    "iter([1,2,3,4])"
   ]
  },
  {
   "cell_type": "code",
   "execution_count": 7,
   "id": "81b6754f-6371-4ec6-bac6-9bbe14d6edf7",
   "metadata": {},
   "outputs": [
    {
     "data": {
      "text/plain": [
       "<tuple_iterator at 0x178bbd8ae60>"
      ]
     },
     "execution_count": 7,
     "metadata": {},
     "output_type": "execute_result"
    }
   ],
   "source": [
    "iter((1,2,3,4))"
   ]
  },
  {
   "cell_type": "code",
   "execution_count": 9,
   "id": "eff67b03-8d9b-43af-a223-434be7de0b60",
   "metadata": {},
   "outputs": [
    {
     "data": {
      "text/plain": [
       "<set_iterator at 0x178ba2bcec0>"
      ]
     },
     "execution_count": 9,
     "metadata": {},
     "output_type": "execute_result"
    }
   ],
   "source": [
    "iter({1,2,3,4})"
   ]
  },
  {
   "cell_type": "code",
   "execution_count": 11,
   "id": "58ee9a84-0ae7-43b0-87b1-3cbd5a8bf31e",
   "metadata": {},
   "outputs": [
    {
     "data": {
      "text/plain": [
       "<str_ascii_iterator at 0x178ba511540>"
      ]
     },
     "execution_count": 11,
     "metadata": {},
     "output_type": "execute_result"
    }
   ],
   "source": [
    "iter(\"String\")"
   ]
  },
  {
   "cell_type": "code",
   "execution_count": 19,
   "id": "8641f099-096c-4c0c-87a2-566159fc94fd",
   "metadata": {},
   "outputs": [
    {
     "name": "stdout",
     "output_type": "stream",
     "text": [
      "1\n",
      "2\n",
      "3\n",
      "4\n"
     ]
    }
   ],
   "source": [
    "l=iter([1,2,3,4])\n",
    "print(next(l))\n",
    "print(next(l))\n",
    "print(next(l))\n",
    "print(next(l))"
   ]
  },
  {
   "cell_type": "code",
   "execution_count": 21,
   "id": "a5dcb0aa-a936-45fc-8a29-2dd23e53ab87",
   "metadata": {},
   "outputs": [
    {
     "ename": "StopIteration",
     "evalue": "",
     "output_type": "error",
     "traceback": [
      "\u001b[1;31m---------------------------------------------------------------------------\u001b[0m",
      "\u001b[1;31mStopIteration\u001b[0m                             Traceback (most recent call last)",
      "Cell \u001b[1;32mIn[21], line 1\u001b[0m\n\u001b[1;32m----> 1\u001b[0m \u001b[38;5;28mprint\u001b[39m(\u001b[38;5;28mnext\u001b[39m(l))\n",
      "\u001b[1;31mStopIteration\u001b[0m: "
     ]
    }
   ],
   "source": [
    "print(next(l))"
   ]
  },
  {
   "cell_type": "code",
   "execution_count": 23,
   "id": "4b88a78c-186f-4acb-9445-83ddf104bd1b",
   "metadata": {},
   "outputs": [
    {
     "ename": "TypeError",
     "evalue": "'bool' object is not iterable",
     "output_type": "error",
     "traceback": [
      "\u001b[1;31m---------------------------------------------------------------------------\u001b[0m",
      "\u001b[1;31mTypeError\u001b[0m                                 Traceback (most recent call last)",
      "Cell \u001b[1;32mIn[23], line 1\u001b[0m\n\u001b[1;32m----> 1\u001b[0m \u001b[38;5;28miter\u001b[39m(\u001b[38;5;28;01mTrue\u001b[39;00m)\n",
      "\u001b[1;31mTypeError\u001b[0m: 'bool' object is not iterable"
     ]
    }
   ],
   "source": [
    "iter(True)"
   ]
  },
  {
   "cell_type": "code",
   "execution_count": 25,
   "id": "be946bf5-1ce8-4549-bddd-786c3fe337a4",
   "metadata": {},
   "outputs": [
    {
     "data": {
      "text/plain": [
       "<dict_keyiterator at 0x178bd601bc0>"
      ]
     },
     "execution_count": 25,
     "metadata": {},
     "output_type": "execute_result"
    }
   ],
   "source": [
    "iter({\"key\":\"value\"})"
   ]
  },
  {
   "cell_type": "code",
   "execution_count": 29,
   "id": "e10b2c55-70d2-446f-8d6c-753a3a534449",
   "metadata": {},
   "outputs": [
    {
     "name": "stdout",
     "output_type": "stream",
     "text": [
      "key\n",
      "key2\n"
     ]
    }
   ],
   "source": [
    "d=iter({\"key\":\"value\",\"key2\":\"value2\",\"key3\":\"value3\"})\n",
    "print(next(d))\n",
    "print(next(d))"
   ]
  },
  {
   "cell_type": "code",
   "execution_count": 31,
   "id": "22729458-5a13-4716-b721-7bfed5cd9bd6",
   "metadata": {},
   "outputs": [
    {
     "data": {
      "text/plain": [
       "range(0, 5)"
      ]
     },
     "execution_count": 31,
     "metadata": {},
     "output_type": "execute_result"
    }
   ],
   "source": [
    "range(0,5)"
   ]
  },
  {
   "cell_type": "code",
   "execution_count": 33,
   "id": "80ef5597-89f9-48f0-9711-e83d1821cb0d",
   "metadata": {},
   "outputs": [
    {
     "data": {
      "text/plain": [
       "[0, 1, 2, 3, 4]"
      ]
     },
     "execution_count": 33,
     "metadata": {},
     "output_type": "execute_result"
    }
   ],
   "source": [
    "list(range(0,5))"
   ]
  },
  {
   "cell_type": "code",
   "execution_count": 39,
   "id": "27288639-e8e7-4ef0-ae02-c8e698a65d03",
   "metadata": {},
   "outputs": [
    {
     "name": "stdout",
     "output_type": "stream",
     "text": [
      "0\n",
      "1\n",
      "2\n",
      "3\n"
     ]
    }
   ],
   "source": [
    "i=iter(range(0,5))\n",
    "print(next(i))\n",
    "print(next(i))\n",
    "print(next(i))\n",
    "print(next(i))"
   ]
  },
  {
   "cell_type": "code",
   "execution_count": 47,
   "id": "71827faa-ba35-4a8e-9c33-ed0994209ea3",
   "metadata": {},
   "outputs": [
    {
     "name": "stdout",
     "output_type": "stream",
     "text": [
      "range(0, 4)\n",
      "4\n"
     ]
    }
   ],
   "source": [
    "print(range(0,4))   # both is diffrent function\n",
    "print(len(\"sudh\"))"
   ]
  },
  {
   "cell_type": "code",
   "execution_count": 58,
   "id": "33c39527-7b76-43b4-8099-93c071ac15b7",
   "metadata": {},
   "outputs": [
    {
     "name": "stdout",
     "output_type": "stream",
     "text": [
      "<generator object count_fun at 0x00000178BD4DBAC0>\n",
      "1\n",
      "2\n",
      "3\n",
      "4\n",
      "5\n",
      "6\n",
      "7\n",
      "8\n",
      "9\n"
     ]
    }
   ],
   "source": [
    "# range and this funtion are same\n",
    "def count_fun(n):\n",
    "    i=1\n",
    "    while i<=n:\n",
    "        yield i\n",
    "        i=i+1\n",
    "print(count_fun(9))\n",
    "for i in count_fun(9):\n",
    "    print(i)"
   ]
  },
  {
   "cell_type": "code",
   "execution_count": null,
   "id": "3233fb42-1824-413b-9061-5be81a0c2729",
   "metadata": {},
   "outputs": [],
   "source": []
  },
  {
   "cell_type": "code",
   "execution_count": 1,
   "id": "62a4ac43-172a-47d4-9618-d3e6858f201d",
   "metadata": {},
   "outputs": [
    {
     "name": "stdin",
     "output_type": "stream",
     "text": [
      "enter 3 word message rahul arjun deepak\n"
     ]
    },
    {
     "name": "stdout",
     "output_type": "stream",
     "text": [
      "rahul arjun deepak\n"
     ]
    }
   ],
   "source": [
    "x=input(\"enter 3 word message\")\n",
    "w1,w2,w3=x.split()\n",
    "print(w1,w2,w3)"
   ]
  },
  {
   "cell_type": "code",
   "execution_count": 5,
   "id": "102ac7d6-e0c1-416c-837d-67aec4b96d66",
   "metadata": {},
   "outputs": [
    {
     "name": "stdin",
     "output_type": "stream",
     "text": [
      "enter 2 number 2 3\n"
     ]
    },
    {
     "name": "stdout",
     "output_type": "stream",
     "text": [
      "5\n"
     ]
    }
   ],
   "source": [
    "a,b=input(\"enter 2 number\").split()\n",
    "c=int(a)+int(b)\n",
    "print(c)"
   ]
  },
  {
   "cell_type": "code",
   "execution_count": 7,
   "id": "1de0755c-a2bc-4962-b241-95c8ec9845d7",
   "metadata": {},
   "outputs": [
    {
     "name": "stdin",
     "output_type": "stream",
     "text": [
      "enter two number 123 321\n"
     ]
    },
    {
     "name": "stdout",
     "output_type": "stream",
     "text": [
      "444\n"
     ]
    }
   ],
   "source": [
    "x=input(\"enter two number\")\n",
    "sum=int(x.split()[0])+int(x.split()[1])\n",
    "print(sum)"
   ]
  },
  {
   "cell_type": "code",
   "execution_count": 19,
   "id": "b3333793-0a77-4154-a34a-9ecfb13637aa",
   "metadata": {},
   "outputs": [
    {
     "name": "stdout",
     "output_type": "stream",
     "text": [
      "['A', 'B', 'C', 'D', 'E F']\n",
      "['A', 'B', 'C', 'D E F']\n"
     ]
    }
   ],
   "source": [
    "s1=\"A B C D E F\"\n",
    "print(s1.split(' ',4)) # Splits at most 4 times\n",
    "print(s1.split(' ',3))"
   ]
  },
  {
   "cell_type": "code",
   "execution_count": 23,
   "id": "9a6879fe-be4a-4c6b-b3b5-3426dcc30674",
   "metadata": {},
   "outputs": [
    {
     "name": "stdin",
     "output_type": "stream",
     "text": [
      "Enter three numbers:  10 20 30\n"
     ]
    },
    {
     "name": "stdout",
     "output_type": "stream",
     "text": [
      "10 20 30\n"
     ]
    }
   ],
   "source": [
    "# Taking multiple inputs in a single line\n",
    "a, b, c = map(int, input(\"Enter three numbers: \").split())\n",
    "print(a, b, c)"
   ]
  },
  {
   "cell_type": "code",
   "execution_count": 11,
   "id": "dfa7b148-88ec-4d67-9c86-2acaf7e3bda4",
   "metadata": {},
   "outputs": [
    {
     "name": "stdin",
     "output_type": "stream",
     "text": [
      "Enter number of inputs:  4\n",
      "Enter a number:  1\n",
      "Enter a number:  2\n",
      "Enter a number:  4\n",
      "Enter a number:  5\n"
     ]
    },
    {
     "name": "stdout",
     "output_type": "stream",
     "text": [
      "[1, 2, 4, 5]\n"
     ]
    }
   ],
   "source": [
    "n = int(input(\"Enter number of inputs: \"))\n",
    "values = []\n",
    "for _ in range(n):\n",
    "    values.append(int(input(\"Enter a number: \")))\n",
    "print(values)"
   ]
  },
  {
   "cell_type": "code",
   "execution_count": 15,
   "id": "a6fef0d8-7fb8-4281-8cdc-978f227975d6",
   "metadata": {},
   "outputs": [
    {
     "name": "stdin",
     "output_type": "stream",
     "text": [
      "Enter numbers:  10 20 30 40\n"
     ]
    },
    {
     "name": "stdout",
     "output_type": "stream",
     "text": [
      "[10, 20, 30, 40]\n"
     ]
    }
   ],
   "source": [
    "numbers = [int(x) for x in input(\"Enter numbers: \").split()]\n",
    "print(numbers)"
   ]
  },
  {
   "cell_type": "code",
   "execution_count": 17,
   "id": "c3e97846-da00-471a-ba1d-629bfa986e29",
   "metadata": {},
   "outputs": [
    {
     "name": "stdin",
     "output_type": "stream",
     "text": [
      "Enter values:  10 20 30 40\n"
     ]
    },
    {
     "name": "stdout",
     "output_type": "stream",
     "text": [
      "(10, 20, 30, 40)\n"
     ]
    }
   ],
   "source": [
    "tup = tuple(map(int, input(\"Enter values: \").split()))\n",
    "print(tup)"
   ]
  },
  {
   "cell_type": "code",
   "execution_count": 25,
   "id": "baa8c44a-f6c8-4c7d-8ddf-cd5982dc60ac",
   "metadata": {},
   "outputs": [
    {
     "name": "stdout",
     "output_type": "stream",
     "text": [
      "1\n",
      "2\n",
      "3\n",
      "Breaking the loop at 4\n"
     ]
    }
   ],
   "source": [
    "for i in range(1, 6):\n",
    "    if i == 4:\n",
    "        print(\"Breaking the loop at\", i)\n",
    "        break  # Stops the loop when i == 4\n",
    "    print(i)"
   ]
  },
  {
   "cell_type": "code",
   "execution_count": 27,
   "id": "25fc36ea-e55d-4cd2-be58-755f8a369bea",
   "metadata": {},
   "outputs": [
    {
     "name": "stdout",
     "output_type": "stream",
     "text": [
      "1\n",
      "2\n",
      "Skipping 3\n",
      "4\n",
      "5\n"
     ]
    }
   ],
   "source": [
    "for i in range(1, 6):\n",
    "    if i == 3:\n",
    "        print(\"Skipping\", i)\n",
    "        continue  # Skips printing 3\n",
    "    print(i)"
   ]
  },
  {
   "cell_type": "code",
   "execution_count": 29,
   "id": "0d215643-03b3-4445-8a1a-50f747fbf4c7",
   "metadata": {},
   "outputs": [
    {
     "name": "stdin",
     "output_type": "stream",
     "text": [
      "Enter a number (0 to exit):  2\n"
     ]
    },
    {
     "name": "stdout",
     "output_type": "stream",
     "text": [
      "You entered: 2\n"
     ]
    },
    {
     "name": "stdin",
     "output_type": "stream",
     "text": [
      "Enter a number (0 to exit):  3\n"
     ]
    },
    {
     "name": "stdout",
     "output_type": "stream",
     "text": [
      "You entered: 3\n"
     ]
    },
    {
     "name": "stdin",
     "output_type": "stream",
     "text": [
      "Enter a number (0 to exit):  4\n"
     ]
    },
    {
     "name": "stdout",
     "output_type": "stream",
     "text": [
      "You entered: 4\n"
     ]
    },
    {
     "name": "stdin",
     "output_type": "stream",
     "text": [
      "Enter a number (0 to exit):  0\n"
     ]
    },
    {
     "name": "stdout",
     "output_type": "stream",
     "text": [
      "Exiting loop...\n"
     ]
    }
   ],
   "source": [
    "while True:\n",
    "    num = int(input(\"Enter a number (0 to exit): \"))\n",
    "    if num == 0:\n",
    "        print(\"Exiting loop...\")\n",
    "        break\n",
    "    print(\"You entered:\", num)"
   ]
  },
  {
   "cell_type": "raw",
   "id": "2ee55a32-ed5e-48cf-912e-9ac86c5c5d53",
   "metadata": {},
   "source": [
    "add odd number from 1 to 10"
   ]
  },
  {
   "cell_type": "code",
   "execution_count": 31,
   "id": "43aacdfc-659e-48d2-ab00-49f37c509605",
   "metadata": {},
   "outputs": [
    {
     "name": "stdout",
     "output_type": "stream",
     "text": [
      "Sum of odd numbers from 1 to 10: 25\n"
     ]
    }
   ],
   "source": [
    "total = 0\n",
    "for i in range(1, 11, 2):  # Start at 1, go up to 10, step by 2 (odd numbers)\n",
    "    total += i\n",
    "print(\"Sum of odd numbers from 1 to 10:\", total)"
   ]
  },
  {
   "cell_type": "code",
   "execution_count": 33,
   "id": "39e9f46b-9283-4d54-9699-3abd49e718bf",
   "metadata": {},
   "outputs": [
    {
     "name": "stdout",
     "output_type": "stream",
     "text": [
      "Sum of odd numbers from 1 to 10: 25\n"
     ]
    }
   ],
   "source": [
    "n = 5  # Number of odd numbers from 1 to 10\n",
    "total = n ** 2\n",
    "print(\"Sum of odd numbers from 1 to 10:\", total)"
   ]
  },
  {
   "cell_type": "code",
   "execution_count": 35,
   "id": "35ad5fa1-f114-4bf6-8d6c-7238efeb9b5b",
   "metadata": {},
   "outputs": [
    {
     "name": "stdout",
     "output_type": "stream",
     "text": [
      "0\n",
      "1\n",
      "2\n",
      "3\n",
      "4\n"
     ]
    }
   ],
   "source": [
    "for i in range(5):\n",
    "    if i == 3:\n",
    "        pass  # Placeholder to avoid syntax error\n",
    "    print(i)"
   ]
  },
  {
   "cell_type": "code",
   "execution_count": 41,
   "id": "73b06240-6163-4b27-bd4b-4e25d341973b",
   "metadata": {},
   "outputs": [
    {
     "name": "stdout",
     "output_type": "stream",
     "text": [
      "executing further logic\n"
     ]
    }
   ],
   "source": [
    "x = 10\n",
    "if x > 5:\n",
    "    pass  # Placeholder for future logic\n",
    "else:\n",
    "    print(\"x is small\")\n",
    "print(\"executing further logic\")"
   ]
  },
  {
   "cell_type": "markdown",
   "id": "a8419be7-3f26-44e7-984e-1fc62ed36f44",
   "metadata": {},
   "source": [
    "# FUNCTION"
   ]
  },
  {
   "cell_type": "code",
   "execution_count": 44,
   "id": "7e53604a-66ce-45a8-b43f-717b3bd642e3",
   "metadata": {},
   "outputs": [
    {
     "name": "stdout",
     "output_type": "stream",
     "text": [
      "Hello, World!\n",
      "3\n",
      "<class 'int'>\n"
     ]
    }
   ],
   "source": [
    "print(\"Hello, World!\")  \n",
    "print(len([1, 2, 3]))\n",
    "print(type(100))"
   ]
  },
  {
   "cell_type": "code",
   "execution_count": 46,
   "id": "33d1c6ec-1d10-4407-8ec0-9cd3e697b0ab",
   "metadata": {},
   "outputs": [
    {
     "name": "stdout",
     "output_type": "stream",
     "text": [
      "Hello, Alice!\n"
     ]
    }
   ],
   "source": [
    "def greet(name):\n",
    "    return f\"Hello, {name}!\"\n",
    "\n",
    "print(greet(\"Alice\"))"
   ]
  },
  {
   "cell_type": "code",
   "execution_count": 48,
   "id": "26fd8ea7-0591-492a-91c2-2f64970fbb37",
   "metadata": {},
   "outputs": [
    {
     "name": "stdout",
     "output_type": "stream",
     "text": [
      "15\n"
     ]
    }
   ],
   "source": [
    "def add(a, b):\n",
    "    return a + b\n",
    "\n",
    "result = add(5, 10)\n",
    "print(result)  "
   ]
  },
  {
   "cell_type": "code",
   "execution_count": 50,
   "id": "4f624730-bf67-4d2d-82ac-2721a9410cea",
   "metadata": {},
   "outputs": [
    {
     "name": "stdout",
     "output_type": "stream",
     "text": [
      "Hello, World!\n"
     ]
    }
   ],
   "source": [
    "def say_hello():\n",
    "    print(\"Hello, World!\")\n",
    "\n",
    "say_hello()"
   ]
  },
  {
   "cell_type": "code",
   "execution_count": 27,
   "id": "f5d9676a-ba4e-4804-b610-43d6f2547006",
   "metadata": {},
   "outputs": [
    {
     "name": "stdout",
     "output_type": "stream",
     "text": [
      "None <class 'NoneType'>\n"
     ]
    }
   ],
   "source": [
    "def fullname(a,b):\n",
    "    c=a+b\n",
    "    return\n",
    "w=fullname('pw','skills')\n",
    "print(w,type(w))"
   ]
  },
  {
   "cell_type": "code",
   "execution_count": null,
   "id": "318b9d08-31b1-4bb9-930e-d8aa4c21c80e",
   "metadata": {},
   "outputs": [],
   "source": []
  },
  {
   "cell_type": "code",
   "execution_count": 52,
   "id": "59b11474-c910-444f-bfa1-eac38c57be9c",
   "metadata": {},
   "outputs": [
    {
     "name": "stdout",
     "output_type": "stream",
     "text": [
      "Hello, Guest!\n",
      "Hello, Alice!\n"
     ]
    }
   ],
   "source": [
    "def greet(name=\"Guest\"):\n",
    "    print(f\"Hello, {name}!\")\n",
    "\n",
    "greet()\n",
    "greet(\"Alice\")"
   ]
  },
  {
   "cell_type": "code",
   "execution_count": 54,
   "id": "d53908b1-dcb5-47e4-a167-25cb0cd1daea",
   "metadata": {},
   "outputs": [
    {
     "name": "stdout",
     "output_type": "stream",
     "text": [
      "Name: John, Age: 25\n"
     ]
    }
   ],
   "source": [
    "def person(name, age):\n",
    "    print(f\"Name: {name}, Age: {age}\")\n",
    "\n",
    "person(age=25, name=\"John\")"
   ]
  },
  {
   "cell_type": "raw",
   "id": "882e9b87-0292-46ac-ba24-345944ecaf00",
   "metadata": {},
   "source": [
    "*args: Accepts multiple positional arguments as a tuple.\n",
    "**kwargs: Accepts multiple keyword arguments as a dictionary."
   ]
  },
  {
   "cell_type": "code",
   "execution_count": 9,
   "id": "ddf6edab-f153-4e49-8ff5-138203c2f498",
   "metadata": {},
   "outputs": [
    {
     "name": "stdout",
     "output_type": "stream",
     "text": [
      "10\n"
     ]
    }
   ],
   "source": [
    "def add_numbers(*args):\n",
    "    return sum(args)\n",
    "\n",
    "print(add_numbers(1, 2, 3, 4))"
   ]
  },
  {
   "cell_type": "code",
   "execution_count": 11,
   "id": "bac6461f-3ca7-41d5-a8f7-d3453cf39019",
   "metadata": {},
   "outputs": [
    {
     "name": "stdout",
     "output_type": "stream",
     "text": [
      "name: Alice\n",
      "age: 30\n",
      "city: New York\n"
     ]
    }
   ],
   "source": [
    "def display_info(**kwargs):\n",
    "    for key, value in kwargs.items():\n",
    "        print(f\"{key}: {value}\")\n",
    "\n",
    "display_info(name=\"Alice\", age=30, city=\"New York\")"
   ]
  },
  {
   "cell_type": "code",
   "execution_count": 13,
   "id": "969cfde9-89e3-4d90-bd5f-40e0a4d4923d",
   "metadata": {},
   "outputs": [
    {
     "name": "stdout",
     "output_type": "stream",
     "text": [
      "25\n"
     ]
    }
   ],
   "source": [
    "square = lambda x: x * x\n",
    "print(square(5))"
   ]
  },
  {
   "cell_type": "code",
   "execution_count": 15,
   "id": "bf09f874-9005-4c50-9cab-fce93decf608",
   "metadata": {},
   "outputs": [
    {
     "name": "stdout",
     "output_type": "stream",
     "text": [
      "7\n"
     ]
    }
   ],
   "source": [
    "add = lambda a, b: a + b\n",
    "print(add(3, 4))"
   ]
  },
  {
   "cell_type": "code",
   "execution_count": 17,
   "id": "8d048be3-6dce-4402-9254-0fa4b02e4ec4",
   "metadata": {},
   "outputs": [
    {
     "name": "stdout",
     "output_type": "stream",
     "text": [
      "120\n"
     ]
    }
   ],
   "source": [
    "def factorial(n):\n",
    "    if n == 0:\n",
    "        return 1\n",
    "    return n * factorial(n - 1)\n",
    "\n",
    "print(factorial(5))  # Output: 120"
   ]
  },
  {
   "cell_type": "code",
   "execution_count": 19,
   "id": "cde38e15-65a8-4ccb-a939-19f20e35502c",
   "metadata": {},
   "outputs": [
    {
     "name": "stdout",
     "output_type": "stream",
     "text": [
      "16\n"
     ]
    }
   ],
   "source": [
    "def apply_function(func, value):\n",
    "    return func(value)\n",
    "\n",
    "result = apply_function(lambda x: x * x, 4)\n",
    "print(result)"
   ]
  },
  {
   "cell_type": "code",
   "execution_count": 21,
   "id": "42528821-ea6e-43c2-9719-a0e969134fa7",
   "metadata": {},
   "outputs": [
    {
     "name": "stdout",
     "output_type": "stream",
     "text": [
      "Inner function called\n"
     ]
    }
   ],
   "source": [
    "def outer_function():\n",
    "    def inner_function():\n",
    "        print(\"Inner function called\")\n",
    "    inner_function()\n",
    "\n",
    "outer_function()"
   ]
  },
  {
   "cell_type": "code",
   "execution_count": 23,
   "id": "bd555ef8-71e1-4862-a961-81a6ed78e8a3",
   "metadata": {},
   "outputs": [
    {
     "name": "stdout",
     "output_type": "stream",
     "text": [
      "0\n",
      "1\n",
      "2\n"
     ]
    }
   ],
   "source": [
    "def my_generator():\n",
    "    for i in range(3):\n",
    "        yield i\n",
    "\n",
    "gen = my_generator()\n",
    "print(next(gen))  # Output: 0\n",
    "print(next(gen))  # Output: 1\n",
    "print(next(gen))  # Output: 2"
   ]
  },
  {
   "cell_type": "code",
   "execution_count": 29,
   "id": "40b91963-e720-4b4d-91a4-7d85e964654f",
   "metadata": {},
   "outputs": [
    {
     "name": "stdout",
     "output_type": "stream",
     "text": [
      "Simple Calculator\n",
      "Operations: +, -, *, /\n"
     ]
    },
    {
     "name": "stdin",
     "output_type": "stream",
     "text": [
      "Enter first number:  12\n",
      "Enter operation (+, -, *, /):  +\n",
      "Enter second number:  34\n"
     ]
    },
    {
     "name": "stdout",
     "output_type": "stream",
     "text": [
      "Result: 46.0\n"
     ]
    }
   ],
   "source": [
    "def add(a, b):\n",
    "    return a + b\n",
    "\n",
    "def subtract(a, b):\n",
    "    return a - b\n",
    "\n",
    "def multiply(a, b):\n",
    "    return a * b\n",
    "\n",
    "def divide(a, b):\n",
    "    if b == 0:\n",
    "        return \"Error! Division by zero.\"\n",
    "    return a / b\n",
    "\n",
    "def calculator():\n",
    "    print(\"Simple Calculator\")\n",
    "    print(\"Operations: +, -, *, /\")\n",
    "    \n",
    "    num1 = float(input(\"Enter first number: \"))\n",
    "    operator = input(\"Enter operation (+, -, *, /): \")\n",
    "    num2 = float(input(\"Enter second number: \"))\n",
    "\n",
    "    if operator == \"+\":\n",
    "        result = add(num1, num2)\n",
    "    elif operator == \"-\":\n",
    "        result = subtract(num1, num2)\n",
    "    elif operator == \"*\":\n",
    "        result = multiply(num1, num2)\n",
    "    elif operator == \"/\":\n",
    "        result = divide(num1, num2)\n",
    "    else:\n",
    "        result = \"Invalid operation!\"\n",
    "\n",
    "    print(\"Result:\", result)\n",
    "\n",
    "calculator()"
   ]
  },
  {
   "cell_type": "raw",
   "id": "00998dcf-2831-4843-866a-20e6d27ff254",
   "metadata": {},
   "source": [
    "re is Python’s regular expressions module. It allows you to work with text by searching, matching, and manipulating patterns."
   ]
  },
  {
   "cell_type": "code",
   "execution_count": 33,
   "id": "bfdec22c-3a6e-4e6c-baf6-9b88f2b89374",
   "metadata": {},
   "outputs": [],
   "source": [
    "import re"
   ]
  },
  {
   "cell_type": "code",
   "execution_count": 35,
   "id": "b3a9f9fc-3a56-46fa-ad66-12c62e0a2cbd",
   "metadata": {},
   "outputs": [
    {
     "name": "stdout",
     "output_type": "stream",
     "text": [
      "Match found!\n"
     ]
    }
   ],
   "source": [
    "text = \"Hello World\"\n",
    "match = re.match(r\"Hello\", text)\n",
    "if match:\n",
    "    print(\"Match found!\")\n",
    "else:\n",
    "    print(\"No match\")"
   ]
  },
  {
   "cell_type": "code",
   "execution_count": 37,
   "id": "89edd6e7-f4e9-4ead-8c23-73df6608e354",
   "metadata": {},
   "outputs": [
    {
     "name": "stdout",
     "output_type": "stream",
     "text": [
      "Found: example@gmail.com\n"
     ]
    }
   ],
   "source": [
    "# re.search() - Find a pattern anywhere in the string\n",
    "text = \"I have an email: example@gmail.com\"\n",
    "search = re.search(r\"\\w+@\\w+\\.\\w+\", text)  # Matches an email pattern\n",
    "if search:\n",
    "    print(\"Found:\", search.group())"
   ]
  },
  {
   "cell_type": "code",
   "execution_count": 39,
   "id": "9fdb95e2-5027-46c7-b5e0-57b35dde1cbf",
   "metadata": {},
   "outputs": [
    {
     "name": "stdout",
     "output_type": "stream",
     "text": [
      "['2', '3', '4']\n"
     ]
    }
   ],
   "source": [
    "# re.findall() - Find all matches in a string\n",
    "text = \"There are 2 cats, 3 dogs, and 4 birds.\"\n",
    "numbers = re.findall(r\"\\d+\", text)  # Find all numbers\n",
    "print(numbers) "
   ]
  },
  {
   "cell_type": "code",
   "execution_count": 41,
   "id": "e955858a-e542-4128-bb3c-4b930dffb081",
   "metadata": {},
   "outputs": [
    {
     "name": "stdout",
     "output_type": "stream",
     "text": [
      "I love Python and Python.\n"
     ]
    }
   ],
   "source": [
    "# re.sub() - Replace text using a pattern\n",
    "text = \"I love Python 2 and Python 3.\"\n",
    "new_text = re.sub(r\"Python \\d\", \"Python\", text)  # Replace Python versions\n",
    "print(new_text) "
   ]
  },
  {
   "cell_type": "raw",
   "id": "c170f0c4-80e2-4a94-852d-fd7aa2de29dd",
   "metadata": {},
   "source": [
    "A valid password should meet certain criteria. \n",
    "✅ At least 8 characters long\n",
    "✅ Contains at least one uppercase letter\n",
    "✅ Contains at least one lowercase letter\n",
    "✅ Contains at least one digit\n",
    "✅ Contains at least one special character (@, #, $, etc.)"
   ]
  },
  {
   "cell_type": "code",
   "execution_count": 45,
   "id": "991489aa-3af7-4aa5-a203-b702d9eef752",
   "metadata": {},
   "outputs": [
    {
     "name": "stdin",
     "output_type": "stream",
     "text": [
      "Enter a password:  Strong@123\n"
     ]
    },
    {
     "name": "stdout",
     "output_type": "stream",
     "text": [
      "Password is valid!\n"
     ]
    }
   ],
   "source": [
    "import re\n",
    "def is_valid_password(password):\n",
    "    # Minimum length of 8 characters\n",
    "    if len(password) < 8:\n",
    "        return \"Password must be at least 8 characters long.\"\n",
    "\n",
    "    # At least one uppercase letter\n",
    "    if not re.search(r\"[A-Z]\", password):\n",
    "        return \"Password must contain at least one uppercase letter.\"\n",
    "\n",
    "    # At least one lowercase letter\n",
    "    if not re.search(r\"[a-z]\", password):\n",
    "        return \"Password must contain at least one lowercase letter.\"\n",
    "\n",
    "    # At least one digit\n",
    "    if not re.search(r\"[0-9]\", password):\n",
    "        return \"Password must contain at least one digit.\"\n",
    "\n",
    "    # At least one special character\n",
    "    if not re.search(r\"[@$!%*?&]\", password):\n",
    "        return \"Password must contain at least one special character (@, $, !, %, *, ?, &).\"\n",
    "\n",
    "    return \"Password is valid!\"\n",
    "\n",
    "# Example Usage\n",
    "password = input(\"Enter a password: \")\n",
    "print(is_valid_password(password))"
   ]
  },
  {
   "cell_type": "code",
   "execution_count": 49,
   "id": "33c0dafc-4005-4725-8141-5ac64e137e76",
   "metadata": {},
   "outputs": [
    {
     "name": "stdout",
     "output_type": "stream",
     "text": [
      "Inside function, y: 5\n",
      "Inside function, x: 10\n",
      "Outside function, x: 10\n"
     ]
    }
   ],
   "source": [
    "x = 10  # Global variable\n",
    "def my_function():\n",
    "    y = 5  # Local variable\n",
    "    print(\"Inside function, y:\", y)  \n",
    "    print(\"Inside function, x:\", x)  # Accessing global variable\n",
    "\n",
    "my_function()\n",
    "print(\"Outside function, x:\", x)# Global variable is accessible\n",
    "# print(y)  # Error! y is local and not accessible outside"
   ]
  },
  {
   "cell_type": "code",
   "execution_count": 51,
   "id": "fa3ec8d2-2bfe-44d8-ae3f-9a9bd76ff4a7",
   "metadata": {},
   "outputs": [
    {
     "name": "stdout",
     "output_type": "stream",
     "text": [
      "Inside function, count: 1\n",
      "Outside function, count: 1\n"
     ]
    }
   ],
   "source": [
    "count = 0  # Global variable\n",
    "\n",
    "def increment():\n",
    "    global count  # Use the global variable\n",
    "    count += 1  # Modify global variable\n",
    "    print(\"Inside function, count:\", count)\n",
    "\n",
    "increment()\n",
    "print(\"Outside function, count:\", count)  "
   ]
  },
  {
   "cell_type": "code",
   "execution_count": 55,
   "id": "e20af5c5-700b-4c68-88d9-b7c008bbb9cf",
   "metadata": {},
   "outputs": [
    {
     "name": "stdout",
     "output_type": "stream",
     "text": [
      "Inside function, x: 20 140723874114584\n",
      "Outside function, x: 50 140723874115544\n"
     ]
    }
   ],
   "source": [
    "x = 50  # Global variable\n",
    "def my_function():\n",
    "    x = 20  # Local variable (different from the global one)\n",
    "    print(\"Inside function, x:\", x, id(x))  # Uses local x\n",
    "\n",
    "my_function()\n",
    "print(\"Outside function, x:\", x , id(x))  # Uses global x"
   ]
  },
  {
   "cell_type": "code",
   "execution_count": 57,
   "id": "e20ca2e4-8434-4153-89c2-918dc491ad85",
   "metadata": {},
   "outputs": [
    {
     "name": "stdout",
     "output_type": "stream",
     "text": [
      "Inside inner function, a: 15\n",
      "Inside outer function, a: 15\n"
     ]
    }
   ],
   "source": [
    "def outer():\n",
    "    a = 10  # Enclosing variable\n",
    "    def inner():\n",
    "        nonlocal a  # Refers to 'a' from outer()\n",
    "        a += 5\n",
    "        print(\"Inside inner function, a:\", a)\n",
    "    inner()\n",
    "    print(\"Inside outer function, a:\", a)\n",
    "outer()"
   ]
  },
  {
   "cell_type": "markdown",
   "id": "ece515d0-1b26-4936-b1b4-c7edf62d927f",
   "metadata": {},
   "source": [
    "# Lambda Function"
   ]
  },
  {
   "cell_type": "code",
   "execution_count": null,
   "id": "6df1a27e-f0a3-4665-8da6-96d99489bb3b",
   "metadata": {},
   "outputs": [],
   "source": []
  },
  {
   "cell_type": "code",
   "execution_count": 60,
   "id": "87697ce5-865e-4bd7-ba58-8ad3a97e8cd4",
   "metadata": {},
   "outputs": [
    {
     "name": "stdout",
     "output_type": "stream",
     "text": [
      "25\n"
     ]
    }
   ],
   "source": [
    "square = lambda x: x * x\n",
    "print(square(5))  # Output: 25"
   ]
  },
  {
   "cell_type": "code",
   "execution_count": 62,
   "id": "22cdca17-d0b3-4b9b-87a1-f6167a5b11ef",
   "metadata": {},
   "outputs": [
    {
     "name": "stdout",
     "output_type": "stream",
     "text": [
      "7\n"
     ]
    }
   ],
   "source": [
    "add = lambda a, b: a + b\n",
    "print(add(3, 4))  # Output: 7"
   ]
  },
  {
   "cell_type": "code",
   "execution_count": 64,
   "id": "62784bde-ef10-4fd5-b832-7d7f04a23440",
   "metadata": {},
   "outputs": [
    {
     "name": "stdout",
     "output_type": "stream",
     "text": [
      "[1, 4, 9, 16, 25]\n"
     ]
    }
   ],
   "source": [
    "numbers = [1, 2, 3, 4, 5]\n",
    "squared = list(map(lambda x: x**2, numbers))\n",
    "print(squared)"
   ]
  },
  {
   "cell_type": "code",
   "execution_count": 66,
   "id": "c4e9cdb7-ec1a-4562-98ce-7345b234b833",
   "metadata": {},
   "outputs": [
    {
     "name": "stdout",
     "output_type": "stream",
     "text": [
      "9\n",
      "27\n"
     ]
    }
   ],
   "source": [
    "power = lambda x, y=2: x ** y\n",
    "print(power(3))   # Output: 9 (3^2)\n",
    "print(power(3, 3)) # Output: 27 (3^3)"
   ]
  },
  {
   "cell_type": "code",
   "execution_count": 68,
   "id": "232ad812-15b2-4d2a-824e-9e58a2c292e8",
   "metadata": {},
   "outputs": [
    {
     "name": "stdout",
     "output_type": "stream",
     "text": [
      "20\n"
     ]
    }
   ],
   "source": [
    "max_value = lambda a, b: a if a > b else b\n",
    "print(max_value(10, 20))  # Output: 20"
   ]
  },
  {
   "cell_type": "code",
   "execution_count": 70,
   "id": "ba9d9697-9224-48b3-95bf-54425336a9f1",
   "metadata": {},
   "outputs": [
    {
     "name": "stdout",
     "output_type": "stream",
     "text": [
      "15\n",
      "5.0\n"
     ]
    }
   ],
   "source": [
    "operations = {\n",
    "    \"add\": lambda x, y: x + y,\n",
    "    \"sub\": lambda x, y: x - y,\n",
    "    \"mul\": lambda x, y: x * y,\n",
    "    \"div\": lambda x, y: x / y if y != 0 else \"Cannot divide by zero\"\n",
    "}\n",
    "\n",
    "print(operations[\"add\"](10, 5))  # Output: 15\n",
    "print(operations[\"div\"](10, 2))  # Output: 5.0"
   ]
  },
  {
   "cell_type": "code",
   "execution_count": 72,
   "id": "eb3385a3-cf58-4820-aa7b-b0fc1573eb98",
   "metadata": {},
   "outputs": [
    {
     "name": "stdout",
     "output_type": "stream",
     "text": [
      "20\n"
     ]
    }
   ],
   "source": [
    "add_five = lambda x: x + 5\n",
    "multiply_two = lambda x: x * 2\n",
    "composed_function = lambda x: multiply_two(add_five(x))\n",
    "\n",
    "print(composed_function(5))  # Output: (5+5) * 2 = 20"
   ]
  },
  {
   "cell_type": "code",
   "execution_count": 76,
   "id": "2f43d991-0e41-4204-ba58-95a7c24db953",
   "metadata": {},
   "outputs": [
    {
     "name": "stdout",
     "output_type": "stream",
     "text": [
      "false\n"
     ]
    }
   ],
   "source": [
    "x=lambda n:\"true\" if n%2==0 else \"false\"\n",
    "print(x(3))"
   ]
  },
  {
   "cell_type": "code",
   "execution_count": 78,
   "id": "9722fbee-e33d-44a0-b946-6a9eb318f501",
   "metadata": {},
   "outputs": [
    {
     "name": "stdout",
     "output_type": "stream",
     "text": [
      "[('Bob', 20), ('Charlie', 23), ('Alice', 25)]\n"
     ]
    }
   ],
   "source": [
    "students = [(\"Alice\", 25), (\"Bob\", 20), (\"Charlie\", 23)]\n",
    "sorted_students = sorted(students, key=lambda x: x[1])\n",
    "print(sorted_students)"
   ]
  },
  {
   "cell_type": "code",
   "execution_count": 1,
   "id": "f9a284f2-caae-4345-8b46-68b32714f139",
   "metadata": {},
   "outputs": [
    {
     "name": "stdout",
     "output_type": "stream",
     "text": [
      "(4, 25)\n"
     ]
    }
   ],
   "source": [
    "square=lambda a,b:(a**2,b**2)\n",
    "print(square(2,5))"
   ]
  },
  {
   "cell_type": "code",
   "execution_count": 5,
   "id": "3960e90c-187d-4152-9dee-76e989234242",
   "metadata": {},
   "outputs": [
    {
     "name": "stdout",
     "output_type": "stream",
     "text": [
      "[(2, 'python'), (3, 'c++'), (4, 'javascript')]\n",
      "[(0, 'python'), (1, 'c++'), (2, 'javascript')]\n"
     ]
    }
   ],
   "source": [
    "lang=['python','c++','javascript']\n",
    "enumerate_prime=enumerate(lang,2) # index as a key start from 2\n",
    "print(list(enumerate_prime))\n",
    "\n",
    "enumerate_prime2=enumerate(lang)\n",
    "print(list(enumerate_prime2))"
   ]
  },
  {
   "cell_type": "markdown",
   "id": "040a3177-3125-44d5-a282-c47a60a59106",
   "metadata": {},
   "source": [
    "# list comprehension "
   ]
  },
  {
   "cell_type": "raw",
   "id": "9276b259-66c3-4e00-9b98-fa9af9bf8e1a",
   "metadata": {},
   "source": [
    "[expression for item in iterable if condition]\n",
    "\n",
    "expression → The operation to perform on each item (e.g., x**2, x.upper()).\n",
    "for item in iterable → Iterates through each item in the iterable.\n",
    "if condition (optional) → Filters the items based on a condition."
   ]
  },
  {
   "cell_type": "code",
   "execution_count": 12,
   "id": "d363d2b2-e4eb-4fbc-a383-ffea35855113",
   "metadata": {},
   "outputs": [
    {
     "name": "stdout",
     "output_type": "stream",
     "text": [
      "[0, 1, 4, 9, 16]\n"
     ]
    }
   ],
   "source": [
    "squares = [x**2 for x in range(5)]\n",
    "print(squares)"
   ]
  },
  {
   "cell_type": "code",
   "execution_count": 14,
   "id": "eb7513b1-6e5f-4221-a683-8ce1d94c9157",
   "metadata": {},
   "outputs": [
    {
     "name": "stdout",
     "output_type": "stream",
     "text": [
      "[0, 2, 4, 6, 8]\n"
     ]
    }
   ],
   "source": [
    "evens = [x for x in range(10) if x % 2 == 0]\n",
    "print(evens)"
   ]
  },
  {
   "cell_type": "code",
   "execution_count": 16,
   "id": "5d9a3a23-993a-466c-a616-0f4a4a242fdd",
   "metadata": {},
   "outputs": [
    {
     "name": "stdout",
     "output_type": "stream",
     "text": [
      "['Even', 'Odd', 'Even', 'Odd', 'Even']\n"
     ]
    }
   ],
   "source": [
    "labels = [\"Even\" if x % 2 == 0 else \"Odd\" for x in range(5)]\n",
    "print(labels)"
   ]
  },
  {
   "cell_type": "code",
   "execution_count": 18,
   "id": "5f15c352-9573-4bfb-912c-7431cfd1adde",
   "metadata": {},
   "outputs": [
    {
     "name": "stdout",
     "output_type": "stream",
     "text": [
      "[(0, 0), (0, 1), (0, 2), (1, 0), (1, 1), (1, 2)]\n"
     ]
    }
   ],
   "source": [
    "pairs = [(x, y) for x in range(2) for y in range(3)]\n",
    "print(pairs)"
   ]
  },
  {
   "cell_type": "code",
   "execution_count": 20,
   "id": "8bfa0da1-8e01-4202-bcca-4d71bb46f9aa",
   "metadata": {},
   "outputs": [
    {
     "name": "stdout",
     "output_type": "stream",
     "text": [
      "['apple', 'date']\n"
     ]
    }
   ],
   "source": [
    "words = [\"apple\", \"banana\", \"cherry\", \"date\"]\n",
    "short_words = [word for word in words if len(word) <= 5]\n",
    "print(short_words)"
   ]
  },
  {
   "cell_type": "code",
   "execution_count": 22,
   "id": "15e22c72-bc95-4223-b3fa-b3d166b58cfc",
   "metadata": {},
   "outputs": [
    {
     "name": "stdout",
     "output_type": "stream",
     "text": [
      "hll wrld\n"
     ]
    }
   ],
   "source": [
    "text = \"hello world\"\n",
    "no_vowels = ''.join([char for char in text if char not in \"aeiou\"])\n",
    "print(no_vowels)"
   ]
  },
  {
   "cell_type": "code",
   "execution_count": 24,
   "id": "645bc0fa-e32a-4591-94a6-af760047ace3",
   "metadata": {},
   "outputs": [
    {
     "name": "stdout",
     "output_type": "stream",
     "text": [
      "[1, 2, 3, 4, 5, 6, 7, 8, 9]\n"
     ]
    }
   ],
   "source": [
    "matrix = [[1, 2, 3], [4, 5, 6], [7, 8, 9]]\n",
    "flattened = [num for row in matrix for num in row]\n",
    "print(flattened)"
   ]
  },
  {
   "cell_type": "code",
   "execution_count": 26,
   "id": "38c7071f-76e8-4c74-a583-4c60e3093643",
   "metadata": {},
   "outputs": [
    {
     "name": "stdout",
     "output_type": "stream",
     "text": [
      "[1, 2, 3, 4]\n"
     ]
    }
   ],
   "source": [
    "str_numbers = [\"1\", \"2\", \"3\", \"4\"]\n",
    "int_numbers = [int(num) for num in str_numbers]\n",
    "print(int_numbers)"
   ]
  },
  {
   "cell_type": "code",
   "execution_count": 28,
   "id": "b0223f8f-ced4-45c2-85ce-b8bc0b439c78",
   "metadata": {},
   "outputs": [
    {
     "name": "stdout",
     "output_type": "stream",
     "text": [
      "[0, 2, 4, 6, 8]\n"
     ]
    }
   ],
   "source": [
    "def double(x):\n",
    "    return x * 2\n",
    "doubled_numbers = [double(x) for x in range(5)]\n",
    "print(doubled_numbers)"
   ]
  },
  {
   "cell_type": "code",
   "execution_count": 30,
   "id": "0cc6446c-e38d-45b8-98f9-7decc1ee18fc",
   "metadata": {},
   "outputs": [
    {
     "name": "stdout",
     "output_type": "stream",
     "text": [
      "[6, 8]\n"
     ]
    }
   ],
   "source": [
    "l=[1,2,3,4,5,6,7,8,9]\n",
    "d=[x for x in l if x>4 if x%2==0]\n",
    "print(d)"
   ]
  },
  {
   "cell_type": "code",
   "execution_count": 32,
   "id": "f3a849bc-e5c1-40c2-9f8a-9287b0532dcb",
   "metadata": {},
   "outputs": [
    {
     "name": "stdout",
     "output_type": "stream",
     "text": [
      "['lessthan 4', 'lessthan 4', 'lessthan 4', 'lessthan 4', 5, 6, 7, 8, 9]\n"
     ]
    }
   ],
   "source": [
    "l=[1,2,3,4,5,6,7,8,9]\n",
    "d=[x if x>4 else 'lessthan 4' for x in l]\n",
    "print(d)"
   ]
  },
  {
   "cell_type": "code",
   "execution_count": 36,
   "id": "12213319-93b2-4a5b-904e-282a138f3b58",
   "metadata": {},
   "outputs": [
    {
     "name": "stdout",
     "output_type": "stream",
     "text": [
      "['not a &', 'two', 'three', 'two', 'not a &', 'two', 'not a &', 'two', 'three', 'two']\n"
     ]
    }
   ],
   "source": [
    "l=[1,2,3,4,5,6,7,8,9,10]\n",
    "d=['two' if x%2==0 else 'three' if x%3==0 else 'not a &' for x in l]\n",
    "print(d)"
   ]
  },
  {
   "cell_type": "code",
   "execution_count": null,
   "id": "69c91158-64a3-454d-a1f9-28b3e6dfe4d2",
   "metadata": {},
   "outputs": [],
   "source": []
  }
 ],
 "metadata": {
  "kernelspec": {
   "display_name": "Python [conda env:base] *",
   "language": "python",
   "name": "conda-base-py"
  },
  "language_info": {
   "codemirror_mode": {
    "name": "ipython",
    "version": 3
   },
   "file_extension": ".py",
   "mimetype": "text/x-python",
   "name": "python",
   "nbconvert_exporter": "python",
   "pygments_lexer": "ipython3",
   "version": "3.12.7"
  }
 },
 "nbformat": 4,
 "nbformat_minor": 5
}
