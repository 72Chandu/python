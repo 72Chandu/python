{
 "cells": [
  {
   "cell_type": "code",
   "execution_count": 1,
   "id": "06a19469-35d1-48f3-a681-b678b8c20fd1",
   "metadata": {},
   "outputs": [
    {
     "name": "stdin",
     "output_type": "stream",
     "text": [
      "enter your age 12\n"
     ]
    },
    {
     "name": "stdout",
     "output_type": "stream",
     "text": [
      "my age is 12\n"
     ]
    }
   ],
   "source": [
    "y=input(\"enter your age\")\n",
    "print(\"my age is \"+y)"
   ]
  },
  {
   "cell_type": "code",
   "execution_count": 5,
   "id": "ea3cfa70-0931-49ac-958a-c8f317ef3d50",
   "metadata": {},
   "outputs": [
    {
     "name": "stdin",
     "output_type": "stream",
     "text": [
      "enter first number 1\n",
      "enter secon number 2\n"
     ]
    },
    {
     "name": "stdout",
     "output_type": "stream",
     "text": [
      "3\n"
     ]
    }
   ],
   "source": [
    "b=int(input(\"enter first number\"))\n",
    "c=int(input(\"enter secon number\"))\n",
    "print(b+c)"
   ]
  },
  {
   "cell_type": "code",
   "execution_count": 7,
   "id": "cd733009-fe15-4206-b543-7f015793d7d5",
   "metadata": {},
   "outputs": [
    {
     "name": "stdout",
     "output_type": "stream",
     "text": [
      "hi ok pwskills\n"
     ]
    }
   ],
   "source": [
    "x=\"hi\"\n",
    "y=\"pwskills\"\n",
    "print(f\"{x} ok {y}\")"
   ]
  },
  {
   "cell_type": "code",
   "execution_count": 15,
   "id": "de2e3807-5e2b-4192-93e6-0378ffc4c94a",
   "metadata": {},
   "outputs": [
    {
     "name": "stdout",
     "output_type": "stream",
     "text": [
      "pw and skills ar haa\n",
      "skills and pw\n"
     ]
    }
   ],
   "source": [
    "print(\"{0} and {1} ar {2}\".format(\"pw\",\"skills\",\"haa\"))\n",
    "print(\"{1} and {0}\".format(\"pw\",\"skills\"))"
   ]
  },
  {
   "cell_type": "raw",
   "id": "498dc1c7-96ec-4986-9e17-af1029022d0a",
   "metadata": {},
   "source": [
    "Q1  print the following\n",
    "89074562\n",
    "Hiii!!\n",
    "$$Howareyou??\n",
    "10*10=100\n",
    "(12>10) and True\n",
    "I am here to learn python"
   ]
  },
  {
   "cell_type": "code",
   "execution_count": 22,
   "id": "fd5d1b26-b805-436b-b312-0cebca56e8d6",
   "metadata": {},
   "outputs": [
    {
     "name": "stdout",
     "output_type": "stream",
     "text": [
      "\n",
      "89074562\n",
      "Hiii!!\n",
      "$$Howareyou??\n",
      "10*10=100\n",
      "(12>10) and True\n",
      "I am here to learn python\n",
      "\n"
     ]
    }
   ],
   "source": [
    "print('''\n",
    "89074562\n",
    "Hiii!!\n",
    "$$Howareyou??\n",
    "10*10=100\n",
    "(12>10) and True\n",
    "I am here to learn python\n",
    "''')"
   ]
  },
  {
   "cell_type": "code",
   "execution_count": null,
   "id": "73319bae-a917-44b2-b984-1d47a41533c0",
   "metadata": {},
   "outputs": [],
   "source": [
    "Q2\n",
    "s\n",
    "ss\n",
    "sss\n",
    "ssss\n",
    "sssss"
   ]
  },
  {
   "cell_type": "code",
   "execution_count": 24,
   "id": "d4d37536-e6be-4f29-8344-bb7884e70933",
   "metadata": {},
   "outputs": [
    {
     "name": "stdout",
     "output_type": "stream",
     "text": [
      "\n",
      "s\n",
      "ss\n",
      "sss\n",
      "ssss\n",
      "sssss\n",
      "\n"
     ]
    }
   ],
   "source": [
    "print('''\n",
    "s\n",
    "ss\n",
    "sss\n",
    "ssss\n",
    "sssss\n",
    "''')"
   ]
  },
  {
   "cell_type": "raw",
   "id": "35763be5-8dc5-476d-9a8c-7f35db6d5818",
   "metadata": {},
   "source": [
    "Q3"
   ]
  },
  {
   "cell_type": "code",
   "execution_count": 26,
   "id": "47e17acc-f953-483d-bea0-24ce5b21e250",
   "metadata": {},
   "outputs": [
    {
     "name": "stdin",
     "output_type": "stream",
     "text": [
      "enter the string kolkata\n"
     ]
    },
    {
     "name": "stdout",
     "output_type": "stream",
     "text": [
      "!kolkata!\n"
     ]
    }
   ],
   "source": [
    "x=input('enter the string')\n",
    "y=x\n",
    "z='!'+x+'!'\n",
    "print(z)"
   ]
  },
  {
   "cell_type": "code",
   "execution_count": 28,
   "id": "a33ab03e-c15f-4767-8996-66e4498efbe5",
   "metadata": {},
   "outputs": [],
   "source": [
    "a=10\n",
    "b=20"
   ]
  },
  {
   "cell_type": "code",
   "execution_count": 30,
   "id": "e47161dc-0bbf-4fbd-a6cc-715d098ac799",
   "metadata": {},
   "outputs": [
    {
     "data": {
      "text/plain": [
       "30"
      ]
     },
     "execution_count": 30,
     "metadata": {},
     "output_type": "execute_result"
    }
   ],
   "source": [
    "a+b"
   ]
  },
  {
   "cell_type": "code",
   "execution_count": 32,
   "id": "04f1bb32-e4c5-4c21-ba35-2c20d50b7622",
   "metadata": {},
   "outputs": [
    {
     "data": {
      "text/plain": [
       "-10"
      ]
     },
     "execution_count": 32,
     "metadata": {},
     "output_type": "execute_result"
    }
   ],
   "source": [
    "a-b"
   ]
  },
  {
   "cell_type": "code",
   "execution_count": 34,
   "id": "25d10c3e-bc94-4b42-839f-e57a906a8ca4",
   "metadata": {},
   "outputs": [
    {
     "data": {
      "text/plain": [
       "0.5"
      ]
     },
     "execution_count": 34,
     "metadata": {},
     "output_type": "execute_result"
    }
   ],
   "source": [
    "a/b"
   ]
  },
  {
   "cell_type": "code",
   "execution_count": 36,
   "id": "b29fb844-7e93-450f-99fb-dac92c1a4d5c",
   "metadata": {},
   "outputs": [
    {
     "data": {
      "text/plain": [
       "200"
      ]
     },
     "execution_count": 36,
     "metadata": {},
     "output_type": "execute_result"
    }
   ],
   "source": [
    "a*b"
   ]
  },
  {
   "cell_type": "code",
   "execution_count": 38,
   "id": "2ce14c18-812c-4328-9ab1-24a8ac125b94",
   "metadata": {},
   "outputs": [
    {
     "data": {
      "text/plain": [
       "2.0"
      ]
     },
     "execution_count": 38,
     "metadata": {},
     "output_type": "execute_result"
    }
   ],
   "source": [
    "b/a"
   ]
  },
  {
   "cell_type": "code",
   "execution_count": 42,
   "id": "63487831-ef3c-4a5d-8532-a86ec66895e1",
   "metadata": {},
   "outputs": [
    {
     "data": {
      "text/plain": [
       "2"
      ]
     },
     "execution_count": 42,
     "metadata": {},
     "output_type": "execute_result"
    }
   ],
   "source": [
    "b//a  # integer division"
   ]
  },
  {
   "cell_type": "code",
   "execution_count": 45,
   "id": "02c073e4-61d9-44b8-bf09-e671e786a86b",
   "metadata": {},
   "outputs": [
    {
     "data": {
      "text/plain": [
       "10"
      ]
     },
     "execution_count": 45,
     "metadata": {},
     "output_type": "execute_result"
    }
   ],
   "source": [
    "a%b"
   ]
  },
  {
   "cell_type": "code",
   "execution_count": 61,
   "id": "0335d3e5-82a5-444d-a9b7-fed5a414ac50",
   "metadata": {},
   "outputs": [],
   "source": [
    "c=10\n",
    "d=10\n",
    "# both c and dare pointing to same element"
   ]
  },
  {
   "cell_type": "code",
   "execution_count": 63,
   "id": "9da6df38-a334-47ad-8cb4-8b6f1a2110e6",
   "metadata": {},
   "outputs": [
    {
     "data": {
      "text/plain": [
       "True"
      ]
     },
     "execution_count": 63,
     "metadata": {},
     "output_type": "execute_result"
    }
   ],
   "source": [
    "c==d"
   ]
  },
  {
   "cell_type": "code",
   "execution_count": 65,
   "id": "808f46b0-f386-4068-af1c-19e4a795ce51",
   "metadata": {},
   "outputs": [
    {
     "data": {
      "text/plain": [
       "True"
      ]
     },
     "execution_count": 65,
     "metadata": {},
     "output_type": "execute_result"
    }
   ],
   "source": [
    "c is d  # identity operator"
   ]
  },
  {
   "cell_type": "code",
   "execution_count": 67,
   "id": "f01fbe3b-a662-4672-bf68-b04ae33d5894",
   "metadata": {},
   "outputs": [
    {
     "data": {
      "text/plain": [
       "140732980538072"
      ]
     },
     "execution_count": 67,
     "metadata": {},
     "output_type": "execute_result"
    }
   ],
   "source": [
    "id(c)"
   ]
  },
  {
   "cell_type": "code",
   "execution_count": 69,
   "id": "cc90c691-276e-494c-ba15-fb6f6591b884",
   "metadata": {},
   "outputs": [
    {
     "data": {
      "text/plain": [
       "140732980538072"
      ]
     },
     "execution_count": 69,
     "metadata": {},
     "output_type": "execute_result"
    }
   ],
   "source": [
    "id(d)"
   ]
  },
  {
   "cell_type": "code",
   "execution_count": 74,
   "id": "81aa5fa0-ce35-409d-abb9-7ab2a0367e09",
   "metadata": {},
   "outputs": [],
   "source": [
    "e=12\n",
    "f=10"
   ]
  },
  {
   "cell_type": "code",
   "execution_count": 76,
   "id": "0ececd86-b1d5-4292-b62b-2fa2110274ca",
   "metadata": {},
   "outputs": [
    {
     "data": {
      "text/plain": [
       "False"
      ]
     },
     "execution_count": 76,
     "metadata": {},
     "output_type": "execute_result"
    }
   ],
   "source": [
    "e==f"
   ]
  },
  {
   "cell_type": "code",
   "execution_count": 78,
   "id": "ddd6a317-4211-45f7-afcd-edb44e8ce866",
   "metadata": {},
   "outputs": [
    {
     "data": {
      "text/plain": [
       "False"
      ]
     },
     "execution_count": 78,
     "metadata": {},
     "output_type": "execute_result"
    }
   ],
   "source": [
    "e is f"
   ]
  },
  {
   "cell_type": "code",
   "execution_count": 80,
   "id": "fc73da4f-43b6-4baa-9e92-c90e24c58cc2",
   "metadata": {},
   "outputs": [
    {
     "data": {
      "text/plain": [
       "140732980538136"
      ]
     },
     "execution_count": 80,
     "metadata": {},
     "output_type": "execute_result"
    }
   ],
   "source": [
    "id(e)"
   ]
  },
  {
   "cell_type": "code",
   "execution_count": 82,
   "id": "9da7cf0b-1763-4128-b7bd-30426ed37c24",
   "metadata": {},
   "outputs": [
    {
     "data": {
      "text/plain": [
       "140732980538072"
      ]
     },
     "execution_count": 82,
     "metadata": {},
     "output_type": "execute_result"
    }
   ],
   "source": [
    "id(f)"
   ]
  },
  {
   "cell_type": "code",
   "execution_count": 84,
   "id": "3dd96cc1-fa8d-4f91-8048-bc51fa262381",
   "metadata": {},
   "outputs": [
    {
     "data": {
      "text/plain": [
       "True"
      ]
     },
     "execution_count": 84,
     "metadata": {},
     "output_type": "execute_result"
    }
   ],
   "source": [
    "a=[1,2,3]\n",
    "b=[1,2,3]\n",
    "a==b"
   ]
  },
  {
   "cell_type": "code",
   "execution_count": 86,
   "id": "90841fc6-d7ca-4fe9-b928-d4df6181b2f8",
   "metadata": {},
   "outputs": [
    {
     "data": {
      "text/plain": [
       "False"
      ]
     },
     "execution_count": 86,
     "metadata": {},
     "output_type": "execute_result"
    }
   ],
   "source": [
    "a is b"
   ]
  },
  {
   "cell_type": "code",
   "execution_count": 88,
   "id": "9bc18619-b825-42d1-9a93-cc8fbfc00592",
   "metadata": {},
   "outputs": [
    {
     "data": {
      "text/plain": [
       "1731171740928"
      ]
     },
     "execution_count": 88,
     "metadata": {},
     "output_type": "execute_result"
    }
   ],
   "source": [
    "id(a)"
   ]
  },
  {
   "cell_type": "code",
   "execution_count": 90,
   "id": "cabc6b32-1b43-48ac-894c-cb8f4ee591c2",
   "metadata": {},
   "outputs": [
    {
     "data": {
      "text/plain": [
       "1731171606784"
      ]
     },
     "execution_count": 90,
     "metadata": {},
     "output_type": "execute_result"
    }
   ],
   "source": [
    "id(b)"
   ]
  },
  {
   "cell_type": "code",
   "execution_count": 92,
   "id": "b3dc4b12-b95d-4d06-b804-0dbcec8cbc36",
   "metadata": {},
   "outputs": [
    {
     "data": {
      "text/plain": [
       "True"
      ]
     },
     "execution_count": 92,
     "metadata": {},
     "output_type": "execute_result"
    }
   ],
   "source": [
    "a=[1,2,3]\n",
    "b=a\n",
    "a is b"
   ]
  },
  {
   "cell_type": "code",
   "execution_count": 94,
   "id": "211589d1-1e74-4981-88ce-392c5d9f4866",
   "metadata": {},
   "outputs": [
    {
     "data": {
      "text/plain": [
       "True"
      ]
     },
     "execution_count": 94,
     "metadata": {},
     "output_type": "execute_result"
    }
   ],
   "source": [
    "a==b"
   ]
  },
  {
   "cell_type": "code",
   "execution_count": 96,
   "id": "18b4cc71-ab7a-4f85-abf4-d0a05e0ffb0a",
   "metadata": {},
   "outputs": [
    {
     "data": {
      "text/plain": [
       "1731171607424"
      ]
     },
     "execution_count": 96,
     "metadata": {},
     "output_type": "execute_result"
    }
   ],
   "source": [
    "id(a)"
   ]
  },
  {
   "cell_type": "code",
   "execution_count": 98,
   "id": "603eeab6-3a26-4e74-89ff-ba5c2f2b0a6e",
   "metadata": {},
   "outputs": [
    {
     "data": {
      "text/plain": [
       "1731171607424"
      ]
     },
     "execution_count": 98,
     "metadata": {},
     "output_type": "execute_result"
    }
   ],
   "source": [
    "id(b)"
   ]
  },
  {
   "cell_type": "raw",
   "id": "02a1143d-7902-4d40-b4ca-3fedad2e9059",
   "metadata": {},
   "source": [
    "Q4. accept an integer as input. find quoitent when 3^35 is divided by x and print the output"
   ]
  },
  {
   "cell_type": "code",
   "execution_count": 100,
   "id": "fc3d4355-23e1-43b8-849a-9f8b09d5e6b3",
   "metadata": {},
   "outputs": [
    {
     "name": "stdin",
     "output_type": "stream",
     "text": [
      "enter the integer:  10\n"
     ]
    },
    {
     "name": "stdout",
     "output_type": "stream",
     "text": [
      "5003154509899971.0\n"
     ]
    }
   ],
   "source": [
    "x=int(input(\"enter the integer: \"))\n",
    "y=3**35/x\n",
    "print(y)"
   ]
  },
  {
   "cell_type": "code",
   "execution_count": 102,
   "id": "f4a60dbd-199a-4f05-a6c4-faa44fb4cce5",
   "metadata": {},
   "outputs": [
    {
     "data": {
      "text/plain": [
       "4"
      ]
     },
     "execution_count": 102,
     "metadata": {},
     "output_type": "execute_result"
    }
   ],
   "source": [
    "2**2"
   ]
  },
  {
   "cell_type": "code",
   "execution_count": 104,
   "id": "d85fcc34-89d2-4c85-b285-eddf26846716",
   "metadata": {},
   "outputs": [],
   "source": [
    "a=10\n",
    "b=20"
   ]
  },
  {
   "cell_type": "code",
   "execution_count": 106,
   "id": "bb4e9d7a-b5f8-4bb7-9d66-05239e6262fa",
   "metadata": {},
   "outputs": [
    {
     "data": {
      "text/plain": [
       "False"
      ]
     },
     "execution_count": 106,
     "metadata": {},
     "output_type": "execute_result"
    }
   ],
   "source": [
    "a>b"
   ]
  },
  {
   "cell_type": "code",
   "execution_count": 110,
   "id": "4196129c-4f1d-4800-b701-8d55b30f11a9",
   "metadata": {},
   "outputs": [
    {
     "data": {
      "text/plain": [
       "True"
      ]
     },
     "execution_count": 110,
     "metadata": {},
     "output_type": "execute_result"
    }
   ],
   "source": [
    "b>a"
   ]
  },
  {
   "cell_type": "code",
   "execution_count": 112,
   "id": "aed5b0b2-cf7b-4604-87f9-78b9a2d22208",
   "metadata": {},
   "outputs": [
    {
     "data": {
      "text/plain": [
       "False"
      ]
     },
     "execution_count": 112,
     "metadata": {},
     "output_type": "execute_result"
    }
   ],
   "source": [
    "b==a"
   ]
  },
  {
   "cell_type": "code",
   "execution_count": 114,
   "id": "3e3408e6-8920-4c77-b5b4-07a7263bd03c",
   "metadata": {},
   "outputs": [],
   "source": [
    "a=10\n",
    "b=4"
   ]
  },
  {
   "cell_type": "code",
   "execution_count": 116,
   "id": "977bde19-208f-4d8b-9d86-47bff6300c15",
   "metadata": {},
   "outputs": [
    {
     "data": {
      "text/plain": [
       "'0b100'"
      ]
     },
     "execution_count": 116,
     "metadata": {},
     "output_type": "execute_result"
    }
   ],
   "source": [
    "bin(b)"
   ]
  },
  {
   "cell_type": "code",
   "execution_count": 120,
   "id": "cbc62265-f73f-47d1-b804-0f6ac20fc821",
   "metadata": {},
   "outputs": [
    {
     "data": {
      "text/plain": [
       "'0b100'"
      ]
     },
     "execution_count": 120,
     "metadata": {},
     "output_type": "execute_result"
    }
   ],
   "source": [
    "bin(b)"
   ]
  },
  {
   "cell_type": "code",
   "execution_count": 122,
   "id": "d4c081c4-276e-494f-af0c-8907e852cfb4",
   "metadata": {},
   "outputs": [
    {
     "data": {
      "text/plain": [
       "0"
      ]
     },
     "execution_count": 122,
     "metadata": {},
     "output_type": "execute_result"
    }
   ],
   "source": [
    "a & b"
   ]
  },
  {
   "cell_type": "code",
   "execution_count": 124,
   "id": "9ba7d9f6-67f8-414b-ab35-ccab03ed8f74",
   "metadata": {},
   "outputs": [
    {
     "data": {
      "text/plain": [
       "14"
      ]
     },
     "execution_count": 124,
     "metadata": {},
     "output_type": "execute_result"
    }
   ],
   "source": [
    "a | b"
   ]
  },
  {
   "cell_type": "code",
   "execution_count": 126,
   "id": "d70cc535-567c-4183-92a3-bb9e5012fe97",
   "metadata": {},
   "outputs": [
    {
     "data": {
      "text/plain": [
       "4"
      ]
     },
     "execution_count": 126,
     "metadata": {},
     "output_type": "execute_result"
    }
   ],
   "source": [
    "a and b"
   ]
  },
  {
   "cell_type": "code",
   "execution_count": 128,
   "id": "5a5871f6-0a25-4607-96d6-1d6bf15c585f",
   "metadata": {},
   "outputs": [
    {
     "data": {
      "text/plain": [
       "-11"
      ]
     },
     "execution_count": 128,
     "metadata": {},
     "output_type": "execute_result"
    }
   ],
   "source": [
    "~a"
   ]
  },
  {
   "cell_type": "code",
   "execution_count": 130,
   "id": "ecafc25f-61af-403d-b013-06da1d5d0a33",
   "metadata": {},
   "outputs": [
    {
     "data": {
      "text/plain": [
       "14"
      ]
     },
     "execution_count": 130,
     "metadata": {},
     "output_type": "execute_result"
    }
   ],
   "source": [
    "a ^ b"
   ]
  },
  {
   "cell_type": "code",
   "execution_count": 132,
   "id": "fa938c53-8c3f-4488-940e-eb7aae50450a",
   "metadata": {},
   "outputs": [
    {
     "data": {
      "text/plain": [
       "5"
      ]
     },
     "execution_count": 132,
     "metadata": {},
     "output_type": "execute_result"
    }
   ],
   "source": [
    "a >> 1"
   ]
  },
  {
   "cell_type": "code",
   "execution_count": 140,
   "id": "79f39f12-a52c-4bef-a364-c35d5d01cfd2",
   "metadata": {},
   "outputs": [
    {
     "data": {
      "text/plain": [
       "24"
      ]
     },
     "execution_count": 140,
     "metadata": {},
     "output_type": "execute_result"
    }
   ],
   "source": [
    "a <<1"
   ]
  },
  {
   "cell_type": "code",
   "execution_count": 144,
   "id": "8dadf6ab-3101-4467-801a-68c8ad86f28c",
   "metadata": {},
   "outputs": [
    {
     "data": {
      "text/plain": [
       "14"
      ]
     },
     "execution_count": 144,
     "metadata": {},
     "output_type": "execute_result"
    }
   ],
   "source": [
    "a=a+1\n",
    "a"
   ]
  },
  {
   "cell_type": "code",
   "execution_count": 146,
   "id": "ef4ba36b-b58f-44f1-b49f-22df942124ee",
   "metadata": {},
   "outputs": [
    {
     "data": {
      "text/plain": [
       "17"
      ]
     },
     "execution_count": 146,
     "metadata": {},
     "output_type": "execute_result"
    }
   ],
   "source": [
    "a+=3\n",
    "a"
   ]
  },
  {
   "cell_type": "code",
   "execution_count": 150,
   "id": "6d848cbb-7c8e-444d-a73c-3fd29611909d",
   "metadata": {},
   "outputs": [
    {
     "data": {
      "text/plain": [
       "48661191875666868481"
      ]
     },
     "execution_count": 150,
     "metadata": {},
     "output_type": "execute_result"
    }
   ],
   "source": [
    "a**=b\n",
    "a"
   ]
  },
  {
   "cell_type": "code",
   "execution_count": 152,
   "id": "289e70a3-c263-4a39-b4b8-714cbf5a6a74",
   "metadata": {},
   "outputs": [
    {
     "data": {
      "text/plain": [
       "5607005320601059253161325667991103602003892399764752527847859167616581809464321"
      ]
     },
     "execution_count": 152,
     "metadata": {},
     "output_type": "execute_result"
    }
   ],
   "source": [
    "a=a**b\n",
    "a"
   ]
  },
  {
   "cell_type": "code",
   "execution_count": 154,
   "id": "c8cab523-e627-4a63-9304-58ff0e845d8a",
   "metadata": {},
   "outputs": [
    {
     "data": {
      "text/plain": [
       "0"
      ]
     },
     "execution_count": 154,
     "metadata": {},
     "output_type": "execute_result"
    }
   ],
   "source": [
    "a=10\n",
    "a&=b\n",
    "a"
   ]
  },
  {
   "cell_type": "code",
   "execution_count": 175,
   "id": "c19d65d7-5c94-4346-bc24-f2ff9edf2a86",
   "metadata": {},
   "outputs": [],
   "source": [
    "a=10\n",
    "b=20"
   ]
  },
  {
   "cell_type": "code",
   "execution_count": 183,
   "id": "d42fbcbe-abb0-48e3-8cb8-6d4cb0af927c",
   "metadata": {},
   "outputs": [
    {
     "data": {
      "text/plain": [
       "False"
      ]
     },
     "execution_count": 183,
     "metadata": {},
     "output_type": "execute_result"
    }
   ],
   "source": [
    "((a>10) and (b>19))"
   ]
  },
  {
   "cell_type": "code",
   "execution_count": 185,
   "id": "d8f12511-654f-47c6-abb5-4a680e9b8e9e",
   "metadata": {},
   "outputs": [
    {
     "name": "stdout",
     "output_type": "stream",
     "text": [
      "False\n"
     ]
    }
   ],
   "source": [
    "print(True and False)"
   ]
  },
  {
   "cell_type": "code",
   "execution_count": 187,
   "id": "79864382-fe18-4203-a468-3a653c130f49",
   "metadata": {},
   "outputs": [
    {
     "data": {
      "text/plain": [
       "True"
      ]
     },
     "execution_count": 187,
     "metadata": {},
     "output_type": "execute_result"
    }
   ],
   "source": [
    "((a>10) or (b>19))"
   ]
  },
  {
   "cell_type": "code",
   "execution_count": 189,
   "id": "9b3036cf-03a5-4bd2-93e1-da8ed54eb19f",
   "metadata": {},
   "outputs": [
    {
     "data": {
      "text/plain": [
       "False"
      ]
     },
     "execution_count": 189,
     "metadata": {},
     "output_type": "execute_result"
    }
   ],
   "source": [
    "a=True\n",
    "not(a)"
   ]
  },
  {
   "cell_type": "code",
   "execution_count": 191,
   "id": "bf0b29fa-c7d9-430b-bd3f-f40efb0e801d",
   "metadata": {},
   "outputs": [
    {
     "data": {
      "text/plain": [
       "True"
      ]
     },
     "execution_count": 191,
     "metadata": {},
     "output_type": "execute_result"
    }
   ],
   "source": [
    "x=[1,2,3,4]\n",
    "2 in x"
   ]
  },
  {
   "cell_type": "code",
   "execution_count": null,
   "id": "64f4c161-7bd0-43c0-bff7-abc39ca34c0b",
   "metadata": {},
   "outputs": [],
   "source": []
  }
 ],
 "metadata": {
  "kernelspec": {
   "display_name": "Python [conda env:base] *",
   "language": "python",
   "name": "conda-base-py"
  },
  "language_info": {
   "codemirror_mode": {
    "name": "ipython",
    "version": 3
   },
   "file_extension": ".py",
   "mimetype": "text/x-python",
   "name": "python",
   "nbconvert_exporter": "python",
   "pygments_lexer": "ipython3",
   "version": "3.12.7"
  }
 },
 "nbformat": 4,
 "nbformat_minor": 5
}
