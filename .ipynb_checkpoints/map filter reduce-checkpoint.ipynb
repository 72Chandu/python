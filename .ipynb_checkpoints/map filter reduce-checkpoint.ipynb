{
 "cells": [
  {
   "cell_type": "code",
   "execution_count": 10,
   "id": "955bde8f-d33e-46da-9195-177659aeef61",
   "metadata": {},
   "outputs": [
    {
     "name": "stdout",
     "output_type": "stream",
     "text": [
      " Volume in drive D is New Volume\n",
      " Volume Serial Number is 5447-46BD\n",
      "\n",
      " Directory of D:\\python training\n",
      "\n",
      "02-04-2025  08:55    <DIR>          .\n",
      "02-04-2025  08:55    <DIR>          .ipynb_checkpoints\n",
      "29-03-2025  19:05           116,237 class1.ipynb\n",
      "31-03-2025  22:51            39,940 contol-flow.ipynb\n",
      "02-04-2025  08:54            42,745 function.ipynb\n",
      "29-03-2025  19:05               786 ifelse.py\n",
      "29-03-2025  19:05             3,164 list.py\n",
      "29-03-2025  19:05               126 main.py\n",
      "30-03-2025  13:17            22,780 operator.ipynb\n",
      "30-03-2025  11:23            73,928 python-basic-data-type.ipynb\n",
      "29-03-2025  20:03            33,570 PythonBasicVariable.ipynb\n",
      "29-03-2025  19:05             6,698 README.MD\n",
      "02-04-2025  08:55               207 test.txt\n",
      "02-04-2025  08:55             4,546 Untitled.ipynb\n",
      "              12 File(s)        344,727 bytes\n",
      "               2 Dir(s)  83,264,425,984 bytes free\n"
     ]
    }
   ],
   "source": [
    "ls"
   ]
  },
  {
   "cell_type": "code",
   "execution_count": 12,
   "id": "72647697-eb58-423b-92ef-e22bdb541e1d",
   "metadata": {},
   "outputs": [
    {
     "data": {
      "text/plain": [
       "'D:\\\\python training'"
      ]
     },
     "execution_count": 12,
     "metadata": {},
     "output_type": "execute_result"
    }
   ],
   "source": [
    "pwd"
   ]
  },
  {
   "cell_type": "code",
   "execution_count": 13,
   "id": "a13055c2-c14f-45d8-be79-22e476a2ce44",
   "metadata": {},
   "outputs": [
    {
     "name": "stdout",
     "output_type": "stream",
     "text": [
      "you want to read the file\n",
      "\n",
      "you want to read the file\n",
      "\n",
      "\n",
      "\n",
      "you want to read the file\n",
      "\n",
      "you want to read the file\n",
      "\n",
      "you want to read the fileyou want to read the file\n",
      "\n",
      "you want to read the file\n",
      "\n",
      "you want to read the file\n"
     ]
    }
   ],
   "source": [
    "# read the README.MD files\n",
    "for i in open('test.txt'):\n",
    "    print(i)"
   ]
  },
  {
   "cell_type": "code",
   "execution_count": 16,
   "id": "2a6fec93-4a20-4e42-b08f-5dba2c206824",
   "metadata": {},
   "outputs": [
    {
     "ename": "UnicodeDecodeError",
     "evalue": "'charmap' codec can't decode byte 0x9d in position 3523: character maps to <undefined>",
     "output_type": "error",
     "traceback": [
      "\u001b[1;31m---------------------------------------------------------------------------\u001b[0m",
      "\u001b[1;31mUnicodeDecodeError\u001b[0m                        Traceback (most recent call last)",
      "Cell \u001b[1;32mIn[16], line 1\u001b[0m\n\u001b[1;32m----> 1\u001b[0m \u001b[38;5;28;01mfor\u001b[39;00m i \u001b[38;5;129;01min\u001b[39;00m \u001b[38;5;28mopen\u001b[39m(\u001b[38;5;124m'\u001b[39m\u001b[38;5;124mREADME.MD\u001b[39m\u001b[38;5;124m'\u001b[39m):\n\u001b[0;32m      2\u001b[0m     \u001b[38;5;28mprint\u001b[39m(i)\n",
      "File \u001b[1;32mD:\\Anaconda\\Lib\\encodings\\cp1252.py:23\u001b[0m, in \u001b[0;36mIncrementalDecoder.decode\u001b[1;34m(self, input, final)\u001b[0m\n\u001b[0;32m     22\u001b[0m \u001b[38;5;28;01mdef\u001b[39;00m \u001b[38;5;21mdecode\u001b[39m(\u001b[38;5;28mself\u001b[39m, \u001b[38;5;28minput\u001b[39m, final\u001b[38;5;241m=\u001b[39m\u001b[38;5;28;01mFalse\u001b[39;00m):\n\u001b[1;32m---> 23\u001b[0m     \u001b[38;5;28;01mreturn\u001b[39;00m codecs\u001b[38;5;241m.\u001b[39mcharmap_decode(\u001b[38;5;28minput\u001b[39m,\u001b[38;5;28mself\u001b[39m\u001b[38;5;241m.\u001b[39merrors,decoding_table)[\u001b[38;5;241m0\u001b[39m]\n",
      "\u001b[1;31mUnicodeDecodeError\u001b[0m: 'charmap' codec can't decode byte 0x9d in position 3523: character maps to <undefined>"
     ]
    }
   ],
   "source": [
    "for i in open('README.MD'):\n",
    "    print(i)\n"
   ]
  },
  {
   "cell_type": "code",
   "execution_count": 18,
   "id": "d2142c68-c997-4a16-a299-917d0ff6c7eb",
   "metadata": {},
   "outputs": [
    {
     "name": "stdout",
     "output_type": "stream",
     "text": [
      "<generator object read_file at 0x00000234E893FC40>\n"
     ]
    }
   ],
   "source": [
    "def read_file(filename):\n",
    "    with open(filename) as file:\n",
    "        for i in file:\n",
    "            yield i\n",
    "\n",
    "print(read_file('text.txt'))"
   ]
  },
  {
   "cell_type": "code",
   "execution_count": 22,
   "id": "b323993e-0206-4163-b512-b7d52f548b2d",
   "metadata": {},
   "outputs": [
    {
     "name": "stdout",
     "output_type": "stream",
     "text": [
      "you want to read the file\n",
      "\n",
      "you want to read the file\n",
      "\n",
      "\n",
      "\n",
      "you want to read the file\n",
      "\n",
      "you want to read the file\n",
      "\n",
      "you want to read the fileyou want to read the file\n",
      "\n",
      "you want to read the file\n",
      "\n",
      "you want to read the file\n"
     ]
    }
   ],
   "source": [
    "for i in read_file('test.txt'):\n",
    "    print(i)"
   ]
  },
  {
   "cell_type": "markdown",
   "id": "3ce4b74d-df46-4cb0-bb0c-ccd92a521293",
   "metadata": {},
   "source": [
    "# map"
   ]
  },
  {
   "cell_type": "code",
   "execution_count": 4,
   "id": "9972a334-4ce4-4c60-b847-d5d869c06cb7",
   "metadata": {},
   "outputs": [
    {
     "name": "stdout",
     "output_type": "stream",
     "text": [
      "[1, 4, 9, 16, 25]\n"
     ]
    }
   ],
   "source": [
    "def square(num):\n",
    "    return num ** 2\n",
    "\n",
    "numbers = [1, 2, 3, 4, 5]\n",
    "squared_numbers = list(map(square, numbers))\n",
    "print(squared_numbers) "
   ]
  },
  {
   "cell_type": "code",
   "execution_count": 6,
   "id": "dd3b321a-5b5f-49c1-aca6-0c5c74a04348",
   "metadata": {},
   "outputs": [
    {
     "name": "stdout",
     "output_type": "stream",
     "text": [
      "[1, 4, 9, 16, 25]\n"
     ]
    }
   ],
   "source": [
    "numbers = [1, 2, 3, 4, 5]\n",
    "squared_numbers = list(map(lambda x: x ** 2, numbers))\n",
    "print(squared_numbers)"
   ]
  },
  {
   "cell_type": "code",
   "execution_count": 8,
   "id": "19e6e071-0938-42dd-a46b-d0c6ed5919ec",
   "metadata": {},
   "outputs": [
    {
     "name": "stdout",
     "output_type": "stream",
     "text": [
      "[5, 7, 9]\n"
     ]
    }
   ],
   "source": [
    "nums1 = [1, 2, 3]\n",
    "nums2 = [4, 5, 6]\n",
    "\n",
    "sum_nums = list(map(lambda x, y: x + y, nums1, nums2))\n",
    "print(sum_nums)"
   ]
  },
  {
   "cell_type": "code",
   "execution_count": 10,
   "id": "60de6b23-181e-4aeb-b459-b9505146db94",
   "metadata": {},
   "outputs": [
    {
     "name": "stdout",
     "output_type": "stream",
     "text": [
      "['HELLO', 'WORLD', 'PYTHON']\n"
     ]
    }
   ],
   "source": [
    "words = [\"hello\", \"world\", \"python\"]\n",
    "uppercase_words = list(map(str.upper, words))\n",
    "print(uppercase_words)"
   ]
  },
  {
   "cell_type": "code",
   "execution_count": 12,
   "id": "d54d4b4d-a48e-4c4a-8d83-f8e385eef92b",
   "metadata": {},
   "outputs": [
    {
     "name": "stdout",
     "output_type": "stream",
     "text": [
      "['hello', 'world', 'python']\n"
     ]
    }
   ],
   "source": [
    "words = [\"  hello \", \" world  \", \" python \"]\n",
    "clean_words = list(map(str.strip, words))\n",
    "print(clean_words)"
   ]
  },
  {
   "cell_type": "code",
   "execution_count": 14,
   "id": "c3fc1ac6-c30b-46f6-8be8-d17bdd5ddb79",
   "metadata": {},
   "outputs": [
    {
     "name": "stdout",
     "output_type": "stream",
     "text": [
      "[1, 2, 3, 4]\n"
     ]
    }
   ],
   "source": [
    "num_strings = [\"1\", \"2\", \"3\", \"4\"]\n",
    "numbers = list(map(int, num_strings))\n",
    "print(numbers)"
   ]
  },
  {
   "cell_type": "code",
   "execution_count": 16,
   "id": "cfb382bf-def8-493d-a0ee-fa4109740a98",
   "metadata": {},
   "outputs": [
    {
     "name": "stdout",
     "output_type": "stream",
     "text": [
      "[85, 78, None]\n"
     ]
    }
   ],
   "source": [
    "students = {\"Alice\": 85, \"Bob\": 90, \"Charlie\": 78}\n",
    "names = [\"Alice\", \"Charlie\", \"David\"]\n",
    "scores = list(map(students.get, names))\n",
    "print(scores)"
   ]
  },
  {
   "cell_type": "code",
   "execution_count": 18,
   "id": "56cd6820-c879-48d3-8ca7-262c25e2b6e8",
   "metadata": {},
   "outputs": [
    {
     "name": "stdout",
     "output_type": "stream",
     "text": [
      "[3, 7, 11]\n"
     ]
    }
   ],
   "source": [
    "data = [(1, 2), (3, 4), (5, 6)]\n",
    "def add_tuple(t):\n",
    "    return t[0] + t[1]\n",
    "result = list(map(add_tuple, data))\n",
    "print(result)"
   ]
  },
  {
   "cell_type": "code",
   "execution_count": 20,
   "id": "f5c12e15-85e4-4fb7-a2c5-a7147af33e51",
   "metadata": {},
   "outputs": [
    {
     "name": "stdout",
     "output_type": "stream",
     "text": [
      "[5000, 6000, 7000]\n"
     ]
    }
   ],
   "source": [
    "employees = [\n",
    "    {\"name\": \"Alice\", \"salary\": 5000},\n",
    "    {\"name\": \"Bob\", \"salary\": 6000},\n",
    "    {\"name\": \"Charlie\", \"salary\": 7000}\n",
    "]\n",
    "\n",
    "def get_salary(emp):\n",
    "    return emp[\"salary\"]\n",
    "\n",
    "salaries = list(map(get_salary, employees))\n",
    "print(salaries)"
   ]
  },
  {
   "cell_type": "code",
   "execution_count": 22,
   "id": "08d68d19-f546-43c1-bf83-8235689162c3",
   "metadata": {},
   "outputs": [
    {
     "name": "stdout",
     "output_type": "stream",
     "text": [
      "{1, 4, 9, 16, 25}\n"
     ]
    }
   ],
   "source": [
    "numbers = {1, 2, 3, 4, 5}\n",
    "squared_numbers = set(map(lambda x: x ** 2, numbers))\n",
    "print(squared_numbers)"
   ]
  },
  {
   "cell_type": "code",
   "execution_count": 24,
   "id": "4cf61c6e-7402-479e-b221-5c9d59a4f34f",
   "metadata": {},
   "outputs": [
    {
     "name": "stdout",
     "output_type": "stream",
     "text": [
      "(1, 4, 9, 16, 25)\n"
     ]
    }
   ],
   "source": [
    "numbers = (1, 2, 3, 4, 5)\n",
    "squared_numbers = tuple(map(lambda x: x ** 2, numbers))\n",
    "print(squared_numbers)"
   ]
  },
  {
   "cell_type": "code",
   "execution_count": 26,
   "id": "20dc5fd3-c302-45d5-903c-4dabaf4d84fb",
   "metadata": {},
   "outputs": [
    {
     "name": "stdout",
     "output_type": "stream",
     "text": [
      "['one', 'two', 'three', 4, 5]\n"
     ]
    }
   ],
   "source": [
    "data = [1, 2, 3, 4, 5]\n",
    "replace_map = {1: \"one\", 2: \"two\", 3: \"three\"}\n",
    "\n",
    "updated_list = list(map(lambda x: replace_map.get(x, x), data))\n",
    "print(updated_list) "
   ]
  },
  {
   "cell_type": "code",
   "execution_count": 32,
   "id": "4bd2c2c6-f230-4543-9391-c57d4120a999",
   "metadata": {},
   "outputs": [
    {
     "ename": "TypeError",
     "evalue": "'NoneType' object is not callable",
     "output_type": "error",
     "traceback": [
      "\u001b[1;31m---------------------------------------------------------------------------\u001b[0m",
      "\u001b[1;31mTypeError\u001b[0m                                 Traceback (most recent call last)",
      "Cell \u001b[1;32mIn[32], line 2\u001b[0m\n\u001b[0;32m      1\u001b[0m data \u001b[38;5;241m=\u001b[39m [\u001b[38;5;241m1\u001b[39m, \u001b[38;5;241m2\u001b[39m, \u001b[38;5;241m3\u001b[39m, \u001b[38;5;241m4\u001b[39m]\n\u001b[1;32m----> 2\u001b[0m identity_mapping \u001b[38;5;241m=\u001b[39m \u001b[38;5;28mlist\u001b[39m(\u001b[38;5;28mmap\u001b[39m(\u001b[38;5;28;01mNone\u001b[39;00m, data))\n\u001b[0;32m      3\u001b[0m \u001b[38;5;28mprint\u001b[39m(identity_mapping)\n",
      "\u001b[1;31mTypeError\u001b[0m: 'NoneType' object is not callable"
     ]
    }
   ],
   "source": [
    "data = [1, 2, 3, 4]\n",
    "identity_mapping = list(map(None, data))\n",
    "print(identity_mapping)"
   ]
  },
  {
   "cell_type": "code",
   "execution_count": 30,
   "id": "a1f84668-1a06-4078-8dd9-b59aff4d4e19",
   "metadata": {},
   "outputs": [
    {
     "name": "stdout",
     "output_type": "stream",
     "text": [
      "[False, True, True, True, True, True]\n"
     ]
    }
   ],
   "source": [
    "numbers = [0, 1, 2, 3, 4, 5]\n",
    "boolean_values = list(map(bool, numbers))\n",
    "print(boolean_values)"
   ]
  },
  {
   "cell_type": "markdown",
   "id": "1ceb25f3-fcf3-4c4a-a313-fd1c202f3aa6",
   "metadata": {},
   "source": [
    "# reduce"
   ]
  },
  {
   "cell_type": "code",
   "execution_count": 35,
   "id": "e3946132-5af3-4d8f-9a6f-82031f0d88f1",
   "metadata": {},
   "outputs": [],
   "source": [
    "from functools import reduce"
   ]
  },
  {
   "cell_type": "raw",
   "id": "6bbe43c0-7253-45db-a675-7e984223be84",
   "metadata": {},
   "source": [
    "reduce() starts with x = 1, y = 2 → (1 + 2) = 3\n",
    "Then x = 3, y = 3 → (3 + 3) = 6\n",
    "Then x = 6, y = 4 → (6 + 4) = 10\n",
    "Finally, x = 10, y = 5 → (10 + 5) = 15"
   ]
  },
  {
   "cell_type": "code",
   "execution_count": 43,
   "id": "4198aa83-fed8-4971-af80-482f929d0905",
   "metadata": {},
   "outputs": [
    {
     "name": "stdout",
     "output_type": "stream",
     "text": [
      "15\n"
     ]
    }
   ],
   "source": [
    "numbers = [1, 2, 3, 4, 5]\n",
    "result = reduce(lambda x, y: x + y, numbers)\n",
    "print(result)"
   ]
  },
  {
   "cell_type": "code",
   "execution_count": 45,
   "id": "7ddce1a4-c880-4e59-b64b-437785007e7d",
   "metadata": {},
   "outputs": [
    {
     "name": "stdout",
     "output_type": "stream",
     "text": [
      "8\n"
     ]
    }
   ],
   "source": [
    "numbers = [3, 7, 2, 8, 5]\n",
    "max_value = reduce(lambda x, y: x if x > y else y, numbers)\n",
    "print(max_value)  # Output: 8"
   ]
  },
  {
   "cell_type": "code",
   "execution_count": 47,
   "id": "e1240063-c803-4fb9-aae3-86b6a9416254",
   "metadata": {},
   "outputs": [
    {
     "name": "stdout",
     "output_type": "stream",
     "text": [
      "2\n"
     ]
    }
   ],
   "source": [
    "numbers = [3, 7, 2, 8, 5]\n",
    "min_value = reduce(lambda x, y: x if x < y else y, numbers)\n",
    "print(min_value)  # Output: 2"
   ]
  },
  {
   "cell_type": "code",
   "execution_count": 49,
   "id": "73281fd8-6baa-4e3a-a284-5583f6fb0982",
   "metadata": {},
   "outputs": [
    {
     "name": "stdout",
     "output_type": "stream",
     "text": [
      "12\n"
     ]
    }
   ],
   "source": [
    "import math\n",
    "numbers = [24, 36, 48]\n",
    "gcd_value = reduce(math.gcd, numbers)\n",
    "print(gcd_value)"
   ]
  },
  {
   "cell_type": "code",
   "execution_count": 51,
   "id": "ddd019f9-290a-4bfd-a6a8-3db6359b2a04",
   "metadata": {},
   "outputs": [
    {
     "name": "stdout",
     "output_type": "stream",
     "text": [
      "60\n"
     ]
    }
   ],
   "source": [
    "def lcm(x, y):\n",
    "    return (x * y) // math.gcd(x, y)\n",
    "\n",
    "numbers = [4, 5, 6]\n",
    "lcm_value = reduce(lcm, numbers)\n",
    "print(lcm_value)  # Output: 60"
   ]
  },
  {
   "cell_type": "code",
   "execution_count": 53,
   "id": "4df7d5f0-c297-4bf3-878b-13cb5318ca4c",
   "metadata": {},
   "outputs": [
    {
     "name": "stdout",
     "output_type": "stream",
     "text": [
      "[1, 2, 3, 4, 5, 6]\n"
     ]
    }
   ],
   "source": [
    "lists = [[1, 2], [3, 4], [5, 6]]\n",
    "flattened = reduce(lambda x, y: x + y, lists)\n",
    "print(flattened)  # Output: [1, 2, 3, 4, 5, 6]"
   ]
  },
  {
   "cell_type": "code",
   "execution_count": 55,
   "id": "40985942-7c35-4fde-a4ee-04aec8bcaf2b",
   "metadata": {},
   "outputs": [
    {
     "name": "stdout",
     "output_type": "stream",
     "text": [
      "{'a': 1, 'b': 2, 'c': 3}\n"
     ]
    }
   ],
   "source": [
    "data = [(\"a\", 1), (\"b\", 2), (\"c\", 3)]\n",
    "dictionary = reduce(lambda acc, pair: {**acc, pair[0]: pair[1]}, data, {})\n",
    "print(dictionary) "
   ]
  },
  {
   "cell_type": "code",
   "execution_count": null,
   "id": "43c2467f-b3f6-4653-8838-2433981fc0f0",
   "metadata": {},
   "outputs": [],
   "source": []
  }
 ],
 "metadata": {
  "kernelspec": {
   "display_name": "Python [conda env:base] *",
   "language": "python",
   "name": "conda-base-py"
  },
  "language_info": {
   "codemirror_mode": {
    "name": "ipython",
    "version": 3
   },
   "file_extension": ".py",
   "mimetype": "text/x-python",
   "name": "python",
   "nbconvert_exporter": "python",
   "pygments_lexer": "ipython3",
   "version": "3.12.7"
  }
 },
 "nbformat": 4,
 "nbformat_minor": 5
}
