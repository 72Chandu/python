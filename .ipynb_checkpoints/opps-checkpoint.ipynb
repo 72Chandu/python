{
 "cells": [
  {
   "cell_type": "markdown",
   "id": "5d71ecaf-640b-4326-8c9c-ff75729217e7",
   "metadata": {},
   "source": [
    "# Object Oriented programing in pyhton"
   ]
  },
  {
   "cell_type": "raw",
   "id": "a65c5822-48ff-4c9f-abd8-85d120610c2e",
   "metadata": {},
   "source": [
    "procedural language lack in encapsulation difficult to manage when code size is  >= 10 KLCO here variable are unprotected , no automic management by deleting dereferenced variable "
   ]
  },
  {
   "cell_type": "code",
   "execution_count": 24,
   "id": "4f189bff-d4c1-423d-91b9-d86ca0cf5f09",
   "metadata": {},
   "outputs": [
    {
     "name": "stdout",
     "output_type": "stream",
     "text": [
      "<__main__.myfirstclass object at 0x000001CBDD896C60> <class '__main__.myfirstclass'>\n"
     ]
    }
   ],
   "source": [
    "class myfirstclass:\n",
    "    pass\n",
    "obj=myfirstclass()\n",
    "print(obj,type(obj))"
   ]
  },
  {
   "cell_type": "code",
   "execution_count": 26,
   "id": "b86c5f5e-d81c-41eb-b934-501627ea52df",
   "metadata": {},
   "outputs": [
    {
     "name": "stdout",
     "output_type": "stream",
     "text": [
      "this is document of oops <class '__main__.myfirstclass'>\n",
      "this is document of oops\n"
     ]
    }
   ],
   "source": [
    "class myfirstclass:\n",
    "    '''this is document of oops'''\n",
    "obj=myfirstclass()\n",
    "print(obj.__doc__ ,type(obj))\n",
    "print(myfirstclass.__doc__ )"
   ]
  },
  {
   "cell_type": "code",
   "execution_count": 28,
   "id": "e48b0e19-1423-410f-a35d-829cd0c9a181",
   "metadata": {},
   "outputs": [
    {
     "name": "stdout",
     "output_type": "stream",
     "text": [
      "Executing constructor method..\n",
      "self: <__main__.myfirstclass object at 0x000001CBDC4205C0> <class '__main__.myfirstclass'>\n",
      "This is documentation of OOPs\n",
      "Executing display method..\n",
      "100 or 200\n",
      "100 or 200\n",
      "11 and 13\n"
     ]
    }
   ],
   "source": [
    "class myfirstclass:\n",
    "    '''This is documentation of OOPs'''\n",
    "    class_var1 = 100  # class or static variable \n",
    "    class_var2 = 200\n",
    "    def __init__(self, data1, data2):  # constructor method with positional arguments\n",
    "        print(\"Executing constructor method..\")\n",
    "        print(\"self:\", self, type(self))\n",
    "        self.inst_var1=data1  # instance variable \n",
    "        self.inst_var2=data2\n",
    "        \n",
    "    def display(self):\n",
    "        print(\"Executing display method..\")\n",
    "        print(f\"{myfirstclass.class_var1} or {myfirstclass.class_var2}\")  # using class name\n",
    "        print(f\"{self.class_var1} or {self.class_var2}\") # using self\n",
    "        print(f\"{self.inst_var1} and {self.inst_var2}\")\n",
    "        \n",
    "obj = myfirstclass(11,13) #positional arguments\n",
    "print(obj.__doc__)\n",
    "obj.display()"
   ]
  },
  {
   "cell_type": "code",
   "execution_count": 30,
   "id": "d9814ff2-21e3-4b4d-83fa-b167bcc4cd4a",
   "metadata": {},
   "outputs": [
    {
     "name": "stdout",
     "output_type": "stream",
     "text": [
      "100 or 200\n",
      "11 and 13\n",
      "updating class variable\n",
      "320 or 200\n",
      "11 and 13\n"
     ]
    }
   ],
   "source": [
    "class myfirstclass:\n",
    "    class_var1 = 100\n",
    "    class_var2 = 200\n",
    "    def __init__(self, data1, data2):\n",
    "        self.inst_var1=data1\n",
    "        self.inst_var2=data2\n",
    "        \n",
    "    def display(self):\n",
    "        print(f\"{self.class_var1} or {self.class_var2}\")\n",
    "        print(f\"{self.inst_var1} and {self.inst_var2}\")\n",
    "        \n",
    "    def update(self):\n",
    "        print(\"updating class variable\")\n",
    "        myfirstclass.class_var1+=100\n",
    "        myfirstclass.class_var1+=120\n",
    "        \n",
    "obj = myfirstclass(11,13)\n",
    "obj.display()\n",
    "obj.update()\n",
    "obj.display()"
   ]
  },
  {
   "cell_type": "code",
   "execution_count": 32,
   "id": "52866005-6cd7-465f-8463-9b578015e889",
   "metadata": {},
   "outputs": [
    {
     "name": "stdout",
     "output_type": "stream",
     "text": [
      "100 or 200\n",
      "11 and 13\n"
     ]
    }
   ],
   "source": [
    "class myfirstclass:\n",
    "    class_var1 = 100\n",
    "    class_var2 = 200\n",
    "    def __init__(self, data1, data2):\n",
    "        self.inst_var1=data1\n",
    "        self.inst_var2=data2\n",
    "        \n",
    "    def display(self):\n",
    "        print(f\"{self.class_var1} or {self.class_var2}\")\n",
    "        print(f\"{self.inst_var1} and {self.inst_var2}\")\n",
    "        \n",
    "    def __del__(self):\n",
    "        print(\"destructor is excuting\")\n",
    "\n",
    "obj = myfirstclass(11,13)\n",
    "obj.display()"
   ]
  },
  {
   "cell_type": "code",
   "execution_count": 34,
   "id": "e11b423d-6412-4e5d-8729-a0d1fa32197c",
   "metadata": {},
   "outputs": [
    {
     "name": "stdout",
     "output_type": "stream",
     "text": [
      "destructor is excuting\n"
     ]
    }
   ],
   "source": [
    "del obj"
   ]
  },
  {
   "cell_type": "code",
   "execution_count": 36,
   "id": "4ea39fb6-b686-4b25-be7a-78c2d65237f3",
   "metadata": {},
   "outputs": [
    {
     "name": "stdout",
     "output_type": "stream",
     "text": [
      "4\n"
     ]
    }
   ],
   "source": [
    "class myclass:\n",
    "    count=0;\n",
    "    def __init__(self):\n",
    "        myclass.count+=1\n",
    "obj1=myclass()\n",
    "obj2=myclass()\n",
    "obj3=myclass()\n",
    "obj4=myclass()\n",
    "print(myclass.count)"
   ]
  },
  {
   "cell_type": "code",
   "execution_count": 13,
   "id": "eca6264f-b968-4b67-b5d2-0249bbea8554",
   "metadata": {},
   "outputs": [
    {
     "name": "stdout",
     "output_type": "stream",
     "text": [
      "Executing instance methode: <__main__.myclass object at 0x000002132192B380>\n",
      "instVar=100, classVar=222 and classVar=222\n",
      "\n",
      "Executing class methode: <class '__main__.myclass'>\n",
      "classVar=333 and classVar=333\n",
      "\n",
      "Executing static methode...\n",
      "classVar=44\n"
     ]
    }
   ],
   "source": [
    "# tere are three diffrent types of methode in python : instance , calss and static methode\n",
    "class myclass:\n",
    "    classVar=111  # class variable \n",
    "    # defining instance variable \n",
    "    def instMethode(self):\n",
    "        print(\"Executing instance methode:\",self)\n",
    "        self.instVar=100  # instance variable \n",
    "        myclass.classVar=222\n",
    "        print(f\"instVar={self.instVar}, classVar={self.classVar} and classVar={myclass.classVar}\")\n",
    "\n",
    "    # defining class methode \n",
    "    @classmethod   # annotation or decorator\n",
    "    def classMethod(cla):   # cla is a class binding variable \n",
    "        print(\"Executing class methode:\",cla)\n",
    "        cla.classVar=333\n",
    "        print(f\"classVar={cla.classVar} and classVar={myclass.classVar}\")\n",
    "    @staticmethod   # annotation or decorator\n",
    "    def staticMethod():\n",
    "        print(\"Executing static methode...\")\n",
    "        myclass.classVar=44\n",
    "        print(f\"classVar={myclass.classVar}\")\n",
    "obj=myclass()\n",
    "obj.instMethode()\n",
    "# myclass.instMethode() # error\n",
    "print()\n",
    "obj.classMethod()\n",
    "print()\n",
    "obj.staticMethod()"
   ]
  },
  {
   "cell_type": "code",
   "execution_count": 40,
   "id": "ebda67f8-335a-40f2-926a-66356790c262",
   "metadata": {},
   "outputs": [
    {
     "name": "stdout",
     "output_type": "stream",
     "text": [
      "False True True\n",
      "True True\n",
      "100 111\n",
      "222 222\n",
      "True False\n",
      "{'instvar1': 111, 'classvar1': 222}\n",
      "['__class__', '__delattr__', '__dict__', '__dir__', '__doc__', '__eq__', '__format__', '__ge__', '__getattribute__', '__getstate__', '__gt__', '__hash__', '__init__', '__init_subclass__', '__le__', '__lt__', '__module__', '__ne__', '__new__', '__reduce__', '__reduce_ex__', '__repr__', '__setattr__', '__sizeof__', '__str__', '__subclasshook__', '__weakref__', 'classvar1', 'fun1', 'fun2', 'instvar1']\n",
      "\n",
      "I am __str__() methode is executing ..\n",
      "I am __str__() methode is executing ..\n",
      "this is a document string\n",
      "__main__\n",
      "{'instvar1': 111, 'classvar1': 222}\n"
     ]
    }
   ],
   "source": [
    "# built in methode\n",
    "class myclass:\n",
    "    def __init__(self):\n",
    "        print(\"hello\")\n",
    "\n",
    "class myclass2:\n",
    "    classvar1=100\n",
    "    def __init__(self):\n",
    "        self.instvar1=111\n",
    "    def fun1(self):\n",
    "        print(\"instvar1=\",self.instvar1)\n",
    "\n",
    "class myclass3(myclass2):\n",
    "    \"\"\"this is a document string\"\"\"\n",
    "    def fun2(self):\n",
    "        print(\"fun2 is executing\")\n",
    "    def __str__(self):\n",
    "        return \"I am __str__() methode is executing ..\"\n",
    "obj=myclass3()\n",
    "print(isinstance(obj,myclass),isinstance(obj,myclass2),isinstance(obj,myclass3))\n",
    "print(hasattr(obj,\"classvar1\"),hasattr(obj,\"instvar1\"))\n",
    "print(getattr(obj,\"classvar1\"),getattr(obj,\"instvar1\"))\n",
    "# print(setattr(obj,\"classvar1\",22),setattr(obj,\"instvar1\",33))\n",
    "setattr(obj,\"classvar1\",222)\n",
    "print(obj.classvar1 ,getattr(obj,\"classvar1\"))\n",
    "print(issubclass(myclass3,myclass2),isinstance(myclass3,myclass))\n",
    "print(vars(obj))\n",
    "print(dir(obj))\n",
    "print()\n",
    "print(obj)\n",
    "print(obj.__str__())\n",
    "print(obj.__doc__)\n",
    "print(obj.__module__)\n",
    "print(obj.__dict__)\n"
   ]
  },
  {
   "cell_type": "markdown",
   "id": "f1f2e4d1-7b44-4c72-8b37-16d228ab5c5a",
   "metadata": {},
   "source": [
    "# Acess Modifier"
   ]
  },
  {
   "cell_type": "raw",
   "id": "1130486f-749f-4824-8a54-3d28c1c4630a",
   "metadata": {},
   "source": [
    "deling with private and public members"
   ]
  },
  {
   "cell_type": "code",
   "execution_count": 44,
   "id": "191eb279-fa2f-495f-bdaf-46623856fea8",
   "metadata": {},
   "outputs": [
    {
     "name": "stdout",
     "output_type": "stream",
     "text": [
      "111\n",
      "222\n",
      "333\n",
      "public methode is executing\n",
      "private methode is executing\n",
      "private methode is executing\n"
     ]
    }
   ],
   "source": [
    "class myclass:\n",
    "    def __init__(self):\n",
    "        self.publicvar=111\n",
    "        self._protectedvar=222\n",
    "        self.__privatevar=333\n",
    "    def publicmethode(self):\n",
    "        return \"public methode is executing\"\n",
    "    def _protectedmethode(self):\n",
    "        return \"private methode is executing\"\n",
    "    def __privatemethode(self):\n",
    "        return \"private methode is executing\"\n",
    "\n",
    "obj=myclass()\n",
    "print(obj.publicvar)\n",
    "print(obj._protectedvar)\n",
    "print(obj._myclass__privatevar)\n",
    "\n",
    "print(obj.publicmethode())\n",
    "print(obj._protectedmethode())\n",
    "print(obj._myclass__privatemethode())"
   ]
  },
  {
   "cell_type": "markdown",
   "id": "f986ae79-5753-4b04-9721-7e6de654d6e6",
   "metadata": {},
   "source": [
    "# Pdf protector project"
   ]
  },
  {
   "cell_type": "code",
   "execution_count": 17,
   "id": "38ecf413-863f-4502-90e4-0a83ef9e79d1",
   "metadata": {},
   "outputs": [],
   "source": [
    "# Encrypt PDF As Password Protected"
   ]
  },
  {
   "cell_type": "code",
   "execution_count": 19,
   "id": "9c2cbd3f-1b75-4906-b31a-fd4ef3a57be7",
   "metadata": {},
   "outputs": [],
   "source": [
    "# !pip install pikepdf"
   ]
  },
  {
   "cell_type": "code",
   "execution_count": 21,
   "id": "5227bc30-b085-4d29-b650-bc84af4c9b07",
   "metadata": {},
   "outputs": [],
   "source": [
    "import pikepdf\n",
    "old_pdf = pikepdf.Pdf.open(\"TIU Python Training-3 (2).pdf\")\n",
    "no_extr = pikepdf.Permissions(extract=False) # Stoping permissions to open\n",
    "old_pdf.save(\"TIU Python Training-3 (2)_secured.pdf\", encryption=pikepdf.Encryption(owner=\"Chandu\", user=\"123\", allow=no_extr)) # Save the file with encryption"
   ]
  },
  {
   "cell_type": "code",
   "execution_count": null,
   "id": "635f2e73-5928-49e1-9cd3-d69a0fb5d39e",
   "metadata": {},
   "outputs": [],
   "source": []
  },
  {
   "cell_type": "code",
   "execution_count": null,
   "id": "9bb32b7f-8cc1-4ba0-b712-b20df356f0e7",
   "metadata": {},
   "outputs": [],
   "source": []
  },
  {
   "cell_type": "code",
   "execution_count": null,
   "id": "12b82200-afe6-4afc-a044-4603f9f7482d",
   "metadata": {},
   "outputs": [],
   "source": []
  },
  {
   "cell_type": "code",
   "execution_count": null,
   "id": "90f457c8-478e-4045-b593-99f60279ab3d",
   "metadata": {},
   "outputs": [],
   "source": []
  },
  {
   "cell_type": "code",
   "execution_count": null,
   "id": "57ac11d0-e02c-4e14-a3af-692238fac5b8",
   "metadata": {},
   "outputs": [],
   "source": []
  },
  {
   "cell_type": "code",
   "execution_count": null,
   "id": "db8d343c-ee4f-4dd8-b577-7414e0c326b8",
   "metadata": {},
   "outputs": [],
   "source": []
  }
 ],
 "metadata": {
  "kernelspec": {
   "display_name": "Python [conda env:base] *",
   "language": "python",
   "name": "conda-base-py"
  },
  "language_info": {
   "codemirror_mode": {
    "name": "ipython",
    "version": 3
   },
   "file_extension": ".py",
   "mimetype": "text/x-python",
   "name": "python",
   "nbconvert_exporter": "python",
   "pygments_lexer": "ipython3",
   "version": "3.12.7"
  }
 },
 "nbformat": 4,
 "nbformat_minor": 5
}
