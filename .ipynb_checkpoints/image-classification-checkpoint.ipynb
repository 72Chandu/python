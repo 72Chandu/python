{
 "cells": [
  {
   "cell_type": "code",
   "execution_count": 5,
   "id": "cb70af44-c5bb-44f5-a73b-6cb69aabd8a4",
   "metadata": {},
   "outputs": [
    {
     "name": "stdout",
     "output_type": "stream",
     "text": [
      "Requirement already satisfied: numpy in d:\\anaconda\\lib\\site-packages (1.26.4)Note: you may need to restart the kernel to use updated packages.\n",
      "\n"
     ]
    }
   ],
   "source": [
    "pip install numpy"
   ]
  },
  {
   "cell_type": "code",
   "execution_count": 7,
   "id": "e745e85b-4e6d-4349-af59-625bfd19c18a",
   "metadata": {},
   "outputs": [
    {
     "name": "stdout",
     "output_type": "stream",
     "text": [
      "Requirement already satisfied: matplotlib in d:\\anaconda\\lib\\site-packages (3.9.2)\n",
      "Requirement already satisfied: contourpy>=1.0.1 in d:\\anaconda\\lib\\site-packages (from matplotlib) (1.2.0)\n",
      "Requirement already satisfied: cycler>=0.10 in d:\\anaconda\\lib\\site-packages (from matplotlib) (0.11.0)\n",
      "Requirement already satisfied: fonttools>=4.22.0 in d:\\anaconda\\lib\\site-packages (from matplotlib) (4.51.0)\n",
      "Requirement already satisfied: kiwisolver>=1.3.1 in d:\\anaconda\\lib\\site-packages (from matplotlib) (1.4.4)\n",
      "Requirement already satisfied: numpy>=1.23 in d:\\anaconda\\lib\\site-packages (from matplotlib) (1.26.4)\n",
      "Requirement already satisfied: packaging>=20.0 in d:\\anaconda\\lib\\site-packages (from matplotlib) (24.1)\n",
      "Requirement already satisfied: pillow>=8 in d:\\anaconda\\lib\\site-packages (from matplotlib) (10.4.0)\n",
      "Requirement already satisfied: pyparsing>=2.3.1 in d:\\anaconda\\lib\\site-packages (from matplotlib) (3.1.2)\n",
      "Requirement already satisfied: python-dateutil>=2.7 in d:\\anaconda\\lib\\site-packages (from matplotlib) (2.9.0.post0)\n",
      "Requirement already satisfied: six>=1.5 in d:\\anaconda\\lib\\site-packages (from python-dateutil>=2.7->matplotlib) (1.16.0)\n",
      "Note: you may need to restart the kernel to use updated packages.\n"
     ]
    }
   ],
   "source": [
    "pip install matplotlib"
   ]
  },
  {
   "cell_type": "code",
   "execution_count": 12,
   "id": "7ad99608-9ae0-4424-be57-ff902f9533e8",
   "metadata": {},
   "outputs": [
    {
     "name": "stdout",
     "output_type": "stream",
     "text": [
      "Requirement already satisfied: tensorflow in d:\\anaconda\\lib\\site-packages (2.19.0)\n",
      "Requirement already satisfied: absl-py>=1.0.0 in d:\\anaconda\\lib\\site-packages (from tensorflow) (2.3.1)\n",
      "Requirement already satisfied: astunparse>=1.6.0 in d:\\anaconda\\lib\\site-packages (from tensorflow) (1.6.3)\n",
      "Requirement already satisfied: flatbuffers>=24.3.25 in d:\\anaconda\\lib\\site-packages (from tensorflow) (25.2.10)\n",
      "Requirement already satisfied: gast!=0.5.0,!=0.5.1,!=0.5.2,>=0.2.1 in d:\\anaconda\\lib\\site-packages (from tensorflow) (0.6.0)\n",
      "Requirement already satisfied: google-pasta>=0.1.1 in d:\\anaconda\\lib\\site-packages (from tensorflow) (0.2.0)\n",
      "Requirement already satisfied: libclang>=13.0.0 in d:\\anaconda\\lib\\site-packages (from tensorflow) (18.1.1)\n",
      "Requirement already satisfied: opt-einsum>=2.3.2 in d:\\anaconda\\lib\\site-packages (from tensorflow) (3.4.0)\n",
      "Requirement already satisfied: packaging in d:\\anaconda\\lib\\site-packages (from tensorflow) (24.1)\n",
      "Requirement already satisfied: protobuf!=4.21.0,!=4.21.1,!=4.21.2,!=4.21.3,!=4.21.4,!=4.21.5,<6.0.0dev,>=3.20.3 in d:\\anaconda\\lib\\site-packages (from tensorflow) (4.25.3)\n",
      "Requirement already satisfied: requests<3,>=2.21.0 in d:\\anaconda\\lib\\site-packages (from tensorflow) (2.32.3)\n",
      "Requirement already satisfied: setuptools in d:\\anaconda\\lib\\site-packages (from tensorflow) (75.1.0)\n",
      "Requirement already satisfied: six>=1.12.0 in d:\\anaconda\\lib\\site-packages (from tensorflow) (1.16.0)\n",
      "Requirement already satisfied: termcolor>=1.1.0 in d:\\anaconda\\lib\\site-packages (from tensorflow) (3.1.0)\n",
      "Requirement already satisfied: typing-extensions>=3.6.6 in d:\\anaconda\\lib\\site-packages (from tensorflow) (4.11.0)\n",
      "Requirement already satisfied: wrapt>=1.11.0 in d:\\anaconda\\lib\\site-packages (from tensorflow) (1.14.1)\n",
      "Requirement already satisfied: grpcio<2.0,>=1.24.3 in d:\\anaconda\\lib\\site-packages (from tensorflow) (1.73.1)\n",
      "Requirement already satisfied: tensorboard~=2.19.0 in d:\\anaconda\\lib\\site-packages (from tensorflow) (2.19.0)\n",
      "Requirement already satisfied: keras>=3.5.0 in d:\\anaconda\\lib\\site-packages (from tensorflow) (3.10.0)\n",
      "Requirement already satisfied: numpy<2.2.0,>=1.26.0 in d:\\anaconda\\lib\\site-packages (from tensorflow) (1.26.4)\n",
      "Requirement already satisfied: h5py>=3.11.0 in d:\\anaconda\\lib\\site-packages (from tensorflow) (3.11.0)\n",
      "Requirement already satisfied: ml-dtypes<1.0.0,>=0.5.1 in d:\\anaconda\\lib\\site-packages (from tensorflow) (0.5.1)\n",
      "Requirement already satisfied: wheel<1.0,>=0.23.0 in d:\\anaconda\\lib\\site-packages (from astunparse>=1.6.0->tensorflow) (0.44.0)\n",
      "Requirement already satisfied: rich in d:\\anaconda\\lib\\site-packages (from keras>=3.5.0->tensorflow) (13.7.1)\n",
      "Requirement already satisfied: namex in d:\\anaconda\\lib\\site-packages (from keras>=3.5.0->tensorflow) (0.1.0)\n",
      "Requirement already satisfied: optree in d:\\anaconda\\lib\\site-packages (from keras>=3.5.0->tensorflow) (0.16.0)\n",
      "Requirement already satisfied: charset-normalizer<4,>=2 in d:\\anaconda\\lib\\site-packages (from requests<3,>=2.21.0->tensorflow) (3.3.2)\n",
      "Requirement already satisfied: idna<4,>=2.5 in d:\\anaconda\\lib\\site-packages (from requests<3,>=2.21.0->tensorflow) (3.7)\n",
      "Requirement already satisfied: urllib3<3,>=1.21.1 in d:\\anaconda\\lib\\site-packages (from requests<3,>=2.21.0->tensorflow) (2.2.3)\n",
      "Requirement already satisfied: certifi>=2017.4.17 in d:\\anaconda\\lib\\site-packages (from requests<3,>=2.21.0->tensorflow) (2024.8.30)\n",
      "Requirement already satisfied: markdown>=2.6.8 in d:\\anaconda\\lib\\site-packages (from tensorboard~=2.19.0->tensorflow) (3.4.1)\n",
      "Requirement already satisfied: tensorboard-data-server<0.8.0,>=0.7.0 in d:\\anaconda\\lib\\site-packages (from tensorboard~=2.19.0->tensorflow) (0.7.2)\n",
      "Requirement already satisfied: werkzeug>=1.0.1 in d:\\anaconda\\lib\\site-packages (from tensorboard~=2.19.0->tensorflow) (3.0.3)\n",
      "Requirement already satisfied: MarkupSafe>=2.1.1 in d:\\anaconda\\lib\\site-packages (from werkzeug>=1.0.1->tensorboard~=2.19.0->tensorflow) (2.1.3)\n",
      "Requirement already satisfied: markdown-it-py>=2.2.0 in d:\\anaconda\\lib\\site-packages (from rich->keras>=3.5.0->tensorflow) (2.2.0)\n",
      "Requirement already satisfied: pygments<3.0.0,>=2.13.0 in d:\\anaconda\\lib\\site-packages (from rich->keras>=3.5.0->tensorflow) (2.15.1)\n",
      "Requirement already satisfied: mdurl~=0.1 in d:\\anaconda\\lib\\site-packages (from markdown-it-py>=2.2.0->rich->keras>=3.5.0->tensorflow) (0.1.0)\n",
      "Note: you may need to restart the kernel to use updated packages.\n"
     ]
    }
   ],
   "source": [
    "pip install tensorflow"
   ]
  },
  {
   "cell_type": "code",
   "execution_count": 16,
   "id": "c7f919af-6bd5-4e06-aef5-4441158a1b21",
   "metadata": {},
   "outputs": [
    {
     "name": "stdout",
     "output_type": "stream",
     "text": [
      "Collecting opencv-python\n",
      "  Downloading opencv_python-4.12.0.88-cp37-abi3-win_amd64.whl.metadata (19 kB)\n",
      "Collecting numpy<2.3.0,>=2 (from opencv-python)\n",
      "  Downloading numpy-2.2.6-cp312-cp312-win_amd64.whl.metadata (60 kB)\n",
      "Downloading opencv_python-4.12.0.88-cp37-abi3-win_amd64.whl (39.0 MB)\n",
      "   ---------------------------------------- 0.0/39.0 MB ? eta -:--:--\n",
      "   ---------------------------------------- 0.0/39.0 MB ? eta -:--:--\n",
      "    --------------------------------------- 0.5/39.0 MB 1.3 MB/s eta 0:00:30\n",
      "    --------------------------------------- 0.8/39.0 MB 1.4 MB/s eta 0:00:28\n",
      "   - -------------------------------------- 1.0/39.0 MB 1.4 MB/s eta 0:00:27\n",
      "   - -------------------------------------- 1.6/39.0 MB 1.6 MB/s eta 0:00:24\n",
      "   -- ------------------------------------- 2.1/39.0 MB 1.8 MB/s eta 0:00:21\n",
      "   -- ------------------------------------- 2.6/39.0 MB 1.9 MB/s eta 0:00:20\n",
      "   --- ------------------------------------ 3.1/39.0 MB 2.0 MB/s eta 0:00:19\n",
      "   --- ------------------------------------ 3.7/39.0 MB 2.1 MB/s eta 0:00:18\n",
      "   ---- ----------------------------------- 4.5/39.0 MB 2.2 MB/s eta 0:00:16\n",
      "   ----- ---------------------------------- 5.2/39.0 MB 2.4 MB/s eta 0:00:14\n",
      "   ------ --------------------------------- 6.0/39.0 MB 2.5 MB/s eta 0:00:13\n",
      "   ------- -------------------------------- 7.1/39.0 MB 2.7 MB/s eta 0:00:12\n",
      "   -------- ------------------------------- 8.1/39.0 MB 2.9 MB/s eta 0:00:11\n",
      "   --------- ------------------------------ 9.2/39.0 MB 3.0 MB/s eta 0:00:10\n",
      "   ---------- ----------------------------- 10.0/39.0 MB 3.1 MB/s eta 0:00:10\n",
      "   ----------- ---------------------------- 11.3/39.0 MB 3.2 MB/s eta 0:00:09\n",
      "   ------------ --------------------------- 12.6/39.0 MB 3.4 MB/s eta 0:00:08\n",
      "   -------------- ------------------------- 13.9/39.0 MB 3.5 MB/s eta 0:00:08\n",
      "   --------------- ------------------------ 14.9/39.0 MB 3.6 MB/s eta 0:00:07\n",
      "   ---------------- ----------------------- 16.0/39.0 MB 3.7 MB/s eta 0:00:07\n",
      "   ----------------- ---------------------- 17.3/39.0 MB 3.8 MB/s eta 0:00:06\n",
      "   ------------------ --------------------- 18.1/39.0 MB 3.8 MB/s eta 0:00:06\n",
      "   ------------------- -------------------- 19.4/39.0 MB 3.9 MB/s eta 0:00:06\n",
      "   -------------------- ------------------- 20.2/39.0 MB 3.9 MB/s eta 0:00:05\n",
      "   --------------------- ------------------ 21.2/39.0 MB 3.9 MB/s eta 0:00:05\n",
      "   ----------------------- ---------------- 22.8/39.0 MB 4.1 MB/s eta 0:00:04\n",
      "   ------------------------- -------------- 24.4/39.0 MB 4.2 MB/s eta 0:00:04\n",
      "   -------------------------- ------------- 25.7/39.0 MB 4.3 MB/s eta 0:00:04\n",
      "   --------------------------- ------------ 27.3/39.0 MB 4.4 MB/s eta 0:00:03\n",
      "   ----------------------------- ---------- 28.8/39.0 MB 4.5 MB/s eta 0:00:03\n",
      "   ------------------------------ --------- 30.1/39.0 MB 4.5 MB/s eta 0:00:02\n",
      "   -------------------------------- ------- 31.7/39.0 MB 4.6 MB/s eta 0:00:02\n",
      "   --------------------------------- ------ 33.0/39.0 MB 4.6 MB/s eta 0:00:02\n",
      "   ----------------------------------- ---- 34.6/39.0 MB 4.7 MB/s eta 0:00:01\n",
      "   ------------------------------------- -- 36.2/39.0 MB 4.8 MB/s eta 0:00:01\n",
      "   -------------------------------------- - 37.7/39.0 MB 4.9 MB/s eta 0:00:01\n",
      "   ---------------------------------------  38.8/39.0 MB 4.9 MB/s eta 0:00:01\n",
      "   ---------------------------------------- 39.0/39.0 MB 4.8 MB/s eta 0:00:00\n",
      "Downloading numpy-2.2.6-cp312-cp312-win_amd64.whl (12.6 MB)\n",
      "   ---------------------------------------- 0.0/12.6 MB ? eta -:--:--\n",
      "   ---- ----------------------------------- 1.3/12.6 MB 7.4 MB/s eta 0:00:02\n",
      "   -------- ------------------------------- 2.6/12.6 MB 6.3 MB/s eta 0:00:02\n",
      "   ----------- ---------------------------- 3.7/12.6 MB 6.1 MB/s eta 0:00:02\n",
      "   -------------- ------------------------- 4.7/12.6 MB 5.7 MB/s eta 0:00:02\n",
      "   ------------------- -------------------- 6.0/12.6 MB 5.7 MB/s eta 0:00:02\n",
      "   ------------------------ --------------- 7.6/12.6 MB 5.9 MB/s eta 0:00:01\n",
      "   ---------------------------- ----------- 8.9/12.6 MB 6.1 MB/s eta 0:00:01\n",
      "   ------------------------------- -------- 10.0/12.6 MB 5.9 MB/s eta 0:00:01\n",
      "   ---------------------------------- ----- 11.0/12.6 MB 5.8 MB/s eta 0:00:01\n",
      "   ---------------------------------------  12.6/12.6 MB 5.9 MB/s eta 0:00:01\n",
      "   ---------------------------------------- 12.6/12.6 MB 5.7 MB/s eta 0:00:00\n",
      "Installing collected packages: numpy, opencv-python\n",
      "  Attempting uninstall: numpy\n",
      "    Found existing installation: numpy 1.26.4\n",
      "    Uninstalling numpy-1.26.4:\n",
      "      Successfully uninstalled numpy-1.26.4\n",
      "Successfully installed numpy-2.2.6 opencv-python-4.12.0.88\n",
      "Note: you may need to restart the kernel to use updated packages.\n"
     ]
    },
    {
     "name": "stderr",
     "output_type": "stream",
     "text": [
      "ERROR: pip's dependency resolver does not currently take into account all the packages that are installed. This behaviour is the source of the following dependency conflicts.\n",
      "contourpy 1.2.0 requires numpy<2.0,>=1.20, but you have numpy 2.2.6 which is incompatible.\n",
      "gensim 4.3.3 requires numpy<2.0,>=1.18.5, but you have numpy 2.2.6 which is incompatible.\n",
      "numba 0.60.0 requires numpy<2.1,>=1.22, but you have numpy 2.2.6 which is incompatible.\n",
      "tensorflow 2.19.0 requires numpy<2.2.0,>=1.26.0, but you have numpy 2.2.6 which is incompatible.\n"
     ]
    }
   ],
   "source": [
    "pip install opencv-python"
   ]
  },
  {
   "cell_type": "raw",
   "id": "bb5eed35-b9f7-43f5-8018-55a28287f817",
   "metadata": {},
   "source": [
    "The root issue is that opencv-python pulled in NumPy 2.2.6, but several other packages—like TensorFlow, Gensim, Numba, and ContourPy—require NumPy <2.0 or <2.2.0, which breaks compatibility."
   ]
  },
  {
   "cell_type": "code",
   "execution_count": 18,
   "id": "b74514d4-44f7-45db-92b9-8955f60fa137",
   "metadata": {},
   "outputs": [
    {
     "name": "stdout",
     "output_type": "stream",
     "text": [
      "Collecting numpy==1.26.4\n",
      "  Downloading numpy-1.26.4-cp312-cp312-win_amd64.whl.metadata (61 kB)\n",
      "Downloading numpy-1.26.4-cp312-cp312-win_amd64.whl (15.5 MB)\n",
      "   ---------------------------------------- 0.0/15.5 MB ? eta -:--:--\n",
      "   ---------------------------------------- 0.0/15.5 MB ? eta -:--:--\n",
      "   ---------------------------------------- 0.0/15.5 MB ? eta -:--:--\n",
      "   ---------------------------------------- 0.0/15.5 MB ? eta -:--:--\n",
      "   ---------------------------------------- 0.0/15.5 MB ? eta -:--:--\n",
      "   ---------------------------------------- 0.0/15.5 MB ? eta -:--:--\n",
      "   ---------------------------------------- 0.0/15.5 MB ? eta -:--:--\n",
      "   ---------------------------------------- 0.0/15.5 MB ? eta -:--:--\n",
      "   ---------------------------------------- 0.0/15.5 MB ? eta -:--:--\n",
      "   ---------------------------------------- 0.0/15.5 MB ? eta -:--:--\n",
      "    --------------------------------------- 0.3/15.5 MB ? eta -:--:--\n",
      "   - -------------------------------------- 0.5/15.5 MB 799.2 kB/s eta 0:00:19\n",
      "   - -------------------------------------- 0.5/15.5 MB 799.2 kB/s eta 0:00:19\n",
      "   -- ------------------------------------- 0.8/15.5 MB 763.2 kB/s eta 0:00:20\n",
      "   -- ------------------------------------- 0.8/15.5 MB 763.2 kB/s eta 0:00:20\n",
      "   -- ------------------------------------- 1.0/15.5 MB 709.1 kB/s eta 0:00:21\n",
      "   -- ------------------------------------- 1.0/15.5 MB 709.1 kB/s eta 0:00:21\n",
      "   --- ------------------------------------ 1.3/15.5 MB 729.7 kB/s eta 0:00:20\n",
      "   ---- ----------------------------------- 1.6/15.5 MB 723.4 kB/s eta 0:00:20\n",
      "   ---- ----------------------------------- 1.6/15.5 MB 723.4 kB/s eta 0:00:20\n",
      "   ---- ----------------------------------- 1.8/15.5 MB 724.2 kB/s eta 0:00:19\n",
      "   ---- ----------------------------------- 1.8/15.5 MB 724.2 kB/s eta 0:00:19\n",
      "   ----- ---------------------------------- 2.1/15.5 MB 716.2 kB/s eta 0:00:19\n",
      "   ------ --------------------------------- 2.4/15.5 MB 725.7 kB/s eta 0:00:19\n",
      "   ------ --------------------------------- 2.4/15.5 MB 725.7 kB/s eta 0:00:19\n",
      "   ------ --------------------------------- 2.6/15.5 MB 729.5 kB/s eta 0:00:18\n",
      "   ------ --------------------------------- 2.6/15.5 MB 729.5 kB/s eta 0:00:18\n",
      "   ------- -------------------------------- 2.9/15.5 MB 735.9 kB/s eta 0:00:18\n",
      "   -------- ------------------------------- 3.1/15.5 MB 747.2 kB/s eta 0:00:17\n",
      "   -------- ------------------------------- 3.1/15.5 MB 747.2 kB/s eta 0:00:17\n",
      "   -------- ------------------------------- 3.4/15.5 MB 751.3 kB/s eta 0:00:17\n",
      "   --------- ------------------------------ 3.7/15.5 MB 770.7 kB/s eta 0:00:16\n",
      "   ---------- ----------------------------- 3.9/15.5 MB 793.5 kB/s eta 0:00:15\n",
      "   ---------- ----------------------------- 4.2/15.5 MB 814.4 kB/s eta 0:00:14\n",
      "   ----------- ---------------------------- 4.5/15.5 MB 833.7 kB/s eta 0:00:14\n",
      "   ------------ --------------------------- 5.0/15.5 MB 867.9 kB/s eta 0:00:13\n",
      "   ------------- -------------------------- 5.2/15.5 MB 883.1 kB/s eta 0:00:12\n",
      "   -------------- ------------------------- 5.5/15.5 MB 899.6 kB/s eta 0:00:12\n",
      "   -------------- ------------------------- 5.8/15.5 MB 915.2 kB/s eta 0:00:11\n",
      "   -------------- ------------------------- 5.8/15.5 MB 915.2 kB/s eta 0:00:11\n",
      "   --------------- ------------------------ 6.0/15.5 MB 911.4 kB/s eta 0:00:11\n",
      "   ---------------- ----------------------- 6.3/15.5 MB 923.2 kB/s eta 0:00:10\n",
      "   ---------------- ----------------------- 6.6/15.5 MB 932.1 kB/s eta 0:00:10\n",
      "   ------------------ --------------------- 7.1/15.5 MB 956.6 kB/s eta 0:00:09\n",
      "   ------------------ --------------------- 7.3/15.5 MB 970.0 kB/s eta 0:00:09\n",
      "   ------------------- -------------------- 7.6/15.5 MB 982.9 kB/s eta 0:00:09\n",
      "   -------------------- ------------------- 7.9/15.5 MB 995.0 kB/s eta 0:00:08\n",
      "   -------------------- ------------------- 8.1/15.5 MB 1.0 MB/s eta 0:00:08\n",
      "   ---------------------- ----------------- 8.7/15.5 MB 1.0 MB/s eta 0:00:07\n",
      "   ---------------------- ----------------- 8.9/15.5 MB 1.0 MB/s eta 0:00:07\n",
      "   ----------------------- ---------------- 9.2/15.5 MB 1.1 MB/s eta 0:00:07\n",
      "   ------------------------- -------------- 9.7/15.5 MB 1.1 MB/s eta 0:00:06\n",
      "   -------------------------- ------------- 10.2/15.5 MB 1.1 MB/s eta 0:00:05\n",
      "   --------------------------- ------------ 10.7/15.5 MB 1.1 MB/s eta 0:00:05\n",
      "   ---------------------------- ----------- 11.0/15.5 MB 1.1 MB/s eta 0:00:04\n",
      "   ----------------------------- ---------- 11.5/15.5 MB 1.2 MB/s eta 0:00:04\n",
      "   ------------------------------- -------- 12.1/15.5 MB 1.2 MB/s eta 0:00:03\n",
      "   --------------------------------- ------ 12.8/15.5 MB 1.3 MB/s eta 0:00:03\n",
      "   ---------------------------------- ----- 13.4/15.5 MB 1.3 MB/s eta 0:00:02\n",
      "   ----------------------------------- ---- 13.9/15.5 MB 1.3 MB/s eta 0:00:02\n",
      "   ------------------------------------- -- 14.7/15.5 MB 1.3 MB/s eta 0:00:01\n",
      "   ---------------------------------------  15.5/15.5 MB 1.4 MB/s eta 0:00:01\n",
      "   ---------------------------------------- 15.5/15.5 MB 1.4 MB/s eta 0:00:00\n",
      "Installing collected packages: numpy\n",
      "  Attempting uninstall: numpy\n",
      "    Found existing installation: numpy 2.2.6\n",
      "    Uninstalling numpy-2.2.6:\n",
      "      Successfully uninstalled numpy-2.2.6\n",
      "Successfully installed numpy-1.26.4\n",
      "Note: you may need to restart the kernel to use updated packages.\n"
     ]
    },
    {
     "name": "stderr",
     "output_type": "stream",
     "text": [
      "ERROR: pip's dependency resolver does not currently take into account all the packages that are installed. This behaviour is the source of the following dependency conflicts.\n",
      "opencv-python 4.12.0.88 requires numpy<2.3.0,>=2; python_version >= \"3.9\", but you have numpy 1.26.4 which is incompatible.\n"
     ]
    }
   ],
   "source": [
    "pip install \"numpy==1.26.4\""
   ]
  },
  {
   "cell_type": "code",
   "execution_count": null,
   "id": "871da18d-842d-4edf-9f14-bfaae4f86af0",
   "metadata": {},
   "outputs": [],
   "source": [
    "pip uninstall opencv-python"
   ]
  },
  {
   "cell_type": "code",
   "execution_count": null,
   "id": "fcbaf7ba-9c09-4a0a-8a88-97fc08bdfea1",
   "metadata": {},
   "outputs": [],
   "source": [
    "pip install opencv-python --no-deps"
   ]
  },
  {
   "cell_type": "raw",
   "id": "b1e1387c-c4e3-47a3-8264-4ca9ae78a571",
   "metadata": {},
   "source": [
    "OpenCV-Python is a powerful library that brings the capabilities of OpenCV (Open Source Computer Vision Library) into the Python ecosystem. It’s widely used for image processing, computer vision, and machine learning tasks.\n",
    "\n",
    "What It Does\n",
    "Image & Video Processing: Read, write, display, and manipulate images and videos.\n",
    "\n",
    "Object Detection: Detect faces, eyes, smiles, and other objects using pre-trained models.\n",
    "\n",
    "Feature Extraction: Identify key points, edges, contours, and patterns in images.\n",
    "\n",
    "Real-Time Applications: Supports webcam input and live video analysis.\n",
    "\n",
    "Integration with AI: Works well with deep learning frameworks like TensorFlow and PyTorch."
   ]
  },
  {
   "cell_type": "code",
   "execution_count": 1,
   "id": "417000fd-1fd5-47bb-97af-7d022e2b5257",
   "metadata": {},
   "outputs": [],
   "source": [
    "import numpy as np"
   ]
  },
  {
   "cell_type": "code",
   "execution_count": 3,
   "id": "4d0c5da4-cad2-4c92-8f4b-b4399a4c5c40",
   "metadata": {},
   "outputs": [],
   "source": [
    "import matplotlib.pyplot as plt"
   ]
  },
  {
   "cell_type": "code",
   "execution_count": null,
   "id": "8547991d-5130-433a-883f-e417efc2b441",
   "metadata": {},
   "outputs": [],
   "source": [
    "from tensorflow.keras import"
   ]
  }
 ],
 "metadata": {
  "kernelspec": {
   "display_name": "Python [conda env:base] *",
   "language": "python",
   "name": "conda-base-py"
  },
  "language_info": {
   "codemirror_mode": {
    "name": "ipython",
    "version": 3
   },
   "file_extension": ".py",
   "mimetype": "text/x-python",
   "name": "python",
   "nbconvert_exporter": "python",
   "pygments_lexer": "ipython3",
   "version": "3.12.7"
  }
 },
 "nbformat": 4,
 "nbformat_minor": 5
}
