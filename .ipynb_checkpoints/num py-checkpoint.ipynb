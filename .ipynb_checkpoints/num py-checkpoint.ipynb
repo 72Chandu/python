{
 "cells": [
  {
   "cell_type": "code",
   "execution_count": 3,
   "id": "46589708-0610-4602-bd0d-782d1bb25d68",
   "metadata": {},
   "outputs": [],
   "source": [
    "import numpy as np"
   ]
  },
  {
   "cell_type": "code",
   "execution_count": 5,
   "id": "ddebcaec-f95b-46f4-977b-272c4917c1d3",
   "metadata": {},
   "outputs": [
    {
     "data": {
      "text/plain": [
       "'1.26.4'"
      ]
     },
     "execution_count": 5,
     "metadata": {},
     "output_type": "execute_result"
    }
   ],
   "source": [
    "np.__version__"
   ]
  },
  {
   "cell_type": "code",
   "execution_count": 7,
   "id": "853bcd28-a82f-4266-9091-c05aff1a1ddb",
   "metadata": {},
   "outputs": [
    {
     "name": "stdout",
     "output_type": "stream",
     "text": [
      "\n",
      "NumPy\n",
      "=====\n",
      "\n",
      "Provides\n",
      "  1. An array object of arbitrary homogeneous items\n",
      "  2. Fast mathematical operations over arrays\n",
      "  3. Linear Algebra, Fourier Transforms, Random Number Generation\n",
      "\n",
      "How to use the documentation\n",
      "----------------------------\n",
      "Documentation is available in two forms: docstrings provided\n",
      "with the code, and a loose standing reference guide, available from\n",
      "`the NumPy homepage <https://numpy.org>`_.\n",
      "\n",
      "We recommend exploring the docstrings using\n",
      "`IPython <https://ipython.org>`_, an advanced Python shell with\n",
      "TAB-completion and introspection capabilities.  See below for further\n",
      "instructions.\n",
      "\n",
      "The docstring examples assume that `numpy` has been imported as ``np``::\n",
      "\n",
      "  >>> import numpy as np\n",
      "\n",
      "Code snippets are indicated by three greater-than signs::\n",
      "\n",
      "  >>> x = 42\n",
      "  >>> x = x + 1\n",
      "\n",
      "Use the built-in ``help`` function to view a function's docstring::\n",
      "\n",
      "  >>> help(np.sort)\n",
      "  ... # doctest: +SKIP\n",
      "\n",
      "For some objects, ``np.info(obj)`` may provide additional help.  This is\n",
      "particularly true if you see the line \"Help on ufunc object:\" at the top\n",
      "of the help() page.  Ufuncs are implemented in C, not Python, for speed.\n",
      "The native Python help() does not know how to view their help, but our\n",
      "np.info() function does.\n",
      "\n",
      "To search for documents containing a keyword, do::\n",
      "\n",
      "  >>> np.lookfor('keyword')\n",
      "  ... # doctest: +SKIP\n",
      "\n",
      "General-purpose documents like a glossary and help on the basic concepts\n",
      "of numpy are available under the ``doc`` sub-module::\n",
      "\n",
      "  >>> from numpy import doc\n",
      "  >>> help(doc)\n",
      "  ... # doctest: +SKIP\n",
      "\n",
      "Available subpackages\n",
      "---------------------\n",
      "lib\n",
      "    Basic functions used by several sub-packages.\n",
      "random\n",
      "    Core Random Tools\n",
      "linalg\n",
      "    Core Linear Algebra Tools\n",
      "fft\n",
      "    Core FFT routines\n",
      "polynomial\n",
      "    Polynomial tools\n",
      "testing\n",
      "    NumPy testing tools\n",
      "distutils\n",
      "    Enhancements to distutils with support for\n",
      "    Fortran compilers support and more  (for Python <= 3.11).\n",
      "\n",
      "Utilities\n",
      "---------\n",
      "test\n",
      "    Run numpy unittests\n",
      "show_config\n",
      "    Show numpy build configuration\n",
      "matlib\n",
      "    Make everything matrices.\n",
      "__version__\n",
      "    NumPy version string\n",
      "\n",
      "Viewing documentation using IPython\n",
      "-----------------------------------\n",
      "\n",
      "Start IPython and import `numpy` usually under the alias ``np``: `import\n",
      "numpy as np`.  Then, directly past or use the ``%cpaste`` magic to paste\n",
      "examples into the shell.  To see which functions are available in `numpy`,\n",
      "type ``np.<TAB>`` (where ``<TAB>`` refers to the TAB key), or use\n",
      "``np.*cos*?<ENTER>`` (where ``<ENTER>`` refers to the ENTER key) to narrow\n",
      "down the list.  To view the docstring for a function, use\n",
      "``np.cos?<ENTER>`` (to view the docstring) and ``np.cos??<ENTER>`` (to view\n",
      "the source code).\n",
      "\n",
      "Copies vs. in-place operation\n",
      "-----------------------------\n",
      "Most of the functions in `numpy` return a copy of the array argument\n",
      "(e.g., `np.sort`).  In-place versions of these functions are often\n",
      "available as array methods, i.e. ``x = np.array([1,2,3]); x.sort()``.\n",
      "Exceptions to this rule are documented.\n",
      "\n",
      "\n"
     ]
    }
   ],
   "source": [
    "print(np.__doc__)"
   ]
  },
  {
   "cell_type": "code",
   "execution_count": 15,
   "id": "9624f515-faa0-440d-9126-fca39a8ef3a2",
   "metadata": {},
   "outputs": [
    {
     "name": "stdout",
     "output_type": "stream",
     "text": [
      "[1 2 3 4 5]\n",
      "<class 'numpy.ndarray'>\n",
      "1\n"
     ]
    }
   ],
   "source": [
    "# why numpy\n",
    "# mathematical function , faster \n",
    "l=[1,2,3,4,5]\n",
    "arr=np.array(l)\n",
    "print(arr)\n",
    "print(type(arr)) # ndarray means n-directional arrray (1d,2d,3d...). array is way numpy store the data . it store same type of data. \n",
    "print(arr.ndim)\n"
   ]
  },
  {
   "cell_type": "code",
   "execution_count": 25,
   "id": "56cd7e33-14e1-42a2-9ef3-fffa2594be6d",
   "metadata": {},
   "outputs": [
    {
     "name": "stdout",
     "output_type": "stream",
     "text": [
      "['1' '2' '3' '4' '5' 'chdds']\n",
      "<class 'numpy.ndarray'>\n"
     ]
    }
   ],
   "source": [
    "l1=[1,2,3,4,5,\"chdds\"]\n",
    "arr1=np.array(l1)\n",
    "print(arr1)\n",
    "print(type(arr1))"
   ]
  },
  {
   "cell_type": "code",
   "execution_count": 31,
   "id": "79031642-9cab-4549-b8f7-00b15b64bb4b",
   "metadata": {},
   "outputs": [
    {
     "name": "stdout",
     "output_type": "stream",
     "text": [
      "2\n"
     ]
    }
   ],
   "source": [
    "arr1=np.array([[1,2,3,4],[4,5,6,8]])\n",
    "print(arr1.ndim)"
   ]
  },
  {
   "cell_type": "code",
   "execution_count": 39,
   "id": "63e0c5b5-fa5b-4874-8aad-d743d5816cfd",
   "metadata": {},
   "outputs": [
    {
     "name": "stdout",
     "output_type": "stream",
     "text": [
      "[[1 2 3 4]]\n",
      "<class 'numpy.matrix'>\n",
      "2\n"
     ]
    }
   ],
   "source": [
    "l=[1,2,3,4]\n",
    "mt=np.matrix(l)\n",
    "print(mt)  # matrix by default is 2 d\n",
    "print(type(mt))  \n",
    "print(mt.ndim)"
   ]
  },
  {
   "cell_type": "code",
   "execution_count": 41,
   "id": "ed310b40-a3e9-4eaa-9b56-5695114e00f9",
   "metadata": {},
   "outputs": [
    {
     "ename": "ValueError",
     "evalue": "matrix must be 2-dimensional",
     "output_type": "error",
     "traceback": [
      "\u001b[1;31m---------------------------------------------------------------------------\u001b[0m",
      "\u001b[1;31mValueError\u001b[0m                                Traceback (most recent call last)",
      "Cell \u001b[1;32mIn[41], line 1\u001b[0m\n\u001b[1;32m----> 1\u001b[0m np\u001b[38;5;241m.\u001b[39mmatrix([[[\u001b[38;5;241m1\u001b[39m,\u001b[38;5;241m2\u001b[39m],[\u001b[38;5;241m5\u001b[39m,\u001b[38;5;241m6\u001b[39m],[\u001b[38;5;241m6\u001b[39m,\u001b[38;5;241m7\u001b[39m]]])\n",
      "File \u001b[1;32mD:\\Anaconda\\Lib\\site-packages\\numpy\\matrixlib\\defmatrix.py:150\u001b[0m, in \u001b[0;36mmatrix.__new__\u001b[1;34m(subtype, data, dtype, copy)\u001b[0m\n\u001b[0;32m    148\u001b[0m shape \u001b[38;5;241m=\u001b[39m arr\u001b[38;5;241m.\u001b[39mshape\n\u001b[0;32m    149\u001b[0m \u001b[38;5;28;01mif\u001b[39;00m (ndim \u001b[38;5;241m>\u001b[39m \u001b[38;5;241m2\u001b[39m):\n\u001b[1;32m--> 150\u001b[0m     \u001b[38;5;28;01mraise\u001b[39;00m \u001b[38;5;167;01mValueError\u001b[39;00m(\u001b[38;5;124m\"\u001b[39m\u001b[38;5;124mmatrix must be 2-dimensional\u001b[39m\u001b[38;5;124m\"\u001b[39m)\n\u001b[0;32m    151\u001b[0m \u001b[38;5;28;01melif\u001b[39;00m ndim \u001b[38;5;241m==\u001b[39m \u001b[38;5;241m0\u001b[39m:\n\u001b[0;32m    152\u001b[0m     shape \u001b[38;5;241m=\u001b[39m (\u001b[38;5;241m1\u001b[39m, \u001b[38;5;241m1\u001b[39m)\n",
      "\u001b[1;31mValueError\u001b[0m: matrix must be 2-dimensional"
     ]
    }
   ],
   "source": [
    "np.matrix([[[1,2],[5,6],[6,7]]])"
   ]
  },
  {
   "cell_type": "code",
   "execution_count": 67,
   "id": "0feb5f10-150e-4468-b1c0-c90edd608d84",
   "metadata": {},
   "outputs": [
    {
     "data": {
      "text/plain": [
       "array([[[1, 2],\n",
       "        [5, 6],\n",
       "        [6, 7]]])"
      ]
     },
     "execution_count": 67,
     "metadata": {},
     "output_type": "execute_result"
    }
   ],
   "source": [
    "# way to convert in array\n",
    "np.array([[[1,2],[5,6],[6,7]]])"
   ]
  },
  {
   "cell_type": "code",
   "execution_count": 69,
   "id": "60d109a9-f3aa-4590-8dcf-3825a5a5f0ea",
   "metadata": {},
   "outputs": [
    {
     "data": {
      "text/plain": [
       "array([[[1, 2],\n",
       "        [5, 6],\n",
       "        [6, 7]]])"
      ]
     },
     "execution_count": 69,
     "metadata": {},
     "output_type": "execute_result"
    }
   ],
   "source": [
    "np.asarray([[[1,2],[5,6],[6,7]]])"
   ]
  },
  {
   "cell_type": "code",
   "execution_count": 71,
   "id": "6bf1baeb-6846-4571-b4d9-88c1cd985ef1",
   "metadata": {},
   "outputs": [
    {
     "data": {
      "text/plain": [
       "array([[[1, 2],\n",
       "        [5, 6],\n",
       "        [6, 7]]])"
      ]
     },
     "execution_count": 71,
     "metadata": {},
     "output_type": "execute_result"
    }
   ],
   "source": [
    "np.asanyarray([[[1,2],[5,6],[6,7]]])"
   ]
  },
  {
   "cell_type": "code",
   "execution_count": 73,
   "id": "0c1425e2-6f03-4a7a-83da-370b57b9489e",
   "metadata": {},
   "outputs": [
    {
     "data": {
      "text/plain": [
       "matrix([[1, 2, 3, 4]])"
      ]
     },
     "execution_count": 73,
     "metadata": {},
     "output_type": "execute_result"
    }
   ],
   "source": [
    "l=[1,2,3,4]\n",
    "mt=np.matrix(l)\n",
    "np.asanyarray(mt)"
   ]
  },
  {
   "cell_type": "code",
   "execution_count": 80,
   "id": "869fd98a-cf7e-4add-a3ea-4afbdc2805a7",
   "metadata": {},
   "outputs": [
    {
     "name": "stdout",
     "output_type": "stream",
     "text": [
      "<class 'tuple'>\n"
     ]
    },
    {
     "data": {
      "text/plain": [
       "array([[1, 2, 3],\n",
       "       [4, 5, 6]])"
      ]
     },
     "execution_count": 80,
     "metadata": {},
     "output_type": "execute_result"
    }
   ],
   "source": [
    "t=([1,2,3],[4,5,6])\n",
    "print(type(t))\n",
    "np.array(t)"
   ]
  },
  {
   "cell_type": "code",
   "execution_count": 82,
   "id": "a35157b3-06c9-4990-aa55-e0e4a41d5ac1",
   "metadata": {},
   "outputs": [
    {
     "data": {
      "text/plain": [
       "array(5)"
      ]
     },
     "execution_count": 82,
     "metadata": {},
     "output_type": "execute_result"
    }
   ],
   "source": [
    "a=5\n",
    "np.array(a)"
   ]
  },
  {
   "cell_type": "code",
   "execution_count": 96,
   "id": "9fabc941-e9fe-497f-bce8-4765dae876c1",
   "metadata": {},
   "outputs": [
    {
     "name": "stdout",
     "output_type": "stream",
     "text": [
      "[1 2 3 4 5]\n",
      "[1 2 3 4 5]\n",
      "[1000    2    3    4    5]\n",
      "[1000    2    3    4    5]\n",
      "\n",
      "[1000    2    3    4    5]\n",
      "[3000    2    3    4    5]\n"
     ]
    }
   ],
   "source": [
    "# deep copy and shallow copy \n",
    "l=[1,2,3,4,5]\n",
    "arr=np.array(l)\n",
    "print(arr)\n",
    "a=arr\n",
    "print(a)\n",
    "arr[0]=1000  # a point to array (same memory) . shallow copy\n",
    "print(arr)\n",
    "print(a)\n",
    "\n",
    "print()\n",
    "\n",
    "b=arr.copy()  # deep copy\n",
    "b[0]=3000\n",
    "print(arr)\n",
    "print(b)"
   ]
  },
  {
   "cell_type": "code",
   "execution_count": 128,
   "id": "bd59d98c-c19c-4eb4-9756-34a1a6f674e4",
   "metadata": {},
   "outputs": [
    {
     "name": "stdout",
     "output_type": "stream",
     "text": [
      "[[ True False False]\n",
      " [False  True False]\n",
      " [False False  True]]\n",
      "(3, 3)\n",
      "\n",
      "[[0. 0. 0.]\n",
      " [0. 1. 2.]\n",
      " [0. 2. 4.]]\n",
      "\n",
      "(2, 4)\n",
      "(1, 4)\n",
      "(3,)\n"
     ]
    }
   ],
   "source": [
    "# there are multiple ways to generate arrays\n",
    "arr=np.fromfunction(lambda i,j:i==j,shape=(3,3))\n",
    "print(arr)\n",
    "print(arr.shape)\n",
    "\n",
    "print()\n",
    "\n",
    "arr2=np.fromfunction(lambda i,j:i*j, (3,3))\n",
    "print(arr2)\n",
    "\n",
    "print()\n",
    "\n",
    "arr3=np.array([[1,2,3,4],[4,5,6,8]])\n",
    "print(arr3.shape)\n",
    "\n",
    "arr4=np.array([[1,2,3,4]])\n",
    "print(arr4.shape)\n",
    "\n",
    "arr5=np.array([5,3,45,])\n",
    "print(arr5.shape)"
   ]
  },
  {
   "cell_type": "code",
   "execution_count": 150,
   "id": "196de40e-cee8-4182-8e5b-abf55191e287",
   "metadata": {},
   "outputs": [
    {
     "name": "stdout",
     "output_type": "stream",
     "text": [
      "<generator object <genexpr> at 0x0000022690E95080>\n",
      "[ 0.  1.  4.  9. 16.]\n",
      "[43. 56. 78.]\n",
      "[43. 56. 78.]\n"
     ]
    }
   ],
   "source": [
    "itererable=(i*i for i in range(5))\n",
    "print(itererable)\n",
    "n=np.fromiter(itererable,float)\n",
    "print(n)\n",
    "s=np.fromstring('43 56 78',sep =' ') # converting string to array\n",
    "print(s)\n",
    "s2=np.fromstring('43 ,56 ,78',sep =',') \n",
    "print(s2)\n",
    "\n",
    "s2=np.fromstring('43 ,56 ,78',sep =',') \n",
    "print(s2)"
   ]
  },
  {
   "cell_type": "code",
   "execution_count": null,
   "id": "9d072de3-3aa9-4d0d-91cf-f5e018952d21",
   "metadata": {},
   "outputs": [],
   "source": []
  },
  {
   "cell_type": "code",
   "execution_count": null,
   "id": "b982d5bf-659d-45bd-b7e8-8e1b943de431",
   "metadata": {},
   "outputs": [],
   "source": []
  },
  {
   "cell_type": "code",
   "execution_count": null,
   "id": "e252af97-e2ba-4d52-a560-d48c236a8f85",
   "metadata": {},
   "outputs": [],
   "source": []
  },
  {
   "cell_type": "code",
   "execution_count": null,
   "id": "e6dbaf15-d473-4312-894f-b9bea8b2f892",
   "metadata": {},
   "outputs": [],
   "source": []
  },
  {
   "cell_type": "code",
   "execution_count": null,
   "id": "a7c0cce4-b3c7-49c0-bdd2-101c5dbe94a7",
   "metadata": {},
   "outputs": [],
   "source": []
  }
 ],
 "metadata": {
  "kernelspec": {
   "display_name": "Python [conda env:base] *",
   "language": "python",
   "name": "conda-base-py"
  },
  "language_info": {
   "codemirror_mode": {
    "name": "ipython",
    "version": 3
   },
   "file_extension": ".py",
   "mimetype": "text/x-python",
   "name": "python",
   "nbconvert_exporter": "python",
   "pygments_lexer": "ipython3",
   "version": "3.12.7"
  }
 },
 "nbformat": 4,
 "nbformat_minor": 5
}
