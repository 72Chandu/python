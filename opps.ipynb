{
 "cells": [
  {
   "cell_type": "markdown",
   "id": "5d71ecaf-640b-4326-8c9c-ff75729217e7",
   "metadata": {},
   "source": [
    "# Object Oriented programing in pyhton"
   ]
  },
  {
   "cell_type": "raw",
   "id": "a65c5822-48ff-4c9f-abd8-85d120610c2e",
   "metadata": {},
   "source": [
    "procedural language lack in encapsulation difficult to manage when code size is  >= 10 KLCO here variable are unprotected , no automic management by deleting dereferenced variable "
   ]
  },
  {
   "cell_type": "code",
   "execution_count": 24,
   "id": "4f189bff-d4c1-423d-91b9-d86ca0cf5f09",
   "metadata": {},
   "outputs": [
    {
     "name": "stdout",
     "output_type": "stream",
     "text": [
      "<__main__.myfirstclass object at 0x000001CBDD896C60> <class '__main__.myfirstclass'>\n"
     ]
    }
   ],
   "source": [
    "class myfirstclass:\n",
    "    pass\n",
    "obj=myfirstclass()\n",
    "print(obj,type(obj))"
   ]
  },
  {
   "cell_type": "code",
   "execution_count": 26,
   "id": "b86c5f5e-d81c-41eb-b934-501627ea52df",
   "metadata": {},
   "outputs": [
    {
     "name": "stdout",
     "output_type": "stream",
     "text": [
      "this is document of oops <class '__main__.myfirstclass'>\n",
      "this is document of oops\n"
     ]
    }
   ],
   "source": [
    "class myfirstclass:\n",
    "    '''this is document of oops'''\n",
    "obj=myfirstclass()\n",
    "print(obj.__doc__ ,type(obj))\n",
    "print(myfirstclass.__doc__ )"
   ]
  },
  {
   "cell_type": "code",
   "execution_count": 28,
   "id": "e48b0e19-1423-410f-a35d-829cd0c9a181",
   "metadata": {},
   "outputs": [
    {
     "name": "stdout",
     "output_type": "stream",
     "text": [
      "Executing constructor method..\n",
      "self: <__main__.myfirstclass object at 0x000001CBDC4205C0> <class '__main__.myfirstclass'>\n",
      "This is documentation of OOPs\n",
      "Executing display method..\n",
      "100 or 200\n",
      "100 or 200\n",
      "11 and 13\n"
     ]
    }
   ],
   "source": [
    "class myfirstclass:\n",
    "    '''This is documentation of OOPs'''\n",
    "    class_var1 = 100  # class or static variable \n",
    "    class_var2 = 200\n",
    "    def __init__(self, data1, data2):  # constructor method with positional arguments\n",
    "        print(\"Executing constructor method..\")\n",
    "        print(\"self:\", self, type(self))\n",
    "        self.inst_var1=data1  # instance variable \n",
    "        self.inst_var2=data2\n",
    "        \n",
    "    def display(self):\n",
    "        print(\"Executing display method..\")\n",
    "        print(f\"{myfirstclass.class_var1} or {myfirstclass.class_var2}\")  # using class name\n",
    "        print(f\"{self.class_var1} or {self.class_var2}\") # using self\n",
    "        print(f\"{self.inst_var1} and {self.inst_var2}\")\n",
    "        \n",
    "obj = myfirstclass(11,13) #positional arguments\n",
    "print(obj.__doc__)\n",
    "obj.display()"
   ]
  },
  {
   "cell_type": "code",
   "execution_count": 30,
   "id": "d9814ff2-21e3-4b4d-83fa-b167bcc4cd4a",
   "metadata": {},
   "outputs": [
    {
     "name": "stdout",
     "output_type": "stream",
     "text": [
      "100 or 200\n",
      "11 and 13\n",
      "updating class variable\n",
      "320 or 200\n",
      "11 and 13\n"
     ]
    }
   ],
   "source": [
    "class myfirstclass:\n",
    "    class_var1 = 100\n",
    "    class_var2 = 200\n",
    "    def __init__(self, data1, data2):\n",
    "        self.inst_var1=data1\n",
    "        self.inst_var2=data2\n",
    "        \n",
    "    def display(self):\n",
    "        print(f\"{self.class_var1} or {self.class_var2}\")\n",
    "        print(f\"{self.inst_var1} and {self.inst_var2}\")\n",
    "        \n",
    "    def update(self):\n",
    "        print(\"updating class variable\")\n",
    "        myfirstclass.class_var1+=100\n",
    "        myfirstclass.class_var1+=120\n",
    "        \n",
    "obj = myfirstclass(11,13)\n",
    "obj.display()\n",
    "obj.update()\n",
    "obj.display()"
   ]
  },
  {
   "cell_type": "code",
   "execution_count": 32,
   "id": "52866005-6cd7-465f-8463-9b578015e889",
   "metadata": {},
   "outputs": [
    {
     "name": "stdout",
     "output_type": "stream",
     "text": [
      "100 or 200\n",
      "11 and 13\n"
     ]
    }
   ],
   "source": [
    "class myfirstclass:\n",
    "    class_var1 = 100\n",
    "    class_var2 = 200\n",
    "    def __init__(self, data1, data2):\n",
    "        self.inst_var1=data1\n",
    "        self.inst_var2=data2\n",
    "        \n",
    "    def display(self):\n",
    "        print(f\"{self.class_var1} or {self.class_var2}\")\n",
    "        print(f\"{self.inst_var1} and {self.inst_var2}\")\n",
    "        \n",
    "    def __del__(self):\n",
    "        print(\"destructor is excuting\")\n",
    "\n",
    "obj = myfirstclass(11,13)\n",
    "obj.display()"
   ]
  },
  {
   "cell_type": "code",
   "execution_count": 34,
   "id": "e11b423d-6412-4e5d-8729-a0d1fa32197c",
   "metadata": {},
   "outputs": [
    {
     "name": "stdout",
     "output_type": "stream",
     "text": [
      "destructor is excuting\n"
     ]
    }
   ],
   "source": [
    "del obj"
   ]
  },
  {
   "cell_type": "code",
   "execution_count": 36,
   "id": "4ea39fb6-b686-4b25-be7a-78c2d65237f3",
   "metadata": {},
   "outputs": [
    {
     "name": "stdout",
     "output_type": "stream",
     "text": [
      "4\n"
     ]
    }
   ],
   "source": [
    "class myclass:\n",
    "    count=0;\n",
    "    def __init__(self):\n",
    "        myclass.count+=1\n",
    "obj1=myclass()\n",
    "obj2=myclass()\n",
    "obj3=myclass()\n",
    "obj4=myclass()\n",
    "print(myclass.count)"
   ]
  },
  {
   "cell_type": "code",
   "execution_count": 13,
   "id": "eca6264f-b968-4b67-b5d2-0249bbea8554",
   "metadata": {},
   "outputs": [
    {
     "name": "stdout",
     "output_type": "stream",
     "text": [
      "Executing instance methode: <__main__.myclass object at 0x000002132192B380>\n",
      "instVar=100, classVar=222 and classVar=222\n",
      "\n",
      "Executing class methode: <class '__main__.myclass'>\n",
      "classVar=333 and classVar=333\n",
      "\n",
      "Executing static methode...\n",
      "classVar=44\n"
     ]
    }
   ],
   "source": [
    "# tere are three diffrent types of methode in python : instance , calss and static methode\n",
    "class myclass:\n",
    "    classVar=111  # class variable \n",
    "    # defining instance variable \n",
    "    def instMethode(self):\n",
    "        print(\"Executing instance methode:\",self)\n",
    "        self.instVar=100  # instance variable \n",
    "        myclass.classVar=222\n",
    "        print(f\"instVar={self.instVar}, classVar={self.classVar} and classVar={myclass.classVar}\")\n",
    "\n",
    "    # defining class methode \n",
    "    @classmethod   # annotation or decorator\n",
    "    def classMethod(cla):   # cla is a class binding variable \n",
    "        print(\"Executing class methode:\",cla)\n",
    "        cla.classVar=333\n",
    "        print(f\"classVar={cla.classVar} and classVar={myclass.classVar}\")\n",
    "    @staticmethod   # annotation or decorator\n",
    "    def staticMethod():\n",
    "        print(\"Executing static methode...\")\n",
    "        myclass.classVar=44\n",
    "        print(f\"classVar={myclass.classVar}\")\n",
    "obj=myclass()\n",
    "obj.instMethode()\n",
    "# myclass.instMethode() # error\n",
    "print()\n",
    "obj.classMethod()\n",
    "print()\n",
    "obj.staticMethod()"
   ]
  },
  {
   "cell_type": "code",
   "execution_count": 40,
   "id": "ebda67f8-335a-40f2-926a-66356790c262",
   "metadata": {},
   "outputs": [
    {
     "name": "stdout",
     "output_type": "stream",
     "text": [
      "False True True\n",
      "True True\n",
      "100 111\n",
      "222 222\n",
      "True False\n",
      "{'instvar1': 111, 'classvar1': 222}\n",
      "['__class__', '__delattr__', '__dict__', '__dir__', '__doc__', '__eq__', '__format__', '__ge__', '__getattribute__', '__getstate__', '__gt__', '__hash__', '__init__', '__init_subclass__', '__le__', '__lt__', '__module__', '__ne__', '__new__', '__reduce__', '__reduce_ex__', '__repr__', '__setattr__', '__sizeof__', '__str__', '__subclasshook__', '__weakref__', 'classvar1', 'fun1', 'fun2', 'instvar1']\n",
      "\n",
      "I am __str__() methode is executing ..\n",
      "I am __str__() methode is executing ..\n",
      "this is a document string\n",
      "__main__\n",
      "{'instvar1': 111, 'classvar1': 222}\n"
     ]
    }
   ],
   "source": [
    "# built in methode\n",
    "class myclass:\n",
    "    def __init__(self):\n",
    "        print(\"hello\")\n",
    "\n",
    "class myclass2:\n",
    "    classvar1=100\n",
    "    def __init__(self):\n",
    "        self.instvar1=111\n",
    "    def fun1(self):\n",
    "        print(\"instvar1=\",self.instvar1)\n",
    "\n",
    "class myclass3(myclass2):\n",
    "    \"\"\"this is a document string\"\"\"\n",
    "    def fun2(self):\n",
    "        print(\"fun2 is executing\")\n",
    "    def __str__(self):\n",
    "        return \"I am __str__() methode is executing ..\"\n",
    "obj=myclass3()\n",
    "print(isinstance(obj,myclass),isinstance(obj,myclass2),isinstance(obj,myclass3))\n",
    "print(hasattr(obj,\"classvar1\"),hasattr(obj,\"instvar1\"))\n",
    "print(getattr(obj,\"classvar1\"),getattr(obj,\"instvar1\"))\n",
    "# print(setattr(obj,\"classvar1\",22),setattr(obj,\"instvar1\",33))\n",
    "setattr(obj,\"classvar1\",222)\n",
    "print(obj.classvar1 ,getattr(obj,\"classvar1\"))\n",
    "print(issubclass(myclass3,myclass2),isinstance(myclass3,myclass))\n",
    "print(vars(obj))\n",
    "print(dir(obj))\n",
    "print()\n",
    "print(obj)\n",
    "print(obj.__str__())\n",
    "print(obj.__doc__)\n",
    "print(obj.__module__)\n",
    "print(obj.__dict__)\n"
   ]
  },
  {
   "cell_type": "markdown",
   "id": "f1f2e4d1-7b44-4c72-8b37-16d228ab5c5a",
   "metadata": {},
   "source": [
    "# Acess Modifier"
   ]
  },
  {
   "cell_type": "raw",
   "id": "1130486f-749f-4824-8a54-3d28c1c4630a",
   "metadata": {},
   "source": [
    "deling with private and public members"
   ]
  },
  {
   "cell_type": "code",
   "execution_count": 44,
   "id": "191eb279-fa2f-495f-bdaf-46623856fea8",
   "metadata": {},
   "outputs": [
    {
     "name": "stdout",
     "output_type": "stream",
     "text": [
      "111\n",
      "222\n",
      "333\n",
      "public methode is executing\n",
      "private methode is executing\n",
      "private methode is executing\n"
     ]
    }
   ],
   "source": [
    "class myclass:\n",
    "    def __init__(self):\n",
    "        self.publicvar=111\n",
    "        self._protectedvar=222\n",
    "        self.__privatevar=333\n",
    "    def publicmethode(self):\n",
    "        return \"public methode is executing\"\n",
    "    def _protectedmethode(self):\n",
    "        return \"private methode is executing\"\n",
    "    def __privatemethode(self):\n",
    "        return \"private methode is executing\"\n",
    "\n",
    "obj=myclass()\n",
    "print(obj.publicvar)\n",
    "print(obj._protectedvar)\n",
    "print(obj._myclass__privatevar)\n",
    "\n",
    "print(obj.publicmethode())\n",
    "print(obj._protectedmethode())\n",
    "print(obj._myclass__privatemethode())"
   ]
  },
  {
   "cell_type": "markdown",
   "id": "f986ae79-5753-4b04-9721-7e6de654d6e6",
   "metadata": {},
   "source": [
    "# Pdf protector project"
   ]
  },
  {
   "cell_type": "code",
   "execution_count": 17,
   "id": "38ecf413-863f-4502-90e4-0a83ef9e79d1",
   "metadata": {},
   "outputs": [],
   "source": [
    "# Encrypt PDF As Password Protected"
   ]
  },
  {
   "cell_type": "code",
   "execution_count": 1,
   "id": "9c2cbd3f-1b75-4906-b31a-fd4ef3a57be7",
   "metadata": {},
   "outputs": [],
   "source": [
    "# !pip install pikepdf"
   ]
  },
  {
   "cell_type": "code",
   "execution_count": 3,
   "id": "5227bc30-b085-4d29-b650-bc84af4c9b07",
   "metadata": {},
   "outputs": [],
   "source": [
    "import pikepdf\n",
    "old_pdf = pikepdf.Pdf.open(\"TIU Python Training-3 (2).pdf\")\n",
    "no_extr = pikepdf.Permissions(extract=False) # Stoping permissions to open\n",
    "old_pdf.save(\"TIU Python Training-3 (2)_secured.pdf\", encryption=pikepdf.Encryption(owner=\"Chandu\", user=\"123\", allow=no_extr)) # Save the file with encryption"
   ]
  },
  {
   "cell_type": "markdown",
   "id": "0c0c9913-3d20-441f-8d14-581e84d75318",
   "metadata": {},
   "source": [
    "# dealing with inheritance "
   ]
  },
  {
   "cell_type": "code",
   "execution_count": 41,
   "id": "9bb32b7f-8cc1-4ba0-b712-b20df356f0e7",
   "metadata": {},
   "outputs": [
    {
     "name": "stdout",
     "output_type": "stream",
     "text": [
      "Derived constructor is executing..\n",
      "Base constructor is executing..\n",
      "Base constructor is executing..\n",
      "Base constructor is executing..\n",
      "\n",
      "Base constructor is executing..\n",
      "\n",
      "Base display methode is executing..\n",
      "\n",
      "Derived display methode is executing..\n"
     ]
    }
   ],
   "source": [
    "# single inheritance \n",
    "class Base:\n",
    "    def __init__(self):\n",
    "        print(\"Base constructor is executing..\")\n",
    "    def displayB(self):\n",
    "        print(\"Base display methode is executing..\")\n",
    "\n",
    "class Derived(Base):\n",
    "    def __init__(self):\n",
    "        print(\"Derived constructor is executing..\")\n",
    "        Base.__init__(self)\n",
    "        super().__init__()\n",
    "        super(Derived,self).__init__()\n",
    "    \n",
    "    def displayD(self):\n",
    "         print(\"Derived display methode is executing..\")\n",
    "         \n",
    "obj=Derived()\n",
    "print()\n",
    "Base.__init__(obj)\n",
    "print()\n",
    "obj.displayB()\n",
    "print()\n",
    "obj.displayD()"
   ]
  },
  {
   "cell_type": "code",
   "execution_count": 59,
   "id": "12b82200-afe6-4afc-a044-4603f9f7482d",
   "metadata": {},
   "outputs": [
    {
     "name": "stdout",
     "output_type": "stream",
     "text": [
      "Base constructor is executing..\n",
      "\n",
      "Base display methode is executing..\n",
      "Derived1 display methode is executing..\n",
      "Derived2 display methode is executing..\n",
      "Derived2 function is executing..\n",
      "Derived1 function is executing..\n",
      "Derived2 function is executing..\n",
      "Base function is executing..\n",
      "Base function is executing..\n"
     ]
    }
   ],
   "source": [
    "# mutilevel inheritance \n",
    "class Base:\n",
    "    def __init__(self):\n",
    "        print(\"Base constructor is executing..\")\n",
    "    def displayB(self):\n",
    "        print(\"Base display methode is executing..\")\n",
    "    def fun(self):\n",
    "        print(\"Base function is executing..\")\n",
    "\n",
    "class Derived1(Base):\n",
    "    def displayD1(self):\n",
    "         print(\"Derived1 display methode is executing..\")\n",
    "    def fun(self):\n",
    "        print(\"Derived1 function is executing..\")\n",
    "\n",
    "class Derived2(Derived1):\n",
    "    def displayD2(self):\n",
    "         print(\"Derived2 display methode is executing..\")\n",
    "    def fun(self):\n",
    "        print(\"Derived2 function is executing..\")\n",
    "    \n",
    "obj=Derived2()\n",
    "print()\n",
    "obj.displayB()\n",
    "obj.displayD1()\n",
    "obj.displayD2()\n",
    "obj.fun()\n",
    "\n",
    "super(Derived2,obj).fun()\n",
    "Derived2.fun(obj)\n",
    "\n",
    "Base.fun(obj)\n",
    "super(Derived1,obj).fun()"
   ]
  },
  {
   "cell_type": "code",
   "execution_count": null,
   "id": "2535fcf4-411d-440c-821a-fc76b94f4b65",
   "metadata": {},
   "outputs": [],
   "source": [
    "# multiple inheritance \n",
    "class Base1:\n",
    "    def __init__(self):\n",
    "        print(\"Base1 constructor is executing..\")\n",
    "    def displayB1(self):\n",
    "        print(\"Base1 display methode is executing..\")\n",
    "    def fun(self):\n",
    "        print(\"Base1 function is executing..\")\n",
    "        \n",
    "class Base2:\n",
    "    def __init__(self):\n",
    "        print(\"Base2 constructor is executing..\")\n",
    "    def displayB2(self):\n",
    "        print(\"Base2 display methode is executing..\")\n",
    "    def fun(self):\n",
    "        print(\"Base2 function is executing..\")\n",
    "        \n",
    "class Derived(Base1,Base2):\n",
    "    def displayD(self):\n",
    "        print(\"displayD display methode is executing..\")\n",
    "    def fun1(self):\n",
    "        print(\"displayD function is executing..\")\n",
    "obj=Derived()\n",
    "obj.displayB1()\n",
    "obj.displayB2()\n",
    "obj.displayD()\n",
    "obj.fun()\n",
    "obj.fun1()\n"
   ]
  },
  {
   "cell_type": "code",
   "execution_count": 5,
   "id": "db8d343c-ee4f-4dd8-b577-7414e0c326b8",
   "metadata": {},
   "outputs": [
    {
     "name": "stdout",
     "output_type": "stream",
     "text": [
      "This is the parent class.\n",
      "This is Child1.\n",
      "This is the parent class.\n",
      "This is Child2.\n"
     ]
    }
   ],
   "source": [
    "# hierarchical inheritance\n",
    "class Parent:\n",
    "    def func1(self):\n",
    "        print(\"This is the parent class.\")\n",
    "\n",
    "class Child1(Parent):\n",
    "    def func2(self):\n",
    "        print(\"This is Child1.\")\n",
    "\n",
    "class Child2(Parent):\n",
    "    def func3(self):\n",
    "        print(\"This is Child2.\")\n",
    "\n",
    "obj1 = Child1()\n",
    "obj2 = Child2()\n",
    "\n",
    "obj1.func1()  # Accessing parent class method\n",
    "obj1.func2()  # Accessing child class method\n",
    "\n",
    "obj2.func1()  # Accessing parent class method\n",
    "obj2.func3()  # Accessing child class method"
   ]
  },
  {
   "cell_type": "code",
   "execution_count": 7,
   "id": "7d1f90f5-bf32-4ae8-b8f0-ba88d312320b",
   "metadata": {},
   "outputs": [
    {
     "name": "stdout",
     "output_type": "stream",
     "text": [
      "This is class A.\n",
      "This is class B.\n",
      "This is class C.\n",
      "This is class D.\n"
     ]
    }
   ],
   "source": [
    "# hybrid inheritace\n",
    "class A:\n",
    "    def funcA(self):\n",
    "        print(\"This is class A.\")\n",
    "\n",
    "# Derived class 1 (Single Inheritance)\n",
    "class B(A):\n",
    "    def funcB(self):\n",
    "        print(\"This is class B.\")\n",
    "\n",
    "# Derived class 2 (Multiple Inheritance)\n",
    "class C(A):\n",
    "    def funcC(self):\n",
    "        print(\"This is class C.\")\n",
    "\n",
    "# Derived class 3 (Hybrid Inheritance)\n",
    "class D(B, C):\n",
    "    def funcD(self):\n",
    "        print(\"This is class D.\")\n",
    "        \n",
    "obj = D()\n",
    "obj.funcA()  # Inherited from class A\n",
    "obj.funcB()  # Inherited from class B\n",
    "obj.funcC()  # Inherited from class C\n",
    "obj.funcD()  # Defined in class D\n"
   ]
  },
  {
   "cell_type": "code",
   "execution_count": 9,
   "id": "067501b1-e23b-4957-ba31-b1b0bcdcdbff",
   "metadata": {},
   "outputs": [],
   "source": [
    "# polymorphisim"
   ]
  },
  {
   "cell_type": "raw",
   "id": "9fea66e1-4ea7-48ae-a5f4-a260d6714ba5",
   "metadata": {},
   "source": [
    "operator overloading\n",
    "the add methode spacial methode used to define the behavior of the + operator of a class this methode allows you to specify how two objects of the same type (or compatible types) should be added together when the + operator is used "
   ]
  },
  {
   "cell_type": "code",
   "execution_count": 49,
   "id": "0e0ca481-b3cc-4528-b063-b03d5f797194",
   "metadata": {},
   "outputs": [
    {
     "name": "stdout",
     "output_type": "stream",
     "text": [
      "so 100 + 200=300\n",
      "300\n",
      "so 100 * 200=20000\n",
      "20000\n",
      "so 100 / 200=0.5\n",
      "0.5\n",
      "so 100 // 200=0\n",
      "0\n",
      "so 100 - 200=-100\n",
      "-100\n",
      "so 100 > 200=False\n",
      "False\n",
      "so 100 < 200=True\n",
      "True\n",
      "so 100 <= 200=True\n",
      "True\n",
      "so 100 == 200=False\n",
      "False\n"
     ]
    }
   ],
   "source": [
    "a=100\n",
    "b=200\n",
    "res=a+b\n",
    "print(f\"so {a} + {b}={res}\")\n",
    "res=a.__add__(b)\n",
    "print(res)\n",
    "\n",
    "res=a*b\n",
    "print(f\"so {a} * {b}={res}\")\n",
    "res=a.__mul__(b)\n",
    "print(res)\n",
    "\n",
    "res=a/b\n",
    "print(f\"so {a} / {b}={res}\")\n",
    "res=a.__truediv__(b)\n",
    "print(res)\n",
    "\n",
    "res=a//b\n",
    "print(f\"so {a} // {b}={res}\")\n",
    "res=a.__floordiv__(b)\n",
    "print(res)\n",
    "\n",
    "res=a-b\n",
    "print(f\"so {a} - {b}={res}\")\n",
    "res=a.__sub__(b)\n",
    "print(res)\n",
    "\n",
    "res=a>b\n",
    "print(f\"so {a} > {b}={res}\")\n",
    "res=a.__gt__(b)\n",
    "print(res)\n",
    "\n",
    "res=a<b\n",
    "print(f\"so {a} < {b}={res}\")\n",
    "res=a.__lt__(b)\n",
    "print(res)\n",
    "\n",
    "res=a<=b\n",
    "print(f\"so {a} <= {b}={res}\")\n",
    "res=a.__le__(b)\n",
    "print(res)\n",
    "\n",
    "res=a==b\n",
    "print(f\"so {a} == {b}={res}\")\n",
    "res=a.__eq__(b)\n",
    "print(res)"
   ]
  },
  {
   "cell_type": "code",
   "execution_count": 57,
   "id": "98e71a11-8522-495e-b72e-9be2c5ea8f07",
   "metadata": {},
   "outputs": [
    {
     "name": "stdout",
     "output_type": "stream",
     "text": [
      "ob1.x=20 and ob2.y=40...\n",
      "ob2.x=26 and ob2.y=40...\n",
      "After performing the addition operation\n",
      "result.x=46 and result.y=80\n"
     ]
    }
   ],
   "source": [
    "class Myclass:\n",
    "    #ob1 ==> a=12 b=15\n",
    "    #ob2 => a=2 b=10\n",
    "    #total -a =14 , b=15\n",
    "    def __init__(self,xx,yy):\n",
    "        self.x=xx\n",
    "        self.y=yy\n",
    "    def __add__(self,ob):\n",
    "        temp=Myclass(0,0)\n",
    "        temp.x=self.x + ob.x\n",
    "        temp.y=self.y + ob.y\n",
    "        return temp\n",
    "ob1=Myclass(20,40)\n",
    "ob2=Myclass(26,40)\n",
    "print(f\"ob1.x={ob1.x} and ob2.y={ob1.y}...\")\n",
    "print(f\"ob2.x={ob2.x} and ob2.y={ob2.y}...\")\n",
    "print(\"After performing the addition operation\")\n",
    "res=ob1+ob2\n",
    "print(f\"result.x={res.x} and result.y={res.y}\")"
   ]
  },
  {
   "cell_type": "code",
   "execution_count": 63,
   "id": "ab660455-bbc3-4b32-8ee5-ad08fec3f1fd",
   "metadata": {},
   "outputs": [
    {
     "name": "stdout",
     "output_type": "stream",
     "text": [
      "5\n",
      "11\n",
      "18\n"
     ]
    }
   ],
   "source": [
    "# methode oveloading \n",
    "class Mathoperation:\n",
    "    def add(self,a,b=0,c=0):\n",
    "        return a+b+c\n",
    "math_ops=Mathoperation()\n",
    "print(math_ops.add(5))\n",
    "print(math_ops.add(5,6))\n",
    "print(math_ops.add(5,6,7))"
   ]
  },
  {
   "cell_type": "code",
   "execution_count": 67,
   "id": "5f1d7cfc-cdd7-48f4-8076-c95074898111",
   "metadata": {},
   "outputs": [
    {
     "name": "stdout",
     "output_type": "stream",
     "text": [
      "5\n",
      "11\n",
      "39\n"
     ]
    }
   ],
   "source": [
    "class Mathoperation:\n",
    "    def add(self,*args):\n",
    "        return sum(args)\n",
    "math_ops=Mathoperation()\n",
    "print(math_ops.add(5))\n",
    "print(math_ops.add(5,6))\n",
    "print(math_ops.add(5,6,7,6,7,8))"
   ]
  },
  {
   "cell_type": "markdown",
   "id": "bfdb9b3c-20b2-4550-8400-4359afb1e6b6",
   "metadata": {},
   "source": [
    "### Data Abstraction\n",
    "> it is used to hide irrelevent details from the user and show the details that are relevant to the user"
   ]
  },
  {
   "cell_type": "markdown",
   "id": "d982eb3b-6ba5-4415-a774-62b48f4f12f8",
   "metadata": {},
   "source": [
    "### Abstract Class and Interface\n",
    "> it is the class in which one or more abstract methode are defined . when a methode is decalared inside the class without its implementation is know as abstract methode \n",
    "> its developer job to write code for abstract class while in interface any third party vendor will take responsibility to write child class"
   ]
  },
  {
   "cell_type": "code",
   "execution_count": 11,
   "id": "b26ac985-3724-4ed2-b421-0d7f68f6872d",
   "metadata": {},
   "outputs": [
    {
     "name": "stdout",
     "output_type": "stream",
     "text": [
      "Abstract class constructor..\n",
      "abstract methode is redefining\n",
      "concret method is executing\n"
     ]
    }
   ],
   "source": [
    "from abc import ABC, abstractmethod  # abstract base class- abc\n",
    "class MyabstractBaseClass(ABC):\n",
    "    def __init__(self):\n",
    "        print(\"Abstract class constructor..\")\n",
    "   \n",
    "    @abstractmethod\n",
    "    def abstractMethod(self):\n",
    "        pass\n",
    "    \n",
    "    def concreteMethod(self):\n",
    "        print(\"concret method is executing\")\n",
    "class derived(MyabstractBaseClass):\n",
    "    def abstractMethod(self):\n",
    "        print(\"abstract methode is redefining\")\n",
    "obj=derived()\n",
    "obj.abstractMethod()\n",
    "obj.concreteMethod()"
   ]
  },
  {
   "cell_type": "code",
   "execution_count": 25,
   "id": "2dda9bf1-d81b-4554-95ca-f7c16e085c09",
   "metadata": {
    "scrolled": true
   },
   "outputs": [
    {
     "name": "stdout",
     "output_type": "stream",
     "text": [
      "Brand: hyudai\n",
      "model: verna\n",
      "year: 2025\n",
      "speed up..\n",
      "Brand: mahindra\n",
      "model: Thar\n",
      "year: 2025\n",
      "speed up..\n"
     ]
    }
   ],
   "source": [
    "from abc import ABC, abstractmethod\n",
    "class Car(ABC):\n",
    "    def __init__(self,brand,model,year):\n",
    "        self.brand=brand\n",
    "        self.model=model\n",
    "        self.year=year\n",
    "    @abstractmethod\n",
    "    def printDetails(self):\n",
    "        pass\n",
    "    def accelerate(self):\n",
    "        print(\"speed up..\")\n",
    "    def break_applied(self):\n",
    "        print(\"Car stop\")\n",
    "\n",
    "class sedan(Car):\n",
    "    def printDetails(self):\n",
    "        print(\"Brand:\",self.brand)\n",
    "        print(\"model:\",self.model)\n",
    "        print(\"year:\",self.year)\n",
    "    def sunroof(self):\n",
    "        print(\"no sun roof\")\n",
    "\n",
    "class Suv(Car):\n",
    "    def printDetails(self):\n",
    "        print(\"Brand:\",self.brand)\n",
    "        print(\"model:\",self.model)\n",
    "        print(\"year:\",self.year)\n",
    "    def sunroof(self):\n",
    "        print(\"sun roof Available\")\n",
    "\n",
    "car1=sedan(\"hyudai\",\"verna\",2025)\n",
    "car1.printDetails()\n",
    "car1.accelerate()\n",
    "\n",
    "car2=Suv(\"mahindra\",\"Thar\",2025)\n",
    "car2.printDetails()\n",
    "car2.accelerate()"
   ]
  },
  {
   "cell_type": "code",
   "execution_count": null,
   "id": "ff1c924e-2c21-4d1d-9c7f-6704ebf4a259",
   "metadata": {},
   "outputs": [],
   "source": []
  },
  {
   "cell_type": "code",
   "execution_count": null,
   "id": "66df6b1c-037c-4b27-8d27-4dc6a6a63676",
   "metadata": {},
   "outputs": [],
   "source": []
  },
  {
   "cell_type": "code",
   "execution_count": null,
   "id": "6424086e-34a3-4a05-a942-4843bc971393",
   "metadata": {},
   "outputs": [],
   "source": []
  },
  {
   "cell_type": "code",
   "execution_count": null,
   "id": "6854ab3a-b7d5-477c-9385-cc7cfa5d3f59",
   "metadata": {},
   "outputs": [],
   "source": []
  },
  {
   "cell_type": "code",
   "execution_count": null,
   "id": "5e66f32b-1c24-4681-9833-a778d59347dd",
   "metadata": {},
   "outputs": [],
   "source": []
  },
  {
   "cell_type": "code",
   "execution_count": null,
   "id": "12e68826-4f89-4fea-837e-4cc46fecefbd",
   "metadata": {},
   "outputs": [],
   "source": []
  },
  {
   "cell_type": "code",
   "execution_count": null,
   "id": "a8ab11bc-71a0-4c98-960a-a562d629d0f6",
   "metadata": {},
   "outputs": [],
   "source": []
  },
  {
   "cell_type": "code",
   "execution_count": null,
   "id": "58c8d198-f698-4a57-8d9b-70c7a3841e6d",
   "metadata": {},
   "outputs": [],
   "source": []
  },
  {
   "cell_type": "code",
   "execution_count": null,
   "id": "6137e358-501a-4a47-bc55-8787d6c27ff5",
   "metadata": {},
   "outputs": [],
   "source": []
  },
  {
   "cell_type": "code",
   "execution_count": null,
   "id": "1593b769-215a-4d43-9042-6b6557b3d2c5",
   "metadata": {},
   "outputs": [],
   "source": []
  },
  {
   "cell_type": "code",
   "execution_count": null,
   "id": "7611a4f1-5347-4d34-a9dd-c024a3c7bd85",
   "metadata": {},
   "outputs": [],
   "source": []
  },
  {
   "cell_type": "code",
   "execution_count": null,
   "id": "f9b6545c-1c15-4808-96d2-b00fd2476ecf",
   "metadata": {},
   "outputs": [],
   "source": []
  },
  {
   "cell_type": "code",
   "execution_count": null,
   "id": "bb3a5628-2466-4193-84c8-62201cfe6b44",
   "metadata": {},
   "outputs": [],
   "source": []
  }
 ],
 "metadata": {
  "kernelspec": {
   "display_name": "Python [conda env:base] *",
   "language": "python",
   "name": "conda-base-py"
  },
  "language_info": {
   "codemirror_mode": {
    "name": "ipython",
    "version": 3
   },
   "file_extension": ".py",
   "mimetype": "text/x-python",
   "name": "python",
   "nbconvert_exporter": "python",
   "pygments_lexer": "ipython3",
   "version": "3.12.7"
  }
 },
 "nbformat": 4,
 "nbformat_minor": 5
}
