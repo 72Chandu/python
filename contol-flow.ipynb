{
 "cells": [
  {
   "cell_type": "raw",
   "id": "dac28e43-51f4-43ba-af3b-c4ee0256eb72",
   "metadata": {},
   "source": [
    "if\n",
    "if else\n",
    "if elif else"
   ]
  },
  {
   "cell_type": "code",
   "execution_count": 1,
   "id": "c4ab758a-9b50-45b1-91e8-91a33ead7aeb",
   "metadata": {},
   "outputs": [
    {
     "name": "stdout",
     "output_type": "stream",
     "text": [
      "you can drive\n"
     ]
    }
   ],
   "source": [
    "age=19\n",
    "if age>=18:\n",
    "    print(\"you can drive\")"
   ]
  },
  {
   "cell_type": "code",
   "execution_count": 7,
   "id": "2da812e4-e477-47cd-b798-0c18839e3cb0",
   "metadata": {},
   "outputs": [
    {
     "name": "stdout",
     "output_type": "stream",
     "text": [
      "You are not eligible to vote.\n"
     ]
    }
   ],
   "source": [
    "age = 16\n",
    "if age >= 18:\n",
    "    print(\"You are eligible to vote.\")\n",
    "else:\n",
    "    print(\"You are not eligible to vote.\")\n"
   ]
  },
  {
   "cell_type": "code",
   "execution_count": 9,
   "id": "b45c5225-c75d-4787-9876-82f4b738f04a",
   "metadata": {},
   "outputs": [
    {
     "name": "stdout",
     "output_type": "stream",
     "text": [
      "Grade: B\n"
     ]
    }
   ],
   "source": [
    "marks = 75\n",
    "\n",
    "if marks >= 90:\n",
    "    print(\"Grade: A\")\n",
    "elif marks >= 75:\n",
    "    print(\"Grade: B\")\n",
    "elif marks >= 50:\n",
    "    print(\"Grade: C\")\n",
    "else:\n",
    "    print(\"Grade: F\")\n"
   ]
  },
  {
   "cell_type": "code",
   "execution_count": 11,
   "id": "e7fcd0d8-3489-432a-a541-80ebc95c2b9f",
   "metadata": {},
   "outputs": [
    {
     "name": "stdout",
     "output_type": "stream",
     "text": [
      "✅ Access granted.\n",
      "✅ You qualify for the scholarship!\n",
      "✅ You are eligible for the job.\n",
      "❌ Weak password. Add at least 8 characters and special symbols (@, #, !).\n",
      "✅ 15 is within the range 10-20.\n",
      "✅ 'e' is a vowel.\n",
      "❌ You need to upgrade or increase your balance.\n"
     ]
    }
   ],
   "source": [
    "age = 25\n",
    "has_pass = True\n",
    "grade = 85\n",
    "sports_achievement = False\n",
    "experience = 3\n",
    "has_degree = False\n",
    "password = \"Admin123\"\n",
    "num = 15\n",
    "letter = \"e\"\n",
    "is_premium = False\n",
    "account_balance = 500\n",
    "discount_code = True\n",
    "\n",
    "# 1. Checking restricted area access\n",
    "if age >= 18 and has_pass:\n",
    "    print(\"✅ Access granted.\")\n",
    "else:\n",
    "    print(\"❌ Access denied.\")\n",
    "\n",
    "# 2. Checking scholarship eligibility\n",
    "if grade > 80 or sports_achievement:\n",
    "    print(\"✅ You qualify for the scholarship!\")\n",
    "else:\n",
    "    print(\"❌ You do not qualify for the scholarship.\")\n",
    "\n",
    "# 3. Job eligibility check\n",
    "if (age >= 21 and experience >= 2) or has_degree:\n",
    "    print(\"✅ You are eligible for the job.\")\n",
    "else:\n",
    "    print(\"❌ You are not eligible for the job.\")\n",
    "\n",
    "# 4. Checking password strength\n",
    "if len(password) >= 8 and (\"@\" in password or \"#\" in password or \"!\" in password):\n",
    "    print(\"✅ Strong password!\")\n",
    "else:\n",
    "    print(\"❌ Weak password. Add at least 8 characters and special symbols (@, #, !).\")\n",
    "\n",
    "# 5. Checking if number is in range\n",
    "if num >= 10 and num <= 20:\n",
    "    print(f\"✅ {num} is within the range 10-20.\")\n",
    "else:\n",
    "    print(f\"❌ {num} is out of range.\")\n",
    "\n",
    "# 6. Checking if a letter is a vowel\n",
    "if letter in (\"a\", \"e\", \"i\", \"o\", \"u\"):\n",
    "    print(f\"✅ '{letter}' is a vowel.\")\n",
    "else:\n",
    "    print(f\"❌ '{letter}' is a consonant.\")\n",
    "\n",
    "# 7. Checking premium service access\n",
    "if is_premium or (account_balance >= 1000 and not discount_code):\n",
    "    print(\"✅ You can access the premium service.\")\n",
    "else:\n",
    "    print(\"❌ You need to upgrade or increase your balance.\")\n"
   ]
  },
  {
   "cell_type": "raw",
   "id": "e6b383d1-e38f-4431-86cf-9addfd03c89f",
   "metadata": {},
   "source": [
    "nested "
   ]
  },
  {
   "cell_type": "code",
   "execution_count": 13,
   "id": "825c07a9-8799-4aeb-a0d0-1af0281f0db1",
   "metadata": {},
   "outputs": [
    {
     "name": "stdout",
     "output_type": "stream",
     "text": [
      "You need to get a license first.\n"
     ]
    }
   ],
   "source": [
    "age = 19\n",
    "has_license = False\n",
    "\n",
    "if age >= 18:\n",
    "    if has_license:\n",
    "        print(\"You can drive.\")\n",
    "    else:\n",
    "        print(\"You need to get a license first.\")\n",
    "else:\n",
    "    print(\"You are too young to drive.\")\n"
   ]
  },
  {
   "cell_type": "raw",
   "id": "a13c49d1-5fde-4d44-8bf3-c32750b45dd0",
   "metadata": {},
   "source": [
    "Checking Leap Year"
   ]
  },
  {
   "cell_type": "code",
   "execution_count": 15,
   "id": "d2e590ed-a306-4799-9779-7615b5103259",
   "metadata": {},
   "outputs": [
    {
     "name": "stdout",
     "output_type": "stream",
     "text": [
      "2024 is a leap year.\n"
     ]
    }
   ],
   "source": [
    "year = 2024\n",
    "\n",
    "if (year % 4 == 0 and year % 100 != 0) or (year % 400 == 0):\n",
    "    print(f\"{year} is a leap year.\")\n",
    "else:\n",
    "    print(f\"{year} is not a leap year.\")\n"
   ]
  },
  {
   "cell_type": "code",
   "execution_count": 17,
   "id": "089d26bd-5916-4b07-b3da-71d286fb22fe",
   "metadata": {},
   "outputs": [
    {
     "name": "stdout",
     "output_type": "stream",
     "text": [
      "Weak password. Add at least 8 characters and special symbols (@, #, !).\n"
     ]
    }
   ],
   "source": [
    "password = \"Admin123\"\n",
    "\n",
    "if len(password) >= 8 and (\"@\" in password or \"#\" in password or \"!\" in password):\n",
    "    print(\"Strong password!\")\n",
    "else:\n",
    "    print(\"Weak password. Add at least 8 characters and special symbols (@, #, !).\")\n"
   ]
  },
  {
   "cell_type": "code",
   "execution_count": 19,
   "id": "fa13692e-50a8-422f-931e-872f32e3483d",
   "metadata": {},
   "outputs": [
    {
     "name": "stdout",
     "output_type": "stream",
     "text": [
      "It is a vowel.\n"
     ]
    }
   ],
   "source": [
    "letter = \"e\"\n",
    "\n",
    "if letter in (\"a\", \"e\", \"i\", \"o\", \"u\"):\n",
    "    print(\"It is a vowel.\")\n",
    "else:\n",
    "    print(\"It is a consonant.\")\n"
   ]
  },
  {
   "cell_type": "raw",
   "id": "7ae1862b-5de1-488c-8ca7-ec619e9a1606",
   "metadata": {},
   "source": [
    "CALCULATOR"
   ]
  },
  {
   "cell_type": "code",
   "execution_count": 21,
   "id": "bdd88a13-bcdd-44d0-bfd2-3bd20c40aaac",
   "metadata": {},
   "outputs": [
    {
     "name": "stdout",
     "output_type": "stream",
     "text": [
      "Welcome to the Python Calculator!\n",
      "Operations: +, -, *, /\n"
     ]
    },
    {
     "name": "stdin",
     "output_type": "stream",
     "text": [
      "Enter first number:  12\n",
      "Enter operation (+, -, *, /):  +\n",
      "Enter second number:  23\n"
     ]
    },
    {
     "name": "stdout",
     "output_type": "stream",
     "text": [
      "Result: 35.0\n"
     ]
    }
   ],
   "source": [
    "print(\"Welcome to the Python Calculator!\")\n",
    "print(\"Operations: +, -, *, /\")\n",
    "\n",
    "# Taking user input\n",
    "num1 = float(input(\"Enter first number: \"))\n",
    "operator = input(\"Enter operation (+, -, *, /): \")\n",
    "num2 = float(input(\"Enter second number: \"))\n",
    "\n",
    "# Performing calculations using only flow control\n",
    "if operator == \"+\":\n",
    "    print(\"Result:\", num1 + num2)\n",
    "elif operator == \"-\":\n",
    "    print(\"Result:\", num1 - num2)\n",
    "elif operator == \"*\":\n",
    "    print(\"Result:\", num1 * num2)\n",
    "elif operator == \"/\":\n",
    "    if num2 != 0:\n",
    "        print(\"Result:\", num1 / num2)\n",
    "    else:\n",
    "        print(\"Error: Division by zero is not allowed!\")\n",
    "else:\n",
    "    print(\"Invalid operator! Please use +, -, *, or /.\")\n"
   ]
  },
  {
   "cell_type": "raw",
   "id": "c34a5900-1f54-46f8-a0e1-ac3eba0b729c",
   "metadata": {},
   "source": [
    "range(start, stop, step) end of stop and step in not included"
   ]
  },
  {
   "cell_type": "code",
   "execution_count": 33,
   "id": "553eaa43-1dd7-4083-8b43-3d9725aeeb8d",
   "metadata": {},
   "outputs": [
    {
     "name": "stdout",
     "output_type": "stream",
     "text": [
      "[1, 2, 3, 4, 5]\n"
     ]
    }
   ],
   "source": [
    "numbers = list(range(1, 6))\n",
    "print(numbers)"
   ]
  },
  {
   "cell_type": "code",
   "execution_count": 35,
   "id": "cbdd21cd-25c6-486c-8a53-cb4a833c69e3",
   "metadata": {},
   "outputs": [
    {
     "name": "stdout",
     "output_type": "stream",
     "text": [
      "[0, 1, 2, 3, 4, 5, 6, 7, 8, 9]\n"
     ]
    }
   ],
   "source": [
    "numbers = list(range(10))\n",
    "print(numbers)"
   ]
  },
  {
   "cell_type": "code",
   "execution_count": 37,
   "id": "256c4991-a569-483c-8e2c-30693c2b0bbc",
   "metadata": {},
   "outputs": [
    {
     "name": "stdout",
     "output_type": "stream",
     "text": [
      "[1, 3, 5]\n"
     ]
    }
   ],
   "source": [
    "numbers = list(range(1, 6, 2))\n",
    "print(numbers)"
   ]
  },
  {
   "cell_type": "raw",
   "id": "aab498e9-0b9e-4a5f-b1f6-304c7742ef36",
   "metadata": {},
   "source": [
    "Data Type\t     Example\n",
    "String\t    Iterate over each character\n",
    "List\t    Iterate over each element\n",
    "Tuple\t    Iterate over each element\n",
    "Set\t        Iterate over each unique element (unordered)\n",
    "Dictionary\tIterate over keys, values, or key-value pairs\n",
    "Range\t    Iterate over a sequence of numbers"
   ]
  },
  {
   "cell_type": "code",
   "execution_count": 67,
   "id": "a51da7b1-7967-4592-af22-11c07955aaa0",
   "metadata": {},
   "outputs": [
    {
     "name": "stdout",
     "output_type": "stream",
     "text": [
      "0\n",
      "1\n",
      "2\n",
      "3\n",
      "4\n"
     ]
    }
   ],
   "source": [
    "for i in range(5):\n",
    "    print(i)\n"
   ]
  },
  {
   "cell_type": "code",
   "execution_count": 69,
   "id": "1788bcac-ff4a-4093-b5f1-297127317bce",
   "metadata": {},
   "outputs": [
    {
     "name": "stdout",
     "output_type": "stream",
     "text": [
      "2\n",
      "3\n",
      "4\n",
      "5\n"
     ]
    }
   ],
   "source": [
    "for i in range(2, 6):\n",
    "    print(i)\n"
   ]
  },
  {
   "cell_type": "code",
   "execution_count": 71,
   "id": "09cd24e3-e034-4b14-a1d1-cff79d52ab6c",
   "metadata": {},
   "outputs": [
    {
     "name": "stdout",
     "output_type": "stream",
     "text": [
      "1\n",
      "3\n",
      "5\n",
      "7\n",
      "9\n"
     ]
    }
   ],
   "source": [
    "for i in range(1, 10, 2):\n",
    "    print(i)\n"
   ]
  },
  {
   "cell_type": "code",
   "execution_count": 73,
   "id": "c80af15f-c30d-4d11-a7cc-b089c93cfa02",
   "metadata": {},
   "outputs": [
    {
     "name": "stdout",
     "output_type": "stream",
     "text": [
      "10\n",
      "8\n",
      "6\n",
      "4\n",
      "2\n"
     ]
    }
   ],
   "source": [
    "for i in range(10, 0, -2):\n",
    "    print(i)\n"
   ]
  },
  {
   "cell_type": "code",
   "execution_count": 75,
   "id": "bd21fbc0-086d-42ee-90d4-4f8faa5a98b9",
   "metadata": {},
   "outputs": [
    {
     "name": "stdout",
     "output_type": "stream",
     "text": [
      "a\n",
      "v\n",
      "c\n",
      "r\n"
     ]
    }
   ],
   "source": [
    "for i in ['a','v','c','r']:\n",
    "    print(i)"
   ]
  },
  {
   "cell_type": "code",
   "execution_count": 108,
   "id": "df297b7d-a331-4f7b-82d3-2680e22e6cb2",
   "metadata": {},
   "outputs": [
    {
     "name": "stdout",
     "output_type": "stream",
     "text": [
      "p w s k i l l s "
     ]
    }
   ],
   "source": [
    "for i in \"pwskills\":\n",
    "    print(i,end=' ')"
   ]
  },
  {
   "cell_type": "code",
   "execution_count": 110,
   "id": "c1bd1a0c-6d7b-446f-9481-4906565e6735",
   "metadata": {},
   "outputs": [
    {
     "name": "stdout",
     "output_type": "stream",
     "text": [
      "p ,w ,s ,k ,i ,l ,l ,s ,"
     ]
    }
   ],
   "source": [
    "for i in \"pwskills\":\n",
    "    print(i,end=' ,')"
   ]
  },
  {
   "cell_type": "code",
   "execution_count": 112,
   "id": "3d3e64a8-7b0a-4de6-b693-04474ea7627e",
   "metadata": {},
   "outputs": [
    {
     "ename": "TypeError",
     "evalue": "'int' object is not iterable",
     "output_type": "error",
     "traceback": [
      "\u001b[1;31m---------------------------------------------------------------------------\u001b[0m",
      "\u001b[1;31mTypeError\u001b[0m                                 Traceback (most recent call last)",
      "Cell \u001b[1;32mIn[112], line 1\u001b[0m\n\u001b[1;32m----> 1\u001b[0m \u001b[38;5;28;01mfor\u001b[39;00m i \u001b[38;5;129;01min\u001b[39;00m \u001b[38;5;241m23\u001b[39m:\n\u001b[0;32m      2\u001b[0m     \u001b[38;5;28mprint\u001b[39m(i)\n",
      "\u001b[1;31mTypeError\u001b[0m: 'int' object is not iterable"
     ]
    }
   ],
   "source": [
    "for i in 23:\n",
    "    print(i)"
   ]
  },
  {
   "cell_type": "code",
   "execution_count": null,
   "id": "04916e51-bbb7-4ed3-bd9e-4e0dd12c45a0",
   "metadata": {},
   "outputs": [],
   "source": []
  },
  {
   "cell_type": "code",
   "execution_count": 115,
   "id": "2e3d6157-8f62-4a24-bffc-8504b8ec6683",
   "metadata": {},
   "outputs": [
    {
     "name": "stdout",
     "output_type": "stream",
     "text": [
      "a\n",
      "v\n",
      "c\n",
      "r\n"
     ]
    }
   ],
   "source": [
    "for i in ('a','v','c','r'):\n",
    "    print(i)"
   ]
  },
  {
   "cell_type": "code",
   "execution_count": 117,
   "id": "f5f4b852-5022-4466-903f-d74dd55a0ffa",
   "metadata": {},
   "outputs": [
    {
     "name": "stdout",
     "output_type": "stream",
     "text": [
      "('a', 'v', 'c', 'r')\n"
     ]
    }
   ],
   "source": [
    "for i in [('a','v','c','r')]:\n",
    "    print(i)"
   ]
  },
  {
   "cell_type": "code",
   "execution_count": 119,
   "id": "09b3972c-42d1-47d4-b807-87c3d4a97785",
   "metadata": {},
   "outputs": [
    {
     "name": "stdout",
     "output_type": "stream",
     "text": [
      "blue\n",
      "green\n",
      "red\n"
     ]
    }
   ],
   "source": [
    "colors = {\"red\", \"green\", \"blue\"}\n",
    "for color in colors:\n",
    "    print(color)\n"
   ]
  },
  {
   "cell_type": "code",
   "execution_count": 121,
   "id": "97a42a58-6ab4-49bc-b5ca-de4bbb9f9215",
   "metadata": {},
   "outputs": [
    {
     "name": "stdout",
     "output_type": "stream",
     "text": [
      "name Alice\n",
      "age 22\n",
      "grade A\n",
      "\n",
      "Alice\n",
      "22\n",
      "A\n",
      "\n",
      "name -> Alice\n",
      "age -> 22\n",
      "grade -> A\n"
     ]
    }
   ],
   "source": [
    "student = {\"name\": \"Alice\", \"age\": 22, \"grade\": \"A\"}\n",
    "for key in student:\n",
    "    print(key,student[key])\n",
    "\n",
    "print()\n",
    "\n",
    "for value in student.values():\n",
    "    print(value)\n",
    "\n",
    "print()\n",
    "\n",
    "for key, value in student.items():\n",
    "    print(key, \"->\", value)\n"
   ]
  },
  {
   "cell_type": "code",
   "execution_count": 123,
   "id": "5c9ec115-46b8-4a60-a15a-dc04ae681844",
   "metadata": {},
   "outputs": [
    {
     "name": "stdout",
     "output_type": "stream",
     "text": [
      "apple\n",
      "banana\n",
      "cherry\n"
     ]
    }
   ],
   "source": [
    "fruits = [\"apple\", \"banana\", \"cherry\"]\n",
    "for fruit in fruits:\n",
    "    print(fruit)"
   ]
  },
  {
   "cell_type": "code",
   "execution_count": 125,
   "id": "30c7e553-217c-4c4c-a362-afc6f135e64d",
   "metadata": {},
   "outputs": [
    {
     "name": "stdout",
     "output_type": "stream",
     "text": [
      "apple\n",
      "banana\n",
      "cherry\n"
     ]
    }
   ],
   "source": [
    "fruits = [\"apple\", \"banana\", \"cherry\"]\n",
    "for i in range(len(fruits)):\n",
    "    print(fruits[i])"
   ]
  },
  {
   "cell_type": "code",
   "execution_count": 131,
   "id": "57a1e2e5-4ec9-4439-8698-75378c1762e1",
   "metadata": {},
   "outputs": [
    {
     "name": "stdout",
     "output_type": "stream",
     "text": [
      "0\n",
      "1\n",
      "2\n",
      "3\n",
      "4\n",
      "loop completed\n"
     ]
    }
   ],
   "source": [
    "for i in range(5):\n",
    "    print(i)\n",
    "else:\n",
    "    print(\"loop completed\")"
   ]
  },
  {
   "cell_type": "code",
   "execution_count": 135,
   "id": "d60136dc-12f9-44a2-8c55-d68fd6ac0bb8",
   "metadata": {},
   "outputs": [
    {
     "name": "stdout",
     "output_type": "stream",
     "text": [
      "* \n",
      "* * \n",
      "* * * \n",
      "* * * * \n",
      "* * * * * \n"
     ]
    }
   ],
   "source": [
    "for i in range(5):\n",
    "    for j in range(i+1):\n",
    "        print(\"*\",end=' ')\n",
    "    print()"
   ]
  },
  {
   "cell_type": "code",
   "execution_count": 141,
   "id": "2cae9414-1cfc-417f-92e5-ec1984361430",
   "metadata": {},
   "outputs": [
    {
     "name": "stdout",
     "output_type": "stream",
     "text": [
      "* * * * * \n",
      "* * * * \n",
      "* * * \n",
      "* * \n",
      "* \n"
     ]
    }
   ],
   "source": [
    "for i in range(5,0,-1):\n",
    "    for j in range(i,0,-1):\n",
    "        print(\"*\",end=\" \")\n",
    "    print()"
   ]
  },
  {
   "cell_type": "code",
   "execution_count": 147,
   "id": "1c90505c-1da8-4b06-bf82-dd3f75a304f0",
   "metadata": {},
   "outputs": [
    {
     "name": "stdout",
     "output_type": "stream",
     "text": [
      "1 2 3 4 5 \n",
      "2 4 6 8 10 \n",
      "3 6 9 12 15 \n",
      "4 8 12 16 20 \n",
      "5 10 15 20 25 \n"
     ]
    }
   ],
   "source": [
    "for i in range(1,6):\n",
    "    for j in range(1,6):\n",
    "        print(i*j,end=' ')\n",
    "    print()"
   ]
  },
  {
   "cell_type": "code",
   "execution_count": 143,
   "id": "21cf0203-8337-4776-8475-d24b56dfdf4d",
   "metadata": {},
   "outputs": [
    {
     "name": "stdout",
     "output_type": "stream",
     "text": [
      "1\n",
      "2\n",
      "3\n",
      "4\n",
      "5\n"
     ]
    }
   ],
   "source": [
    "i = 1\n",
    "while i <= 5:\n",
    "    print(i)\n",
    "    i += 1\n"
   ]
  },
  {
   "cell_type": "code",
   "execution_count": 149,
   "id": "5b713054-7b5d-4468-ab83-3804dca796f7",
   "metadata": {},
   "outputs": [
    {
     "name": "stdout",
     "output_type": "stream",
     "text": [
      "1\n",
      "2\n",
      "3\n",
      "Loop finished successfully!\n"
     ]
    }
   ],
   "source": [
    "i = 1\n",
    "while i <= 3:\n",
    "    print(i)\n",
    "    i += 1\n",
    "else:\n",
    "    print(\"Loop finished successfully!\")\n"
   ]
  },
  {
   "cell_type": "code",
   "execution_count": 153,
   "id": "7de01955-5327-4314-8631-8e70c08820f1",
   "metadata": {},
   "outputs": [
    {
     "name": "stdin",
     "output_type": "stream",
     "text": [
      "Enter your name (or type 'exit' to stop):  chandrashekhar\n"
     ]
    },
    {
     "name": "stdout",
     "output_type": "stream",
     "text": [
      "Hello, chandrashekhar\n"
     ]
    },
    {
     "name": "stdin",
     "output_type": "stream",
     "text": [
      "Enter your name (or type 'exit' to stop):  exit\n"
     ]
    },
    {
     "name": "stdout",
     "output_type": "stream",
     "text": [
      "Exiting...\n"
     ]
    }
   ],
   "source": [
    "while True:\n",
    "    name = input(\"Enter your name (or type 'exit' to stop): \")\n",
    "    if name.lower() == \"exit\":\n",
    "        print(\"Exiting...\")\n",
    "        break\n",
    "    print(\"Hello,\", name)"
   ]
  },
  {
   "cell_type": "code",
   "execution_count": 155,
   "id": "3ddd83cb-dd23-4686-a7f5-a30063d04bc9",
   "metadata": {},
   "outputs": [
    {
     "name": "stdout",
     "output_type": "stream",
     "text": [
      "i=1, j=1\n",
      "i=1, j=2\n",
      "i=2, j=1\n",
      "i=2, j=2\n",
      "i=3, j=1\n",
      "i=3, j=2\n"
     ]
    }
   ],
   "source": [
    "i = 1\n",
    "while i <= 3:\n",
    "    j = 1\n",
    "    while j <= 2:\n",
    "        print(f\"i={i}, j={j}\")\n",
    "        j += 1\n",
    "    i += 1\n"
   ]
  },
  {
   "cell_type": "code",
   "execution_count": 157,
   "id": "86b5e6d4-5099-499a-b7fe-9ec488e6b14f",
   "metadata": {},
   "outputs": [
    {
     "name": "stdout",
     "output_type": "stream",
     "text": [
      "apple\n",
      "banana\n",
      "cherry\n"
     ]
    }
   ],
   "source": [
    "fruits = [\"apple\", \"banana\", \"cherry\"]\n",
    "i = 0\n",
    "while i < len(fruits):\n",
    "    print(fruits[i])\n",
    "    i += 1\n"
   ]
  },
  {
   "cell_type": "code",
   "execution_count": null,
   "id": "b4117b1d-6424-47d7-a520-3224d8c48655",
   "metadata": {},
   "outputs": [],
   "source": []
  }
 ],
 "metadata": {
  "kernelspec": {
   "display_name": "Python [conda env:base] *",
   "language": "python",
   "name": "conda-base-py"
  },
  "language_info": {
   "codemirror_mode": {
    "name": "ipython",
    "version": 3
   },
   "file_extension": ".py",
   "mimetype": "text/x-python",
   "name": "python",
   "nbconvert_exporter": "python",
   "pygments_lexer": "ipython3",
   "version": "3.12.7"
  }
 },
 "nbformat": 4,
 "nbformat_minor": 5
}
