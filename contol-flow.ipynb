{
 "cells": [
  {
   "cell_type": "raw",
   "id": "dac28e43-51f4-43ba-af3b-c4ee0256eb72",
   "metadata": {},
   "source": [
    "if\n",
    "if else\n",
    "if elif else"
   ]
  },
  {
   "cell_type": "code",
   "execution_count": 1,
   "id": "c4ab758a-9b50-45b1-91e8-91a33ead7aeb",
   "metadata": {},
   "outputs": [
    {
     "name": "stdout",
     "output_type": "stream",
     "text": [
      "you can drive\n"
     ]
    }
   ],
   "source": [
    "age=19\n",
    "if age>=18:\n",
    "    print(\"you can drive\")"
   ]
  },
  {
   "cell_type": "code",
   "execution_count": 7,
   "id": "2da812e4-e477-47cd-b798-0c18839e3cb0",
   "metadata": {},
   "outputs": [
    {
     "name": "stdout",
     "output_type": "stream",
     "text": [
      "You are not eligible to vote.\n"
     ]
    }
   ],
   "source": [
    "age = 16\n",
    "if age >= 18:\n",
    "    print(\"You are eligible to vote.\")\n",
    "else:\n",
    "    print(\"You are not eligible to vote.\")\n"
   ]
  },
  {
   "cell_type": "code",
   "execution_count": 9,
   "id": "b45c5225-c75d-4787-9876-82f4b738f04a",
   "metadata": {},
   "outputs": [
    {
     "name": "stdout",
     "output_type": "stream",
     "text": [
      "Grade: B\n"
     ]
    }
   ],
   "source": [
    "marks = 75\n",
    "\n",
    "if marks >= 90:\n",
    "    print(\"Grade: A\")\n",
    "elif marks >= 75:\n",
    "    print(\"Grade: B\")\n",
    "elif marks >= 50:\n",
    "    print(\"Grade: C\")\n",
    "else:\n",
    "    print(\"Grade: F\")\n"
   ]
  },
  {
   "cell_type": "code",
   "execution_count": 11,
   "id": "e7fcd0d8-3489-432a-a541-80ebc95c2b9f",
   "metadata": {},
   "outputs": [
    {
     "name": "stdout",
     "output_type": "stream",
     "text": [
      "✅ Access granted.\n",
      "✅ You qualify for the scholarship!\n",
      "✅ You are eligible for the job.\n",
      "❌ Weak password. Add at least 8 characters and special symbols (@, #, !).\n",
      "✅ 15 is within the range 10-20.\n",
      "✅ 'e' is a vowel.\n",
      "❌ You need to upgrade or increase your balance.\n"
     ]
    }
   ],
   "source": [
    "age = 25\n",
    "has_pass = True\n",
    "grade = 85\n",
    "sports_achievement = False\n",
    "experience = 3\n",
    "has_degree = False\n",
    "password = \"Admin123\"\n",
    "num = 15\n",
    "letter = \"e\"\n",
    "is_premium = False\n",
    "account_balance = 500\n",
    "discount_code = True\n",
    "\n",
    "# 1. Checking restricted area access\n",
    "if age >= 18 and has_pass:\n",
    "    print(\"✅ Access granted.\")\n",
    "else:\n",
    "    print(\"❌ Access denied.\")\n",
    "\n",
    "# 2. Checking scholarship eligibility\n",
    "if grade > 80 or sports_achievement:\n",
    "    print(\"✅ You qualify for the scholarship!\")\n",
    "else:\n",
    "    print(\"❌ You do not qualify for the scholarship.\")\n",
    "\n",
    "# 3. Job eligibility check\n",
    "if (age >= 21 and experience >= 2) or has_degree:\n",
    "    print(\"✅ You are eligible for the job.\")\n",
    "else:\n",
    "    print(\"❌ You are not eligible for the job.\")\n",
    "\n",
    "# 4. Checking password strength\n",
    "if len(password) >= 8 and (\"@\" in password or \"#\" in password or \"!\" in password):\n",
    "    print(\"✅ Strong password!\")\n",
    "else:\n",
    "    print(\"❌ Weak password. Add at least 8 characters and special symbols (@, #, !).\")\n",
    "\n",
    "# 5. Checking if number is in range\n",
    "if num >= 10 and num <= 20:\n",
    "    print(f\"✅ {num} is within the range 10-20.\")\n",
    "else:\n",
    "    print(f\"❌ {num} is out of range.\")\n",
    "\n",
    "# 6. Checking if a letter is a vowel\n",
    "if letter in (\"a\", \"e\", \"i\", \"o\", \"u\"):\n",
    "    print(f\"✅ '{letter}' is a vowel.\")\n",
    "else:\n",
    "    print(f\"❌ '{letter}' is a consonant.\")\n",
    "\n",
    "# 7. Checking premium service access\n",
    "if is_premium or (account_balance >= 1000 and not discount_code):\n",
    "    print(\"✅ You can access the premium service.\")\n",
    "else:\n",
    "    print(\"❌ You need to upgrade or increase your balance.\")\n"
   ]
  },
  {
   "cell_type": "raw",
   "id": "e6b383d1-e38f-4431-86cf-9addfd03c89f",
   "metadata": {},
   "source": [
    "nested "
   ]
  },
  {
   "cell_type": "code",
   "execution_count": 13,
   "id": "825c07a9-8799-4aeb-a0d0-1af0281f0db1",
   "metadata": {},
   "outputs": [
    {
     "name": "stdout",
     "output_type": "stream",
     "text": [
      "You need to get a license first.\n"
     ]
    }
   ],
   "source": [
    "age = 19\n",
    "has_license = False\n",
    "\n",
    "if age >= 18:\n",
    "    if has_license:\n",
    "        print(\"You can drive.\")\n",
    "    else:\n",
    "        print(\"You need to get a license first.\")\n",
    "else:\n",
    "    print(\"You are too young to drive.\")\n"
   ]
  },
  {
   "cell_type": "raw",
   "id": "a13c49d1-5fde-4d44-8bf3-c32750b45dd0",
   "metadata": {},
   "source": [
    "Checking Leap Year"
   ]
  },
  {
   "cell_type": "code",
   "execution_count": 15,
   "id": "d2e590ed-a306-4799-9779-7615b5103259",
   "metadata": {},
   "outputs": [
    {
     "name": "stdout",
     "output_type": "stream",
     "text": [
      "2024 is a leap year.\n"
     ]
    }
   ],
   "source": [
    "year = 2024\n",
    "\n",
    "if (year % 4 == 0 and year % 100 != 0) or (year % 400 == 0):\n",
    "    print(f\"{year} is a leap year.\")\n",
    "else:\n",
    "    print(f\"{year} is not a leap year.\")\n"
   ]
  },
  {
   "cell_type": "code",
   "execution_count": 17,
   "id": "089d26bd-5916-4b07-b3da-71d286fb22fe",
   "metadata": {},
   "outputs": [
    {
     "name": "stdout",
     "output_type": "stream",
     "text": [
      "Weak password. Add at least 8 characters and special symbols (@, #, !).\n"
     ]
    }
   ],
   "source": [
    "password = \"Admin123\"\n",
    "\n",
    "if len(password) >= 8 and (\"@\" in password or \"#\" in password or \"!\" in password):\n",
    "    print(\"Strong password!\")\n",
    "else:\n",
    "    print(\"Weak password. Add at least 8 characters and special symbols (@, #, !).\")\n"
   ]
  },
  {
   "cell_type": "code",
   "execution_count": 19,
   "id": "fa13692e-50a8-422f-931e-872f32e3483d",
   "metadata": {},
   "outputs": [
    {
     "name": "stdout",
     "output_type": "stream",
     "text": [
      "It is a vowel.\n"
     ]
    }
   ],
   "source": [
    "letter = \"e\"\n",
    "\n",
    "if letter in (\"a\", \"e\", \"i\", \"o\", \"u\"):\n",
    "    print(\"It is a vowel.\")\n",
    "else:\n",
    "    print(\"It is a consonant.\")\n"
   ]
  },
  {
   "cell_type": "raw",
   "id": "7ae1862b-5de1-488c-8ca7-ec619e9a1606",
   "metadata": {},
   "source": [
    "CALCULATOR"
   ]
  },
  {
   "cell_type": "code",
   "execution_count": 21,
   "id": "bdd88a13-bcdd-44d0-bfd2-3bd20c40aaac",
   "metadata": {},
   "outputs": [
    {
     "name": "stdout",
     "output_type": "stream",
     "text": [
      "Welcome to the Python Calculator!\n",
      "Operations: +, -, *, /\n"
     ]
    },
    {
     "name": "stdin",
     "output_type": "stream",
     "text": [
      "Enter first number:  12\n",
      "Enter operation (+, -, *, /):  +\n",
      "Enter second number:  23\n"
     ]
    },
    {
     "name": "stdout",
     "output_type": "stream",
     "text": [
      "Result: 35.0\n"
     ]
    }
   ],
   "source": [
    "print(\"Welcome to the Python Calculator!\")\n",
    "print(\"Operations: +, -, *, /\")\n",
    "\n",
    "# Taking user input\n",
    "num1 = float(input(\"Enter first number: \"))\n",
    "operator = input(\"Enter operation (+, -, *, /): \")\n",
    "num2 = float(input(\"Enter second number: \"))\n",
    "\n",
    "# Performing calculations using only flow control\n",
    "if operator == \"+\":\n",
    "    print(\"Result:\", num1 + num2)\n",
    "elif operator == \"-\":\n",
    "    print(\"Result:\", num1 - num2)\n",
    "elif operator == \"*\":\n",
    "    print(\"Result:\", num1 * num2)\n",
    "elif operator == \"/\":\n",
    "    if num2 != 0:\n",
    "        print(\"Result:\", num1 / num2)\n",
    "    else:\n",
    "        print(\"Error: Division by zero is not allowed!\")\n",
    "else:\n",
    "    print(\"Invalid operator! Please use +, -, *, or /.\")\n"
   ]
  },
  {
   "cell_type": "raw",
   "id": "c34a5900-1f54-46f8-a0e1-ac3eba0b729c",
   "metadata": {},
   "source": [
    "range(start, stop, step) end of stop and step in not included"
   ]
  },
  {
   "cell_type": "code",
   "execution_count": 33,
   "id": "553eaa43-1dd7-4083-8b43-3d9725aeeb8d",
   "metadata": {},
   "outputs": [
    {
     "name": "stdout",
     "output_type": "stream",
     "text": [
      "[1, 2, 3, 4, 5]\n"
     ]
    }
   ],
   "source": [
    "numbers = list(range(1, 6))\n",
    "print(numbers)"
   ]
  },
  {
   "cell_type": "code",
   "execution_count": 35,
   "id": "cbdd21cd-25c6-486c-8a53-cb4a833c69e3",
   "metadata": {},
   "outputs": [
    {
     "name": "stdout",
     "output_type": "stream",
     "text": [
      "[0, 1, 2, 3, 4, 5, 6, 7, 8, 9]\n"
     ]
    }
   ],
   "source": [
    "numbers = list(range(10))\n",
    "print(numbers)"
   ]
  },
  {
   "cell_type": "code",
   "execution_count": 37,
   "id": "256c4991-a569-483c-8e2c-30693c2b0bbc",
   "metadata": {},
   "outputs": [
    {
     "name": "stdout",
     "output_type": "stream",
     "text": [
      "[1, 3, 5]\n"
     ]
    }
   ],
   "source": [
    "numbers = list(range(1, 6, 2))\n",
    "print(numbers)"
   ]
  },
  {
   "cell_type": "raw",
   "id": "aab498e9-0b9e-4a5f-b1f6-304c7742ef36",
   "metadata": {},
   "source": [
    "Data Type\t     Example\n",
    "String\t    Iterate over each character\n",
    "List\t    Iterate over each element\n",
    "Tuple\t    Iterate over each element\n",
    "Set\t        Iterate over each unique element (unordered)\n",
    "Dictionary\tIterate over keys, values, or key-value pairs\n",
    "Range\t    Iterate over a sequence of numbers"
   ]
  },
  {
   "cell_type": "code",
   "execution_count": 67,
   "id": "a51da7b1-7967-4592-af22-11c07955aaa0",
   "metadata": {},
   "outputs": [
    {
     "name": "stdout",
     "output_type": "stream",
     "text": [
      "0\n",
      "1\n",
      "2\n",
      "3\n",
      "4\n"
     ]
    }
   ],
   "source": [
    "for i in range(5):\n",
    "    print(i)\n"
   ]
  },
  {
   "cell_type": "code",
   "execution_count": 69,
   "id": "1788bcac-ff4a-4093-b5f1-297127317bce",
   "metadata": {},
   "outputs": [
    {
     "name": "stdout",
     "output_type": "stream",
     "text": [
      "2\n",
      "3\n",
      "4\n",
      "5\n"
     ]
    }
   ],
   "source": [
    "for i in range(2, 6):\n",
    "    print(i)\n"
   ]
  },
  {
   "cell_type": "code",
   "execution_count": 71,
   "id": "09cd24e3-e034-4b14-a1d1-cff79d52ab6c",
   "metadata": {},
   "outputs": [
    {
     "name": "stdout",
     "output_type": "stream",
     "text": [
      "1\n",
      "3\n",
      "5\n",
      "7\n",
      "9\n"
     ]
    }
   ],
   "source": [
    "for i in range(1, 10, 2):\n",
    "    print(i)\n"
   ]
  },
  {
   "cell_type": "code",
   "execution_count": 73,
   "id": "c80af15f-c30d-4d11-a7cc-b089c93cfa02",
   "metadata": {},
   "outputs": [
    {
     "name": "stdout",
     "output_type": "stream",
     "text": [
      "10\n",
      "8\n",
      "6\n",
      "4\n",
      "2\n"
     ]
    }
   ],
   "source": [
    "for i in range(10, 0, -2):\n",
    "    print(i)\n"
   ]
  },
  {
   "cell_type": "code",
   "execution_count": 75,
   "id": "bd21fbc0-086d-42ee-90d4-4f8faa5a98b9",
   "metadata": {},
   "outputs": [
    {
     "name": "stdout",
     "output_type": "stream",
     "text": [
      "a\n",
      "v\n",
      "c\n",
      "r\n"
     ]
    }
   ],
   "source": [
    "for i in ['a','v','c','r']:\n",
    "    print(i)"
   ]
  },
  {
   "cell_type": "code",
   "execution_count": 108,
   "id": "df297b7d-a331-4f7b-82d3-2680e22e6cb2",
   "metadata": {},
   "outputs": [
    {
     "name": "stdout",
     "output_type": "stream",
     "text": [
      "p w s k i l l s "
     ]
    }
   ],
   "source": [
    "for i in \"pwskills\":\n",
    "    print(i,end=' ')"
   ]
  },
  {
   "cell_type": "code",
   "execution_count": 110,
   "id": "c1bd1a0c-6d7b-446f-9481-4906565e6735",
   "metadata": {},
   "outputs": [
    {
     "name": "stdout",
     "output_type": "stream",
     "text": [
      "p ,w ,s ,k ,i ,l ,l ,s ,"
     ]
    }
   ],
   "source": [
    "for i in \"pwskills\":\n",
    "    print(i,end=' ,')"
   ]
  },
  {
   "cell_type": "code",
   "execution_count": 112,
   "id": "3d3e64a8-7b0a-4de6-b693-04474ea7627e",
   "metadata": {},
   "outputs": [
    {
     "ename": "TypeError",
     "evalue": "'int' object is not iterable",
     "output_type": "error",
     "traceback": [
      "\u001b[1;31m---------------------------------------------------------------------------\u001b[0m",
      "\u001b[1;31mTypeError\u001b[0m                                 Traceback (most recent call last)",
      "Cell \u001b[1;32mIn[112], line 1\u001b[0m\n\u001b[1;32m----> 1\u001b[0m \u001b[38;5;28;01mfor\u001b[39;00m i \u001b[38;5;129;01min\u001b[39;00m \u001b[38;5;241m23\u001b[39m:\n\u001b[0;32m      2\u001b[0m     \u001b[38;5;28mprint\u001b[39m(i)\n",
      "\u001b[1;31mTypeError\u001b[0m: 'int' object is not iterable"
     ]
    }
   ],
   "source": [
    "for i in 23:\n",
    "    print(i)"
   ]
  },
  {
   "cell_type": "code",
   "execution_count": null,
   "id": "04916e51-bbb7-4ed3-bd9e-4e0dd12c45a0",
   "metadata": {},
   "outputs": [],
   "source": []
  },
  {
   "cell_type": "code",
   "execution_count": 115,
   "id": "2e3d6157-8f62-4a24-bffc-8504b8ec6683",
   "metadata": {},
   "outputs": [
    {
     "name": "stdout",
     "output_type": "stream",
     "text": [
      "a\n",
      "v\n",
      "c\n",
      "r\n"
     ]
    }
   ],
   "source": [
    "for i in ('a','v','c','r'):\n",
    "    print(i)"
   ]
  },
  {
   "cell_type": "code",
   "execution_count": 117,
   "id": "f5f4b852-5022-4466-903f-d74dd55a0ffa",
   "metadata": {},
   "outputs": [
    {
     "name": "stdout",
     "output_type": "stream",
     "text": [
      "('a', 'v', 'c', 'r')\n"
     ]
    }
   ],
   "source": [
    "for i in [('a','v','c','r')]:\n",
    "    print(i)"
   ]
  },
  {
   "cell_type": "code",
   "execution_count": 119,
   "id": "09b3972c-42d1-47d4-b807-87c3d4a97785",
   "metadata": {},
   "outputs": [
    {
     "name": "stdout",
     "output_type": "stream",
     "text": [
      "blue\n",
      "green\n",
      "red\n"
     ]
    }
   ],
   "source": [
    "colors = {\"red\", \"green\", \"blue\"}\n",
    "for color in colors:\n",
    "    print(color)\n"
   ]
  },
  {
   "cell_type": "code",
   "execution_count": 121,
   "id": "97a42a58-6ab4-49bc-b5ca-de4bbb9f9215",
   "metadata": {},
   "outputs": [
    {
     "name": "stdout",
     "output_type": "stream",
     "text": [
      "name Alice\n",
      "age 22\n",
      "grade A\n",
      "\n",
      "Alice\n",
      "22\n",
      "A\n",
      "\n",
      "name -> Alice\n",
      "age -> 22\n",
      "grade -> A\n"
     ]
    }
   ],
   "source": [
    "student = {\"name\": \"Alice\", \"age\": 22, \"grade\": \"A\"}\n",
    "for key in student:\n",
    "    print(key,student[key])\n",
    "\n",
    "print()\n",
    "\n",
    "for value in student.values():\n",
    "    print(value)\n",
    "\n",
    "print()\n",
    "\n",
    "for key, value in student.items():\n",
    "    print(key, \"->\", value)\n"
   ]
  },
  {
   "cell_type": "code",
   "execution_count": 123,
   "id": "5c9ec115-46b8-4a60-a15a-dc04ae681844",
   "metadata": {},
   "outputs": [
    {
     "name": "stdout",
     "output_type": "stream",
     "text": [
      "apple\n",
      "banana\n",
      "cherry\n"
     ]
    }
   ],
   "source": [
    "fruits = [\"apple\", \"banana\", \"cherry\"]\n",
    "for fruit in fruits:\n",
    "    print(fruit)"
   ]
  },
  {
   "cell_type": "code",
   "execution_count": 125,
   "id": "30c7e553-217c-4c4c-a362-afc6f135e64d",
   "metadata": {},
   "outputs": [
    {
     "name": "stdout",
     "output_type": "stream",
     "text": [
      "apple\n",
      "banana\n",
      "cherry\n"
     ]
    }
   ],
   "source": [
    "fruits = [\"apple\", \"banana\", \"cherry\"]\n",
    "for i in range(len(fruits)):\n",
    "    print(fruits[i])"
   ]
  },
  {
   "cell_type": "code",
   "execution_count": 131,
   "id": "57a1e2e5-4ec9-4439-8698-75378c1762e1",
   "metadata": {},
   "outputs": [
    {
     "name": "stdout",
     "output_type": "stream",
     "text": [
      "0\n",
      "1\n",
      "2\n",
      "3\n",
      "4\n",
      "loop completed\n"
     ]
    }
   ],
   "source": [
    "for i in range(5):\n",
    "    print(i)\n",
    "else:\n",
    "    print(\"loop completed\")"
   ]
  },
  {
   "cell_type": "code",
   "execution_count": 135,
   "id": "d60136dc-12f9-44a2-8c55-d68fd6ac0bb8",
   "metadata": {},
   "outputs": [
    {
     "name": "stdout",
     "output_type": "stream",
     "text": [
      "* \n",
      "* * \n",
      "* * * \n",
      "* * * * \n",
      "* * * * * \n"
     ]
    }
   ],
   "source": [
    "for i in range(5):\n",
    "    for j in range(i+1):\n",
    "        print(\"*\",end=' ')\n",
    "    print()"
   ]
  },
  {
   "cell_type": "code",
   "execution_count": 141,
   "id": "2cae9414-1cfc-417f-92e5-ec1984361430",
   "metadata": {},
   "outputs": [
    {
     "name": "stdout",
     "output_type": "stream",
     "text": [
      "* * * * * \n",
      "* * * * \n",
      "* * * \n",
      "* * \n",
      "* \n"
     ]
    }
   ],
   "source": [
    "for i in range(5,0,-1):\n",
    "    for j in range(i,0,-1):\n",
    "        print(\"*\",end=\" \")\n",
    "    print()"
   ]
  },
  {
   "cell_type": "code",
   "execution_count": 147,
   "id": "1c90505c-1da8-4b06-bf82-dd3f75a304f0",
   "metadata": {},
   "outputs": [
    {
     "name": "stdout",
     "output_type": "stream",
     "text": [
      "1 2 3 4 5 \n",
      "2 4 6 8 10 \n",
      "3 6 9 12 15 \n",
      "4 8 12 16 20 \n",
      "5 10 15 20 25 \n"
     ]
    }
   ],
   "source": [
    "for i in range(1,6):\n",
    "    for j in range(1,6):\n",
    "        print(i*j,end=' ')\n",
    "    print()"
   ]
  },
  {
   "cell_type": "code",
   "execution_count": 143,
   "id": "21cf0203-8337-4776-8475-d24b56dfdf4d",
   "metadata": {},
   "outputs": [
    {
     "name": "stdout",
     "output_type": "stream",
     "text": [
      "1\n",
      "2\n",
      "3\n",
      "4\n",
      "5\n"
     ]
    }
   ],
   "source": [
    "i = 1\n",
    "while i <= 5:\n",
    "    print(i)\n",
    "    i += 1\n"
   ]
  },
  {
   "cell_type": "code",
   "execution_count": 149,
   "id": "5b713054-7b5d-4468-ab83-3804dca796f7",
   "metadata": {},
   "outputs": [
    {
     "name": "stdout",
     "output_type": "stream",
     "text": [
      "1\n",
      "2\n",
      "3\n",
      "Loop finished successfully!\n"
     ]
    }
   ],
   "source": [
    "i = 1\n",
    "while i <= 3:\n",
    "    print(i)\n",
    "    i += 1\n",
    "else:\n",
    "    print(\"Loop finished successfully!\")\n"
   ]
  },
  {
   "cell_type": "code",
   "execution_count": 153,
   "id": "7de01955-5327-4314-8631-8e70c08820f1",
   "metadata": {},
   "outputs": [
    {
     "name": "stdin",
     "output_type": "stream",
     "text": [
      "Enter your name (or type 'exit' to stop):  chandrashekhar\n"
     ]
    },
    {
     "name": "stdout",
     "output_type": "stream",
     "text": [
      "Hello, chandrashekhar\n"
     ]
    },
    {
     "name": "stdin",
     "output_type": "stream",
     "text": [
      "Enter your name (or type 'exit' to stop):  exit\n"
     ]
    },
    {
     "name": "stdout",
     "output_type": "stream",
     "text": [
      "Exiting...\n"
     ]
    }
   ],
   "source": [
    "while True:\n",
    "    name = input(\"Enter your name (or type 'exit' to stop): \")\n",
    "    if name.lower() == \"exit\":\n",
    "        print(\"Exiting...\")\n",
    "        break\n",
    "    print(\"Hello,\", name)"
   ]
  },
  {
   "cell_type": "code",
   "execution_count": 155,
   "id": "3ddd83cb-dd23-4686-a7f5-a30063d04bc9",
   "metadata": {},
   "outputs": [
    {
     "name": "stdout",
     "output_type": "stream",
     "text": [
      "i=1, j=1\n",
      "i=1, j=2\n",
      "i=2, j=1\n",
      "i=2, j=2\n",
      "i=3, j=1\n",
      "i=3, j=2\n"
     ]
    }
   ],
   "source": [
    "i = 1\n",
    "while i <= 3:\n",
    "    j = 1\n",
    "    while j <= 2:\n",
    "        print(f\"i={i}, j={j}\")\n",
    "        j += 1\n",
    "    i += 1\n"
   ]
  },
  {
   "cell_type": "code",
   "execution_count": 157,
   "id": "86b5e6d4-5099-499a-b7fe-9ec488e6b14f",
   "metadata": {},
   "outputs": [
    {
     "name": "stdout",
     "output_type": "stream",
     "text": [
      "apple\n",
      "banana\n",
      "cherry\n"
     ]
    }
   ],
   "source": [
    "fruits = [\"apple\", \"banana\", \"cherry\"]\n",
    "i = 0\n",
    "while i < len(fruits):\n",
    "    print(fruits[i])\n",
    "    i += 1\n"
   ]
  },
  {
   "cell_type": "code",
   "execution_count": 1,
   "id": "b4117b1d-6424-47d7-a520-3224d8c48655",
   "metadata": {},
   "outputs": [
    {
     "name": "stdin",
     "output_type": "stream",
     "text": [
      "enter your username sudh\n",
      "enter the password 12334\n"
     ]
    },
    {
     "name": "stdout",
     "output_type": "stream",
     "text": [
      "enter correct username and password\n"
     ]
    }
   ],
   "source": [
    "user_name=\"sudh\"\n",
    "password=\"sidh@123\"\n",
    "if user_name == input(\"enter your username\") and password==input(\"enter the password\"):\n",
    "    print(\"you have loged in succefully\")\n",
    "else:\n",
    "    print(\"enter correct username and password\")"
   ]
  },
  {
   "cell_type": "code",
   "execution_count": 5,
   "id": "3bebb751-80c7-4556-9868-df9d85108654",
   "metadata": {},
   "outputs": [
    {
     "name": "stdin",
     "output_type": "stream",
     "text": [
      "enter the register mo no 123456\n"
     ]
    },
    {
     "name": "stdout",
     "output_type": "stream",
     "text": [
      "yes you are a restered user\n"
     ]
    },
    {
     "name": "stdin",
     "output_type": "stream",
     "text": [
      "enter otp that we sent on your mo no 1234\n"
     ]
    },
    {
     "name": "stdout",
     "output_type": "stream",
     "text": [
      "you have logged in sucessfully\n"
     ]
    }
   ],
   "source": [
    "mobile_no=123456\n",
    "otp=1234\n",
    "if mobile_no==int(input(\"enter the register mo no\")):\n",
    "    print(\"yes you are a restered user\")\n",
    "    if otp==int(input(\"enter otp that we sent on your mo no\")):\n",
    "        print(\"you have logged in sucessfully\")\n",
    "    else:\n",
    "        print(\"otp is not valid please try to enter again\")\n",
    "else:\n",
    "    print(\"you have not enteresd a valid mo no\")"
   ]
  },
  {
   "cell_type": "code",
   "execution_count": 7,
   "id": "032d8cdb-0a0d-4c75-9867-b1d86ff5e665",
   "metadata": {},
   "outputs": [
    {
     "name": "stdin",
     "output_type": "stream",
     "text": [
      "Enter the registered mobile number:  123456\n"
     ]
    },
    {
     "name": "stdout",
     "output_type": "stream",
     "text": [
      "Yes, you are a registered user.\n"
     ]
    },
    {
     "name": "stdin",
     "output_type": "stream",
     "text": [
      "Enter the OTP that we sent to your mobile number:  1234\n"
     ]
    },
    {
     "name": "stdout",
     "output_type": "stream",
     "text": [
      "You have logged in successfully!\n"
     ]
    }
   ],
   "source": [
    "registered_mobiles = [123456, 987654, 555666]\n",
    "otp_data = {123456: 1234, 987654: 5678, 555666: 9999}\n",
    "mobile_no = int(input(\"Enter the registered mobile number: \"))\n",
    "if mobile_no in registered_mobiles:\n",
    "    print(\"Yes, you are a registered user.\")\n",
    "    otp = int(input(\"Enter the OTP that we sent to your mobile number: \"))\n",
    "    if otp_data[mobile_no] == otp:\n",
    "        print(\"You have logged in successfully!\")\n",
    "    else:\n",
    "        print(\"Invalid OTP! Please try again.\")\n",
    "else:\n",
    "    print(\"You have not entered a valid mobile number.\")"
   ]
  },
  {
   "cell_type": "code",
   "execution_count": 9,
   "id": "97ddb49e-505c-4a1e-9f58-bcb3bbba494b",
   "metadata": {},
   "outputs": [
    {
     "name": "stdin",
     "output_type": "stream",
     "text": [
      "Guess a number (1-10):  34\n"
     ]
    },
    {
     "name": "stdout",
     "output_type": "stream",
     "text": [
      "Too high! Try again.\n"
     ]
    },
    {
     "name": "stdin",
     "output_type": "stream",
     "text": [
      "Guess a number (1-10):  21\n"
     ]
    },
    {
     "name": "stdout",
     "output_type": "stream",
     "text": [
      "Too high! Try again.\n"
     ]
    },
    {
     "name": "stdin",
     "output_type": "stream",
     "text": [
      "Guess a number (1-10):  12\n"
     ]
    },
    {
     "name": "stdout",
     "output_type": "stream",
     "text": [
      "Too high! Try again.\n"
     ]
    },
    {
     "name": "stdin",
     "output_type": "stream",
     "text": [
      "Guess a number (1-10):  10\n"
     ]
    },
    {
     "name": "stdout",
     "output_type": "stream",
     "text": [
      "Too high! Try again.\n"
     ]
    },
    {
     "name": "stdin",
     "output_type": "stream",
     "text": [
      "Guess a number (1-10):  2\n"
     ]
    },
    {
     "name": "stdout",
     "output_type": "stream",
     "text": [
      "Too low! Try again.\n"
     ]
    },
    {
     "name": "stdin",
     "output_type": "stream",
     "text": [
      "Guess a number (1-10):  4\n"
     ]
    },
    {
     "name": "stdout",
     "output_type": "stream",
     "text": [
      "Too high! Try again.\n"
     ]
    },
    {
     "name": "stdin",
     "output_type": "stream",
     "text": [
      "Guess a number (1-10):  5\n"
     ]
    },
    {
     "name": "stdout",
     "output_type": "stream",
     "text": [
      "Too high! Try again.\n"
     ]
    },
    {
     "name": "stdin",
     "output_type": "stream",
     "text": [
      "Guess a number (1-10):  6\n"
     ]
    },
    {
     "name": "stdout",
     "output_type": "stream",
     "text": [
      "Too high! Try again.\n"
     ]
    },
    {
     "name": "stdin",
     "output_type": "stream",
     "text": [
      "Guess a number (1-10):  5\n"
     ]
    },
    {
     "name": "stdout",
     "output_type": "stream",
     "text": [
      "Too high! Try again.\n"
     ]
    },
    {
     "name": "stdin",
     "output_type": "stream",
     "text": [
      "Guess a number (1-10):  quir\n"
     ]
    },
    {
     "ename": "ValueError",
     "evalue": "invalid literal for int() with base 10: 'quir'",
     "output_type": "error",
     "traceback": [
      "\u001b[1;31m--------------------------------------------\u001b[0m",
      "\u001b[1;31mValueError\u001b[0m Traceback (most recent call last)",
      "Cell \u001b[1;32mIn[9], line 5\u001b[0m\n\u001b[0;32m      3\u001b[0m attempts \u001b[38;5;241m=\u001b[39m \u001b[38;5;241m0\u001b[39m\n\u001b[0;32m      4\u001b[0m \u001b[38;5;28;01mwhile\u001b[39;00m \u001b[38;5;28;01mTrue\u001b[39;00m:\n\u001b[1;32m----> 5\u001b[0m     guess \u001b[38;5;241m=\u001b[39m \u001b[38;5;28mint\u001b[39m(\u001b[38;5;28minput\u001b[39m(\u001b[38;5;124m\"\u001b[39m\u001b[38;5;124mGuess a number (1-10): \u001b[39m\u001b[38;5;124m\"\u001b[39m))\n\u001b[0;32m      6\u001b[0m     attempts \u001b[38;5;241m+\u001b[39m\u001b[38;5;241m=\u001b[39m \u001b[38;5;241m1\u001b[39m\n\u001b[0;32m      7\u001b[0m     \u001b[38;5;28;01mif\u001b[39;00m guess \u001b[38;5;241m==\u001b[39m secret_number:\n",
      "\u001b[1;31mValueError\u001b[0m: invalid literal for int() with base 10: 'quir'"
     ]
    }
   ],
   "source": [
    "import random\n",
    "secret_number = random.randint(1, 10)\n",
    "attempts = 0\n",
    "while True:\n",
    "    guess = int(input(\"Guess a number (1-10): \"))\n",
    "    attempts += 1\n",
    "    if guess == secret_number:\n",
    "        print(f\"Congratulations! You guessed it in {attempts} attempts.\")\n",
    "        break\n",
    "    elif guess < secret_number:\n",
    "        print(\"Too low! Try again.\")\n",
    "    else:\n",
    "        print(\"Too high! Try again.\")"
   ]
  },
  {
   "cell_type": "code",
   "execution_count": 11,
   "id": "4c42d2e5-a336-4036-9ea2-715552d3d051",
   "metadata": {},
   "outputs": [
    {
     "name": "stdout",
     "output_type": "stream",
     "text": [
      "Withdrawal of 100 successful! Remaining balance: 900\n",
      "Withdrawal of 500 successful! Remaining balance: 400\n",
      "Withdrawal of 300 successful! Remaining balance: 100\n",
      "Insufficient funds for 700. Available balance: 100\n"
     ]
    }
   ],
   "source": [
    "balance = 1000  # Initial balance\n",
    "transactions = [100, 500, 300, 700]  # List of requested withdrawals\n",
    "for amount in transactions:\n",
    "    if amount <= balance:\n",
    "        balance -= amount\n",
    "        print(f\"Withdrawal of {amount} successful! Remaining balance: {balance}\")\n",
    "    else:\n",
    "        print(f\"Insufficient funds for {amount}. Available balance: {balance}\")"
   ]
  },
  {
   "cell_type": "code",
   "execution_count": 13,
   "id": "d94c6ff7-6219-40fa-8fad-7947102a7267",
   "metadata": {},
   "outputs": [
    {
     "name": "stdin",
     "output_type": "stream",
     "text": [
      "Enter a number:  19\n"
     ]
    },
    {
     "name": "stdout",
     "output_type": "stream",
     "text": [
      "19 x 1 = 19\n",
      "19 x 2 = 38\n",
      "19 x 3 = 57\n",
      "19 x 4 = 76\n",
      "19 x 5 = 95\n",
      "19 x 6 = 114\n",
      "19 x 7 = 133\n",
      "19 x 8 = 152\n",
      "19 x 9 = 171\n",
      "19 x 10 = 190\n"
     ]
    }
   ],
   "source": [
    "num = int(input(\"Enter a number: \"))\n",
    "for i in range(1, 11):\n",
    "    print(f\"{num} x {i} = {num * i}\")"
   ]
  },
  {
   "cell_type": "code",
   "execution_count": 15,
   "id": "74d2ebee-4f91-401c-9c82-87931b379025",
   "metadata": {},
   "outputs": [
    {
     "name": "stdout",
     "output_type": "stream",
     "text": [
      "Alice's Salary: $950.00\n",
      "Bob's Salary: $684.00\n",
      "Charlie's Salary: $1210.00\n"
     ]
    }
   ],
   "source": [
    "def calculate_salary(hours_worked, hourly_rate):\n",
    "    if hours_worked > 40:\n",
    "        overtime = hours_worked - 40\n",
    "        overtime_pay = overtime * (hourly_rate * 1.5)\n",
    "        total_salary = (40 * hourly_rate) + overtime_pay\n",
    "    else:\n",
    "        total_salary = hours_worked * hourly_rate\n",
    "    return total_salary\n",
    "\n",
    "employees = [\n",
    "    {\"name\": \"Alice\", \"hours\": 45, \"rate\": 20},\n",
    "    {\"name\": \"Bob\", \"hours\": 38, \"rate\": 18},\n",
    "    {\"name\": \"Charlie\", \"hours\": 50, \"rate\": 22}\n",
    "]\n",
    "for emp in employees:\n",
    "    salary = calculate_salary(emp[\"hours\"], emp[\"rate\"])\n",
    "    print(f\"{emp['name']}'s Salary: ${salary:.2f}\")"
   ]
  },
  {
   "cell_type": "code",
   "execution_count": 17,
   "id": "48a0dde5-ffcc-481e-9109-cd886412475a",
   "metadata": {},
   "outputs": [
    {
     "name": "stdout",
     "output_type": "stream",
     "text": [
      "Laptop Final Price: $900.00\n",
      "Phone Final Price: $540.00\n",
      "Headphones Final Price: $150.00\n"
     ]
    }
   ],
   "source": [
    "products = [\n",
    "    {\"name\": \"Laptop\", \"price\": 1000},\n",
    "    {\"name\": \"Phone\", \"price\": 600},\n",
    "    {\"name\": \"Headphones\", \"price\": 150}\n",
    "]\n",
    "discount_threshold = 500\n",
    "for product in products:\n",
    "    if product[\"price\"] > discount_threshold:\n",
    "        product[\"price\"] *= 0.9  # 10% discount\n",
    "    print(f\"{product['name']} Final Price: ${product['price']:.2f}\")"
   ]
  },
  {
   "cell_type": "code",
   "execution_count": 19,
   "id": "195ca844-6d43-44dc-83db-1d92d58ad461",
   "metadata": {},
   "outputs": [
    {
     "name": "stdout",
     "output_type": "stream",
     "text": [
      "John - Marks: 85, Grade: B\n",
      "Emma - Marks: 72, Grade: C\n",
      "Liam - Marks: 90, Grade: A\n",
      "Sophia - Marks: 60, Grade: C\n",
      "Oliver - Marks: 40, Grade: F\n"
     ]
    }
   ],
   "source": [
    "students = {\n",
    "    \"John\": 85,\n",
    "    \"Emma\": 72,\n",
    "    \"Liam\": 90,\n",
    "    \"Sophia\": 60,\n",
    "    \"Oliver\": 40\n",
    "}\n",
    "for student, marks in students.items():\n",
    "    if marks >= 90:\n",
    "        grade = \"A\"\n",
    "    elif marks >= 75:\n",
    "        grade = \"B\"\n",
    "    elif marks >= 60:\n",
    "        grade = \"C\"\n",
    "    else:\n",
    "        grade = \"F\"\n",
    "    print(f\"{student} - Marks: {marks}, Grade: {grade}\")"
   ]
  },
  {
   "cell_type": "code",
   "execution_count": 21,
   "id": "bb1feed1-4370-4368-a909-b55ca9be97ba",
   "metadata": {},
   "outputs": [
    {
     "name": "stdin",
     "output_type": "stream",
     "text": [
      "Enter book name to borrow:  c++\n"
     ]
    },
    {
     "name": "stdout",
     "output_type": "stream",
     "text": [
      "Sorry, this book is not available.\n"
     ]
    }
   ],
   "source": [
    "books = [\"Python Basics\", \"AI & ML\", \"Data Science\", \"Cybersecurity\"]\n",
    "borrowed = input(\"Enter book name to borrow: \")\n",
    "if borrowed in books:\n",
    "    books.remove(borrowed)\n",
    "    print(f\"You borrowed '{borrowed}'. Remaining Books: {books}\")\n",
    "else:\n",
    "    print(\"Sorry, this book is not available.\")"
   ]
  },
  {
   "cell_type": "code",
   "execution_count": 23,
   "id": "964b6747-e40a-489e-a324-0486735757cd",
   "metadata": {},
   "outputs": [
    {
     "name": "stdout",
     "output_type": "stream",
     "text": [
      "Traffic Light: Red\n",
      "Traffic Light: Yellow\n",
      "Traffic Light: Green\n"
     ]
    }
   ],
   "source": [
    "import time\n",
    "traffic_lights = [\"Red\", \"Yellow\", \"Green\"]\n",
    "for light in traffic_lights:\n",
    "    print(f\"Traffic Light: {light}\")\n",
    "    if light == \"Red\":\n",
    "        time.sleep(3)  # Stop for 3 seconds\n",
    "    elif light == \"Yellow\":\n",
    "        time.sleep(2)  # Get ready for 2 seconds\n",
    "    else:\n",
    "        time.sleep(4)  # Go for 4 seconds"
   ]
  },
  {
   "cell_type": "code",
   "execution_count": 25,
   "id": "4c385105-bc03-4021-9a33-e196b8a3ca91",
   "metadata": {},
   "outputs": [
    {
     "name": "stdin",
     "output_type": "stream",
     "text": [
      "Enter your name to book a ticket:  3\n"
     ]
    },
    {
     "name": "stdout",
     "output_type": "stream",
     "text": [
      "Ticket booked for 3! Remaining seats: 4\n"
     ]
    },
    {
     "name": "stdin",
     "output_type": "stream",
     "text": [
      "Enter your name to book a ticket:  chandu\n"
     ]
    },
    {
     "name": "stdout",
     "output_type": "stream",
     "text": [
      "Ticket booked for chandu! Remaining seats: 3\n"
     ]
    },
    {
     "name": "stdin",
     "output_type": "stream",
     "text": [
      "Enter your name to book a ticket:  6\n"
     ]
    },
    {
     "name": "stdout",
     "output_type": "stream",
     "text": [
      "Ticket booked for 6! Remaining seats: 2\n"
     ]
    },
    {
     "name": "stdin",
     "output_type": "stream",
     "text": [
      "Enter your name to book a ticket:  23\n"
     ]
    },
    {
     "name": "stdout",
     "output_type": "stream",
     "text": [
      "Ticket booked for 23! Remaining seats: 1\n"
     ]
    },
    {
     "name": "stdin",
     "output_type": "stream",
     "text": [
      "Enter your name to book a ticket:  23\n"
     ]
    },
    {
     "name": "stdout",
     "output_type": "stream",
     "text": [
      "Ticket booked for 23! Remaining seats: 0\n",
      "Sorry, all tickets are sold out!\n"
     ]
    }
   ],
   "source": [
    "seats = 5\n",
    "while seats > 0:\n",
    "    name = input(\"Enter your name to book a ticket: \")\n",
    "    print(f\"Ticket booked for {name}! Remaining seats: {seats - 1}\")\n",
    "    seats -= 1\n",
    "print(\"Sorry, all tickets are sold out!\")"
   ]
  },
  {
   "cell_type": "code",
   "execution_count": 27,
   "id": "8369393f-3e8a-468b-bcd4-147ea33e70b3",
   "metadata": {},
   "outputs": [
    {
     "name": "stdout",
     "output_type": "stream",
     "text": [
      "Apple:Stable price ($150)\n",
      "Tesla:Stable price ($850)\n",
      "Google:High price alert! ($2800)\n"
     ]
    }
   ],
   "source": [
    "stock_prices = {\"Apple\": 150, \"Tesla\": 850, \"Google\": 2800}\n",
    "for company, price in stock_prices.items():\n",
    "    if price > 1000:\n",
    "        print(f\"{company}:High price alert! (${price})\")\n",
    "    else:\n",
    "        print(f\"{company}:Stable price (${price})\")"
   ]
  },
  {
   "cell_type": "code",
   "execution_count": 29,
   "id": "7efe4deb-2d69-4d17-8029-1237b30cf5af",
   "metadata": {},
   "outputs": [
    {
     "name": "stdout",
     "output_type": "stream",
     "text": [
      "Discount Applied! Final Price: $162.00\n"
     ]
    }
   ],
   "source": [
    "cart = [{\"name\": \"Shoes\", \"price\": 100}, {\"name\": \"Bag\", \"price\": 80}]\n",
    "total_price = sum(item[\"price\"] for item in cart)\n",
    "if total_price > 150:\n",
    "    total_price *= 0.9  # 10% discount applied\n",
    "    print(f\"Discount Applied! Final Price: ${total_price:.2f}\")\n",
    "else:\n",
    "    print(f\"Total Price: ${total_price}\")"
   ]
  },
  {
   "cell_type": "code",
   "execution_count": 1,
   "id": "32764039-9409-4eb5-8328-b75ca364b95b",
   "metadata": {},
   "outputs": [
    {
     "name": "stdout",
     "output_type": "stream",
     "text": [
      "Total occurrences of 'a' in 'banana': 3\n"
     ]
    }
   ],
   "source": [
    "def count_specific_char(s, char):\n",
    "    if not s:\n",
    "        return 0\n",
    "    return (1 if s[0] == char else 0) + count_specific_char(s[1:], char)\n",
    "string = \"banana\"\n",
    "char_to_count = \"a\"\n",
    "print(f\"Total occurrences of '{char_to_count}' in '{string}':\", count_specific_char(string, char_to_count))"
   ]
  },
  {
   "cell_type": "code",
   "execution_count": 3,
   "id": "bdc5958a-4b50-4609-9972-0aa851c5f671",
   "metadata": {},
   "outputs": [
    {
     "name": "stdout",
     "output_type": "stream",
     "text": [
      "Is the list [1, 2, 3, 4, 5] sorted? True\n",
      "Is the list [3, 1, 4, 2] sorted? False\n"
     ]
    }
   ],
   "source": [
    "def is_sorted(lst):\n",
    "    if len(lst) <= 1:\n",
    "        return True\n",
    "    # Check if the first element is less than or equal to the second\n",
    "    # and recursively check the rest of the list\n",
    "    return lst[0] <= lst[1] and is_sorted(lst[1:])\n",
    "numbers = [1, 2, 3, 4, 5]\n",
    "print(f\"Is the list {numbers} sorted? {is_sorted(numbers)}\")\n",
    "\n",
    "numbers2 = [3, 1, 4, 2]\n",
    "print(f\"Is the list {numbers2} sorted? {is_sorted(numbers2)}\")"
   ]
  },
  {
   "cell_type": "code",
   "execution_count": null,
   "id": "f9426c4c-6d59-43cc-b47d-39f7b2e15b7b",
   "metadata": {},
   "outputs": [],
   "source": []
  }
 ],
 "metadata": {
  "kernelspec": {
   "display_name": "Python [conda env:base] *",
   "language": "python",
   "name": "conda-base-py"
  },
  "language_info": {
   "codemirror_mode": {
    "name": "ipython",
    "version": 3
   },
   "file_extension": ".py",
   "mimetype": "text/x-python",
   "name": "python",
   "nbconvert_exporter": "python",
   "pygments_lexer": "ipython3",
   "version": "3.12.7"
  }
 },
 "nbformat": 4,
 "nbformat_minor": 5
}
