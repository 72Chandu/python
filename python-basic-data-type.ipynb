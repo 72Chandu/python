{
 "cells": [
  {
   "cell_type": "markdown",
   "id": "3222a506-3d31-44fd-a231-01e26243aa52",
   "metadata": {},
   "source": [
    "# List"
   ]
  },
  {
   "cell_type": "code",
   "execution_count": 1,
   "id": "bb5fc305-173b-4487-a3c6-2e8707c0b2f4",
   "metadata": {},
   "outputs": [
    {
     "name": "stdout",
     "output_type": "stream",
     "text": [
      "Help on class list in module builtins:\n",
      "\n",
      "class list(object)\n",
      " |  list(iterable=(), /)\n",
      " |\n",
      " |  Built-in mutable sequence.\n",
      " |\n",
      " |  If no argument is given, the constructor creates a new empty list.\n",
      " |  The argument must be an iterable if specified.\n",
      " |\n",
      " |  Methods defined here:\n",
      " |\n",
      " |  __add__(self, value, /)\n",
      " |      Return self+value.\n",
      " |\n",
      " |  __contains__(self, key, /)\n",
      " |      Return bool(key in self).\n",
      " |\n",
      " |  __delitem__(self, key, /)\n",
      " |      Delete self[key].\n",
      " |\n",
      " |  __eq__(self, value, /)\n",
      " |      Return self==value.\n",
      " |\n",
      " |  __ge__(self, value, /)\n",
      " |      Return self>=value.\n",
      " |\n",
      " |  __getattribute__(self, name, /)\n",
      " |      Return getattr(self, name).\n",
      " |\n",
      " |  __getitem__(self, index, /)\n",
      " |      Return self[index].\n",
      " |\n",
      " |  __gt__(self, value, /)\n",
      " |      Return self>value.\n",
      " |\n",
      " |  __iadd__(self, value, /)\n",
      " |      Implement self+=value.\n",
      " |\n",
      " |  __imul__(self, value, /)\n",
      " |      Implement self*=value.\n",
      " |\n",
      " |  __init__(self, /, *args, **kwargs)\n",
      " |      Initialize self.  See help(type(self)) for accurate signature.\n",
      " |\n",
      " |  __iter__(self, /)\n",
      " |      Implement iter(self).\n",
      " |\n",
      " |  __le__(self, value, /)\n",
      " |      Return self<=value.\n",
      " |\n",
      " |  __len__(self, /)\n",
      " |      Return len(self).\n",
      " |\n",
      " |  __lt__(self, value, /)\n",
      " |      Return self<value.\n",
      " |\n",
      " |  __mul__(self, value, /)\n",
      " |      Return self*value.\n",
      " |\n",
      " |  __ne__(self, value, /)\n",
      " |      Return self!=value.\n",
      " |\n",
      " |  __repr__(self, /)\n",
      " |      Return repr(self).\n",
      " |\n",
      " |  __reversed__(self, /)\n",
      " |      Return a reverse iterator over the list.\n",
      " |\n",
      " |  __rmul__(self, value, /)\n",
      " |      Return value*self.\n",
      " |\n",
      " |  __setitem__(self, key, value, /)\n",
      " |      Set self[key] to value.\n",
      " |\n",
      " |  __sizeof__(self, /)\n",
      " |      Return the size of the list in memory, in bytes.\n",
      " |\n",
      " |  append(self, object, /)\n",
      " |      Append object to the end of the list.\n",
      " |\n",
      " |  clear(self, /)\n",
      " |      Remove all items from list.\n",
      " |\n",
      " |  copy(self, /)\n",
      " |      Return a shallow copy of the list.\n",
      " |\n",
      " |  count(self, value, /)\n",
      " |      Return number of occurrences of value.\n",
      " |\n",
      " |  extend(self, iterable, /)\n",
      " |      Extend list by appending elements from the iterable.\n",
      " |\n",
      " |  index(self, value, start=0, stop=9223372036854775807, /)\n",
      " |      Return first index of value.\n",
      " |\n",
      " |      Raises ValueError if the value is not present.\n",
      " |\n",
      " |  insert(self, index, object, /)\n",
      " |      Insert object before index.\n",
      " |\n",
      " |  pop(self, index=-1, /)\n",
      " |      Remove and return item at index (default last).\n",
      " |\n",
      " |      Raises IndexError if list is empty or index is out of range.\n",
      " |\n",
      " |  remove(self, value, /)\n",
      " |      Remove first occurrence of value.\n",
      " |\n",
      " |      Raises ValueError if the value is not present.\n",
      " |\n",
      " |  reverse(self, /)\n",
      " |      Reverse *IN PLACE*.\n",
      " |\n",
      " |  sort(self, /, *, key=None, reverse=False)\n",
      " |      Sort the list in ascending order and return None.\n",
      " |\n",
      " |      The sort is in-place (i.e. the list itself is modified) and stable (i.e. the\n",
      " |      order of two equal elements is maintained).\n",
      " |\n",
      " |      If a key function is given, apply it once to each list item and sort them,\n",
      " |      ascending or descending, according to their function values.\n",
      " |\n",
      " |      The reverse flag can be set to sort in descending order.\n",
      " |\n",
      " |  ----------------------------------------------------------------------\n",
      " |  Class methods defined here:\n",
      " |\n",
      " |  __class_getitem__(...)\n",
      " |      See PEP 585\n",
      " |\n",
      " |  ----------------------------------------------------------------------\n",
      " |  Static methods defined here:\n",
      " |\n",
      " |  __new__(*args, **kwargs)\n",
      " |      Create and return a new object.  See help(type) for accurate signature.\n",
      " |\n",
      " |  ----------------------------------------------------------------------\n",
      " |  Data and other attributes defined here:\n",
      " |\n",
      " |  __hash__ = None\n",
      "\n"
     ]
    }
   ],
   "source": [
    "help(list)"
   ]
  },
  {
   "cell_type": "code",
   "execution_count": 3,
   "id": "5d89a099-718e-4e7a-8a41-10f90a67c74b",
   "metadata": {},
   "outputs": [
    {
     "data": {
      "text/plain": [
       "list"
      ]
     },
     "execution_count": 3,
     "metadata": {},
     "output_type": "execute_result"
    }
   ],
   "source": [
    "l=[]\n",
    "type(l)"
   ]
  },
  {
   "cell_type": "code",
   "execution_count": 4,
   "id": "cf49b080-6eed-4eb4-8c95-eac71c45c154",
   "metadata": {},
   "outputs": [
    {
     "data": {
      "text/plain": [
       "[1, 2, 3, 'chandu', (3+5j), 43.5, True, [32, 43]]"
      ]
     },
     "execution_count": 4,
     "metadata": {},
     "output_type": "execute_result"
    }
   ],
   "source": [
    "l1=[1,2,3,\"chandu\",3+5j,43.5,True,[32,43]]\n",
    "l1"
   ]
  },
  {
   "cell_type": "code",
   "execution_count": 5,
   "id": "c9831641-f545-45fd-a8cb-602912f4de24",
   "metadata": {},
   "outputs": [
    {
     "data": {
      "text/plain": [
       "list"
      ]
     },
     "execution_count": 5,
     "metadata": {},
     "output_type": "execute_result"
    }
   ],
   "source": [
    "type(l1)"
   ]
  },
  {
   "cell_type": "code",
   "execution_count": 6,
   "id": "bf784614-5576-4fd3-acfe-1f6c785a5012",
   "metadata": {},
   "outputs": [
    {
     "data": {
      "text/plain": [
       "'chandu'"
      ]
     },
     "execution_count": 6,
     "metadata": {},
     "output_type": "execute_result"
    }
   ],
   "source": [
    "l1[3]"
   ]
  },
  {
   "cell_type": "code",
   "execution_count": 7,
   "id": "4bd14680-9888-4819-ab0b-c451c9ce5522",
   "metadata": {},
   "outputs": [
    {
     "data": {
      "text/plain": [
       "[32, 43]"
      ]
     },
     "execution_count": 7,
     "metadata": {},
     "output_type": "execute_result"
    }
   ],
   "source": [
    "l1[-1]"
   ]
  },
  {
   "cell_type": "code",
   "execution_count": 8,
   "id": "d5c592b1-bf70-4c69-bc6d-8e0f6e4cb0c4",
   "metadata": {},
   "outputs": [
    {
     "data": {
      "text/plain": [
       "43"
      ]
     },
     "execution_count": 8,
     "metadata": {},
     "output_type": "execute_result"
    }
   ],
   "source": [
    "l1[-1][1]"
   ]
  },
  {
   "cell_type": "code",
   "execution_count": 9,
   "id": "98fe9b2e-ffc5-47d1-a0c1-d585718910b9",
   "metadata": {},
   "outputs": [
    {
     "data": {
      "text/plain": [
       "[1, 2, 3, 'chandu', (3+5j), 43.5, True, [32, 43]]"
      ]
     },
     "execution_count": 9,
     "metadata": {},
     "output_type": "execute_result"
    }
   ],
   "source": [
    "l1"
   ]
  },
  {
   "cell_type": "code",
   "execution_count": 11,
   "id": "51ce9709-0b56-4e1d-87a5-a040ce080623",
   "metadata": {},
   "outputs": [
    {
     "data": {
      "text/plain": [
       "[1, 2, 3]"
      ]
     },
     "execution_count": 11,
     "metadata": {},
     "output_type": "execute_result"
    }
   ],
   "source": [
    "l1[0:3]"
   ]
  },
  {
   "cell_type": "code",
   "execution_count": 18,
   "id": "1d8ecb0d-e529-48e6-81ef-f1ec8e26a413",
   "metadata": {},
   "outputs": [],
   "source": [
    "l2=[3,4,5,\"pwskills\",\"chandu\"]"
   ]
  },
  {
   "cell_type": "code",
   "execution_count": 20,
   "id": "f340503d-ba80-4bab-8b93-9366674d07ef",
   "metadata": {},
   "outputs": [
    {
     "data": {
      "text/plain": [
       "[1,\n",
       " 2,\n",
       " 3,\n",
       " 'chandu',\n",
       " (3+5j),\n",
       " 43.5,\n",
       " True,\n",
       " [32, 43],\n",
       " 3,\n",
       " 4,\n",
       " 5,\n",
       " 'pwskills',\n",
       " 'chandu']"
      ]
     },
     "execution_count": 20,
     "metadata": {},
     "output_type": "execute_result"
    }
   ],
   "source": [
    "l1+l2"
   ]
  },
  {
   "cell_type": "code",
   "execution_count": 23,
   "id": "181597fc-b8ee-488e-8e3a-25a3479d12f2",
   "metadata": {},
   "outputs": [
    {
     "ename": "TypeError",
     "evalue": "can only concatenate list (not \"str\") to list",
     "output_type": "error",
     "traceback": [
      "\u001b[1;31m---------------------------------------------------------------------------\u001b[0m",
      "\u001b[1;31mTypeError\u001b[0m                                 Traceback (most recent call last)",
      "Cell \u001b[1;32mIn[23], line 1\u001b[0m\n\u001b[1;32m----> 1\u001b[0m l2\u001b[38;5;241m+\u001b[39m\u001b[38;5;124m\"\u001b[39m\u001b[38;5;124mcddde\u001b[39m\u001b[38;5;124m\"\u001b[39m\n",
      "\u001b[1;31mTypeError\u001b[0m: can only concatenate list (not \"str\") to list"
     ]
    }
   ],
   "source": [
    "l2+\"cddde\""
   ]
  },
  {
   "cell_type": "code",
   "execution_count": null,
   "id": "b9b8bb97-ec98-444f-95e6-0b2b74e03579",
   "metadata": {},
   "outputs": [],
   "source": [
    "list(\"cddde\")"
   ]
  },
  {
   "cell_type": "code",
   "execution_count": null,
   "id": "25ef8e23-5b31-4a1d-95c4-718c4a2ce17d",
   "metadata": {},
   "outputs": [],
   "source": [
    "list(234)"
   ]
  },
  {
   "cell_type": "code",
   "execution_count": null,
   "id": "e43c3ba1-05aa-4f37-b798-1eaf769436cf",
   "metadata": {},
   "outputs": [],
   "source": [
    "l2*2  # repete"
   ]
  },
  {
   "cell_type": "code",
   "execution_count": null,
   "id": "622e9270-6f82-42fc-b9ab-bd71d3301447",
   "metadata": {},
   "outputs": [],
   "source": [
    "l2[0]=300\n",
    "l2"
   ]
  },
  {
   "cell_type": "raw",
   "id": "2f64436a-d28a-4179-9aaa-f7a653ae5363",
   "metadata": {},
   "source": [
    "there for list is mutable it can changeable"
   ]
  },
  {
   "cell_type": "markdown",
   "id": "a9d2a87d-2128-4a3f-86e3-97c75e64e520",
   "metadata": {},
   "source": [
    "# tuple"
   ]
  },
  {
   "cell_type": "raw",
   "id": "44382048-3361-4851-b143-a0d74c41bb60",
   "metadata": {},
   "source": [
    "it is emutable but store diffrent data type as list"
   ]
  },
  {
   "cell_type": "code",
   "execution_count": 30,
   "id": "6f821c4a-8f6c-4420-a424-7f52e4529e1b",
   "metadata": {},
   "outputs": [
    {
     "name": "stdout",
     "output_type": "stream",
     "text": [
      "Help on class tuple in module builtins:\n",
      "\n",
      "class tuple(object)\n",
      " |  tuple(iterable=(), /)\n",
      " |\n",
      " |  Built-in immutable sequence.\n",
      " |\n",
      " |  If no argument is given, the constructor returns an empty tuple.\n",
      " |  If iterable is specified the tuple is initialized from iterable's items.\n",
      " |\n",
      " |  If the argument is a tuple, the return value is the same object.\n",
      " |\n",
      " |  Built-in subclasses:\n",
      " |      asyncgen_hooks\n",
      " |      MonthDayNano\n",
      " |      UnraisableHookArgs\n",
      " |\n",
      " |  Methods defined here:\n",
      " |\n",
      " |  __add__(self, value, /)\n",
      " |      Return self+value.\n",
      " |\n",
      " |  __contains__(self, key, /)\n",
      " |      Return bool(key in self).\n",
      " |\n",
      " |  __eq__(self, value, /)\n",
      " |      Return self==value.\n",
      " |\n",
      " |  __ge__(self, value, /)\n",
      " |      Return self>=value.\n",
      " |\n",
      " |  __getattribute__(self, name, /)\n",
      " |      Return getattr(self, name).\n",
      " |\n",
      " |  __getitem__(self, key, /)\n",
      " |      Return self[key].\n",
      " |\n",
      " |  __getnewargs__(self, /)\n",
      " |\n",
      " |  __gt__(self, value, /)\n",
      " |      Return self>value.\n",
      " |\n",
      " |  __hash__(self, /)\n",
      " |      Return hash(self).\n",
      " |\n",
      " |  __iter__(self, /)\n",
      " |      Implement iter(self).\n",
      " |\n",
      " |  __le__(self, value, /)\n",
      " |      Return self<=value.\n",
      " |\n",
      " |  __len__(self, /)\n",
      " |      Return len(self).\n",
      " |\n",
      " |  __lt__(self, value, /)\n",
      " |      Return self<value.\n",
      " |\n",
      " |  __mul__(self, value, /)\n",
      " |      Return self*value.\n",
      " |\n",
      " |  __ne__(self, value, /)\n",
      " |      Return self!=value.\n",
      " |\n",
      " |  __repr__(self, /)\n",
      " |      Return repr(self).\n",
      " |\n",
      " |  __rmul__(self, value, /)\n",
      " |      Return value*self.\n",
      " |\n",
      " |  count(self, value, /)\n",
      " |      Return number of occurrences of value.\n",
      " |\n",
      " |  index(self, value, start=0, stop=9223372036854775807, /)\n",
      " |      Return first index of value.\n",
      " |\n",
      " |      Raises ValueError if the value is not present.\n",
      " |\n",
      " |  ----------------------------------------------------------------------\n",
      " |  Class methods defined here:\n",
      " |\n",
      " |  __class_getitem__(...)\n",
      " |      See PEP 585\n",
      " |\n",
      " |  ----------------------------------------------------------------------\n",
      " |  Static methods defined here:\n",
      " |\n",
      " |  __new__(*args, **kwargs)\n",
      " |      Create and return a new object.  See help(type) for accurate signature.\n",
      "\n"
     ]
    }
   ],
   "source": [
    "help(tuple)"
   ]
  },
  {
   "cell_type": "code",
   "execution_count": 32,
   "id": "35057e51-7e17-44f8-84f6-c56a037db2f1",
   "metadata": {},
   "outputs": [
    {
     "data": {
      "text/plain": [
       "tuple"
      ]
     },
     "execution_count": 32,
     "metadata": {},
     "output_type": "execute_result"
    }
   ],
   "source": [
    "t=(1,2,3,\"chand\",4+3j,True)\n",
    "type(t)"
   ]
  },
  {
   "cell_type": "code",
   "execution_count": 34,
   "id": "6943bb54-0320-4507-abf8-bead96d599e7",
   "metadata": {},
   "outputs": [
    {
     "data": {
      "text/plain": [
       "True"
      ]
     },
     "execution_count": 34,
     "metadata": {},
     "output_type": "execute_result"
    }
   ],
   "source": [
    "t[-1]"
   ]
  },
  {
   "cell_type": "code",
   "execution_count": 36,
   "id": "85386d36-e326-40e8-9762-29175741f2db",
   "metadata": {},
   "outputs": [
    {
     "data": {
      "text/plain": [
       "(True, (4+3j), 'chand', 3, 2, 1)"
      ]
     },
     "execution_count": 36,
     "metadata": {},
     "output_type": "execute_result"
    }
   ],
   "source": [
    "t[::-1]"
   ]
  },
  {
   "cell_type": "code",
   "execution_count": 38,
   "id": "77285084-4e4d-4f4e-b9f8-99256b14981a",
   "metadata": {},
   "outputs": [
    {
     "ename": "TypeError",
     "evalue": "'tuple' object does not support item assignment",
     "output_type": "error",
     "traceback": [
      "\u001b[1;31m---------------------------------------------------------------------------\u001b[0m",
      "\u001b[1;31mTypeError\u001b[0m                                 Traceback (most recent call last)",
      "Cell \u001b[1;32mIn[38], line 1\u001b[0m\n\u001b[1;32m----> 1\u001b[0m t[\u001b[38;5;241m0\u001b[39m]\u001b[38;5;241m=\u001b[39m\u001b[38;5;241m222\u001b[39m\n",
      "\u001b[1;31mTypeError\u001b[0m: 'tuple' object does not support item assignment"
     ]
    }
   ],
   "source": [
    "t[0]=222"
   ]
  },
  {
   "cell_type": "code",
   "execution_count": 40,
   "id": "0babe311-c3cc-48f0-b3f7-e061e722bcaa",
   "metadata": {},
   "outputs": [],
   "source": [
    "t1=(1,2,3,4)"
   ]
  },
  {
   "cell_type": "code",
   "execution_count": 42,
   "id": "b45f0d16-7357-44a7-b3f3-281b763323dc",
   "metadata": {},
   "outputs": [
    {
     "data": {
      "text/plain": [
       "(1, 2, 3, 'chand', (4+3j), True, 1, 2, 3, 4)"
      ]
     },
     "execution_count": 42,
     "metadata": {},
     "output_type": "execute_result"
    }
   ],
   "source": [
    "t+t1"
   ]
  },
  {
   "cell_type": "code",
   "execution_count": 44,
   "id": "47029c8b-820e-418c-8263-d64842b59941",
   "metadata": {},
   "outputs": [
    {
     "data": {
      "text/plain": [
       "(1, 2, 3, 'chand', (4+3j), True, 1, 2, 3, 'chand', (4+3j), True)"
      ]
     },
     "execution_count": 44,
     "metadata": {},
     "output_type": "execute_result"
    }
   ],
   "source": [
    "t*2"
   ]
  },
  {
   "cell_type": "code",
   "execution_count": 46,
   "id": "0fb62193-6dcd-4bd7-b232-69fe7eac86af",
   "metadata": {},
   "outputs": [
    {
     "data": {
      "text/plain": [
       "(1, 2, 3, 'chand', (4+3j), True)"
      ]
     },
     "execution_count": 46,
     "metadata": {},
     "output_type": "execute_result"
    }
   ],
   "source": [
    "t"
   ]
  },
  {
   "cell_type": "code",
   "execution_count": 48,
   "id": "4e790657-4b68-48ab-8ecc-b825188bb322",
   "metadata": {},
   "outputs": [
    {
     "data": {
      "text/plain": [
       "[1, 2, 3, 'chand', (4+3j), True]"
      ]
     },
     "execution_count": 48,
     "metadata": {},
     "output_type": "execute_result"
    }
   ],
   "source": [
    "list(t)   # type casting"
   ]
  },
  {
   "cell_type": "code",
   "execution_count": 50,
   "id": "6af50b23-c0dd-4b80-b6ad-e80e3f7fa258",
   "metadata": {},
   "outputs": [
    {
     "data": {
      "text/plain": [
       "[3, 4, 5, 'pwskills', 'chandu']"
      ]
     },
     "execution_count": 50,
     "metadata": {},
     "output_type": "execute_result"
    }
   ],
   "source": [
    "l2"
   ]
  },
  {
   "cell_type": "code",
   "execution_count": 52,
   "id": "6146b30c-849a-4431-8210-f3293492a8e7",
   "metadata": {},
   "outputs": [
    {
     "data": {
      "text/plain": [
       "(3, 4, 5, 'pwskills', 'chandu')"
      ]
     },
     "execution_count": 52,
     "metadata": {},
     "output_type": "execute_result"
    }
   ],
   "source": [
    "tuple(l2)"
   ]
  },
  {
   "cell_type": "code",
   "execution_count": 54,
   "id": "42f384bf-06ed-4ed3-b848-733f7c067392",
   "metadata": {},
   "outputs": [
    {
     "data": {
      "text/plain": [
       "5"
      ]
     },
     "execution_count": 54,
     "metadata": {},
     "output_type": "execute_result"
    }
   ],
   "source": [
    "len(l2)"
   ]
  },
  {
   "cell_type": "code",
   "execution_count": 56,
   "id": "97946d2a-5b95-4e92-9c2f-6e6b16702d0d",
   "metadata": {},
   "outputs": [
    {
     "data": {
      "text/plain": [
       "8"
      ]
     },
     "execution_count": 56,
     "metadata": {},
     "output_type": "execute_result"
    }
   ],
   "source": [
    "len(l1)"
   ]
  },
  {
   "cell_type": "code",
   "execution_count": 58,
   "id": "677c29f3-0aed-4c85-ac00-47b9c04b0067",
   "metadata": {},
   "outputs": [
    {
     "data": {
      "text/plain": [
       "7"
      ]
     },
     "execution_count": 58,
     "metadata": {},
     "output_type": "execute_result"
    }
   ],
   "source": [
    "len(\"cd   cd\")"
   ]
  },
  {
   "cell_type": "markdown",
   "id": "1540a514-c757-4edf-94d9-36224b439032",
   "metadata": {},
   "source": [
    "# set "
   ]
  },
  {
   "cell_type": "code",
   "execution_count": 61,
   "id": "b95bf6d2-92e7-41fd-ac9b-201ac8f8561e",
   "metadata": {},
   "outputs": [
    {
     "data": {
      "text/plain": [
       "dict"
      ]
     },
     "execution_count": 61,
     "metadata": {},
     "output_type": "execute_result"
    }
   ],
   "source": [
    "st={}    # ******\n",
    "type(st)"
   ]
  },
  {
   "cell_type": "code",
   "execution_count": 63,
   "id": "d39a8d45-de66-4062-96b9-872b66fabdb4",
   "metadata": {},
   "outputs": [
    {
     "data": {
      "text/plain": [
       "set"
      ]
     },
     "execution_count": 63,
     "metadata": {},
     "output_type": "execute_result"
    }
   ],
   "source": [
    "st2={1,2,3,4,4}   # ******\n",
    "type(st2)"
   ]
  },
  {
   "cell_type": "code",
   "execution_count": 65,
   "id": "2e7bc3e9-3537-4cbc-872b-24d28992f628",
   "metadata": {},
   "outputs": [
    {
     "data": {
      "text/plain": [
       "{1, 2, 3, 4}"
      ]
     },
     "execution_count": 65,
     "metadata": {},
     "output_type": "execute_result"
    }
   ],
   "source": [
    "st2"
   ]
  },
  {
   "cell_type": "code",
   "execution_count": 67,
   "id": "8541b270-cb6f-4a3b-bf48-cb7ad1d15cdf",
   "metadata": {},
   "outputs": [
    {
     "data": {
      "text/plain": [
       "{1, 2, 3, 4, 5, 6, 7, 8, 'Cfgd', 'cfgd'}"
      ]
     },
     "execution_count": 67,
     "metadata": {},
     "output_type": "execute_result"
    }
   ],
   "source": [
    "s2={\"cfgd\",\"Cfgd\",\"cfgd\",1,2,3,4,5,6,7,8}\n",
    "s2"
   ]
  },
  {
   "cell_type": "code",
   "execution_count": 69,
   "id": "e2f10f7d-565b-4832-b536-f52c54821e26",
   "metadata": {},
   "outputs": [
    {
     "data": {
      "text/plain": [
       "[1, 2, 3, 4, 5, 6, 7, 8, 'Cfgd', 'cfgd']"
      ]
     },
     "execution_count": 69,
     "metadata": {},
     "output_type": "execute_result"
    }
   ],
   "source": [
    "list(s2)"
   ]
  },
  {
   "cell_type": "code",
   "execution_count": 71,
   "id": "cf5663a1-ff3a-4379-a4b7-77bea481a10e",
   "metadata": {},
   "outputs": [
    {
     "data": {
      "text/plain": [
       "[1, 2, 3, 'chandu', (3+5j), 43.5, True, [32, 43]]"
      ]
     },
     "execution_count": 71,
     "metadata": {},
     "output_type": "execute_result"
    }
   ],
   "source": [
    "l1"
   ]
  },
  {
   "cell_type": "code",
   "execution_count": 73,
   "id": "0cf507b2-1c07-442e-9c81-910c1b5261d0",
   "metadata": {},
   "outputs": [
    {
     "ename": "TypeError",
     "evalue": "unhashable type: 'list'",
     "output_type": "error",
     "traceback": [
      "\u001b[1;31m---------------------------------------------------------------------------\u001b[0m",
      "\u001b[1;31mTypeError\u001b[0m                                 Traceback (most recent call last)",
      "Cell \u001b[1;32mIn[73], line 1\u001b[0m\n\u001b[1;32m----> 1\u001b[0m \u001b[38;5;28mset\u001b[39m(l1)\n",
      "\u001b[1;31mTypeError\u001b[0m: unhashable type: 'list'"
     ]
    }
   ],
   "source": [
    "set(l1)"
   ]
  },
  {
   "cell_type": "code",
   "execution_count": 75,
   "id": "5228b98e-05e0-4361-98b5-06512154ce56",
   "metadata": {},
   "outputs": [
    {
     "data": {
      "text/plain": [
       "[3, 4, 5, 'pwskills', 'chandu']"
      ]
     },
     "execution_count": 75,
     "metadata": {},
     "output_type": "execute_result"
    }
   ],
   "source": [
    "l2"
   ]
  },
  {
   "cell_type": "code",
   "execution_count": 77,
   "id": "7bb384da-781d-402e-a7a0-4a5cdb16dd76",
   "metadata": {},
   "outputs": [
    {
     "data": {
      "text/plain": [
       "{3, 4, 5, 'chandu', 'pwskills'}"
      ]
     },
     "execution_count": 77,
     "metadata": {},
     "output_type": "execute_result"
    }
   ],
   "source": [
    "set(l2)"
   ]
  },
  {
   "cell_type": "code",
   "execution_count": 79,
   "id": "232254bb-37e5-402a-8b3e-a08a08eab466",
   "metadata": {},
   "outputs": [
    {
     "data": {
      "text/plain": [
       "(1, 2, 3, 4, 5, 6, 7, 8, 'Cfgd', 'cfgd')"
      ]
     },
     "execution_count": 79,
     "metadata": {},
     "output_type": "execute_result"
    }
   ],
   "source": [
    "tuple(s2)"
   ]
  },
  {
   "cell_type": "code",
   "execution_count": 81,
   "id": "002661f1-305b-4f49-a473-f56c76fc1cd1",
   "metadata": {},
   "outputs": [
    {
     "data": {
      "text/plain": [
       "{1, 2, 3, 4, 5, 6, 7, 8, 'Cfgd', 'cfgd'}"
      ]
     },
     "execution_count": 81,
     "metadata": {},
     "output_type": "execute_result"
    }
   ],
   "source": [
    "s2"
   ]
  },
  {
   "cell_type": "code",
   "execution_count": 87,
   "id": "29853258-997d-4e5d-b261-a5a0b433d3d1",
   "metadata": {},
   "outputs": [
    {
     "ename": "TypeError",
     "evalue": "'set' object is not subscriptable",
     "output_type": "error",
     "traceback": [
      "\u001b[1;31m---------------------------------------------------------------------------\u001b[0m",
      "\u001b[1;31mTypeError\u001b[0m                                 Traceback (most recent call last)",
      "Cell \u001b[1;32mIn[87], line 1\u001b[0m\n\u001b[1;32m----> 1\u001b[0m s2[\u001b[38;5;241m0\u001b[39m]\n",
      "\u001b[1;31mTypeError\u001b[0m: 'set' object is not subscriptable"
     ]
    }
   ],
   "source": [
    "s2[0] # set not supporting indexing and slicing operation, we do by converting it into list"
   ]
  },
  {
   "cell_type": "markdown",
   "id": "cdd9391f-6fb7-491e-a991-3e9a51d534ce",
   "metadata": {},
   "source": [
    "# dictionary"
   ]
  },
  {
   "cell_type": "code",
   "execution_count": 93,
   "id": "cc3694d9-f40d-4f95-ac56-d2947cc51e0b",
   "metadata": {},
   "outputs": [
    {
     "name": "stdout",
     "output_type": "stream",
     "text": [
      "Help on class dict in module builtins:\n",
      "\n",
      "class dict(object)\n",
      " |  dict() -> new empty dictionary\n",
      " |  dict(mapping) -> new dictionary initialized from a mapping object's\n",
      " |      (key, value) pairs\n",
      " |  dict(iterable) -> new dictionary initialized as if via:\n",
      " |      d = {}\n",
      " |      for k, v in iterable:\n",
      " |          d[k] = v\n",
      " |  dict(**kwargs) -> new dictionary initialized with the name=value pairs\n",
      " |      in the keyword argument list.  For example:  dict(one=1, two=2)\n",
      " |\n",
      " |  Built-in subclasses:\n",
      " |      StgDict\n",
      " |\n",
      " |  Methods defined here:\n",
      " |\n",
      " |  __contains__(self, key, /)\n",
      " |      True if the dictionary has the specified key, else False.\n",
      " |\n",
      " |  __delitem__(self, key, /)\n",
      " |      Delete self[key].\n",
      " |\n",
      " |  __eq__(self, value, /)\n",
      " |      Return self==value.\n",
      " |\n",
      " |  __ge__(self, value, /)\n",
      " |      Return self>=value.\n",
      " |\n",
      " |  __getattribute__(self, name, /)\n",
      " |      Return getattr(self, name).\n",
      " |\n",
      " |  __getitem__(self, key, /)\n",
      " |      Return self[key].\n",
      " |\n",
      " |  __gt__(self, value, /)\n",
      " |      Return self>value.\n",
      " |\n",
      " |  __init__(self, /, *args, **kwargs)\n",
      " |      Initialize self.  See help(type(self)) for accurate signature.\n",
      " |\n",
      " |  __ior__(self, value, /)\n",
      " |      Return self|=value.\n",
      " |\n",
      " |  __iter__(self, /)\n",
      " |      Implement iter(self).\n",
      " |\n",
      " |  __le__(self, value, /)\n",
      " |      Return self<=value.\n",
      " |\n",
      " |  __len__(self, /)\n",
      " |      Return len(self).\n",
      " |\n",
      " |  __lt__(self, value, /)\n",
      " |      Return self<value.\n",
      " |\n",
      " |  __ne__(self, value, /)\n",
      " |      Return self!=value.\n",
      " |\n",
      " |  __or__(self, value, /)\n",
      " |      Return self|value.\n",
      " |\n",
      " |  __repr__(self, /)\n",
      " |      Return repr(self).\n",
      " |\n",
      " |  __reversed__(self, /)\n",
      " |      Return a reverse iterator over the dict keys.\n",
      " |\n",
      " |  __ror__(self, value, /)\n",
      " |      Return value|self.\n",
      " |\n",
      " |  __setitem__(self, key, value, /)\n",
      " |      Set self[key] to value.\n",
      " |\n",
      " |  __sizeof__(...)\n",
      " |      D.__sizeof__() -> size of D in memory, in bytes\n",
      " |\n",
      " |  clear(...)\n",
      " |      D.clear() -> None.  Remove all items from D.\n",
      " |\n",
      " |  copy(...)\n",
      " |      D.copy() -> a shallow copy of D\n",
      " |\n",
      " |  get(self, key, default=None, /)\n",
      " |      Return the value for key if key is in the dictionary, else default.\n",
      " |\n",
      " |  items(...)\n",
      " |      D.items() -> a set-like object providing a view on D's items\n",
      " |\n",
      " |  keys(...)\n",
      " |      D.keys() -> a set-like object providing a view on D's keys\n",
      " |\n",
      " |  pop(...)\n",
      " |      D.pop(k[,d]) -> v, remove specified key and return the corresponding value.\n",
      " |\n",
      " |      If the key is not found, return the default if given; otherwise,\n",
      " |      raise a KeyError.\n",
      " |\n",
      " |  popitem(self, /)\n",
      " |      Remove and return a (key, value) pair as a 2-tuple.\n",
      " |\n",
      " |      Pairs are returned in LIFO (last-in, first-out) order.\n",
      " |      Raises KeyError if the dict is empty.\n",
      " |\n",
      " |  setdefault(self, key, default=None, /)\n",
      " |      Insert key with a value of default if key is not in the dictionary.\n",
      " |\n",
      " |      Return the value for key if key is in the dictionary, else default.\n",
      " |\n",
      " |  update(...)\n",
      " |      D.update([E, ]**F) -> None.  Update D from dict/iterable E and F.\n",
      " |      If E is present and has a .keys() method, then does:  for k in E: D[k] = E[k]\n",
      " |      If E is present and lacks a .keys() method, then does:  for k, v in E: D[k] = v\n",
      " |      In either case, this is followed by: for k in F:  D[k] = F[k]\n",
      " |\n",
      " |  values(...)\n",
      " |      D.values() -> an object providing a view on D's values\n",
      " |\n",
      " |  ----------------------------------------------------------------------\n",
      " |  Class methods defined here:\n",
      " |\n",
      " |  __class_getitem__(...)\n",
      " |      See PEP 585\n",
      " |\n",
      " |  fromkeys(iterable, value=None, /)\n",
      " |      Create a new dictionary with keys from iterable and values set to value.\n",
      " |\n",
      " |  ----------------------------------------------------------------------\n",
      " |  Static methods defined here:\n",
      " |\n",
      " |  __new__(*args, **kwargs)\n",
      " |      Create and return a new object.  See help(type) for accurate signature.\n",
      " |\n",
      " |  ----------------------------------------------------------------------\n",
      " |  Data and other attributes defined here:\n",
      " |\n",
      " |  __hash__ = None\n",
      "\n"
     ]
    }
   ],
   "source": [
    "help(dict)"
   ]
  },
  {
   "cell_type": "code",
   "execution_count": 98,
   "id": "527d3b3b-1004-470b-b6c5-beb06da941ac",
   "metadata": {},
   "outputs": [
    {
     "data": {
      "text/plain": [
       "dict"
      ]
     },
     "execution_count": 98,
     "metadata": {},
     "output_type": "execute_result"
    }
   ],
   "source": [
    "d={}\n",
    "type(d)"
   ]
  },
  {
   "cell_type": "code",
   "execution_count": 104,
   "id": "9f445b78-2a65-44cb-bd17-9d87736f034e",
   "metadata": {},
   "outputs": [
    {
     "data": {
      "text/plain": [
       "{'name': 'chandu', 'age': 12, 'subject': ['data science', 'big data']}"
      ]
     },
     "execution_count": 104,
     "metadata": {},
     "output_type": "execute_result"
    }
   ],
   "source": [
    "d1={'name':'chandu','age':12,\"subject\":[\"data science\",\"big data\"]}\n",
    "d1"
   ]
  },
  {
   "cell_type": "code",
   "execution_count": 108,
   "id": "13936676-9543-43f8-a6ed-70c21326c4aa",
   "metadata": {},
   "outputs": [
    {
     "data": {
      "text/plain": [
       "{'name': 'pw'}"
      ]
     },
     "execution_count": 108,
     "metadata": {},
     "output_type": "execute_result"
    }
   ],
   "source": [
    "d2={\"name\":\"sud\",\"name\":\"pw\"}  # no repetation of key\n",
    "d2"
   ]
  },
  {
   "cell_type": "code",
   "execution_count": 111,
   "id": "186661ff-c199-4219-8b8e-aea7d05a9e45",
   "metadata": {},
   "outputs": [
    {
     "ename": "TypeError",
     "evalue": "unhashable type: 'set'",
     "output_type": "error",
     "traceback": [
      "\u001b[1;31m---------------------------------------------------------------------------\u001b[0m",
      "\u001b[1;31mTypeError\u001b[0m                                 Traceback (most recent call last)",
      "Cell \u001b[1;32mIn[111], line 1\u001b[0m\n\u001b[1;32m----> 1\u001b[0m d3\u001b[38;5;241m=\u001b[39m{{\u001b[38;5;241m1\u001b[39m,\u001b[38;5;241m2\u001b[39m,\u001b[38;5;241m3\u001b[39m}:\u001b[38;5;124m\"\u001b[39m\u001b[38;5;124msudh\u001b[39m\u001b[38;5;124m\"\u001b[39m}\n",
      "\u001b[1;31mTypeError\u001b[0m: unhashable type: 'set'"
     ]
    }
   ],
   "source": [
    "d3={{1,2,3}:\"sudh\"}"
   ]
  },
  {
   "cell_type": "code",
   "execution_count": 119,
   "id": "da894b88-6014-4fb2-a0b0-8e1aeb286ff2",
   "metadata": {},
   "outputs": [
    {
     "ename": "TypeError",
     "evalue": "unhashable type: 'list'",
     "output_type": "error",
     "traceback": [
      "\u001b[1;31m---------------------------------------------------------------------------\u001b[0m",
      "\u001b[1;31mTypeError\u001b[0m                                 Traceback (most recent call last)",
      "Cell \u001b[1;32mIn[119], line 1\u001b[0m\n\u001b[1;32m----> 1\u001b[0m d4\u001b[38;5;241m=\u001b[39m{[\u001b[38;5;241m1\u001b[39m,\u001b[38;5;241m2\u001b[39m,\u001b[38;5;241m3\u001b[39m]:\u001b[38;5;124m\"\u001b[39m\u001b[38;5;124msudh\u001b[39m\u001b[38;5;124m\"\u001b[39m}\n",
      "\u001b[1;31mTypeError\u001b[0m: unhashable type: 'list'"
     ]
    }
   ],
   "source": [
    "d4={[1,2,3]:\"sudh\"}"
   ]
  },
  {
   "cell_type": "code",
   "execution_count": 129,
   "id": "bc9c8dce-c908-4ec5-92be-32c733ba4c33",
   "metadata": {},
   "outputs": [
    {
     "data": {
      "text/plain": [
       "{(1, 2, 3): 'sudh'}"
      ]
     },
     "execution_count": 129,
     "metadata": {},
     "output_type": "execute_result"
    }
   ],
   "source": [
    "d5={(1,2,3):\"sudh\"} # set,list cant be a key . tuple can be a list, value wise it can be any thing\n",
    "d5"
   ]
  },
  {
   "cell_type": "code",
   "execution_count": 131,
   "id": "dae283c7-f637-40d4-9ff8-61557f9b7c65",
   "metadata": {},
   "outputs": [
    {
     "ename": "SyntaxError",
     "evalue": "invalid syntax (2825312277.py, line 1)",
     "output_type": "error",
     "traceback": [
      "\u001b[1;36m  Cell \u001b[1;32mIn[131], line 1\u001b[1;36m\u001b[0m\n\u001b[1;33m    d3={%rfv:\"sudh\"}\u001b[0m\n\u001b[1;37m        ^\u001b[0m\n\u001b[1;31mSyntaxError\u001b[0m\u001b[1;31m:\u001b[0m invalid syntax\n"
     ]
    }
   ],
   "source": [
    "d3={%rfv:\"sudh\"}"
   ]
  },
  {
   "cell_type": "raw",
   "id": "ae844b43-5e9c-4101-b3e6-0a8a7e1dfff2",
   "metadata": {},
   "source": [
    "in list and tuple we cannt have control on index"
   ]
  },
  {
   "cell_type": "code",
   "execution_count": 145,
   "id": "a1432821-7741-457a-b930-b06d7f551bb7",
   "metadata": {},
   "outputs": [
    {
     "data": {
      "text/plain": [
       "{'course': ['dsa', 'java', 'c++'],\n",
       " 'mentor': ('chandu', 'ritu', 'dipraj'),\n",
       " 'price': {23.45, 65},\n",
       " 'duration': 1,\n",
       " 'access': 1,\n",
       " 'syllabus': {'python': ['core python',\n",
       "   'oops',\n",
       "   'panda',\n",
       "   'numpy',\n",
       "   'db',\n",
       "   'mongodb']}}"
      ]
     },
     "execution_count": 145,
     "metadata": {},
     "output_type": "execute_result"
    }
   ],
   "source": [
    "d4={'course':['dsa','java','c++'],'mentor':('chandu','ritu','dipraj'),'price':{23.45,65},'duration':1,'access':1,'syllabus':{'python':['core python','oops','panda','numpy','db','mongodb']}}\n",
    "d4"
   ]
  },
  {
   "cell_type": "code",
   "execution_count": 147,
   "id": "29fca658-3d96-4f56-8693-cd6b338793f9",
   "metadata": {},
   "outputs": [
    {
     "data": {
      "text/plain": [
       "['dsa', 'java', 'c++']"
      ]
     },
     "execution_count": 147,
     "metadata": {},
     "output_type": "execute_result"
    }
   ],
   "source": [
    "d4['course']"
   ]
  },
  {
   "cell_type": "code",
   "execution_count": 149,
   "id": "4c32cd26-b332-441c-872a-1f525d511ad5",
   "metadata": {},
   "outputs": [
    {
     "data": {
      "text/plain": [
       "('chandu', 'ritu', 'dipraj')"
      ]
     },
     "execution_count": 149,
     "metadata": {},
     "output_type": "execute_result"
    }
   ],
   "source": [
    "d4['mentor']"
   ]
  },
  {
   "cell_type": "code",
   "execution_count": 153,
   "id": "34c5573e-8cc9-456a-b4b9-e5988947a1e7",
   "metadata": {},
   "outputs": [
    {
     "data": {
      "text/plain": [
       "{'course': ['dsa', 'java', 'c++'],\n",
       " 'mentor': ('chandu', 'ritu', 'dipraj'),\n",
       " 'price': {23.45, 65},\n",
       " 'duration': 1,\n",
       " 'access': 1,\n",
       " 'syllabus': {'python': ['core python',\n",
       "   'oops',\n",
       "   'panda',\n",
       "   'numpy',\n",
       "   'db',\n",
       "   'mongodb']},\n",
       " 'phone number': 123434}"
      ]
     },
     "execution_count": 153,
     "metadata": {},
     "output_type": "execute_result"
    }
   ],
   "source": [
    "d4['phone number']=123434\n",
    "d4"
   ]
  },
  {
   "cell_type": "code",
   "execution_count": 157,
   "id": "e6cec5b4-d199-4e26-8dc1-78bb0bfa1599",
   "metadata": {},
   "outputs": [
    {
     "data": {
      "text/plain": [
       "{'course': ['dsa', 'java', 'c++'],\n",
       " 'mentor': ('chandu', 'ritu', 'dipraj'),\n",
       " 'price': {23.45, 65},\n",
       " 'duration': 1,\n",
       " 'access': 1,\n",
       " 'syllabus': {'python': ['core python',\n",
       "   'oops',\n",
       "   'panda',\n",
       "   'numpy',\n",
       "   'db',\n",
       "   'mongodb']},\n",
       " 'phone number': 123434,\n",
       " 'name': 'chandu233'}"
      ]
     },
     "execution_count": 157,
     "metadata": {},
     "output_type": "execute_result"
    }
   ],
   "source": [
    "d4['name']=\"chandu233\"\n",
    "d4"
   ]
  },
  {
   "cell_type": "raw",
   "id": "43fe5bfe-e33d-48e8-9046-7394bbd69410",
   "metadata": {},
   "source": [
    "dict is mutable but key is not mutable"
   ]
  },
  {
   "cell_type": "raw",
   "id": "6e0a8b98-20c1-4cb9-aa97-8f742e83f6c2",
   "metadata": {},
   "source": [
    "1.string\n",
    "2.list\n",
    "3.tuple\n",
    "4.set\n",
    "5.sict"
   ]
  },
  {
   "cell_type": "markdown",
   "id": "1c7befc7-e67e-4fc6-8996-6efce65777f7",
   "metadata": {},
   "source": [
    "# undestanding in-built function"
   ]
  },
  {
   "cell_type": "markdown",
   "id": "d854be26-7b29-40df-8f91-e709ffbf8908",
   "metadata": {},
   "source": [
    "# STRING"
   ]
  },
  {
   "cell_type": "code",
   "execution_count": 170,
   "id": "1470a080-71cb-41bf-ad16-f5ee613b4280",
   "metadata": {},
   "outputs": [],
   "source": [
    "s1=\"pwskills\""
   ]
  },
  {
   "cell_type": "code",
   "execution_count": 182,
   "id": "1812358d-0ecf-4f64-9771-ebab6b2e9114",
   "metadata": {},
   "outputs": [
    {
     "data": {
      "text/plain": [
       "2"
      ]
     },
     "execution_count": 182,
     "metadata": {},
     "output_type": "execute_result"
    }
   ],
   "source": [
    "s1.count('l')"
   ]
  },
  {
   "cell_type": "code",
   "execution_count": 185,
   "id": "69b8e6e3-91ab-483b-8e10-b272806c5321",
   "metadata": {},
   "outputs": [
    {
     "data": {
      "text/plain": [
       "2"
      ]
     },
     "execution_count": 185,
     "metadata": {},
     "output_type": "execute_result"
    }
   ],
   "source": [
    "s1.find('s')"
   ]
  },
  {
   "cell_type": "code",
   "execution_count": 187,
   "id": "dd5cbecd-e55c-44a9-8cd4-3f7301f32113",
   "metadata": {},
   "outputs": [
    {
     "data": {
      "text/plain": [
       "0"
      ]
     },
     "execution_count": 187,
     "metadata": {},
     "output_type": "execute_result"
    }
   ],
   "source": [
    "s1.index('p')"
   ]
  },
  {
   "cell_type": "code",
   "execution_count": 193,
   "id": "54f59feb-2743-4cea-b904-72abfb9d0260",
   "metadata": {},
   "outputs": [],
   "source": [
    "# diffrence b/w find and index"
   ]
  },
  {
   "cell_type": "code",
   "execution_count": 195,
   "id": "e8171ceb-3580-4e54-b936-96d7675d0ac1",
   "metadata": {},
   "outputs": [
    {
     "data": {
      "text/plain": [
       "-1"
      ]
     },
     "execution_count": 195,
     "metadata": {},
     "output_type": "execute_result"
    }
   ],
   "source": [
    "s1.find('z')"
   ]
  },
  {
   "cell_type": "code",
   "execution_count": 197,
   "id": "11d1f37a-287a-4820-bde7-16f22dd838d5",
   "metadata": {},
   "outputs": [
    {
     "ename": "ValueError",
     "evalue": "substring not found",
     "output_type": "error",
     "traceback": [
      "\u001b[1;31m---------------------------------------------------------------------------\u001b[0m",
      "\u001b[1;31mValueError\u001b[0m                                Traceback (most recent call last)",
      "Cell \u001b[1;32mIn[197], line 1\u001b[0m\n\u001b[1;32m----> 1\u001b[0m s1\u001b[38;5;241m.\u001b[39mindex(\u001b[38;5;124m'\u001b[39m\u001b[38;5;124mz\u001b[39m\u001b[38;5;124m'\u001b[39m)\n",
      "\u001b[1;31mValueError\u001b[0m: substring not found"
     ]
    }
   ],
   "source": [
    "s1.index('z')"
   ]
  },
  {
   "cell_type": "code",
   "execution_count": 199,
   "id": "653e025c-7ab6-45df-a916-0ead56f63618",
   "metadata": {},
   "outputs": [
    {
     "data": {
      "text/plain": [
       "'PWSKILLS'"
      ]
     },
     "execution_count": 199,
     "metadata": {},
     "output_type": "execute_result"
    }
   ],
   "source": [
    "s1.upper()"
   ]
  },
  {
   "cell_type": "code",
   "execution_count": 248,
   "id": "458b0f11-7442-4e26-89bc-5d735fc0e930",
   "metadata": {},
   "outputs": [
    {
     "data": {
      "text/plain": [
       "'pwskills'"
      ]
     },
     "execution_count": 248,
     "metadata": {},
     "output_type": "execute_result"
    }
   ],
   "source": [
    "s1.lower()"
   ]
  },
  {
   "cell_type": "code",
   "execution_count": 250,
   "id": "fceb643b-1c74-4179-a668-2d71060775d7",
   "metadata": {},
   "outputs": [
    {
     "data": {
      "text/plain": [
       "['My', 'name', 'is', 'chand']"
      ]
     },
     "execution_count": 250,
     "metadata": {},
     "output_type": "execute_result"
    }
   ],
   "source": [
    "s2.split()"
   ]
  },
  {
   "cell_type": "code",
   "execution_count": 252,
   "id": "5f3aa965-a319-482d-ab21-9ef3600ca2f0",
   "metadata": {},
   "outputs": [],
   "source": [
    "s3=\"my name ,is, chan,kimar\""
   ]
  },
  {
   "cell_type": "code",
   "execution_count": 254,
   "id": "64f9fe48-47a3-459f-8be3-8623cabd98d1",
   "metadata": {},
   "outputs": [
    {
     "data": {
      "text/plain": [
       "['my', 'name', ',is,', 'chan,kimar']"
      ]
     },
     "execution_count": 254,
     "metadata": {},
     "output_type": "execute_result"
    }
   ],
   "source": [
    "s3.split()"
   ]
  },
  {
   "cell_type": "code",
   "execution_count": 256,
   "id": "8016e088-2eb9-472b-90a7-88a6db2ee8f3",
   "metadata": {},
   "outputs": [
    {
     "data": {
      "text/plain": [
       "['my name ', 'is', ' chan', 'kimar']"
      ]
     },
     "execution_count": 256,
     "metadata": {},
     "output_type": "execute_result"
    }
   ],
   "source": [
    "s3.split(',')"
   ]
  },
  {
   "cell_type": "code",
   "execution_count": 258,
   "id": "52344360-52ab-4f7c-b1c6-83bb7923a6ba",
   "metadata": {},
   "outputs": [
    {
     "data": {
      "text/plain": [
       "['my name ,i', ', chan,kimar']"
      ]
     },
     "execution_count": 258,
     "metadata": {},
     "output_type": "execute_result"
    }
   ],
   "source": [
    "s3.split('s')"
   ]
  },
  {
   "cell_type": "code",
   "execution_count": 260,
   "id": "2b434257-103e-4712-99b9-e311aadfaafd",
   "metadata": {},
   "outputs": [],
   "source": [
    "s4=\"this is my fsd pro class . i am attending the class on time\""
   ]
  },
  {
   "cell_type": "code",
   "execution_count": 262,
   "id": "193ecc2b-c00c-4cab-bc32-10d577d4534c",
   "metadata": {},
   "outputs": [
    {
     "data": {
      "text/plain": [
       "['this is my fsd pro class ', ' i am attending the class on time']"
      ]
     },
     "execution_count": 262,
     "metadata": {},
     "output_type": "execute_result"
    }
   ],
   "source": [
    "s4.split('.')"
   ]
  },
  {
   "cell_type": "code",
   "execution_count": 264,
   "id": "b239890c-3fe8-4279-a0c7-ab9d294e146b",
   "metadata": {},
   "outputs": [
    {
     "data": {
      "text/plain": [
       "' i am attending the class on time'"
      ]
     },
     "execution_count": 264,
     "metadata": {},
     "output_type": "execute_result"
    }
   ],
   "source": [
    "s4.split('.')[1]"
   ]
  },
  {
   "cell_type": "code",
   "execution_count": 266,
   "id": "34b1e658-1ad6-46ad-9746-035dea953090",
   "metadata": {},
   "outputs": [
    {
     "data": {
      "text/plain": [
       "'pwskills'"
      ]
     },
     "execution_count": 266,
     "metadata": {},
     "output_type": "execute_result"
    }
   ],
   "source": [
    "s1"
   ]
  },
  {
   "cell_type": "code",
   "execution_count": 268,
   "id": "19cc55c5-fe24-432b-96a3-153795abc712",
   "metadata": {},
   "outputs": [],
   "source": [
    "# diffrence b/w capitalize and title is that . in capitalize first lettet become capital but in title every words first letter is cpital"
   ]
  },
  {
   "cell_type": "code",
   "execution_count": 270,
   "id": "413b1def-ece7-47f7-bb06-88c6b9695de6",
   "metadata": {},
   "outputs": [
    {
     "data": {
      "text/plain": [
       "'Pwskills'"
      ]
     },
     "execution_count": 270,
     "metadata": {},
     "output_type": "execute_result"
    }
   ],
   "source": [
    "s1.capitalize()"
   ]
  },
  {
   "cell_type": "code",
   "execution_count": 272,
   "id": "9dd68543-d351-4461-8e55-848adbfa893e",
   "metadata": {},
   "outputs": [
    {
     "data": {
      "text/plain": [
       "'My name is chand'"
      ]
     },
     "execution_count": 272,
     "metadata": {},
     "output_type": "execute_result"
    }
   ],
   "source": [
    "s2.capitalize()"
   ]
  },
  {
   "cell_type": "code",
   "execution_count": 274,
   "id": "d718155f-1847-4742-a0d7-2d3cf24e0b8a",
   "metadata": {},
   "outputs": [
    {
     "data": {
      "text/plain": [
       "'My Name Is Chand'"
      ]
     },
     "execution_count": 274,
     "metadata": {},
     "output_type": "execute_result"
    }
   ],
   "source": [
    "s2.title()"
   ]
  },
  {
   "cell_type": "code",
   "execution_count": 281,
   "id": "66421f78-7d60-42b4-be60-33de0c58a8f4",
   "metadata": {},
   "outputs": [
    {
     "data": {
      "text/plain": [
       "'My aame is chaad'"
      ]
     },
     "execution_count": 281,
     "metadata": {},
     "output_type": "execute_result"
    }
   ],
   "source": [
    "s2.replace('n','a')"
   ]
  },
  {
   "cell_type": "code",
   "execution_count": 294,
   "id": "817826e5-8593-4d94-b469-29dcfec0dffc",
   "metadata": {},
   "outputs": [
    {
     "data": {
      "text/plain": [
       "'My name is dhand'"
      ]
     },
     "execution_count": 294,
     "metadata": {},
     "output_type": "execute_result"
    }
   ],
   "source": [
    "s2.replace('c','d') # here you think that string are imutable then how it change ? ->it is not changing"
   ]
  },
  {
   "cell_type": "code",
   "execution_count": 296,
   "id": "02b2a7a4-c800-4bd4-9db8-12f9b8d58493",
   "metadata": {},
   "outputs": [
    {
     "data": {
      "text/plain": [
       "'My name is chand'"
      ]
     },
     "execution_count": 296,
     "metadata": {},
     "output_type": "execute_result"
    }
   ],
   "source": [
    "s2"
   ]
  },
  {
   "cell_type": "code",
   "execution_count": 299,
   "id": "103a76e3-c6d7-41f9-a6f3-111654844077",
   "metadata": {},
   "outputs": [
    {
     "data": {
      "text/plain": [
       "'ffffffffffffffffpwskillsffffffffffffffff'"
      ]
     },
     "execution_count": 299,
     "metadata": {},
     "output_type": "execute_result"
    }
   ],
   "source": [
    "s1.center(40,'f')"
   ]
  },
  {
   "cell_type": "code",
   "execution_count": 301,
   "id": "b0c3ae39-e04d-456c-aea5-e0222baf727a",
   "metadata": {},
   "outputs": [],
   "source": [
    "s5=\"   pwskills   \""
   ]
  },
  {
   "cell_type": "code",
   "execution_count": 303,
   "id": "2d546316-bf36-4d97-985b-031315e529e7",
   "metadata": {},
   "outputs": [
    {
     "data": {
      "text/plain": [
       "'   pwskills'"
      ]
     },
     "execution_count": 303,
     "metadata": {},
     "output_type": "execute_result"
    }
   ],
   "source": [
    "s5.rstrip()"
   ]
  },
  {
   "cell_type": "code",
   "execution_count": 305,
   "id": "b3e96a27-0c25-4e5b-80e3-41078f849963",
   "metadata": {},
   "outputs": [
    {
     "data": {
      "text/plain": [
       "'pwskills   '"
      ]
     },
     "execution_count": 305,
     "metadata": {},
     "output_type": "execute_result"
    }
   ],
   "source": [
    "s5.lstrip()"
   ]
  },
  {
   "cell_type": "code",
   "execution_count": 307,
   "id": "d8828115-4eff-4dc5-8f62-7817d68ae781",
   "metadata": {},
   "outputs": [
    {
     "data": {
      "text/plain": [
       "'pwskills'"
      ]
     },
     "execution_count": 307,
     "metadata": {},
     "output_type": "execute_result"
    }
   ],
   "source": [
    "s5.strip()"
   ]
  },
  {
   "cell_type": "code",
   "execution_count": 309,
   "id": "8d35a44a-2efe-4475-8445-5746d4d4b53a",
   "metadata": {},
   "outputs": [
    {
     "data": {
      "text/plain": [
       "True"
      ]
     },
     "execution_count": 309,
     "metadata": {},
     "output_type": "execute_result"
    }
   ],
   "source": [
    "s1.isalnum()"
   ]
  },
  {
   "cell_type": "code",
   "execution_count": 311,
   "id": "93d0dbb3-09d5-4a37-9e1b-204c13ff740e",
   "metadata": {},
   "outputs": [
    {
     "data": {
      "text/plain": [
       "True"
      ]
     },
     "execution_count": 311,
     "metadata": {},
     "output_type": "execute_result"
    }
   ],
   "source": [
    "s1.isalpha()"
   ]
  },
  {
   "cell_type": "code",
   "execution_count": 313,
   "id": "c9b9ab16-e823-4301-990e-a7b3f7b5c4bd",
   "metadata": {},
   "outputs": [
    {
     "data": {
      "text/plain": [
       "False"
      ]
     },
     "execution_count": 313,
     "metadata": {},
     "output_type": "execute_result"
    }
   ],
   "source": [
    "s1.isnumeric()"
   ]
  },
  {
   "cell_type": "code",
   "execution_count": 315,
   "id": "a51b3cf4-277b-479e-b55d-bf59bf9d1e87",
   "metadata": {},
   "outputs": [
    {
     "data": {
      "text/plain": [
       "True"
      ]
     },
     "execution_count": 315,
     "metadata": {},
     "output_type": "execute_result"
    }
   ],
   "source": [
    "s1.islower()"
   ]
  },
  {
   "cell_type": "code",
   "execution_count": 317,
   "id": "65e58c3c-20a7-4668-b235-c13b995693c8",
   "metadata": {},
   "outputs": [
    {
     "data": {
      "text/plain": [
       "False"
      ]
     },
     "execution_count": 317,
     "metadata": {},
     "output_type": "execute_result"
    }
   ],
   "source": [
    "s1.isupper()"
   ]
  },
  {
   "cell_type": "markdown",
   "id": "35a7ac34-0119-4022-a357-7ee5cf5127b0",
   "metadata": {},
   "source": [
    "# LIST"
   ]
  },
  {
   "cell_type": "code",
   "execution_count": 321,
   "id": "852a0900-3fcb-4467-acfe-64827ade8240",
   "metadata": {},
   "outputs": [
    {
     "data": {
      "text/plain": [
       "[1, 2, 3, 'chandu', (3+5j), 43.5, True, [32, 43]]"
      ]
     },
     "execution_count": 321,
     "metadata": {},
     "output_type": "execute_result"
    }
   ],
   "source": [
    "l1"
   ]
  },
  {
   "cell_type": "code",
   "execution_count": 323,
   "id": "84aaf7f8-e93c-4db4-af31-d73de7b24c44",
   "metadata": {},
   "outputs": [
    {
     "data": {
      "text/plain": [
       "[3, 4, 5, 'pwskills', 'chandu']"
      ]
     },
     "execution_count": 323,
     "metadata": {},
     "output_type": "execute_result"
    }
   ],
   "source": [
    "l2"
   ]
  },
  {
   "cell_type": "code",
   "execution_count": 325,
   "id": "af58b9e3-9e9e-46ca-a953-2da27c8e22e7",
   "metadata": {},
   "outputs": [
    {
     "data": {
      "text/plain": [
       "[1, 2, 3, 'chandu', (3+5j), 43.5, True, [32, 43], 'sudh']"
      ]
     },
     "execution_count": 325,
     "metadata": {},
     "output_type": "execute_result"
    }
   ],
   "source": [
    "l1.append(\"sudh\")\n",
    "l1"
   ]
  },
  {
   "cell_type": "code",
   "execution_count": 327,
   "id": "245192ea-6c38-422c-88da-0285164e3a82",
   "metadata": {},
   "outputs": [
    {
     "data": {
      "text/plain": [
       "[1, 'pwskills', 2, 3, 'chandu', (3+5j), 43.5, True, [32, 43], 'sudh']"
      ]
     },
     "execution_count": 327,
     "metadata": {},
     "output_type": "execute_result"
    }
   ],
   "source": [
    "l1.insert(1,\"pwskills\")\n",
    "l1"
   ]
  },
  {
   "cell_type": "code",
   "execution_count": 337,
   "id": "9e82e478-5f95-410c-9e94-40b94676cf5e",
   "metadata": {},
   "outputs": [
    {
     "data": {
      "text/plain": [
       "[3, 4, 5, 'pwskills', 'chandu', 'sudh', 'sudh', 'sudh', 'kudh', 'fffff']"
      ]
     },
     "execution_count": 337,
     "metadata": {},
     "output_type": "execute_result"
    }
   ],
   "source": [
    "l2.extend([\"fffff\"])\n",
    "l2"
   ]
  },
  {
   "cell_type": "code",
   "execution_count": 339,
   "id": "41106891-773a-4bb4-9683-a1d299121920",
   "metadata": {},
   "outputs": [
    {
     "data": {
      "text/plain": [
       "[3,\n",
       " 4,\n",
       " 5,\n",
       " 'pwskills',\n",
       " 'chandu',\n",
       " 'sudh',\n",
       " 'sudh',\n",
       " 'sudh',\n",
       " 'kudh',\n",
       " 'fffff',\n",
       " 'fffff']"
      ]
     },
     "execution_count": 339,
     "metadata": {},
     "output_type": "execute_result"
    }
   ],
   "source": [
    "l2.append(\"fffff\")\n",
    "l2"
   ]
  },
  {
   "cell_type": "code",
   "execution_count": 341,
   "id": "cbbcd5e6-da67-43ff-b6e7-0d113475ca31",
   "metadata": {},
   "outputs": [
    {
     "data": {
      "text/plain": [
       "['fffff',\n",
       " 3,\n",
       " 4,\n",
       " 5,\n",
       " 'pwskills',\n",
       " 'chandu',\n",
       " 'sudh',\n",
       " 'sudh',\n",
       " 'sudh',\n",
       " 'kudh',\n",
       " 'fffff',\n",
       " 'fffff']"
      ]
     },
     "execution_count": 341,
     "metadata": {},
     "output_type": "execute_result"
    }
   ],
   "source": [
    "l2.insert(0,'fffff')\n",
    "l2"
   ]
  },
  {
   "cell_type": "code",
   "execution_count": 345,
   "id": "6f13672a-96dd-43bb-9fb1-cd052e73fa44",
   "metadata": {},
   "outputs": [
    {
     "data": {
      "text/plain": [
       "['fffff',\n",
       " 3,\n",
       " 4,\n",
       " 5,\n",
       " 'pwskills',\n",
       " 'chandu',\n",
       " 'sudh',\n",
       " 'sudh',\n",
       " 'sudh',\n",
       " 'kudh',\n",
       " 'fffff',\n",
       " 'fffff',\n",
       " 'f',\n",
       " 'f',\n",
       " 'f',\n",
       " 'f',\n",
       " 'f',\n",
       " 'f',\n",
       " 'f',\n",
       " 'f',\n",
       " 'f',\n",
       " 'f']"
      ]
     },
     "execution_count": 345,
     "metadata": {},
     "output_type": "execute_result"
    }
   ],
   "source": [
    "l2.extend('fffff')\n",
    "l2"
   ]
  },
  {
   "cell_type": "code",
   "execution_count": 360,
   "id": "46187eb6-6d62-4777-a95b-b61b36671a8b",
   "metadata": {},
   "outputs": [],
   "source": [
    "# diffrence b/w append,insert,extend"
   ]
  },
  {
   "cell_type": "code",
   "execution_count": 349,
   "id": "e3e26385-d598-425b-9ae5-750661f08211",
   "metadata": {},
   "outputs": [
    {
     "data": {
      "text/plain": [
       "[1, 2, 3, 4, 5, [1, 2, 3]]"
      ]
     },
     "execution_count": 349,
     "metadata": {},
     "output_type": "execute_result"
    }
   ],
   "source": [
    "l3=[1,2,3,4,5]\n",
    "l3.append([1,2,3])\n",
    "l3"
   ]
  },
  {
   "cell_type": "code",
   "execution_count": 353,
   "id": "41aaaa7a-8c57-4227-bc18-a231503d66b4",
   "metadata": {},
   "outputs": [
    {
     "data": {
      "text/plain": [
       "[1, [34, 56, 78], [34, 56, 78], 2, 3, 4, 5, [1, 2, 3]]"
      ]
     },
     "execution_count": 353,
     "metadata": {},
     "output_type": "execute_result"
    }
   ],
   "source": [
    "l3.insert(1,[34,56,78])\n",
    "l3"
   ]
  },
  {
   "cell_type": "code",
   "execution_count": 358,
   "id": "52e045cc-bb0b-4253-aba0-9721f2709314",
   "metadata": {},
   "outputs": [
    {
     "data": {
      "text/plain": [
       "[1, [34, 56, 78], [34, 56, 78], 2, 3, 4, 5, [1, 2, 3], 20, 30, 50, 20, 30, 50]"
      ]
     },
     "execution_count": 358,
     "metadata": {},
     "output_type": "execute_result"
    }
   ],
   "source": [
    "l3.extend([20,30,50])\n",
    "l3"
   ]
  },
  {
   "cell_type": "code",
   "execution_count": 362,
   "id": "abe9f2b3-ce9f-47a2-89f5-88b44bf77555",
   "metadata": {},
   "outputs": [
    {
     "data": {
      "text/plain": [
       "[1, [34, 56, 78], [34, 56, 78], 2, 3, 4, 5, [1, 2, 3], 20, 30, 50, 20, 30]"
      ]
     },
     "execution_count": 362,
     "metadata": {},
     "output_type": "execute_result"
    }
   ],
   "source": [
    "l3.pop()\n",
    "l3"
   ]
  },
  {
   "cell_type": "code",
   "execution_count": 364,
   "id": "e321cb9a-9ef3-4bc4-bf57-4bfda2b2f0ce",
   "metadata": {},
   "outputs": [
    {
     "data": {
      "text/plain": [
       "[1, [34, 56, 78], 2, 3, 4, 5, [1, 2, 3], 20, 30, 50, 20, 30]"
      ]
     },
     "execution_count": 364,
     "metadata": {},
     "output_type": "execute_result"
    }
   ],
   "source": [
    "l3.pop(1)\n",
    "l3"
   ]
  },
  {
   "cell_type": "code",
   "execution_count": 366,
   "id": "85dcffdf-5ea2-48f6-ae8a-0c3d0c972480",
   "metadata": {},
   "outputs": [],
   "source": [
    "del l3"
   ]
  },
  {
   "cell_type": "code",
   "execution_count": 368,
   "id": "2091cef1-4ecc-41ee-bd9d-8aea59524cbd",
   "metadata": {},
   "outputs": [
    {
     "ename": "NameError",
     "evalue": "name 'l3' is not defined",
     "output_type": "error",
     "traceback": [
      "\u001b[1;31m---------------------------------------------------------------------------\u001b[0m",
      "\u001b[1;31mNameError\u001b[0m                                 Traceback (most recent call last)",
      "Cell \u001b[1;32mIn[368], line 1\u001b[0m\n\u001b[1;32m----> 1\u001b[0m l3\n",
      "\u001b[1;31mNameError\u001b[0m: name 'l3' is not defined"
     ]
    }
   ],
   "source": [
    "l3"
   ]
  },
  {
   "cell_type": "code",
   "execution_count": 370,
   "id": "30241c5b-ca31-4642-a7f8-3097e4b5344b",
   "metadata": {},
   "outputs": [
    {
     "data": {
      "text/plain": [
       "['fffff',\n",
       " 3,\n",
       " 4,\n",
       " 5,\n",
       " 'pwskills',\n",
       " 'chandu',\n",
       " 'sudh',\n",
       " 'sudh',\n",
       " 'sudh',\n",
       " 'kudh',\n",
       " 'fffff',\n",
       " 'fffff',\n",
       " 'f',\n",
       " 'f',\n",
       " 'f',\n",
       " 'f',\n",
       " 'f',\n",
       " 'f',\n",
       " 'f',\n",
       " 'f',\n",
       " 'f',\n",
       " 'f']"
      ]
     },
     "execution_count": 370,
     "metadata": {},
     "output_type": "execute_result"
    }
   ],
   "source": [
    "l2"
   ]
  },
  {
   "cell_type": "code",
   "execution_count": 372,
   "id": "df4b44ec-0030-4ee9-8f98-ce159c71398e",
   "metadata": {},
   "outputs": [
    {
     "data": {
      "text/plain": [
       "['fffff',\n",
       " 3,\n",
       " 4,\n",
       " 5,\n",
       " 'pwskills',\n",
       " 'chandu',\n",
       " 'sudh',\n",
       " 'sudh',\n",
       " 'kudh',\n",
       " 'fffff',\n",
       " 'fffff',\n",
       " 'f',\n",
       " 'f',\n",
       " 'f',\n",
       " 'f',\n",
       " 'f',\n",
       " 'f',\n",
       " 'f',\n",
       " 'f',\n",
       " 'f',\n",
       " 'f']"
      ]
     },
     "execution_count": 372,
     "metadata": {},
     "output_type": "execute_result"
    }
   ],
   "source": [
    "l2.remove('sudh')\n",
    "l2"
   ]
  },
  {
   "cell_type": "code",
   "execution_count": 374,
   "id": "5f5c2fbf-336a-4bb8-8296-a2c4d1df5177",
   "metadata": {},
   "outputs": [
    {
     "ename": "IndexError",
     "evalue": "pop index out of range",
     "output_type": "error",
     "traceback": [
      "\u001b[1;31m---------------------------------------------------------------------------\u001b[0m",
      "\u001b[1;31mIndexError\u001b[0m                                Traceback (most recent call last)",
      "Cell \u001b[1;32mIn[374], line 1\u001b[0m\n\u001b[1;32m----> 1\u001b[0m l2\u001b[38;5;241m.\u001b[39mpop(\u001b[38;5;241m1000\u001b[39m)\n",
      "\u001b[1;31mIndexError\u001b[0m: pop index out of range"
     ]
    }
   ],
   "source": [
    "l2.pop(1000)"
   ]
  },
  {
   "cell_type": "code",
   "execution_count": 380,
   "id": "07b2d8e9-face-4c58-b75c-629fd3dec84e",
   "metadata": {},
   "outputs": [
    {
     "data": {
      "text/plain": [
       "[]"
      ]
     },
     "execution_count": 380,
     "metadata": {},
     "output_type": "execute_result"
    }
   ],
   "source": [
    "l1.clear()\n",
    "l1"
   ]
  },
  {
   "cell_type": "code",
   "execution_count": 382,
   "id": "54b9406b-3254-45dc-93e3-6f02c55b646b",
   "metadata": {},
   "outputs": [
    {
     "data": {
      "text/plain": [
       "['fffff',\n",
       " 3,\n",
       " 4,\n",
       " 5,\n",
       " 'pwskills',\n",
       " 'chandu',\n",
       " 'sudh',\n",
       " 'sudh',\n",
       " 'kudh',\n",
       " 'fffff',\n",
       " 'fffff',\n",
       " 'f',\n",
       " 'f',\n",
       " 'f',\n",
       " 'f',\n",
       " 'f',\n",
       " 'f',\n",
       " 'f',\n",
       " 'f',\n",
       " 'f',\n",
       " 'f']"
      ]
     },
     "execution_count": 382,
     "metadata": {},
     "output_type": "execute_result"
    }
   ],
   "source": [
    "l2"
   ]
  },
  {
   "cell_type": "code",
   "execution_count": 384,
   "id": "bc7c99dd-830e-44eb-bc6e-bb9a86d4bf23",
   "metadata": {},
   "outputs": [
    {
     "data": {
      "text/plain": [
       "10"
      ]
     },
     "execution_count": 384,
     "metadata": {},
     "output_type": "execute_result"
    }
   ],
   "source": [
    "l2.count('f')"
   ]
  },
  {
   "cell_type": "code",
   "execution_count": 386,
   "id": "a4ead3ce-2188-4193-84d5-5eb02b10837b",
   "metadata": {},
   "outputs": [
    {
     "data": {
      "text/plain": [
       "11"
      ]
     },
     "execution_count": 386,
     "metadata": {},
     "output_type": "execute_result"
    }
   ],
   "source": [
    "l2.index('f')"
   ]
  },
  {
   "cell_type": "code",
   "execution_count": 388,
   "id": "2475ca62-dbf1-43d1-9fc9-29ef680ba7a0",
   "metadata": {},
   "outputs": [
    {
     "data": {
      "text/plain": [
       "['f',\n",
       " 'f',\n",
       " 'f',\n",
       " 'f',\n",
       " 'f',\n",
       " 'f',\n",
       " 'f',\n",
       " 'f',\n",
       " 'f',\n",
       " 'f',\n",
       " 'fffff',\n",
       " 'fffff',\n",
       " 'kudh',\n",
       " 'sudh',\n",
       " 'sudh',\n",
       " 'chandu',\n",
       " 'pwskills',\n",
       " 5,\n",
       " 4,\n",
       " 3,\n",
       " 'fffff']"
      ]
     },
     "execution_count": 388,
     "metadata": {},
     "output_type": "execute_result"
    }
   ],
   "source": [
    "l2.reverse()\n",
    "l2"
   ]
  },
  {
   "cell_type": "code",
   "execution_count": 390,
   "id": "4c6cf105-89ca-4926-9c43-78fee97e10e2",
   "metadata": {},
   "outputs": [
    {
     "ename": "TypeError",
     "evalue": "'<' not supported between instances of 'int' and 'str'",
     "output_type": "error",
     "traceback": [
      "\u001b[1;31m---------------------------------------------------------------------------\u001b[0m",
      "\u001b[1;31mTypeError\u001b[0m                                 Traceback (most recent call last)",
      "Cell \u001b[1;32mIn[390], line 1\u001b[0m\n\u001b[1;32m----> 1\u001b[0m l2\u001b[38;5;241m.\u001b[39msort()\n",
      "\u001b[1;31mTypeError\u001b[0m: '<' not supported between instances of 'int' and 'str'"
     ]
    }
   ],
   "source": [
    "l2.sort()"
   ]
  },
  {
   "cell_type": "code",
   "execution_count": 394,
   "id": "2091f749-3eb0-4a82-abfc-0b0d4a0f9c97",
   "metadata": {},
   "outputs": [
    {
     "data": {
      "text/plain": [
       "[2, 3, 5, 6, 8]"
      ]
     },
     "execution_count": 394,
     "metadata": {},
     "output_type": "execute_result"
    }
   ],
   "source": [
    "l3=[2,3,5,6,8]\n",
    "l3.sort()\n",
    "l3"
   ]
  },
  {
   "cell_type": "code",
   "execution_count": 398,
   "id": "7e6cf6fb-5786-48ab-995f-bd6e71f2c08a",
   "metadata": {},
   "outputs": [
    {
     "data": {
      "text/plain": [
       "[8, 6, 5, 3, 2]"
      ]
     },
     "execution_count": 398,
     "metadata": {},
     "output_type": "execute_result"
    }
   ],
   "source": [
    "l3.sort(reverse=True)\n",
    "l3"
   ]
  },
  {
   "cell_type": "code",
   "execution_count": 407,
   "id": "bea53e09-62c4-429b-bbae-121f76e48d51",
   "metadata": {},
   "outputs": [
    {
     "data": {
      "text/plain": [
       "['Kumar', 'dal', 'sudh']"
      ]
     },
     "execution_count": 407,
     "metadata": {},
     "output_type": "execute_result"
    }
   ],
   "source": [
    "l4=['sudh','Kumar','dal']\n",
    "l4.sort()\n",
    "l4"
   ]
  },
  {
   "cell_type": "code",
   "execution_count": 415,
   "id": "522998a8-cbc8-4937-9b4c-d640651c0ac8",
   "metadata": {},
   "outputs": [],
   "source": [
    "l5=[3,4,5,5,7,8,7,10,12]\n",
    "l6=set(l5)"
   ]
  },
  {
   "cell_type": "code",
   "execution_count": 417,
   "id": "7179631d-fccf-4f4e-b65c-5c496161d38b",
   "metadata": {},
   "outputs": [
    {
     "data": {
      "text/plain": [
       "{3, 4, 5, 7, 8, 10, 12}"
      ]
     },
     "execution_count": 417,
     "metadata": {},
     "output_type": "execute_result"
    }
   ],
   "source": [
    "l6"
   ]
  },
  {
   "cell_type": "code",
   "execution_count": 419,
   "id": "62af84dd-fc4d-4041-a362-0f47c0291ea0",
   "metadata": {},
   "outputs": [],
   "source": [
    "l7=list(l6)"
   ]
  },
  {
   "cell_type": "code",
   "execution_count": 421,
   "id": "3a8b7727-57ef-4c71-a504-826922bfc8ba",
   "metadata": {},
   "outputs": [
    {
     "data": {
      "text/plain": [
       "[3, 4, 5, 7, 8, 10, 12]"
      ]
     },
     "execution_count": 421,
     "metadata": {},
     "output_type": "execute_result"
    }
   ],
   "source": [
    "l7"
   ]
  },
  {
   "cell_type": "code",
   "execution_count": 425,
   "id": "2094a327-6985-47c1-8281-419832aad4e5",
   "metadata": {},
   "outputs": [
    {
     "data": {
      "text/plain": [
       "[3, 4, 5, 7, 8, 10, 12]"
      ]
     },
     "execution_count": 425,
     "metadata": {},
     "output_type": "execute_result"
    }
   ],
   "source": [
    "l7.sort()\n",
    "l7"
   ]
  },
  {
   "cell_type": "code",
   "execution_count": 427,
   "id": "8990f3b0-133d-4db9-81c4-00a0202cf6e1",
   "metadata": {},
   "outputs": [],
   "source": [
    "l0=[2,3,4,5]"
   ]
  },
  {
   "cell_type": "code",
   "execution_count": 450,
   "id": "e34f0d68-60cb-4e56-acdd-a255f7342e9b",
   "metadata": {},
   "outputs": [
    {
     "data": {
      "text/plain": [
       "[12, 3, 4, 5]"
      ]
     },
     "execution_count": 450,
     "metadata": {},
     "output_type": "execute_result"
    }
   ],
   "source": [
    "l11=l0  #l11,l0 refrencing to the same data.it shallow copy\n",
    "l11"
   ]
  },
  {
   "cell_type": "code",
   "execution_count": 460,
   "id": "d190edfc-40ec-4f2c-9643-371036c44baf",
   "metadata": {},
   "outputs": [
    {
     "data": {
      "text/plain": [
       "2115507819456"
      ]
     },
     "execution_count": 460,
     "metadata": {},
     "output_type": "execute_result"
    }
   ],
   "source": [
    "id(l11)"
   ]
  },
  {
   "cell_type": "code",
   "execution_count": 462,
   "id": "2431f42d-6e83-4f15-82a6-737399722b9d",
   "metadata": {},
   "outputs": [
    {
     "data": {
      "text/plain": [
       "2115507819456"
      ]
     },
     "execution_count": 462,
     "metadata": {},
     "output_type": "execute_result"
    }
   ],
   "source": [
    "id(l0)"
   ]
  },
  {
   "cell_type": "code",
   "execution_count": 452,
   "id": "c84087a2-3ace-416d-9aea-ee1a3cbc9571",
   "metadata": {},
   "outputs": [],
   "source": [
    "l0[0]=12"
   ]
  },
  {
   "cell_type": "code",
   "execution_count": 454,
   "id": "a5b957a4-0fb0-4b4e-a0e2-d3de23faa723",
   "metadata": {},
   "outputs": [
    {
     "data": {
      "text/plain": [
       "[12, 3, 4, 5]"
      ]
     },
     "execution_count": 454,
     "metadata": {},
     "output_type": "execute_result"
    }
   ],
   "source": [
    "l11"
   ]
  },
  {
   "cell_type": "code",
   "execution_count": 481,
   "id": "64f0b862-f486-4c65-b073-fb27ac7377bb",
   "metadata": {},
   "outputs": [],
   "source": [
    "l12=l0.copy()  # l12 is copy of l0 , it is dirrent, any change in any one does not effect on other. it is deep copy "
   ]
  },
  {
   "cell_type": "code",
   "execution_count": 483,
   "id": "793b6247-7612-4933-a9b1-d8eb054c3d61",
   "metadata": {},
   "outputs": [
    {
     "data": {
      "text/plain": [
       "2115509922752"
      ]
     },
     "execution_count": 483,
     "metadata": {},
     "output_type": "execute_result"
    }
   ],
   "source": [
    "id(l12)"
   ]
  },
  {
   "cell_type": "code",
   "execution_count": 485,
   "id": "146ac349-f469-4a07-8fc2-abb529d858d7",
   "metadata": {},
   "outputs": [
    {
     "data": {
      "text/plain": [
       "2115507819456"
      ]
     },
     "execution_count": 485,
     "metadata": {},
     "output_type": "execute_result"
    }
   ],
   "source": [
    "id(l0)"
   ]
  },
  {
   "cell_type": "code",
   "execution_count": 487,
   "id": "8f0d5b67-892b-483c-a638-5f10d152e949",
   "metadata": {},
   "outputs": [
    {
     "data": {
      "text/plain": [
       "[12, 200, 4, 5]"
      ]
     },
     "execution_count": 487,
     "metadata": {},
     "output_type": "execute_result"
    }
   ],
   "source": [
    "l0[1]=200\n",
    "l12"
   ]
  },
  {
   "cell_type": "code",
   "execution_count": 489,
   "id": "c820b2c1-8823-4916-80a7-5df02bea9b09",
   "metadata": {},
   "outputs": [
    {
     "data": {
      "text/plain": [
       "[12, 200, 4, 5]"
      ]
     },
     "execution_count": 489,
     "metadata": {},
     "output_type": "execute_result"
    }
   ],
   "source": [
    "l0"
   ]
  },
  {
   "cell_type": "code",
   "execution_count": null,
   "id": "b8a6286d-aaf5-456b-a0bb-b6996e46fc26",
   "metadata": {},
   "outputs": [],
   "source": []
  },
  {
   "cell_type": "code",
   "execution_count": null,
   "id": "fc0f6f9d-ca13-4585-a932-c7ab22af4813",
   "metadata": {},
   "outputs": [],
   "source": []
  },
  {
   "cell_type": "code",
   "execution_count": null,
   "id": "68abbe9a-319c-4ec8-99ae-a1f7ed1520a7",
   "metadata": {},
   "outputs": [],
   "source": []
  },
  {
   "cell_type": "code",
   "execution_count": null,
   "id": "f95809dd-5d74-4c34-b929-169da5445d94",
   "metadata": {},
   "outputs": [],
   "source": []
  },
  {
   "cell_type": "code",
   "execution_count": null,
   "id": "925242c9-0328-483d-a5e0-4fa23d14e2a7",
   "metadata": {},
   "outputs": [],
   "source": []
  },
  {
   "cell_type": "code",
   "execution_count": null,
   "id": "2bc65858-f2c1-43c2-b5e2-c5019e933211",
   "metadata": {},
   "outputs": [],
   "source": []
  }
 ],
 "metadata": {
  "kernelspec": {
   "display_name": "Python [conda env:base] *",
   "language": "python",
   "name": "conda-base-py"
  },
  "language_info": {
   "codemirror_mode": {
    "name": "ipython",
    "version": 3
   },
   "file_extension": ".py",
   "mimetype": "text/x-python",
   "name": "python",
   "nbconvert_exporter": "python",
   "pygments_lexer": "ipython3",
   "version": "3.12.7"
  }
 },
 "nbformat": 4,
 "nbformat_minor": 5
}
